{
 "cells": [
  {
   "cell_type": "code",
   "execution_count": 1,
   "id": "f686fb47",
   "metadata": {},
   "outputs": [],
   "source": [
    "import pandas as pd\n",
    "import matplotlib.pyplot as plt\n",
    "import numpy as np\n",
    "import utils as ut\n",
    "\n",
    "pat = pd.read_csv(\"data/ARIA_merged&selected/Patient_real.csv\")\n",
    "\n",
    "sch = pd.read_csv(\"data/ARIA_merged&selected/SchActivity.csv\", index_col = 'ScheduledActivitySer')"
   ]
  },
  {
   "cell_type": "code",
   "execution_count": null,
   "id": "4546e204",
   "metadata": {},
   "outputs": [],
   "source": []
  },
  {
   "cell_type": "code",
   "execution_count": 2,
   "id": "331a680b",
   "metadata": {},
   "outputs": [
    {
     "data": {
      "image/png": "[encoded data removed]",
      "text/plain": [
       "<Figure size 432x288 with 1 Axes>"
      ]
     },
     "metadata": {
      "needs_background": "light"
     },
     "output_type": "display_data"
    },
    {
     "data": {
      "image/png": "[encoded data removed]",
      "text/plain": [
       "<Figure size 432x288 with 1 Axes>"
      ]
     },
     "metadata": {
      "needs_background": "light"
     },
     "output_type": "display_data"
    }
   ],
   "source": [
    "sch2 = sch[sch.ActualStartDate.notnull() & sch.ActualEndDate.notnull() & \n",
    "           sch.ScheduledStartTime.notnull() & sch.ScheduledEndTime.notnull()]\n",
    "\n",
    "aa = pd.to_datetime(sch2.ActualStartDate).dt.hour + pd.to_datetime(sch2.ActualStartDate).dt.minute/60\n",
    "aa2 = pd.to_datetime(sch2.ActualEndDate).dt.hour  + pd.to_datetime(sch2.ActualEndDate).dt.minute/60\n",
    "bb = pd.to_datetime(sch2.ScheduledStartTime).dt.hour + pd.to_datetime(sch2.ScheduledStartTime).dt.minute/60\n",
    "cc = pd.to_datetime(sch2.ScheduledEndTime).dt.hour   + pd.to_datetime(sch2.ScheduledEndTime).dt.minute/60\n",
    "\n",
    "plt.hist(pd.concat([bb, cc]), bins=np.arange(7,24,0.25))\n",
    "plt.show()\n",
    "\n",
    "plt.hist(pd.concat([aa, aa2]), bins=np.arange(7,24,0.25))\n",
    "plt.show()"
   ]
  },
  {
   "cell_type": "raw",
   "id": "e90c8d24",
   "metadata": {},
   "source": [
    "3 descansos, lo de 22:00-24:00 son pruebas con maniquies, aparece el nombre del paciente pero realmente son pruebas"
   ]
  }
 ],
 "metadata": {
  "kernelspec": {
   "display_name": "Python 3",
   "language": "python",
   "name": "python3"
  },
  "language_info": {
   "codemirror_mode": {
    "name": "ipython",
    "version": 3
   },
   "file_extension": ".py",
   "mimetype": "text/x-python",
   "name": "python",
   "nbconvert_exporter": "python",
   "pygments_lexer": "ipython3",
   "version": "3.9.4"
  }
 },
 "nbformat": 4,
 "nbformat_minor": 5
}
