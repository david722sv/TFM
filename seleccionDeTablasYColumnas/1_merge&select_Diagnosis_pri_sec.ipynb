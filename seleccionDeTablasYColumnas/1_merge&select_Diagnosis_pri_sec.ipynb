{
 "cells": [
  {
   "cell_type": "raw",
   "id": "5155b83f",
   "metadata": {},
   "source": [
    "\"Description\" y \"DiagnosisCode\" dan la misma informacion, indican el tipo de tumor"
   ]
  },
  {
   "cell_type": "code",
   "execution_count": 1,
   "id": "34b97d8d",
   "metadata": {},
   "outputs": [
    {
     "name": "stdout",
     "output_type": "stream",
     "text": [
      "Archivo: data/ARIA/5.CourseOfTreatment/_Diagnosis.csv\n",
      "Se dejaron 12 columnas.\n",
      "Se eliminaron 5 columnas:\n",
      "\n",
      "\n",
      "Archivo: data/ARIA/5.CourseOfTreatment/_PrmryDiagnosis.csv\n",
      "Se dejaron 7 columnas.\n",
      "Se eliminaron 2 columnas:\n",
      "\n",
      "\n",
      "Archivo: data/ARIA/5.CourseOfTreatment/_SecndryDiagnosis.csv\n",
      "Se dejaron 1 columnas.\n",
      "Se eliminaron 1 columnas:\n",
      "\n",
      "\n"
     ]
    }
   ],
   "source": [
    "import pandas as pd\n",
    "import matplotlib.pyplot as plt\n",
    "import numpy as np\n",
    "import utils as ut\n",
    "\n",
    "show = 1\n",
    "diag = ut.leer_csv(\"data/ARIA/5.CourseOfTreatment/_Diagnosis.csv\", show).drop(columns=[\"DiagnosisTableName\",\"DiagnosisId\",\n",
    "                                                                                     \"Description\",\"HistologyTableName\",\n",
    "                                                                                      \"DateStamp\",\"HisDescription\"])\n",
    "pri_diag = ut.leer_csv(\"data/ARIA/5.CourseOfTreatment/_PrmryDiagnosis.csv\", show).drop(columns=[\"StageCriteria\"])\n",
    "sec_diag = ut.leer_csv(\"data/ARIA/5.CourseOfTreatment/_SecndryDiagnosis.csv\", show)"
   ]
  },
  {
   "cell_type": "code",
   "execution_count": 2,
   "id": "c5cc051e",
   "metadata": {
    "scrolled": false
   },
   "outputs": [],
   "source": [
    "# ut.info_tabla(pri_diag)"
   ]
  },
  {
   "cell_type": "code",
   "execution_count": 3,
   "id": "cabe376b",
   "metadata": {},
   "outputs": [],
   "source": [
    "pri = diag[diag.DiagnosisType==\"PrmryDiagnosis\"].merge(pri_diag, on=\"DiagnosisSer\", how=\"outer\").drop(columns=\"DiagnosisType\")\n",
    "sec = diag[diag.DiagnosisType==\"SecndryDiagnosis\"].merge(sec_diag, on=\"DiagnosisSer\", how=\"outer\").drop(columns=\"DiagnosisType\")"
   ]
  },
  {
   "cell_type": "code",
   "execution_count": 4,
   "id": "0f46311d",
   "metadata": {},
   "outputs": [],
   "source": [
    "# diag_f.to_csv(\"Diagnosis.csv\", index=False)\n",
    "pri.to_csv(\"data/ARIA_cleaned/Diagnosis_pri.csv\", index=False)\n",
    "sec.to_csv(\"data/ARIA_cleaned/Diagnosis_sec.csv\", index=False)"
   ]
  },
  {
   "cell_type": "code",
   "execution_count": null,
   "id": "06169f6f",
   "metadata": {},
   "outputs": [],
   "source": []
  }
 ],
 "metadata": {
  "kernelspec": {
   "display_name": "Python 3",
   "language": "python",
   "name": "python3"
  },
  "language_info": {
   "codemirror_mode": {
    "name": "ipython",
    "version": 3
   },
   "file_extension": ".py",
   "mimetype": "text/x-python",
   "name": "python",
   "nbconvert_exporter": "python",
   "pygments_lexer": "ipython3",
   "version": "3.7.10"
  }
 },
 "nbformat": 4,
 "nbformat_minor": 5
}
