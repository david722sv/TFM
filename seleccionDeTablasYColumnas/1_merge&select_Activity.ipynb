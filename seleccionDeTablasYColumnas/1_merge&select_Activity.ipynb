{
 "cells": [
  {
   "cell_type": "raw",
   "id": "15b1e381",
   "metadata": {},
   "source": [
    "Tablas:\n",
    "ScheduledActivity\n",
    "ActivityInstance\n",
    "Activity\n",
    "ActivityCapture\n",
    "ActCaptDiagnosis"
   ]
  },
  {
   "cell_type": "code",
   "execution_count": 1,
   "id": "9442948e",
   "metadata": {
    "scrolled": false
   },
   "outputs": [
    {
     "name": "stderr",
     "output_type": "stream",
     "text": [
      "D:\\miniconda3\\envs\\tfgpu\\lib\\site-packages\\IPython\\core\\interactiveshell.py:3357: DtypeWarning: Columns (39) have mixed types.Specify dtype option on import or set low_memory=False.\n",
      "  if (await self.run_code(code, result,  async_=asy)):\n"
     ]
    }
   ],
   "source": [
    "import pandas as pd\n",
    "import matplotlib.pyplot as plt\n",
    "import numpy as np\n",
    "import utils as ut\n",
    "\n",
    "path = \"data/ARIA/7.ActivityAndBilling/\"\n",
    "\n",
    "show = 0\n",
    "sch = ut.leer_csv(\"data/ARIA/9.Schedule/_ScheduledActivity.csv\", show).drop(columns=[\"ActivityInstanceRevCount\",\"CreationDate\",\n",
    "      \"CreatedByResourceSer\",\"ActivityNote\",\"ScheduledActivityRevCount\",\"CreatedByUserName\",\"UID\",\"RecurrenceRuleSer\",\n",
    "       \"WaitListedFlag\",\"WorkFlowActiveFlag\"])\n",
    "\n",
    "acd = ut.leer_csv(path+\"_ActCaptDiagnosis.csv\", show).drop(columns=[\"ActivityCaptureRevCount\",\"ActCaptDiagnosisRevCount\",\n",
    "                             \"ObjectStatus\",\"LastKnownDiagnosisId\",\"LastKnownDiagnosisCode\"])\n",
    "\n",
    "cap = ut.leer_csv(path+\"_ActivityCapture.csv\", show).drop(columns=[\"ActivityCaptureRevCount\",\"ActivityInstanceRevCount\",\n",
    "                                              \"LastKnownCourseId\",\"InPatientFlag\",\"AttendingOncologistSer\",\"ResourceSer\"])\n",
    "\n",
    "ins = ut.leer_csv(path+\"_ActivityInstance.csv\", show).drop(columns=[\"ActivityInstanceRevCount\",\"ActivityRevCount\",\n",
    "       \"PredecessorSer\",\"TemplateCycleRevCount\",\"ActivityInstanceId\",\"WorkFlowOverrideByResourceSer\",\"WorkFlowOverrideDate\",\n",
    "      \"TemplateCycleSer\",\"LastNoteUpdatedByResourceSer\",\"LastStatusUpdatedByResourceSer\",\"DepartmentSer\",\"LastNoteUpdatedDate\",\n",
    "      \"LastStatusUpdatedDate\", \"AppointmentDependentFlag\"])\n",
    "\n",
    "a = ut.leer_csv(path+\"_Activity.csv\", show).drop(columns=[\"ActivityRevCount\",\"UpdCPResourceGroupSer\",\"DerivedFromActivitySer\",\n",
    "      \"UpdCPEscalationGroupSer\",\"EscalationGroupSer\",\"ActivityType\",\"ForeGroundColor\",\"DICOMCodeValueSer\",\"TreatmentCycleSer\"])\n",
    "\n",
    "cat = ut.leer_csv(path+\"_ActivityCategory.csv\", show).drop(columns=[\"DepartmentSer\",\"DerivedFromActCategorySer\"])\n",
    "\n",
    "att = ut.leer_csv(path+\"Attendee.csv\", show).drop(columns=[\"AttendeeRevCount\",\"ActivityInstanceRevCount\"])\n",
    "res = ut.leer_csv(\"data/ARIA/6.Resource/Resource.csv\", show).drop(columns=[\"DICOMCodeValueSer\"])\n",
    "mach = ut.leer_csv(\"data/ARIA/12.Machine/Machine.csv\", show)\n",
    "tr = ut.leer_csv(\"data/ARIA/5.CourseOfTreatment/TreatmentRecord.csv\", show).drop(columns=[\"TreatmentRecordUID\",\"PlanUID\",\n",
    "          \"ActualMachineAuthorization\",\"FileName\",\"CharacterSet\"])\n",
    "diag = ut.leer_csv(\"data/ARIA_cleaned/Diagnosis_pri.csv\", show)"
   ]
  },
  {
   "cell_type": "code",
   "execution_count": null,
   "id": "23a7f8bd",
   "metadata": {
    "scrolled": false
   },
   "outputs": [],
   "source": [
    "# ut.info_tabla(tr)"
   ]
  },
  {
   "cell_type": "code",
   "execution_count": null,
   "id": "44f19d8b",
   "metadata": {},
   "outputs": [],
   "source": []
  },
  {
   "cell_type": "code",
   "execution_count": 2,
   "id": "6be2938e",
   "metadata": {},
   "outputs": [],
   "source": [
    "sch[\"ScheduledStartTime\"] = pd.to_datetime(sch[\"ScheduledStartTime\"])\n",
    "sch[\"ScheduledEndTime\"] = pd.to_datetime(sch[\"ScheduledEndTime\"])\n",
    "sch[\"ActualStartDate\"] = pd.to_datetime(sch[\"ActualStartDate\"])\n",
    "sch[\"ActualEndDate\"] = pd.to_datetime(sch[\"ActualEndDate\"])"
   ]
  },
  {
   "cell_type": "code",
   "execution_count": 3,
   "id": "24afbcd2",
   "metadata": {},
   "outputs": [
    {
     "name": "stdout",
     "output_type": "stream",
     "text": [
      "(302025, 10)\n",
      "(181361, 4)\n",
      "(183624, 10)\n",
      "(121107, 3)\n",
      "\n",
      "(261, 15)\n",
      "(76, 5)\n"
     ]
    }
   ],
   "source": [
    "print(ins.shape)\n",
    "print(cap.shape)\n",
    "print(sch.shape)\n",
    "print(acd.shape)\n",
    "print()\n",
    "print(a.shape)\n",
    "print(cat.shape)"
   ]
  },
  {
   "cell_type": "code",
   "execution_count": 4,
   "id": "16b1d285",
   "metadata": {},
   "outputs": [],
   "source": [
    "final = sch \\\n",
    ".merge(ins, on=\"ActivityInstanceSer\", how=\"left\") \\\n",
    ".merge(cap, on=\"ActivityInstanceSer\", how=\"left\") \\\n",
    ".merge(acd, on=\"ActivityCaptureSer\", how=\"left\") \\\n",
    ".merge(a,   on=\"ActivitySer\", how=\"left\") \\\n",
    ".merge(cat.drop(columns=\"ObjectStatus\"), on=\"ActivityCategorySer\", how=\"left\")\n",
    "\n",
    "final = final.drop(columns=[\"ActivityInstanceSer\",\"AppointmentInstanceFlag\",\"ActivitySer\",\"ActivityCaptureSer\",\n",
    "                       \"ActCaptDiagnosisSer\",\"ActivityCategorySer\",\"NoAutoPostFlag\",\"AutoGenerateFlag\"])"
   ]
  },
  {
   "cell_type": "code",
   "execution_count": null,
   "id": "7c815374",
   "metadata": {
    "scrolled": false
   },
   "outputs": [],
   "source": [
    "# ut.info_tabla(final)"
   ]
  },
  {
   "cell_type": "code",
   "execution_count": null,
   "id": "e8f7f00d",
   "metadata": {},
   "outputs": [],
   "source": []
  },
  {
   "cell_type": "code",
   "execution_count": null,
   "id": "1e0d8168",
   "metadata": {},
   "outputs": [],
   "source": []
  },
  {
   "cell_type": "code",
   "execution_count": null,
   "id": "962a5ca1",
   "metadata": {},
   "outputs": [],
   "source": []
  },
  {
   "cell_type": "code",
   "execution_count": 5,
   "id": "31888ad5",
   "metadata": {},
   "outputs": [],
   "source": [
    "final.to_csv(\"data/ARIA_cleaned/SchActivity.csv\", index=False)"
   ]
  },
  {
   "cell_type": "code",
   "execution_count": null,
   "id": "0c998bd2",
   "metadata": {},
   "outputs": [],
   "source": []
  },
  {
   "cell_type": "markdown",
   "id": "c357887b",
   "metadata": {},
   "source": [
    "# Citas tratamiento"
   ]
  },
  {
   "cell_type": "code",
   "execution_count": null,
   "id": "17aeef53",
   "metadata": {},
   "outputs": [],
   "source": [
    "citas = final[final.ActualEndDate.notnull() & final.ActualStartDate.notnull() & (final.ActivityCategoryCode==\"Treatment\")]\\\n",
    ".drop(columns=[\"ObjectStatus_x\",\"PriorPostDueDurUnits\",\"ObjectStatus_y\",\"AutoAssignOncologistFlag\",\"ReviewFlag\",\n",
    "              \"ExclusiveFlag\",\"ObjectStatus\",\"AutoGenerateFlag\",\"NoAutoPostFlag\",\"ActivityCategoryCode\",\"SchedulableFlag\",\n",
    "              \"NoEditFlag_y\",\"ScheduledActivityCode\",\"AnchorActivityFlag\"])\n",
    "\n",
    "print(citas.shape)\n",
    "citas.isna().sum()\n",
    "# citas.nunique()\n",
    "# citas.DefaultDuration.value_counts()\n",
    "\n",
    "citas[citas.CourseSer.isna()]"
   ]
  }
 ],
 "metadata": {
  "kernelspec": {
   "display_name": "Python 3",
   "language": "python",
   "name": "python3"
  },
  "language_info": {
   "codemirror_mode": {
    "name": "ipython",
    "version": 3
   },
   "file_extension": ".py",
   "mimetype": "text/x-python",
   "name": "python",
   "nbconvert_exporter": "python",
   "pygments_lexer": "ipython3",
   "version": "3.7.10"
  }
 },
 "nbformat": 4,
 "nbformat_minor": 5
}
