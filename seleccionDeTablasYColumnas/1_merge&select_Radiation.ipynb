{
 "cells": [
  {
   "cell_type": "code",
   "execution_count": 1,
   "id": "7e06332d",
   "metadata": {},
   "outputs": [
    {
     "name": "stdout",
     "output_type": "stream",
     "text": [
      "Archivo: data/ARIA/5.CourseOfTreatment/_ExternalField.csv\n",
      "Se dejaron 30 columnas.\n",
      "Se eliminaron 12 columnas:\n",
      "\n",
      "\n"
     ]
    },
    {
     "name": "stderr",
     "output_type": "stream",
     "text": [
      "D:\\miniconda3\\envs\\tfgpu\\lib\\site-packages\\IPython\\core\\interactiveshell.py:3357: DtypeWarning: Columns (4,5) have mixed types.Specify dtype option on import or set low_memory=False.\n",
      "  if (await self.run_code(code, result,  async_=asy)):\n"
     ]
    },
    {
     "name": "stdout",
     "output_type": "stream",
     "text": [
      "Archivo: data/ARIA/5.CourseOfTreatment/_ExternalFieldCommon.csv\n",
      "Se dejaron 26 columnas.\n",
      "Se eliminaron 12 columnas:\n",
      "\n",
      "\n",
      "Archivo: data/ARIA/5.CourseOfTreatment/_Radiation.csv\n",
      "Se dejaron 15 columnas.\n",
      "Se eliminaron 5 columnas:\n",
      "\n",
      "\n"
     ]
    }
   ],
   "source": [
    "import pandas as pd\n",
    "import numpy as np\n",
    "import utils as ut\n",
    "import matplotlib.pyplot as plt\n",
    "\n",
    "path = \"data/ARIA/\"\n",
    "\n",
    "show = 1\n",
    "ef  = ut.leer_csv(path+\"5.CourseOfTreatment/_ExternalField.csv\", show).drop(columns=[\"EllipticalMarginFlag\",\n",
    "                                                                                     \"DRRTemplateFileName\",\"TrackingSer\",\n",
    "                                                                                    \"CalculationLog\",\"OptimizeCollRtnFlag\",\n",
    "                                                                                    \"WedgeWeightFactor\"])\n",
    "\n",
    "efc = ut.leer_csv(path+\"5.CourseOfTreatment/_ExternalFieldCommon.csv\", show).drop(columns=[\"SourceFieldEntryDistance\",\n",
    "                                                                                           \"IDUPosLat\",\"IDUPosLng\"])\n",
    "\n",
    "rad = ut.leer_csv(path+\"5.CourseOfTreatment/_Radiation.csv\", show).drop(columns=[\"RefImageSOPClassSer\",\"RefImageUID\",\n",
    "                                                                                 \"SetupNote\",\"RadiationId\",\"RadiationName\",\n",
    "                                                                                \"CreationUserName\",\"Comment\",\"RefImageSer\",\n",
    "                                                                                \"CreationDate\"])"
   ]
  },
  {
   "cell_type": "code",
   "execution_count": 2,
   "id": "0950dea0",
   "metadata": {
    "scrolled": false
   },
   "outputs": [],
   "source": [
    "# ut.info_tabla(rad)"
   ]
  },
  {
   "cell_type": "code",
   "execution_count": null,
   "id": "2449b435",
   "metadata": {},
   "outputs": [],
   "source": []
  },
  {
   "cell_type": "code",
   "execution_count": 3,
   "id": "b563044e",
   "metadata": {
    "scrolled": false
   },
   "outputs": [],
   "source": [
    "join = rad.merge(ef, on=\"RadiationSer\", how=\"inner\").merge(efc, on=\"RadiationSer\", how=\"inner\")"
   ]
  },
  {
   "cell_type": "code",
   "execution_count": 4,
   "id": "47d0a7b0",
   "metadata": {},
   "outputs": [
    {
     "data": {
      "text/plain": [
       "(77087, 51)"
      ]
     },
     "execution_count": 4,
     "metadata": {},
     "output_type": "execute_result"
    }
   ],
   "source": [
    "join.shape"
   ]
  },
  {
   "cell_type": "code",
   "execution_count": 5,
   "id": "347fee4c",
   "metadata": {},
   "outputs": [],
   "source": [
    "join.to_csv(\"data/ARIA_cleaned/Radiation.csv\", index=False)"
   ]
  },
  {
   "cell_type": "code",
   "execution_count": null,
   "id": "1e6ebfe9",
   "metadata": {},
   "outputs": [],
   "source": []
  }
 ],
 "metadata": {
  "kernelspec": {
   "display_name": "Python 3",
   "language": "python",
   "name": "python3"
  },
  "language_info": {
   "codemirror_mode": {
    "name": "ipython",
    "version": 3
   },
   "file_extension": ".py",
   "mimetype": "text/x-python",
   "name": "python",
   "nbconvert_exporter": "python",
   "pygments_lexer": "ipython3",
   "version": "3.7.10"
  }
 },
 "nbformat": 4,
 "nbformat_minor": 5
}
