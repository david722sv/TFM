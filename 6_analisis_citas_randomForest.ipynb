{
 "cells": [
  {
   "cell_type": "code",
   "execution_count": 1,
   "id": "191fd152",
   "metadata": {},
   "outputs": [
    {
     "name": "stderr",
     "output_type": "stream",
     "text": [
      "randomForest 4.6-14\n",
      "\n",
      "Type rfNews() to see new features/changes/bug fixes.\n",
      "\n"
     ]
    }
   ],
   "source": [
    "library(randomForest)\n",
    "library(tree)"
   ]
  },
  {
   "cell_type": "code",
   "execution_count": 2,
   "id": "1c008cec",
   "metadata": {},
   "outputs": [],
   "source": [
    "rmse = function(a,b){\n",
    "    sqrt( mean((a - b)^2) )\n",
    "}"
   ]
  },
  {
   "cell_type": "code",
   "execution_count": 3,
   "id": "77ded232",
   "metadata": {},
   "outputs": [
    {
     "data": {
      "text/html": [
       "<style>\n",
       ".list-inline {list-style: none; margin:0; padding: 0}\n",
       ".list-inline>li {display: inline-block}\n",
       ".list-inline>li:not(:last-child)::after {content: \"\\00b7\"; padding: 0 .5ex}\n",
       "</style>\n",
       "<ol class=list-inline><li>76881</li><li>72</li></ol>\n"
      ],
      "text/latex": [
       "\\begin{enumerate*}\n",
       "\\item 76881\n",
       "\\item 72\n",
       "\\end{enumerate*}\n"
      ],
      "text/markdown": [
       "1. 76881\n",
       "2. 72\n",
       "\n",
       "\n"
      ],
      "text/plain": [
       "[1] 76881    72"
      ]
     },
     "metadata": {},
     "output_type": "display_data"
    }
   ],
   "source": [
    "citas = read.csv(\"data/ARIA_cleaned/citas.csv\")\n",
    "\n",
    "c_categ = c('ActivityCategoryCode', 'Status_pres', 'MultiFieldOptFlag', 'ObjectStatus_sec', 'TreatmentIntentType', 'StartDelay_isNaN', 'InterfaceStamp', 'ActualMachineSer', 'MorningAfternoon', 'PatientStatus', 'FractionFrequency', 'NoEditFlag_cat', 'SummaryStage', 'ObjectStatus_planes', 'MStage', 'Sex', 'ClinicalStatus', 'NotificationPriorTimeFlag_a', 'SkinFlashMargin', 'ActivityCode', 'NumberOfFractions_isNaN', 'PlanNormMethod', 'Status_rtpps', 'PrescribedDose_isNaN', 'Bolus', 'AssignableFlag', 'NotificationPriorTime_a', 'DiagnosisCode_sec', 'NotificationPriorTimeFlag_sch', 'TechniqueSer', 'Priority', 'DayOfWeek', 'ScheduledActivityCode', 'EquipmentSer', 'Intent', 'TStage', 'CityOrTownship', 'Description', 'SimulationNeeded', 'EnergyModeSer', 'DateOfBirth_isNaN', 'NoEditFlag_sch', 'AnchorActivityFlag', 'DicomSeqNumber', 'HistologyCode', 'PhaseType', 'Technique', 'TumorSize_isNaN', 'NotificationPriorTime_sch', 'NStage', 'Site', 'CalcModelOptions', 'PrimaryPTVSer_isNaN', 'TreatmentOrientation', 'Notes', 'DiagnosisCode', 'SchedulableFlag', 'ResourceGroupSer')\n",
    "\n",
    "citas[c_categ] <- lapply(citas[c_categ], factor)\n",
    "\n",
    "citas[c(\"Duration\",\"DefaultDuration\",\"ScheduledDuration\",'ScheduledActivitySer','StartDateTime',\"ScheduledStartTime\",\n",
    "        \"ScheduledEndTime\",\"ActualStartDate\",\"ActualEndDate\")] = NULL\n",
    "\n",
    "dim(citas)"
   ]
  },
  {
   "cell_type": "code",
   "execution_count": 4,
   "id": "bdc9d70e",
   "metadata": {},
   "outputs": [],
   "source": [
    "y = citas$ActualDuration\n",
    "x = citas[setdiff(names(citas), \"ActualDuration\")]"
   ]
  },
  {
   "cell_type": "code",
   "execution_count": 5,
   "id": "e7a407f5",
   "metadata": {},
   "outputs": [
    {
     "data": {
      "text/html": [
       "<style>\n",
       ".list-inline {list-style: none; margin:0; padding: 0}\n",
       ".list-inline>li {display: inline-block}\n",
       ".list-inline>li:not(:last-child)::after {content: \"\\00b7\"; padding: 0 .5ex}\n",
       "</style>\n",
       "<ol class=list-inline><li>53817</li><li>71</li></ol>\n"
      ],
      "text/latex": [
       "\\begin{enumerate*}\n",
       "\\item 53817\n",
       "\\item 71\n",
       "\\end{enumerate*}\n"
      ],
      "text/markdown": [
       "1. 53817\n",
       "2. 71\n",
       "\n",
       "\n"
      ],
      "text/plain": [
       "[1] 53817    71"
      ]
     },
     "metadata": {},
     "output_type": "display_data"
    }
   ],
   "source": [
    "n <- nrow(citas)\n",
    "r = 0.7\n",
    "set.seed(1)\n",
    "# i <- sample(1:n, round(r*n))\n",
    "i = seq(1,round(r*n))\n",
    "j <- setdiff(1:n, i)\n",
    "\n",
    "x_tr = x[i,]\n",
    "y_tr = y[i]\n",
    "\n",
    "x_te = x[j,]\n",
    "y_te = y[j]\n",
    "\n",
    "dim(x_tr)"
   ]
  },
  {
   "cell_type": "code",
   "execution_count": 6,
   "id": "a8050b95",
   "metadata": {},
   "outputs": [],
   "source": [
    "# sapply(x_tr, class)"
   ]
  },
  {
   "cell_type": "markdown",
   "id": "95d7893d",
   "metadata": {},
   "source": [
    "# Random Forest"
   ]
  },
  {
   "cell_type": "markdown",
   "id": "a6a7db80",
   "metadata": {},
   "source": [
    "### Parallel"
   ]
  },
  {
   "cell_type": "code",
   "execution_count": 8,
   "id": "c7898695",
   "metadata": {},
   "outputs": [],
   "source": [
    "library(doParallel)\n",
    "library(parallel)\n",
    "\n",
    "no_cores <- detectCores(logical = TRUE)\n",
    "cl <- makeCluster(no_cores-1)\n",
    "registerDoParallel(cl)"
   ]
  },
  {
   "cell_type": "code",
   "execution_count": 24,
   "id": "acfda1f3",
   "metadata": {},
   "outputs": [],
   "source": [
    "randomForest2 = function(ntree){\n",
    "    rf = randomForest(x = x_tr, y = y_tr,\n",
    "                      ntree = ntree,\n",
    "                      mtry = 55,\n",
    "                      \n",
    "                      replace = FALSE,\n",
    "                      sampsize = ceiling(nrow(x_tr)*0.2),\n",
    "                      \n",
    "                      maxnodes = 2000,  # max 3500\n",
    "#                       nodesize = 50,\n",
    "                      \n",
    "#                       importance = TRUE,\n",
    "#                       corr.bias = TRUE,\n",
    "                    )\n",
    "    return(rf)\n",
    "}\n",
    "\n",
    "clusterExport(cl, c('randomForest2','randomForest', 'x_tr', 'y_tr'))"
   ]
  },
  {
   "cell_type": "code",
   "execution_count": 25,
   "id": "844a8d57",
   "metadata": {
    "scrolled": true
   },
   "outputs": [],
   "source": [
    "rfs = parLapply(cl, rep(9,7), fun = randomForest2)"
   ]
  },
  {
   "cell_type": "code",
   "execution_count": 26,
   "id": "4f003dce",
   "metadata": {},
   "outputs": [
    {
     "name": "stdout",
     "output_type": "stream",
     "text": [
      "rmse =  5.398888 \n",
      "cor pearson =  0.8413026 \n",
      "rmse =  6.743613 \n",
      "cor pearson =  0.7640966 \n"
     ]
    }
   ],
   "source": [
    "rf_comb = combine(rfs[[1]], rfs[[2]], rfs[[3]], rfs[[4]], rfs[[5]], rfs[[6]], rfs[[7]])\n",
    "\n",
    "y_pred = predict(rf_comb, x_tr)\n",
    "cat(\"rmse = \", rmse(y_tr, y_pred), \"\\n\")\n",
    "cat(\"cor pearson = \", cor(y_tr, y_pred, method = \"pearson\"), \"\\n\")\n",
    "\n",
    "y_pred = predict(rf_comb, x_te)\n",
    "cat(\"rmse = \", rmse(y_te, y_pred), \"\\n\")\n",
    "cat(\"cor pearson = \", cor(y_te, y_pred, method = \"pearson\"), \"\\n\")"
   ]
  },
  {
   "cell_type": "raw",
   "id": "e20b7888",
   "metadata": {},
   "source": [
    "(maxnodes = 2000, mtry = 55, fracSampSize = 0.2)\n",
    "\n",
    "fracSampSize - rmse_tr - cor_tr - rmse_te - cor_te\n",
    "\n",
    "0.05- 6.452588 - 0.7660636 - 6.948294 - 0.755328 \n",
    "0.10- 5.895456 - 0.8071035 - 6.824777 - 0.7634316 \n",
    "0.15- 5.635108 - 0.8241816 - 6.726895 - 0.7647078 \n",
    "0.20- 5.390692 - 0.8414629 - 6.687922 - 0.7682934\n",
    "0.25- 5.202181 - 0.8544315 - 6.78209 - 0.7605078 \n",
    "0.30- 5.024827 - 0.8645215 - 6.768987 - 0.7595508\n",
    "\n",
    "\n",
    "mtry\n",
    "\n",
    "50 - 5.358676 - 0.8445958 - 6.729233 - 0.764485 \n",
    "55 - 5.390692 - 0.8414629 - 6.687922 - 0.7682934\n",
    "60 - 5.390175 - 0.8418996 - 6.766614 - 0.7611456 \n",
    "\n",
    "\n",
    "maxnodes\n",
    "\n",
    "1500- 5.452501 - 0.8379352 - 6.770028 - 0.7617963 \n",
    "2000- 5.390692 - 0.8414629 - 6.687922 - 0.7682934\n",
    "    - 5.398888 - 0.8413026 - 6.743613 - 0.7640966 \n",
    "\n",
    "2500- 5.344162 - 0.8455601 - 6.821881 - 0.7567367 \n",
    "inf - 5.240121 - 0.8533102 - 6.80339 - 0.7628503 "
   ]
  },
  {
   "cell_type": "markdown",
   "id": "217af2ad",
   "metadata": {},
   "source": [
    "### one randomForest"
   ]
  },
  {
   "cell_type": "code",
   "execution_count": null,
   "id": "bb9610e5",
   "metadata": {},
   "outputs": [],
   "source": [
    "model1 = randomForest(x = x_tr, y = y_tr,\n",
    "                      ntree = 100,\n",
    "                      mtry = 55,\n",
    "                      \n",
    "                      replace = FALSE,\n",
    "                      sampsize = ceiling(nrow(x_tr)*0.2),\n",
    "                      \n",
    "                      maxnodes = 2000,  # max 3500\n",
    "#                       nodesize = 50,\n",
    "                      \n",
    "#                       importance = TRUE,\n",
    "                      corr.bias = TRUE,\n",
    "                    )"
   ]
  },
  {
   "cell_type": "code",
   "execution_count": null,
   "id": "cb863cf7",
   "metadata": {
    "scrolled": true
   },
   "outputs": [],
   "source": [
    "# str(model1) # max: 5579"
   ]
  },
  {
   "cell_type": "code",
   "execution_count": 32,
   "id": "80cd1ef0",
   "metadata": {},
   "outputs": [
    {
     "name": "stdout",
     "output_type": "stream",
     "text": [
      "rmse =  5.330668 \n",
      "cor pearson =  0.8468028 \n"
     ]
    },
    {
     "data": {
      "image/png": "[encoded data removed]",
      "text/plain": [
       "plot without title"
      ]
     },
     "metadata": {
      "image/png": {
       "height": 420,
       "width": 420
      }
     },
     "output_type": "display_data"
    }
   ],
   "source": [
    "y_pred = predict(model1, x_tr)\n",
    "cat(\"rmse = \", rmse(y_tr, y_pred), \"\\n\")\n",
    "cat(\"cor pearson = \", cor(y_tr, y_pred, method = \"pearson\"), \"\\n\")\n",
    "plot(y_tr, y_pred, xlim=c(5,65), ylim=c(5,65), pch=20, cex = 0.1)"
   ]
  },
  {
   "cell_type": "code",
   "execution_count": 35,
   "id": "32aa8192",
   "metadata": {},
   "outputs": [
    {
     "name": "stdout",
     "output_type": "stream",
     "text": [
      "rmse =  6.731603 \n",
      "cor pearson =  0.7655374 \n"
     ]
    },
    {
     "data": {
      "image/png": "[encoded data removed]",
      "text/plain": [
       "plot without title"
      ]
     },
     "metadata": {
      "image/png": {
       "height": 420,
       "width": 420
      }
     },
     "output_type": "display_data"
    }
   ],
   "source": [
    "y_pred = predict(model1, x_te)\n",
    "cat(\"rmse = \", rmse(y_te, y_pred), \"\\n\")\n",
    "cat(\"cor pearson = \", cor(y_te, y_pred, method = \"pearson\"), \"\\n\")\n",
    "plot(y_te, y_pred, xlim=c(5,65), ylim=c(5,65), pch=20, cex = 0.1)"
   ]
  },
  {
   "cell_type": "code",
   "execution_count": 30,
   "id": "575320ed",
   "metadata": {},
   "outputs": [
    {
     "data": {
      "image/png": "[encoded data removed]",
      "text/plain": [
       "Plot with title \"model1\""
      ]
     },
     "metadata": {
      "image/png": {
       "height": 420,
       "width": 420
      }
     },
     "output_type": "display_data"
    }
   ],
   "source": [
    "plot(model1, ylim=c(37,45))"
   ]
  },
  {
   "cell_type": "markdown",
   "id": "ad579fea",
   "metadata": {},
   "source": [
    "### Optimizacion"
   ]
  },
  {
   "cell_type": "code",
   "execution_count": null,
   "id": "8a815013",
   "metadata": {},
   "outputs": [],
   "source": [
    "ntree = 100 # 150\n",
    "mtry = 50 # 50\n",
    "maxnodes = 46 # 46 o mas\n",
    "nodesize = 50 # 50 # seq(300,700,200) # 100 creo k varia poco\n",
    "\n",
    "resis = c()\n",
    "for(v1 in ntree){\n",
    "    for(v2 in mtry){\n",
    "        for(v3 in maxnodes){\n",
    "            for(v4 in nodesize){\n",
    "                cat(v1,v2,v3,v4,\"\\n\")\n",
    "                flush.console()\n",
    "                \n",
    "                model2 = randomForest(x = x_tr, y = y_tr,\n",
    "                      ntree = v1,\n",
    "                      mtry = v2,\n",
    "                      \n",
    "#                       maxnodes = v3,\n",
    "#                       nodesize = v4,\n",
    "                      \n",
    "                      replace = FALSE,\n",
    "                      sampsize = ceiling(nrow(x_tr)*0.1),\n",
    "                                      \n",
    "#                       importance = TRUE,\n",
    "#                       corr.bias = TRUE,\n",
    "                    )\n",
    "                resis = cbind(resis, model2$mse)\n",
    "            }\n",
    "        }\n",
    "    }\n",
    "}"
   ]
  },
  {
   "cell_type": "code",
   "execution_count": null,
   "id": "654cecc1",
   "metadata": {},
   "outputs": [],
   "source": [
    "plot(resis[,1], ylim=c(40,50) )\n",
    "lines(resis[,2], col=\"red\")\n",
    "lines(resis[,3], col = \"orange\")\n",
    "lines(resis[,4], col = \"yellow\")\n",
    "lines(resis[,5], col = \"green\")\n",
    "# lines(resis[,6], col = \"lightblue\")\n",
    "# lines(resis[,7], col = \"blue\")\n",
    "# lines(resis[,8], col = \"purple\")\n",
    "# lines(resis[,9], col = \"pink\")\n",
    "# lines(resis[,10], col = \"lightblue\")\n",
    "# lines(resis[,11], col = \"blue\")"
   ]
  },
  {
   "cell_type": "code",
   "execution_count": null,
   "id": "32357fa1",
   "metadata": {
    "scrolled": false
   },
   "outputs": [],
   "source": [
    "# str(model2)\n",
    "# model2$mse[5]\n",
    "# sqrt(model2$mse[20])"
   ]
  },
  {
   "cell_type": "code",
   "execution_count": null,
   "id": "96f870a2",
   "metadata": {},
   "outputs": [],
   "source": [
    "plot(model2)"
   ]
  },
  {
   "cell_type": "code",
   "execution_count": null,
   "id": "46be6964",
   "metadata": {},
   "outputs": [],
   "source": [
    "y_pred = predict(model2, x_tr)\n",
    "cat(\"rmse = \", rmse(y_tr, y_pred), \"\\n\")\n",
    "cat(\"cor pearson = \", cor(y_tr, y_pred, method = \"pearson\"), \"\\n\")\n",
    "\n",
    "mean(y_tr)\n",
    "mean(y_pred)\n",
    "plot(y_tr, y_pred, xlim=c(5,65), ylim=c(5,65), pch=20, cex = 0.1)"
   ]
  },
  {
   "cell_type": "code",
   "execution_count": null,
   "id": "8ae455e4",
   "metadata": {},
   "outputs": [],
   "source": [
    "y_pred = predict(model2, x_te)\n",
    "cat(\"rmse = \", rmse(y_te, y_pred), \"\\n\")\n",
    "cat(\"cor pearson = \", cor(y_te, y_pred, method = \"pearson\"), \"\\n\")\n",
    "\n",
    "mean(y_te)\n",
    "mean(y_pred)\n",
    "plot(y_te, y_pred, xlim=c(5,65), ylim=c(5,65), pch=20, cex = 0.1)"
   ]
  },
  {
   "cell_type": "code",
   "execution_count": null,
   "id": "50e8a1ab",
   "metadata": {},
   "outputs": [],
   "source": [
    "min(y_pred)"
   ]
  },
  {
   "cell_type": "markdown",
   "id": "38208380",
   "metadata": {},
   "source": [
    "# Single tree"
   ]
  },
  {
   "cell_type": "code",
   "execution_count": 36,
   "id": "9a44f23b",
   "metadata": {},
   "outputs": [],
   "source": [
    "trc = tree.control(length(y_tr), minsize = 2, mindev = 0.01)\n",
    "model3 = tree(ActualDuration~. , citas, subset=i, control = trc)"
   ]
  },
  {
   "cell_type": "code",
   "execution_count": 42,
   "id": "9f569876",
   "metadata": {},
   "outputs": [
    {
     "data": {
      "text/plain": [
       "node), split, n, deviance, yval\n",
       "      * denotes terminal node\n",
       "\n",
       " 1) root 53817 5149000.0  15.76  \n",
       "   2) ActivityCode: Braquiterapia,Cambio de tÃ©cnica,Cambio horario,Compensacion,Daily Treatment,Dosis Ãºnica,Fin Tratamiento,MU Calculation,Necesita celador,New Start,Tratamiento SBRT-Exactrac,Tratamiento semanal,Urgencias 53598 4099000.0  15.55  \n",
       "     4) NumPlans < 1.5 51120 2840000.0  14.86  \n",
       "       8) ScheduledActivityCode: Completed 51099 2373000.0  14.81  \n",
       "        16) ActivityCode: Braquiterapia,Cambio horario,Compensacion,Daily Treatment,Fin Tratamiento,Necesita celador 46770 1802000.0  14.17  \n",
       "          32) NumFields < 8.5 35856 1139000.0  13.39  \n",
       "            64) EnergyModeSer: 72,111,112,113,114,121,122,123,127,131,132 20680  728500.0  12.35 *\n",
       "            65) EnergyModeSer: 71 15176  357200.0  14.81 *\n",
       "          33) NumFields > 8.5 10914  568200.0  16.75 *\n",
       "        17) ActivityCode: Cambio de tÃ©cnica,Dosis Ãºnica,MU Calculation,New Start,Tratamiento SBRT-Exactrac,Tratamiento semanal,Urgencias 4329  345000.0  21.73 *\n",
       "       9) ScheduledActivityCode: Pt. CompltFinish 21  183500.0 131.00  \n",
       "        18) TStage: 1,1b,1c,4a,elResto_45_0.0232,isNaN 18  130400.0 110.70 *\n",
       "        19) TStage: 2b,3,3a 3    1052.0 252.90 *\n",
       "     5) NumPlans > 1.5 2478  740500.0  29.67  \n",
       "      10) ScheduledActivityCode: Completed 2470  531500.0  29.23  \n",
       "        20) ActivityCode: Cambio de tÃ©cnica,Cambio horario,Compensacion,Daily Treatment,Fin Tratamiento,MU Calculation,Necesita celador 2188  295300.0  27.16  \n",
       "          40) DiagnosisCode: C15.5,C34.11,C34.12,C34.32,C34.82,C50.212,C50.312,C50.411,C50.412,C53.1,C54.1,C61,C79.31,C79.51,elResto_346_0.2404,isNaN 2162  237400.0  26.61 *\n",
       "          41) DiagnosisCode: C34.90,C50.311 26    3502.0  72.63 *\n",
       "        21) ActivityCode: Dosis Ãºnica,New Start,Tratamiento SBRT-Exactrac,Urgencias 282  154200.0  45.28  \n",
       "          42) DiagnosisCode_sec: C79.31,C79.51,C79.89,C7B.03,isNaN 277   77680.0  43.18 *\n",
       "          43) DiagnosisCode_sec: C77.0,T86.02 5    7594.0 161.60 *\n",
       "      11) ScheduledActivityCode: Pt. CompltFinish 8   60750.0 165.60  \n",
       "        22) DateOfBirth < 1937.5 3       0.0 277.80 *\n",
       "        23) DateOfBirth > 1937.5 5     268.8  98.22 *\n",
       "   3) ActivityCode: ICT,Inicio SBRT Exactrac,Transplante 219  448600.0  68.06  \n",
       "     6) ActualMachineSer: 1033 118  226200.0  47.93  \n",
       "      12) ScheduledActivityCode: Completed 115  113300.0  43.53  \n",
       "        24) NumPlans < 3 111   46220.0  38.95 *\n",
       "        25) NumPlans > 3 4       0.0 170.80 *\n",
       "      13) ScheduledActivityCode: Pt. CompltFinish 3   25330.0 216.60 *\n",
       "     7) ActualMachineSer: 1164 101  118700.0  91.58 *"
      ]
     },
     "metadata": {},
     "output_type": "display_data"
    }
   ],
   "source": [
    "model3"
   ]
  },
  {
   "cell_type": "code",
   "execution_count": 37,
   "id": "15825bbf",
   "metadata": {},
   "outputs": [
    {
     "name": "stdout",
     "output_type": "stream",
     "text": [
      "rmse =  7.10462 \n",
      "cor pearson =  0.6874764 \n",
      "rmse =  7.55067 \n",
      "cor pearson =  0.6799237 \n"
     ]
    }
   ],
   "source": [
    "y_pred = predict(model3, x_tr)\n",
    "cat(\"rmse = \", rmse(y_tr, y_pred), \"\\n\")\n",
    "cat(\"cor pearson = \", cor(y_tr, y_pred, method = \"pearson\"), \"\\n\")\n",
    "\n",
    "y_pred = predict(model3, x_te)\n",
    "cat(\"rmse = \", rmse(y_te, y_pred), \"\\n\")\n",
    "cat(\"cor pearson = \", cor(y_te, y_pred, method = \"pearson\"), \"\\n\")"
   ]
  },
  {
   "cell_type": "code",
   "execution_count": 38,
   "id": "fcf2fc85",
   "metadata": {},
   "outputs": [],
   "source": [
    "# plot(y_te, y_pred, xlim=c(5,65), ylim=c(5,65), pch=20)"
   ]
  },
  {
   "cell_type": "code",
   "execution_count": 41,
   "id": "ccf5649e",
   "metadata": {},
   "outputs": [
    {
     "data": {
      "text/html": [
       "<style>\n",
       ".list-inline {list-style: none; margin:0; padding: 0}\n",
       ".list-inline>li {display: inline-block}\n",
       ".list-inline>li:not(:last-child)::after {content: \"\\00b7\"; padding: 0 .5ex}\n",
       "</style>\n",
       "<ol class=list-inline><li>'Braquiterapia'</li><li>'Cambio de tÃ©cnica'</li><li>'Cambio horario'</li><li>'Compensacion'</li><li>'Daily Treatment'</li><li>'Dosis Ãºnica'</li><li>'Fin Tratamiento'</li><li>'ICT'</li><li>'Inicio SBRT Exactrac'</li><li>'MU Calculation'</li><li>'Necesita celador'</li><li>'New Start'</li><li>'RadiocirugÃ­a'</li><li>'Transplante'</li><li>'Tratamiento de Urgencia'</li><li>'Tratamiento Electrones'</li><li>'Tratamiento Oncothermia'</li><li>'Tratamiento SBRT-Exactrac'</li><li>'Tratamiento semanal'</li><li>'Urgencias'</li></ol>\n"
      ],
      "text/latex": [
       "\\begin{enumerate*}\n",
       "\\item 'Braquiterapia'\n",
       "\\item 'Cambio de tÃ©cnica'\n",
       "\\item 'Cambio horario'\n",
       "\\item 'Compensacion'\n",
       "\\item 'Daily Treatment'\n",
       "\\item 'Dosis Ãºnica'\n",
       "\\item 'Fin Tratamiento'\n",
       "\\item 'ICT'\n",
       "\\item 'Inicio SBRT Exactrac'\n",
       "\\item 'MU Calculation'\n",
       "\\item 'Necesita celador'\n",
       "\\item 'New Start'\n",
       "\\item 'RadiocirugÃ­a'\n",
       "\\item 'Transplante'\n",
       "\\item 'Tratamiento de Urgencia'\n",
       "\\item 'Tratamiento Electrones'\n",
       "\\item 'Tratamiento Oncothermia'\n",
       "\\item 'Tratamiento SBRT-Exactrac'\n",
       "\\item 'Tratamiento semanal'\n",
       "\\item 'Urgencias'\n",
       "\\end{enumerate*}\n"
      ],
      "text/markdown": [
       "1. 'Braquiterapia'\n",
       "2. 'Cambio de tÃ©cnica'\n",
       "3. 'Cambio horario'\n",
       "4. 'Compensacion'\n",
       "5. 'Daily Treatment'\n",
       "6. 'Dosis Ãºnica'\n",
       "7. 'Fin Tratamiento'\n",
       "8. 'ICT'\n",
       "9. 'Inicio SBRT Exactrac'\n",
       "10. 'MU Calculation'\n",
       "11. 'Necesita celador'\n",
       "12. 'New Start'\n",
       "13. 'RadiocirugÃ­a'\n",
       "14. 'Transplante'\n",
       "15. 'Tratamiento de Urgencia'\n",
       "16. 'Tratamiento Electrones'\n",
       "17. 'Tratamiento Oncothermia'\n",
       "18. 'Tratamiento SBRT-Exactrac'\n",
       "19. 'Tratamiento semanal'\n",
       "20. 'Urgencias'\n",
       "\n",
       "\n"
      ],
      "text/plain": [
       " [1] \"Braquiterapia\"             \"Cambio de tÃ©cnica\"       \n",
       " [3] \"Cambio horario\"            \"Compensacion\"             \n",
       " [5] \"Daily Treatment\"           \"Dosis Ãºnica\"             \n",
       " [7] \"Fin Tratamiento\"           \"ICT\"                      \n",
       " [9] \"Inicio SBRT Exactrac\"      \"MU Calculation\"           \n",
       "[11] \"Necesita celador\"          \"New Start\"                \n",
       "[13] \"RadiocirugÃ­a\"             \"Transplante\"              \n",
       "[15] \"Tratamiento de Urgencia\"   \"Tratamiento Electrones\"   \n",
       "[17] \"Tratamiento Oncothermia\"   \"Tratamiento SBRT-Exactrac\"\n",
       "[19] \"Tratamiento semanal\"       \"Urgencias\"                "
      ]
     },
     "metadata": {},
     "output_type": "display_data"
    }
   ],
   "source": [
    "levels(citas$ActivityCode)"
   ]
  },
  {
   "cell_type": "code",
   "execution_count": 39,
   "id": "adea9a26",
   "metadata": {},
   "outputs": [
    {
     "data": {
      "image/png": "[encoded data removed]",
      "text/plain": [
       "plot without title"
      ]
     },
     "metadata": {
      "image/png": {
       "height": 420,
       "width": 420
      }
     },
     "output_type": "display_data"
    }
   ],
   "source": [
    "plot(model3)\n",
    "text(model3)"
   ]
  },
  {
   "cell_type": "code",
   "execution_count": null,
   "id": "52fdde29",
   "metadata": {},
   "outputs": [],
   "source": []
  }
 ],
 "metadata": {
  "kernelspec": {
   "display_name": "R",
   "language": "R",
   "name": "ir"
  },
  "language_info": {
   "codemirror_mode": "r",
   "file_extension": ".r",
   "mimetype": "text/x-r-source",
   "name": "R",
   "pygments_lexer": "r",
   "version": "4.1.0"
  }
 },
 "nbformat": 4,
 "nbformat_minor": 5
}
