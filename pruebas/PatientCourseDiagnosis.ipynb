{
 "cells": [
  {
   "cell_type": "code",
   "execution_count": 1,
   "id": "63194a27",
   "metadata": {},
   "outputs": [],
   "source": [
    "import pandas as pd\n",
    "import matplotlib.pyplot as plt\n",
    "import numpy as np\n",
    "\n",
    "pat_course = pd.read_csv(\"data/de_Valdecilla/PatientCourse.csv\").drop_duplicates()\n",
    "pat_diag = pd.read_csv(\"data/de_Valdecilla/PatientDiagnosis.csv\").drop_duplicates()"
   ]
  },
  {
   "cell_type": "markdown",
   "id": "930c0a1b",
   "metadata": {},
   "source": [
    "# diagnosis"
   ]
  },
  {
   "cell_type": "code",
   "execution_count": 15,
   "id": "3fd0bc43",
   "metadata": {},
   "outputs": [
    {
     "name": "stdout",
     "output_type": "stream",
     "text": [
      "(5361, 60)\n",
      "(5361,)\n",
      "(4454,)\n"
     ]
    },
    {
     "data": {
      "text/plain": [
       "DiagnosisCode                                                       C67.9\n",
       "PatientId                                                         6777646\n",
       "PatientId2                                                         975939\n",
       "DiagnosisTableName                                              ICD-10-CM\n",
       "DiagnosisType                                                     Primary\n",
       "DiagnosisDescription           Malignant neoplasm of bladder, unspecified\n",
       "DiagnosisDate                                                  05/05/2016\n",
       "PtDxOnSetDate                                        5/5/2016 12:00:00 AM\n",
       "DiagnosisStatus                                                    Activo\n",
       "DiagnosisStatusDate                                 9/29/2016 12:00:00 AM\n",
       "Ranking                                                         Principal\n",
       "Source                                                                NaN\n",
       "ClinicalDescription            Malignant neoplasm of bladder, unspecified\n",
       "HistoricDetails                                                       NaN\n",
       "Comments                                                              NaN\n",
       "HistoricDxFlag                                               No histórico\n",
       "PathologyComments                                                     NaN\n",
       "BodySystem                                                 Genitourinario\n",
       "DiagnosisSite                                                      Vejiga\n",
       "ICDOSite                                                     Bladder, NOS\n",
       "ICDOVersion                                                      ICD-O V3\n",
       "Behaviour               Malignant, primary site                       ...\n",
       "CellType                                                              NaN\n",
       "CellCategory                                               Adenocarcinoma\n",
       "CellGrade                                                             NaN\n",
       "Laterality                                                            NaN\n",
       "DistantMets                                               No Distant Mets\n",
       "Nodes                                                                 NaN\n",
       "NodesPositive                                                         NaN\n",
       "Size                                                                  NaN\n",
       "Stage                                                          Estadio II\n",
       "StageCriteria                                                  T2, N0, M0\n",
       "Stagebasis                                                     Pathologic\n",
       "StageScheme             AJCC 7th Ed                                   ...\n",
       "StageStatus                                                      Aprobado\n",
       "ERStatus                                                      Desconocido\n",
       "PRStatus                                                      Desconocido\n",
       "HerNeu                                                                NaN\n",
       "SPhase                                                                NaN\n",
       "Recurrence                                                       Recidiva\n",
       "Invasive                                                              NaN\n",
       "ConfirmedDx                                                 No confirmado\n",
       "DxMethodType                                                  Desconocido\n",
       "CoresTaken                                                            NaN\n",
       "MethodDescription                                                     NaN\n",
       "CoresPositive                                                         NaN\n",
       "GleasonPrimary                                                        NaN\n",
       "GleasonSecondary                                                      NaN\n",
       "GleasonTotal                                                          NaN\n",
       "GleasonScore                                                          NaN\n",
       "HisDescription                                                        NaN\n",
       "ctrDiagnosisSer                                                        50\n",
       "HistologyCode                                                         NaN\n",
       "ctrPatientSer                                                         716\n",
       "SummaryStage                                                           II\n",
       "TStage                                                                  2\n",
       "MStage                                                                  0\n",
       "IsCourseAttached                                                        Y\n",
       "NStage                                                                  0\n",
       "LastSyncTime                                          2021-05-27 17:15:02\n",
       "Name: 0, dtype: object"
      ]
     },
     "execution_count": 15,
     "metadata": {},
     "output_type": "execute_result"
    }
   ],
   "source": [
    "print(pat_diag.shape)\n",
    "print(pat_diag[\"ctrDiagnosisSer\"].unique().shape)\n",
    "print(pat_diag[\"ctrPatientSer\"].unique().shape)\n",
    "pat_diag.iloc[0,:]"
   ]
  },
  {
   "cell_type": "code",
   "execution_count": 3,
   "id": "b18384ca",
   "metadata": {},
   "outputs": [
    {
     "data": {
      "image/png": "[encoded data removed]",
      "text/plain": [
       "<Figure size 432x288 with 1 Axes>"
      ]
     },
     "metadata": {
      "needs_background": "light"
     },
     "output_type": "display_data"
    },
    {
     "data": {
      "text/plain": [
       "782     5\n",
       "3817    4\n",
       "2404    4\n",
       "4752    4\n",
       "1422    4\n",
       "       ..\n",
       "5047    1\n",
       "3000    1\n",
       "3004    1\n",
       "5055    1\n",
       "2047    1\n",
       "Name: ctrPatientSer, Length: 4454, dtype: int64"
      ]
     },
     "execution_count": 3,
     "metadata": {},
     "output_type": "execute_result"
    }
   ],
   "source": [
    "plt.hist(pat_diag[\"ctrPatientSer\"].value_counts(), bins=50)\n",
    "plt.show()\n",
    "\n",
    "pat_diag[\"ctrPatientSer\"].value_counts()"
   ]
  },
  {
   "cell_type": "code",
   "execution_count": 12,
   "id": "229c1164",
   "metadata": {},
   "outputs": [
    {
     "data": {
      "text/plain": [
       "2791    3\n",
       "810     3\n",
       "1499    3\n",
       "695     3\n",
       "1626    3\n",
       "       ..\n",
       "4843    1\n",
       "2796    1\n",
       "749     1\n",
       "4847    1\n",
       "2047    1\n",
       "Name: ctrPatientSer, Length: 4441, dtype: int64"
      ]
     },
     "execution_count": 12,
     "metadata": {},
     "output_type": "execute_result"
    }
   ],
   "source": [
    "# pat_diag[pat_diag[\"ctrPatientSer\"]==3817]\n",
    "pat_diag[\"DiagnosisType\"].value_counts()\n",
    "\n",
    "pat_diag[pat_diag[\"DiagnosisType\"]==\"Primary\"][\"ctrPatientSer\"].value_counts()"
   ]
  },
  {
   "cell_type": "markdown",
   "id": "b1a3d997",
   "metadata": {},
   "source": [
    "# cursos"
   ]
  },
  {
   "cell_type": "code",
   "execution_count": 16,
   "id": "fd1679fc",
   "metadata": {},
   "outputs": [
    {
     "name": "stdout",
     "output_type": "stream",
     "text": [
      "(6427, 7)\n",
      "(6427,)\n",
      "(5411,)\n"
     ]
    },
    {
     "data": {
      "text/plain": [
       "PatientId             000000000011111\n",
       "PatientId2                        NaN\n",
       "CourseId                       Curso1\n",
       "ClinicalStatus                 ACTIVO\n",
       "ctrCourseSer                     1223\n",
       "ctrPatientSer                     754\n",
       "LastSyncTime      2021-05-27 16:45:01\n",
       "Name: 0, dtype: object"
      ]
     },
     "execution_count": 16,
     "metadata": {},
     "output_type": "execute_result"
    }
   ],
   "source": [
    "print(pat_course.shape)\n",
    "print(pat_course[\"ctrCourseSer\"].unique().shape)\n",
    "print(pat_course[\"ctrPatientSer\"].unique().shape)\n",
    "pat_course.iloc[0,:]"
   ]
  },
  {
   "cell_type": "code",
   "execution_count": 5,
   "id": "0ace65de",
   "metadata": {},
   "outputs": [
    {
     "data": {
      "image/png": "[encoded data removed]",
      "text/plain": [
       "<Figure size 432x288 with 1 Axes>"
      ]
     },
     "metadata": {
      "needs_background": "light"
     },
     "output_type": "display_data"
    },
    {
     "data": {
      "text/plain": [
       "755     9\n",
       "1147    8\n",
       "3977    6\n",
       "45      6\n",
       "872     6\n",
       "       ..\n",
       "797     1\n",
       "2844    1\n",
       "4891    1\n",
       "2840    1\n",
       "2047    1\n",
       "Name: ctrPatientSer, Length: 5411, dtype: int64"
      ]
     },
     "execution_count": 5,
     "metadata": {},
     "output_type": "execute_result"
    }
   ],
   "source": [
    "plt.hist(pat_course[\"ctrPatientSer\"].value_counts(), bins=50)\n",
    "plt.show()\n",
    "\n",
    "pat_course[\"ctrPatientSer\"].value_counts()"
   ]
  },
  {
   "cell_type": "raw",
   "id": "b8e438a6",
   "metadata": {},
   "source": [
    "La mayoria de los pacientes tienen una diagnosis y un curso (exceptuando los que tienen 0, que no salen en estas tablas), pero hay algunos que tienen 2 o más."
   ]
  },
  {
   "cell_type": "code",
   "execution_count": 8,
   "id": "f35239c2",
   "metadata": {},
   "outputs": [
    {
     "data": {
      "text/html": [
       "<div>\n",
       "<style scoped>\n",
       "    .dataframe tbody tr th:only-of-type {\n",
       "        vertical-align: middle;\n",
       "    }\n",
       "\n",
       "    .dataframe tbody tr th {\n",
       "        vertical-align: top;\n",
       "    }\n",
       "\n",
       "    .dataframe thead th {\n",
       "        text-align: right;\n",
       "    }\n",
       "</style>\n",
       "<table border=\"1\" class=\"dataframe\">\n",
       "  <thead>\n",
       "    <tr style=\"text-align: right;\">\n",
       "      <th></th>\n",
       "      <th>PatientId</th>\n",
       "      <th>PatientId2</th>\n",
       "      <th>CourseId</th>\n",
       "      <th>ClinicalStatus</th>\n",
       "      <th>ctrCourseSer</th>\n",
       "      <th>ctrPatientSer</th>\n",
       "      <th>LastSyncTime</th>\n",
       "    </tr>\n",
       "  </thead>\n",
       "  <tbody>\n",
       "    <tr>\n",
       "      <th>3212</th>\n",
       "      <td>6139649</td>\n",
       "      <td>633930</td>\n",
       "      <td>CURSO 1</td>\n",
       "      <td>ACTIVO</td>\n",
       "      <td>2885</td>\n",
       "      <td>782</td>\n",
       "      <td>2021-05-27 16:45:01</td>\n",
       "    </tr>\n",
       "  </tbody>\n",
       "</table>\n",
       "</div>"
      ],
      "text/plain": [
       "     PatientId PatientId2 CourseId ClinicalStatus  ctrCourseSer  \\\n",
       "3212   6139649     633930  CURSO 1         ACTIVO          2885   \n",
       "\n",
       "      ctrPatientSer         LastSyncTime  \n",
       "3212            782  2021-05-27 16:45:01  "
      ]
     },
     "execution_count": 8,
     "metadata": {},
     "output_type": "execute_result"
    }
   ],
   "source": [
    "pat_course[pat_course[\"ctrPatientSer\"]==782]"
   ]
  }
 ],
 "metadata": {
  "kernelspec": {
   "display_name": "Python 3",
   "language": "python",
   "name": "python3"
  },
  "language_info": {
   "codemirror_mode": {
    "name": "ipython",
    "version": 3
   },
   "file_extension": ".py",
   "mimetype": "text/x-python",
   "name": "python",
   "nbconvert_exporter": "python",
   "pygments_lexer": "ipython3",
   "version": "3.7.10"
  }
 },
 "nbformat": 4,
 "nbformat_minor": 5
}
