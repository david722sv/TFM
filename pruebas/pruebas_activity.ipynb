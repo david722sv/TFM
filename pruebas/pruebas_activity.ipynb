{
 "cells": [
  {
   "cell_type": "code",
   "execution_count": 1,
   "id": "ad9631bc",
   "metadata": {},
   "outputs": [],
   "source": [
    "import pandas as pd"
   ]
  },
  {
   "cell_type": "markdown",
   "id": "72e94878",
   "metadata": {},
   "source": [
    "# pre-procesado"
   ]
  },
  {
   "cell_type": "code",
   "execution_count": null,
   "id": "bdb52038",
   "metadata": {},
   "outputs": [],
   "source": [
    "li = []\n",
    "path = \"data/de_Valdecilla/report6_\"\n",
    "all_files = [path+\"2016-2017.csv\",\n",
    "             path+\"2017-2018.csv\",\n",
    "             path+\"2018-2019.csv\",\n",
    "             path+\"2019-2020.csv\",\n",
    "             path+\"2020-2021.csv\",\n",
    "            ]\n",
    "\n",
    "for filename in all_files:\n",
    "    df = pd.read_csv(filename)\n",
    "    li.append(df)\n",
    "\n",
    "data = pd.concat(li, axis=0, ignore_index=True)"
   ]
  },
  {
   "cell_type": "code",
   "execution_count": null,
   "id": "7baba02a",
   "metadata": {},
   "outputs": [],
   "source": [
    "data = data.drop_duplicates()"
   ]
  },
  {
   "cell_type": "code",
   "execution_count": null,
   "id": "b8918c4c",
   "metadata": {},
   "outputs": [],
   "source": [
    "data[\"ActivityDateTime\"] = pd.to_datetime(data[\"ActivityDateTime\"])"
   ]
  },
  {
   "cell_type": "code",
   "execution_count": null,
   "id": "f42160d3",
   "metadata": {},
   "outputs": [],
   "source": [
    "data = data.sort_values(by = \"ActivityDateTime\")"
   ]
  },
  {
   "cell_type": "code",
   "execution_count": null,
   "id": "7d158b83",
   "metadata": {},
   "outputs": [],
   "source": [
    "# data.to_csv(\"data/Activities.csv\", index=False)"
   ]
  },
  {
   "cell_type": "markdown",
   "id": "e21f5f18",
   "metadata": {},
   "source": [
    "# Exploración y análisis"
   ]
  },
  {
   "cell_type": "code",
   "execution_count": 2,
   "id": "82ac1cfe",
   "metadata": {},
   "outputs": [],
   "source": [
    "data = pd.read_csv(\"data/Activities.csv\")"
   ]
  },
  {
   "cell_type": "code",
   "execution_count": 3,
   "id": "cfa8f431",
   "metadata": {},
   "outputs": [],
   "source": [
    "data[\"ActivityDateTime\"] = pd.to_datetime(data[\"ActivityDateTime\"])"
   ]
  },
  {
   "cell_type": "code",
   "execution_count": 4,
   "id": "b4ea45c7",
   "metadata": {},
   "outputs": [
    {
     "name": "stdout",
     "output_type": "stream",
     "text": [
      "(196025, 7)\n"
     ]
    },
    {
     "data": {
      "text/html": [
       "<div>\n",
       "<style scoped>\n",
       "    .dataframe tbody tr th:only-of-type {\n",
       "        vertical-align: middle;\n",
       "    }\n",
       "\n",
       "    .dataframe tbody tr th {\n",
       "        vertical-align: top;\n",
       "    }\n",
       "\n",
       "    .dataframe thead th {\n",
       "        text-align: right;\n",
       "    }\n",
       "</style>\n",
       "<table border=\"1\" class=\"dataframe\">\n",
       "  <thead>\n",
       "    <tr style=\"text-align: right;\">\n",
       "      <th></th>\n",
       "      <th>ActivityDateTime</th>\n",
       "      <th>ctrActivitySer</th>\n",
       "      <th>ctrActivityInstanceSer</th>\n",
       "      <th>ctrScheduledActivitySer</th>\n",
       "      <th>ctrPatientSer</th>\n",
       "      <th>ActivityCategory</th>\n",
       "      <th>WaitTime</th>\n",
       "    </tr>\n",
       "  </thead>\n",
       "  <tbody>\n",
       "    <tr>\n",
       "      <th>0</th>\n",
       "      <td>2016-01-06 07:30:00</td>\n",
       "      <td>227</td>\n",
       "      <td>199</td>\n",
       "      <td>175</td>\n",
       "      <td>4</td>\n",
       "      <td>Examen</td>\n",
       "      <td>201</td>\n",
       "    </tr>\n",
       "    <tr>\n",
       "      <th>1</th>\n",
       "      <td>2016-01-06 10:45:00</td>\n",
       "      <td>243</td>\n",
       "      <td>1532</td>\n",
       "      <td>1480</td>\n",
       "      <td>232</td>\n",
       "      <td>Tratamiento</td>\n",
       "      <td>-</td>\n",
       "    </tr>\n",
       "    <tr>\n",
       "      <th>2</th>\n",
       "      <td>2016-01-06 11:30:00</td>\n",
       "      <td>243</td>\n",
       "      <td>1654</td>\n",
       "      <td>1602</td>\n",
       "      <td>235</td>\n",
       "      <td>Tratamiento</td>\n",
       "      <td>-</td>\n",
       "    </tr>\n",
       "    <tr>\n",
       "      <th>3</th>\n",
       "      <td>2016-01-06 12:00:00</td>\n",
       "      <td>243</td>\n",
       "      <td>2171</td>\n",
       "      <td>2119</td>\n",
       "      <td>52</td>\n",
       "      <td>Tratamiento</td>\n",
       "      <td>-</td>\n",
       "    </tr>\n",
       "    <tr>\n",
       "      <th>4</th>\n",
       "      <td>2016-01-06 12:15:00</td>\n",
       "      <td>243</td>\n",
       "      <td>1770</td>\n",
       "      <td>1718</td>\n",
       "      <td>239</td>\n",
       "      <td>Tratamiento</td>\n",
       "      <td>-</td>\n",
       "    </tr>\n",
       "  </tbody>\n",
       "</table>\n",
       "</div>"
      ],
      "text/plain": [
       "     ActivityDateTime  ctrActivitySer  ctrActivityInstanceSer  \\\n",
       "0 2016-01-06 07:30:00             227                     199   \n",
       "1 2016-01-06 10:45:00             243                    1532   \n",
       "2 2016-01-06 11:30:00             243                    1654   \n",
       "3 2016-01-06 12:00:00             243                    2171   \n",
       "4 2016-01-06 12:15:00             243                    1770   \n",
       "\n",
       "   ctrScheduledActivitySer  ctrPatientSer ActivityCategory WaitTime  \n",
       "0                      175              4           Examen      201  \n",
       "1                     1480            232      Tratamiento        -  \n",
       "2                     1602            235      Tratamiento        -  \n",
       "3                     2119             52      Tratamiento        -  \n",
       "4                     1718            239      Tratamiento        -  "
      ]
     },
     "execution_count": 4,
     "metadata": {},
     "output_type": "execute_result"
    }
   ],
   "source": [
    "print(data.shape)\n",
    "data.head()"
   ]
  },
  {
   "cell_type": "code",
   "execution_count": 5,
   "id": "c0d081e5",
   "metadata": {},
   "outputs": [
    {
     "data": {
      "text/plain": [
       "Tratamiento                           107302\n",
       "Tareas de planificación                25371\n",
       "Flujo de trabajo                       12133\n",
       "Dosimetria                              9526\n",
       "Simulación                              8764\n",
       "Registro                                6944\n",
       "Paciente en descanso                    4567\n",
       "Mantenimiento                           3230\n",
       "Diagnóstico                             3061\n",
       "Braquiterapia                           3002\n",
       "Tareas de los oncólogos                 2874\n",
       "Examen                                  2813\n",
       "Control del tratamiento                 2230\n",
       "QA                                      2022\n",
       "Actividades de revisión especiales       823\n",
       "Oncothermia                              359\n",
       "Presimulación                            295\n",
       "Decisiones                               268\n",
       "Tareas de simulación                     237\n",
       "RIO                                       71\n",
       "ICT                                       49\n",
       "Incidencias                               21\n",
       "Reunión del personal                      16\n",
       "Reunión profesional                       15\n",
       "Personal                                  14\n",
       "Tarea del tratamiento                     13\n",
       "Prescripciones médicas                     2\n",
       "Física                                     2\n",
       "Reunión del departamento                   1\n",
       "Name: ActivityCategory, dtype: int64"
      ]
     },
     "execution_count": 5,
     "metadata": {},
     "output_type": "execute_result"
    }
   ],
   "source": [
    "data[\"ActivityCategory\"].value_counts()"
   ]
  },
  {
   "cell_type": "code",
   "execution_count": 6,
   "id": "59c73f8f",
   "metadata": {},
   "outputs": [
    {
     "data": {
      "text/plain": [
       "0       10040\n",
       "755       968\n",
       "754       837\n",
       "814       233\n",
       "5206      170\n",
       "        ...  \n",
       "1004        1\n",
       "367         1\n",
       "499         1\n",
       "1916        1\n",
       "3350        1\n",
       "Name: ctrPatientSer, Length: 6710, dtype: int64"
      ]
     },
     "execution_count": 6,
     "metadata": {},
     "output_type": "execute_result"
    }
   ],
   "source": [
    "data[\"ctrPatientSer\"].value_counts()"
   ]
  },
  {
   "cell_type": "code",
   "execution_count": 7,
   "id": "09b26191",
   "metadata": {},
   "outputs": [
    {
     "name": "stderr",
     "output_type": "stream",
     "text": [
      "D:\\miniconda3\\envs\\tfgpu\\lib\\site-packages\\ipykernel_launcher.py:4: UserWarning: Boolean Series key will be reindexed to match DataFrame index.\n",
      "  after removing the cwd from sys.path.\n",
      "D:\\miniconda3\\envs\\tfgpu\\lib\\site-packages\\ipykernel_launcher.py:4: UserWarning: Boolean Series key will be reindexed to match DataFrame index.\n",
      "  after removing the cwd from sys.path.\n"
     ]
    },
    {
     "data": {
      "image/png": "[encoded data removed]",
      "text/plain": [
       "<Figure size 432x288 with 1 Axes>"
      ]
     },
     "metadata": {
      "needs_background": "light"
     },
     "output_type": "display_data"
    }
   ],
   "source": [
    "import matplotlib.pyplot as plt\n",
    "import numpy as np\n",
    "\n",
    "tratamientos = data[data[\"ActivityCategory\"]==\"Tratamiento\"][data[\"ctrPatientSer\"]!=755][data[\"ctrPatientSer\"]!=0]\n",
    "ntrat = tratamientos[\"ctrPatientSer\"].value_counts()\n",
    "# print(ntrat)\n",
    "# np.mean(ntrat)\n",
    "# np.sum(ntrat)\n",
    "\n",
    "# histograma del número de sesiones de tratamiento recibidas por paciente\n",
    "plt.hist(ntrat, bins=20, range=[0,40])\n",
    "plt.show()"
   ]
  },
  {
   "cell_type": "code",
   "execution_count": 8,
   "id": "5bd979a1",
   "metadata": {},
   "outputs": [
    {
     "name": "stdout",
     "output_type": "stream",
     "text": [
      "(101836, 7)\n"
     ]
    },
    {
     "data": {
      "text/html": [
       "<div>\n",
       "<style scoped>\n",
       "    .dataframe tbody tr th:only-of-type {\n",
       "        vertical-align: middle;\n",
       "    }\n",
       "\n",
       "    .dataframe tbody tr th {\n",
       "        vertical-align: top;\n",
       "    }\n",
       "\n",
       "    .dataframe thead th {\n",
       "        text-align: right;\n",
       "    }\n",
       "</style>\n",
       "<table border=\"1\" class=\"dataframe\">\n",
       "  <thead>\n",
       "    <tr style=\"text-align: right;\">\n",
       "      <th></th>\n",
       "      <th>ActivityDateTime</th>\n",
       "      <th>ctrActivitySer</th>\n",
       "      <th>ctrActivityInstanceSer</th>\n",
       "      <th>ctrScheduledActivitySer</th>\n",
       "      <th>ctrPatientSer</th>\n",
       "      <th>ActivityCategory</th>\n",
       "      <th>WaitTime</th>\n",
       "    </tr>\n",
       "  </thead>\n",
       "  <tbody>\n",
       "    <tr>\n",
       "      <th>1</th>\n",
       "      <td>2016-01-06 10:45:00</td>\n",
       "      <td>243</td>\n",
       "      <td>1532</td>\n",
       "      <td>1480</td>\n",
       "      <td>232</td>\n",
       "      <td>Tratamiento</td>\n",
       "      <td>-</td>\n",
       "    </tr>\n",
       "    <tr>\n",
       "      <th>2</th>\n",
       "      <td>2016-01-06 11:30:00</td>\n",
       "      <td>243</td>\n",
       "      <td>1654</td>\n",
       "      <td>1602</td>\n",
       "      <td>235</td>\n",
       "      <td>Tratamiento</td>\n",
       "      <td>-</td>\n",
       "    </tr>\n",
       "    <tr>\n",
       "      <th>3</th>\n",
       "      <td>2016-01-06 12:00:00</td>\n",
       "      <td>243</td>\n",
       "      <td>2171</td>\n",
       "      <td>2119</td>\n",
       "      <td>52</td>\n",
       "      <td>Tratamiento</td>\n",
       "      <td>-</td>\n",
       "    </tr>\n",
       "    <tr>\n",
       "      <th>4</th>\n",
       "      <td>2016-01-06 12:15:00</td>\n",
       "      <td>243</td>\n",
       "      <td>1770</td>\n",
       "      <td>1718</td>\n",
       "      <td>239</td>\n",
       "      <td>Tratamiento</td>\n",
       "      <td>-</td>\n",
       "    </tr>\n",
       "    <tr>\n",
       "      <th>6</th>\n",
       "      <td>2016-01-06 15:00:00</td>\n",
       "      <td>243</td>\n",
       "      <td>3573</td>\n",
       "      <td>3521</td>\n",
       "      <td>243</td>\n",
       "      <td>Tratamiento</td>\n",
       "      <td>-</td>\n",
       "    </tr>\n",
       "  </tbody>\n",
       "</table>\n",
       "</div>"
      ],
      "text/plain": [
       "     ActivityDateTime  ctrActivitySer  ctrActivityInstanceSer  \\\n",
       "1 2016-01-06 10:45:00             243                    1532   \n",
       "2 2016-01-06 11:30:00             243                    1654   \n",
       "3 2016-01-06 12:00:00             243                    2171   \n",
       "4 2016-01-06 12:15:00             243                    1770   \n",
       "6 2016-01-06 15:00:00             243                    3573   \n",
       "\n",
       "   ctrScheduledActivitySer  ctrPatientSer ActivityCategory WaitTime  \n",
       "1                     1480            232      Tratamiento        -  \n",
       "2                     1602            235      Tratamiento        -  \n",
       "3                     2119             52      Tratamiento        -  \n",
       "4                     1718            239      Tratamiento        -  \n",
       "6                     3521            243      Tratamiento        -  "
      ]
     },
     "execution_count": 8,
     "metadata": {},
     "output_type": "execute_result"
    }
   ],
   "source": [
    "print(tratamientos.shape)\n",
    "tratamientos.head()"
   ]
  },
  {
   "cell_type": "code",
   "execution_count": 9,
   "id": "c0829c3e",
   "metadata": {},
   "outputs": [
    {
     "name": "stdout",
     "output_type": "stream",
     "text": [
      "(18,)\n",
      "(101836,)\n",
      "(101795,)\n",
      "(5428,)\n"
     ]
    }
   ],
   "source": [
    "print(tratamientos.iloc[:,1].unique().shape)\n",
    "print(tratamientos.iloc[:,2].unique().shape)\n",
    "print(tratamientos.iloc[:,3].unique().shape)\n",
    "print(tratamientos.iloc[:,4].unique().shape)"
   ]
  },
  {
   "cell_type": "code",
   "execution_count": 18,
   "id": "5f3e8213",
   "metadata": {},
   "outputs": [
    {
     "data": {
      "text/plain": [
       "array([ 232,  235,   52, ..., 6268, 6785, 6639], dtype=int64)"
      ]
     },
     "execution_count": 18,
     "metadata": {},
     "output_type": "execute_result"
    }
   ],
   "source": [
    "tratamientos[\"ctrPatientSer\"].unique()"
   ]
  },
  {
   "cell_type": "code",
   "execution_count": 32,
   "id": "897f4520",
   "metadata": {},
   "outputs": [
    {
     "data": {
      "text/plain": [
       "45       2\n",
       "59       2\n",
       "53       2\n",
       "70       2\n",
       "21       2\n",
       "        ..\n",
       "939      1\n",
       "5033     1\n",
       "7080     1\n",
       "25511    1\n",
       "2047     1\n",
       "Name: ctrScheduledActivitySer, Length: 101795, dtype: int64"
      ]
     },
     "execution_count": 32,
     "metadata": {},
     "output_type": "execute_result"
    }
   ],
   "source": [
    "tratamientos[\"ctrScheduledActivitySer\"].value_counts()"
   ]
  },
  {
   "cell_type": "code",
   "execution_count": 34,
   "id": "56adc3a5",
   "metadata": {},
   "outputs": [
    {
     "data": {
      "text/html": [
       "<div>\n",
       "<style scoped>\n",
       "    .dataframe tbody tr th:only-of-type {\n",
       "        vertical-align: middle;\n",
       "    }\n",
       "\n",
       "    .dataframe tbody tr th {\n",
       "        vertical-align: top;\n",
       "    }\n",
       "\n",
       "    .dataframe thead th {\n",
       "        text-align: right;\n",
       "    }\n",
       "</style>\n",
       "<table border=\"1\" class=\"dataframe\">\n",
       "  <thead>\n",
       "    <tr style=\"text-align: right;\">\n",
       "      <th></th>\n",
       "      <th>ActivityDateTime</th>\n",
       "      <th>ctrActivitySer</th>\n",
       "      <th>ctrActivityInstanceSer</th>\n",
       "      <th>ctrScheduledActivitySer</th>\n",
       "      <th>ctrPatientSer</th>\n",
       "      <th>ActivityCategory</th>\n",
       "      <th>WaitTime</th>\n",
       "    </tr>\n",
       "  </thead>\n",
       "  <tbody>\n",
       "    <tr>\n",
       "      <th>2171</th>\n",
       "      <td>2016-05-17 11:15:00</td>\n",
       "      <td>242</td>\n",
       "      <td>84</td>\n",
       "      <td>59</td>\n",
       "      <td>27</td>\n",
       "      <td>Tratamiento</td>\n",
       "      <td>234</td>\n",
       "    </tr>\n",
       "    <tr>\n",
       "      <th>86641</th>\n",
       "      <td>2018-10-04 12:19:59</td>\n",
       "      <td>243</td>\n",
       "      <td>10118</td>\n",
       "      <td>59</td>\n",
       "      <td>170</td>\n",
       "      <td>Tratamiento</td>\n",
       "      <td>0</td>\n",
       "    </tr>\n",
       "  </tbody>\n",
       "</table>\n",
       "</div>"
      ],
      "text/plain": [
       "         ActivityDateTime  ctrActivitySer  ctrActivityInstanceSer  \\\n",
       "2171  2016-05-17 11:15:00             242                      84   \n",
       "86641 2018-10-04 12:19:59             243                   10118   \n",
       "\n",
       "       ctrScheduledActivitySer  ctrPatientSer ActivityCategory WaitTime  \n",
       "2171                        59             27      Tratamiento      234  \n",
       "86641                       59            170      Tratamiento        0  "
      ]
     },
     "execution_count": 34,
     "metadata": {},
     "output_type": "execute_result"
    }
   ],
   "source": [
    "# tratamientos[tratamientos[\"ctrPatientSer\"]==232][\"ctrPatientSer\"].unique()\n",
    "tratamientos[tratamientos[\"ctrScheduledActivitySer\"]==59]"
   ]
  },
  {
   "cell_type": "raw",
   "id": "876c330a",
   "metadata": {},
   "source": [
    "Parece que hay actividades distintas con el mismo \"ctrScheduledActivitySer\", esto no debería pasar porque es la clave primaria, tengo que revisarlo."
   ]
  }
 ],
 "metadata": {
  "kernelspec": {
   "display_name": "Python 3",
   "language": "python",
   "name": "python3"
  },
  "language_info": {
   "codemirror_mode": {
    "name": "ipython",
    "version": 3
   },
   "file_extension": ".py",
   "mimetype": "text/x-python",
   "name": "python",
   "nbconvert_exporter": "python",
   "pygments_lexer": "ipython3",
   "version": "3.7.10"
  }
 },
 "nbformat": 4,
 "nbformat_minor": 5
}
