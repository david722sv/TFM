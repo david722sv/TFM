{
 "cells": [
  {
   "cell_type": "raw",
   "id": "9415ef88",
   "metadata": {},
   "source": [
    "Notebook de ejemplo sobre cómo se limpiaría un dataset"
   ]
  },
  {
   "cell_type": "markdown",
   "id": "f41027b7",
   "metadata": {},
   "source": [
    "# Librerias y datos"
   ]
  },
  {
   "cell_type": "code",
   "execution_count": 21,
   "id": "570c61fa",
   "metadata": {},
   "outputs": [
    {
     "name": "stderr",
     "output_type": "stream",
     "text": [
      "D:\\miniconda3\\envs\\tfm2\\lib\\site-packages\\IPython\\core\\interactiveshell.py:3361: DtypeWarning: Columns (30,41) have mixed types.Specify dtype option on import or set low_memory=False.\n",
      "  if (await self.run_code(code, result,  async_=asy)):\n"
     ]
    }
   ],
   "source": [
    "import pandas as pd\n",
    "import matplotlib.pyplot as plt\n",
    "import numpy as np\n",
    "import utils as ut\n",
    "\n",
    "path = \"data/ARIA_merged&selected/\"\n",
    "\n",
    "show = 0\n",
    "pat = ut.leer_csv(path + \"Patient_real.csv\", show)\n",
    "cur = ut.leer_csv(path + \"Course_pi_diag.csv\", show)\n",
    "rtp = ut.leer_csv(path + \"RTPlan_PS_Pres.csv\", show)\n",
    "rad = ut.leer_csv(path + \"Radiation.csv\", show)\n",
    "\n",
    "sch = ut.leer_csv(path + \"SchActivity.csv\", show)\n",
    "\n",
    "diag_pri = ut.leer_csv(path + \"Diagnosis_pri.csv\", show)\n",
    "diag_sec = ut.leer_csv(path + \"Diagnosis_sec.csv\", show)\n",
    "\n",
    "tr = ut.leer_csv(path + \"TreatmentRecord.csv\", show)\n",
    "\n",
    "sch_plan = ut.leer_csv(path + \"Sch_Plan.csv\", show)"
   ]
  },
  {
   "cell_type": "markdown",
   "id": "8e34706f",
   "metadata": {},
   "source": [
    "# rtp\n",
    "### Join"
   ]
  },
  {
   "cell_type": "code",
   "execution_count": 2,
   "id": "309cfb75",
   "metadata": {},
   "outputs": [],
   "source": [
    "rtp2 = rtp.merge(cur, on=\"CourseSer\", how=\"left\").merge(pat, on=\"PatientSer\", how=\"left\")"
   ]
  },
  {
   "cell_type": "markdown",
   "id": "f014011b",
   "metadata": {},
   "source": [
    "### Limpieza"
   ]
  },
  {
   "cell_type": "code",
   "execution_count": 3,
   "id": "af0d36a2",
   "metadata": {},
   "outputs": [],
   "source": [
    "c_index = \"RTPlanSer\"\n",
    "c_elim = [\"PlanSetupSer\",\"SeriesSer\",\"CourseSer\",\"PatientSer\",\"PrescriptionSer\"]\n",
    "c_fechas = [\"StartDateTime\"]\n",
    "c_num = []\n",
    "c_nans = []\n",
    "\n",
    "nun_th = 20 # si alguna variable tiene mas que esta cantidad de valores unicos, se agrupan los restantes en una categoria\n",
    "len_th = 40 # si algun campo es texto con longitud mayor a esta cantidad, se corta y añade su hash al final\n",
    "num_div = 5 # divisiones en las que se va a divir para convertir variables numericas a categoricas\n",
    "\n",
    "rtp3, c_categ, elim, res = ut.limpiar_tabla(rtp2, c_index, c_elim, c_fechas, c_num, c_nans, nun_th, len_th, num_div)\n",
    "# res.sort_values(by=\"nans\")"
   ]
  },
  {
   "cell_type": "code",
   "execution_count": 11,
   "id": "b0955ec8",
   "metadata": {},
   "outputs": [
    {
     "name": "stdout",
     "output_type": "stream",
     "text": [
      "Se eliminaron 22 columnas y 0 registros\n"
     ]
    },
    {
     "data": {
      "image/png": "[encoded data removed]",
      "text/plain": [
       "<Figure size 432x288 with 1 Axes>"
      ]
     },
     "metadata": {
      "needs_background": "light"
     },
     "output_type": "display_data"
    },
    {
     "data": {
      "image/png": "[encoded data removed]",
      "text/plain": [
       "<Figure size 432x288 with 1 Axes>"
      ]
     },
     "metadata": {
      "needs_background": "light"
     },
     "output_type": "display_data"
    },
    {
     "name": "stdout",
     "output_type": "stream",
     "text": [
      "(14157, 26)\n"
     ]
    }
   ],
   "source": [
    "rtp4, a, b = ut.quitar_nans(rtp3, 0.5, 1, True)\n",
    "print(rtp4.shape)"
   ]
  },
  {
   "cell_type": "code",
   "execution_count": 14,
   "id": "e0f9be22",
   "metadata": {},
   "outputs": [],
   "source": [
    "rtp4.to_csv(\"data/ARIA_cleaned/PlanRT_red.csv\", index=True)"
   ]
  },
  {
   "cell_type": "markdown",
   "id": "e3431135",
   "metadata": {},
   "source": [
    "# Sch + rtp\n",
    "### Join"
   ]
  },
  {
   "cell_type": "code",
   "execution_count": 41,
   "id": "0411eeb4",
   "metadata": {},
   "outputs": [],
   "source": [
    "aux = rtp.merge(cur, on=\"CourseSer\", how=\"left\")\n",
    "p4 = aux.PatientSer.value_counts()[aux.PatientSer.value_counts()==1].index # pacientes con un solo plan"
   ]
  },
  {
   "cell_type": "code",
   "execution_count": 42,
   "id": "0bc873ca",
   "metadata": {},
   "outputs": [],
   "source": [
    "sch[\"ScheduledStartTime\"] = pd.to_datetime(sch[\"ScheduledStartTime\"])\n",
    "sch[\"ScheduledEndTime\"] = pd.to_datetime(sch[\"ScheduledEndTime\"])\n",
    "sch[\"ActualStartDate\"] = pd.to_datetime(sch[\"ActualStartDate\"])\n",
    "sch[\"ActualEndDate\"] = pd.to_datetime(sch[\"ActualEndDate\"])"
   ]
  },
  {
   "cell_type": "code",
   "execution_count": 43,
   "id": "fab16c64",
   "metadata": {},
   "outputs": [
    {
     "name": "stderr",
     "output_type": "stream",
     "text": [
      "<ipython-input-43-97424dc178eb>:4: SettingWithCopyWarning: \n",
      "A value is trying to be set on a copy of a slice from a DataFrame.\n",
      "Try using .loc[row_indexer,col_indexer] = value instead\n",
      "\n",
      "See the caveats in the documentation: https://pandas.pydata.org/pandas-docs/stable/user_guide/indexing.html#returning-a-view-versus-a-copy\n",
      "  sch2[\"ScheduledDuration\"] = (sch2.ScheduledEndTime - sch2.ScheduledStartTime).astype(\"int64\")*1e-9/60\n",
      "<ipython-input-43-97424dc178eb>:5: SettingWithCopyWarning: \n",
      "A value is trying to be set on a copy of a slice from a DataFrame.\n",
      "Try using .loc[row_indexer,col_indexer] = value instead\n",
      "\n",
      "See the caveats in the documentation: https://pandas.pydata.org/pandas-docs/stable/user_guide/indexing.html#returning-a-view-versus-a-copy\n",
      "  sch2[\"ActualDuration\"] = (sch2.ActualEndDate - sch2.ActualStartDate).astype(\"int64\")*1e-9/60\n"
     ]
    },
    {
     "data": {
      "text/plain": [
       "(19844, 84)"
      ]
     },
     "execution_count": 43,
     "metadata": {},
     "output_type": "execute_result"
    }
   ],
   "source": [
    "sch2 = sch[(sch.PatientSer.isin(p4)) & (sch.ActualEndDate.notnull()) & (sch.ScheduledEndTime.notnull())\\\n",
    "          & (sch.ActualStartDate.notnull()) & (sch.ScheduledStartTime.notnull()) & (sch.ActualStartDate != sch.ActualEndDate)]\n",
    "\n",
    "sch2[\"ScheduledDuration\"] = (sch2.ScheduledEndTime - sch2.ScheduledStartTime).astype(\"int64\")*1e-9/60\n",
    "sch2[\"ActualDuration\"] = (sch2.ActualEndDate - sch2.ActualStartDate).astype(\"int64\")*1e-9/60\n",
    "sch2 = sch2[(sch2.ActualDuration>1) & (sch2.ActualDuration<60)]\n",
    "\n",
    "sch2 = sch2.drop(columns = [\"ScheduledEndTime\",\"ScheduledStartTime\",\"ActualEndDate\",\"ActualStartDate\"])\n",
    "sch2 = sch2.merge(pat, on=\"PatientSer\", how=\"left\").merge(rtp, on=\"CourseSer\", how=\"left\").merge(cur,on='CourseSer',how='left')\n",
    "sch2.shape"
   ]
  },
  {
   "cell_type": "markdown",
   "id": "406b71c2",
   "metadata": {},
   "source": [
    "### Limpieza"
   ]
  },
  {
   "cell_type": "code",
   "execution_count": 56,
   "id": "c7313a75",
   "metadata": {},
   "outputs": [
    {
     "data": {
      "text/plain": [
       "(19844, 60)"
      ]
     },
     "execution_count": 56,
     "metadata": {},
     "output_type": "execute_result"
    }
   ],
   "source": [
    "c_index = \"ScheduledActivitySer\"\n",
    "c_elim = ['CourseSer','DiagnosisSer','RTPlanSer','PlanSetupSer','SeriesSer', 'PrescriptionSer',\n",
    "              'PatientSer_y','PatientSer_x', 'FirstName']\n",
    "c_fechas = ['StartDateTime']\n",
    "# c_num = ['ScheduledDuration']\n",
    "c_num = []\n",
    "c_nans = []\n",
    "\n",
    "nun_th = 20\n",
    "len_th = 40\n",
    "num_div = 5\n",
    "\n",
    "sch3, c_categ, elim, res = ut.limpiar_tabla(sch2, c_index, c_elim, c_fechas, c_num, c_nans, nun_th, len_th, num_div)\n",
    "sch3 = sch3.drop(columns = c_fechas)\n",
    "sch3.shape"
   ]
  },
  {
   "cell_type": "code",
   "execution_count": 57,
   "id": "515706cd",
   "metadata": {},
   "outputs": [
    {
     "name": "stdout",
     "output_type": "stream",
     "text": [
      "['HistologyCode', 'CityOrTownship', 'PlanNormFactor', 'EquipmentSer', 'Technique', 'ActivityCategoryCode', 'CalcModelOptions', 'NotificationPriorTimeFlag_x', 'NoEditFlag_x', 'SkinFlashMargin', 'MultiFieldOptFlag', 'Country', 'TumorSize', 'DiagnosisCode_sec', 'ResourceGroupSer', 'SummaryStage', 'ObjectStatus_sec', 'PrescribedPercentage', 'DiagnosisCode', 'FractionPatternDigitsPerDay', 'FractionPattern', 'PrimaryPTVSer', 'Site', 'MStage', 'Sex', 'StartDelay', 'ScheduledActivityCode', 'NoFractions', 'NotificationPriorTime_y', 'Intent', 'ObjectStatus_y_4', 'TreatmentIntentType', 'CalcModelOptionsLen', 'Status_x', 'PhaseType', 'Notes', 'DateOfBirth', 'Status_y', 'DicomSeqNumber', 'SimulationNeeded', 'TStage', 'Duration', 'NotificationPriorTimeFlag_y', 'PlanNormMethod', 'NumberOfFractions', 'Description', 'TreatmentOrientation', 'HistologyCode_sec', 'PatientStatus', 'Priority', 'ActualDuration', 'AssignableFlag', 'ActivityCode', 'NotificationPriorTime_x', 'PrescribedDose', 'DefaultDuration', 'ScheduledDuration', 'NStage', 'ClinicalStatus', 'InterfaceStamp']\n"
     ]
    }
   ],
   "source": [
    "print(c_categ)"
   ]
  },
  {
   "cell_type": "code",
   "execution_count": 59,
   "id": "a1ea40e4",
   "metadata": {},
   "outputs": [
    {
     "name": "stdout",
     "output_type": "stream",
     "text": [
      "(19844, 84)\n",
      "60\n",
      "9\n",
      "13\n"
     ]
    }
   ],
   "source": [
    "print(sch2.shape)\n",
    "print(len(c_categ))\n",
    "print(len(c_elim))\n",
    "print(len(elim))"
   ]
  },
  {
   "cell_type": "code",
   "execution_count": 60,
   "id": "6e35c261",
   "metadata": {},
   "outputs": [],
   "source": [
    "sch3.to_csv(\"data/ARIA_cleaned/Sch_categ.csv\", index=True)"
   ]
  },
  {
   "cell_type": "markdown",
   "id": "2dfb54f6",
   "metadata": {},
   "source": [
    "# Sch + rtp + tr\n",
    "### join"
   ]
  },
  {
   "cell_type": "code",
   "execution_count": 23,
   "id": "44d010d7",
   "metadata": {},
   "outputs": [],
   "source": [
    "sch[\"ScheduledStartTime\"] = pd.to_datetime(sch[\"ScheduledStartTime\"])\n",
    "sch[\"ScheduledEndTime\"] = pd.to_datetime(sch[\"ScheduledEndTime\"])\n",
    "sch[\"ActualStartDate\"] = pd.to_datetime(sch[\"ActualStartDate\"])\n",
    "sch[\"ActualEndDate\"] = pd.to_datetime(sch[\"ActualEndDate\"])"
   ]
  },
  {
   "cell_type": "code",
   "execution_count": 24,
   "id": "3d268068",
   "metadata": {},
   "outputs": [
    {
     "name": "stderr",
     "output_type": "stream",
     "text": [
      "<ipython-input-24-21be9ed2ced9>:4: SettingWithCopyWarning: \n",
      "A value is trying to be set on a copy of a slice from a DataFrame.\n",
      "Try using .loc[row_indexer,col_indexer] = value instead\n",
      "\n",
      "See the caveats in the documentation: https://pandas.pydata.org/pandas-docs/stable/user_guide/indexing.html#returning-a-view-versus-a-copy\n",
      "  sch2[\"ScheduledDuration\"] = (sch2.ScheduledEndTime - sch2.ScheduledStartTime).astype(\"int64\")*1e-9/60\n",
      "<ipython-input-24-21be9ed2ced9>:5: SettingWithCopyWarning: \n",
      "A value is trying to be set on a copy of a slice from a DataFrame.\n",
      "Try using .loc[row_indexer,col_indexer] = value instead\n",
      "\n",
      "See the caveats in the documentation: https://pandas.pydata.org/pandas-docs/stable/user_guide/indexing.html#returning-a-view-versus-a-copy\n",
      "  sch2[\"ActualDuration\"] = (sch2.ActualEndDate - sch2.ActualStartDate).astype(\"int64\")*1e-9/60\n"
     ]
    },
    {
     "name": "stdout",
     "output_type": "stream",
     "text": [
      "(94746, 86)\n"
     ]
    }
   ],
   "source": [
    "sch2 = sch[(sch.PatientSer.isin(pat.PatientSer)) & (sch.ActualEndDate.notnull()) \n",
    "           & (sch.ActualStartDate.notnull()) & (sch.ActualStartDate != sch.ActualEndDate)]\n",
    "\n",
    "sch2[\"ScheduledDuration\"] = (sch2.ScheduledEndTime - sch2.ScheduledStartTime).astype(\"int64\")*1e-9/60\n",
    "sch2[\"ActualDuration\"] = (sch2.ActualEndDate - sch2.ActualStartDate).astype(\"int64\")*1e-9/60\n",
    "sch2 = sch2[(sch2.ActualDuration>1) & (sch2.ActualDuration<60)]\n",
    "\n",
    "sch2 = sch2.drop(columns = [\"ScheduledEndTime\",\"ScheduledStartTime\",\"ActualEndDate\",\"ActualStartDate\",\"CourseSer\"])\n",
    "# sch2 = sch2.drop(columns = [\"CourseSer\"])\n",
    "\n",
    "sch2 = sch2.merge(pat, on=\"PatientSer\", how=\"left\", suffixes = (\"_sch\", \"_pat\"))\\\n",
    ".merge(sch_plan, on=\"ScheduledActivitySer\", how=\"left\", suffixes = (\"_schpat\", \"_sch_plan\"))\\\n",
    ".merge(rtp, on=\"RTPlanSer\", how=\"left\", suffixes = (\"_schpat\", \"_rtp\"))\\\n",
    ".merge(cur, on=\"CourseSer\", how=\"left\", suffixes = (\"_schpatrtp\", \"_cur\"))\n",
    "\n",
    "print(sch2.shape)\n",
    "# sch2.columns"
   ]
  },
  {
   "cell_type": "markdown",
   "id": "ef97d230",
   "metadata": {},
   "source": [
    "### Limpieza"
   ]
  },
  {
   "cell_type": "code",
   "execution_count": 27,
   "id": "45bcdb15",
   "metadata": {},
   "outputs": [
    {
     "data": {
      "text/plain": [
       "(94746, 67)"
      ]
     },
     "execution_count": 27,
     "metadata": {},
     "output_type": "execute_result"
    }
   ],
   "source": [
    "c_index = \"ScheduledActivitySer\"\n",
    "c_elim = ['CourseSer','DiagnosisSer','RTPlanSer','PlanSetupSer','SeriesSer', 'PrescriptionSer',\n",
    "              'PatientSer_schpatrtp','PatientSer_cur', 'FirstName']\n",
    "c_fechas = ['StartDateTime']\n",
    "c_num = ['ScheduledDuration']\n",
    "# c_num = []\n",
    "c_nans = []\n",
    "\n",
    "nun_th = 20\n",
    "len_th = 40\n",
    "num_div = 8\n",
    "\n",
    "sch3, c_categ, elim, res = ut.limpiar_tabla(sch2, c_index, c_elim, c_fechas, c_num, c_nans, nun_th, len_th, num_div)\n",
    "sch3 = sch3.drop(columns = c_fechas)\n",
    "sch3.shape"
   ]
  },
  {
   "cell_type": "code",
   "execution_count": 52,
   "id": "67327476",
   "metadata": {},
   "outputs": [],
   "source": [
    "# res[60:]"
   ]
  },
  {
   "cell_type": "code",
   "execution_count": 28,
   "id": "2187ae9d",
   "metadata": {},
   "outputs": [
    {
     "name": "stdout",
     "output_type": "stream",
     "text": [
      "['NotificationPriorTime_sch', 'NotificationPriorTime_a', 'PlanNormFactor', 'DateOfBirth', 'TreatmentOrder', 'FractionPatternDigitsPerDay', 'TreatmentOrientation', 'SummaryStage', 'DiagnosisCode', 'NoEditFlag_cat', 'NotificationPriorTimeFlag_a', 'SimulationNeeded', 'HistologyCode_sec', 'ObjectStatus_sec', 'ActivityCode', 'ActualDuration', 'Duration', 'ResourceGroupSer', 'Sex', 'AnchorActivityFlag', 'Status_pres', 'HistologyCode', 'CalcModelOptionsLen', 'MStage', 'NotificationPriorTimeFlag_sch', 'Status_rtpps', 'SkinFlashMargin', 'NoFractions', 'TStage', 'Technique', 'NumberOfFractions', 'PlanNormMethod', 'Priority', 'Country', 'StartDelay', 'TumorSize', 'DefaultDuration', 'TreatmentIntentType', 'DicomSeqNumber', 'PrescribedPercentage', 'ObjectStatus_cur', 'PrescribedDose', 'NoOfFractions', 'NoEditFlag_sch', 'SchedulableFlag', 'CalcModelOptions', 'Notes', 'InterfaceStamp', 'PhaseType', 'PrimaryPTVSer', 'ActivityCategoryCode', 'DiagnosisCode_sec', 'MultiFieldOptFlag', 'Description', 'ScheduledActivityCode', 'Site', 'ActualMachineSer', 'CityOrTownship', 'AssignableFlag', 'EquipmentSer', 'NStage', 'PatientStatus', 'Intent', 'ClinicalStatus', 'BolusThickness', 'FractionPattern']\n"
     ]
    }
   ],
   "source": [
    "print(c_categ)"
   ]
  },
  {
   "cell_type": "code",
   "execution_count": 29,
   "id": "e781b243",
   "metadata": {},
   "outputs": [
    {
     "data": {
      "text/plain": [
       "(94746, 67)"
      ]
     },
     "execution_count": 29,
     "metadata": {},
     "output_type": "execute_result"
    }
   ],
   "source": [
    "sch3.shape"
   ]
  },
  {
   "cell_type": "code",
   "execution_count": 30,
   "id": "7b2796b5",
   "metadata": {},
   "outputs": [],
   "source": [
    "sch3.to_csv(\"data/ARIA_cleaned/Sch76_cat.csv\", index=True)"
   ]
  },
  {
   "cell_type": "code",
   "execution_count": null,
   "id": "924406d4",
   "metadata": {},
   "outputs": [],
   "source": []
  }
 ],
 "metadata": {
  "kernelspec": {
   "display_name": "Python 3",
   "language": "python",
   "name": "python3"
  },
  "language_info": {
   "codemirror_mode": {
    "name": "ipython",
    "version": 3
   },
   "file_extension": ".py",
   "mimetype": "text/x-python",
   "name": "python",
   "nbconvert_exporter": "python",
   "pygments_lexer": "ipython3",
   "version": "3.9.4"
  }
 },
 "nbformat": 4,
 "nbformat_minor": 5
}
