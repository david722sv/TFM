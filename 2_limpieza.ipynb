{
 "cells": [
  {
   "cell_type": "code",
   "execution_count": 3,
   "id": "6f212e85",
   "metadata": {
    "scrolled": true
   },
   "outputs": [
    {
     "name": "stderr",
     "output_type": "stream",
     "text": [
      "D:\\miniconda3\\envs\\tfm2\\lib\\site-packages\\IPython\\core\\interactiveshell.py:3361: DtypeWarning: Columns (34,48) have mixed types.Specify dtype option on import or set low_memory=False.\n",
      "  if (await self.run_code(code, result,  async_=asy)):\n"
     ]
    }
   ],
   "source": [
    "import pandas as pd\n",
    "import matplotlib.pyplot as plt\n",
    "import numpy as np\n",
    "import utils as ut\n",
    "\n",
    "path = \"data/ARIA_merged&selected/\"\n",
    "\n",
    "show = 0\n",
    "pat = ut.leer_csv(path + \"Patient_real.csv\", show)\n",
    "cur = ut.leer_csv(path + \"Course_pi_diag.csv\", show)\n",
    "rtp = ut.leer_csv(path + \"RTPlan_PS_Pres.csv\", show)\n",
    "rad = ut.leer_csv(path + \"Radiation.csv\", show)\n",
    "\n",
    "sch = ut.leer_csv(path + \"SchActivity.csv\", show)\n",
    "\n",
    "diag_pri = ut.leer_csv(path + \"Diagnosis_pri.csv\", show)\n",
    "diag_sec = ut.leer_csv(path + \"Diagnosis_sec.csv\", show)"
   ]
  },
  {
   "cell_type": "code",
   "execution_count": 2,
   "id": "309cfb75",
   "metadata": {},
   "outputs": [],
   "source": [
    "rtp2 = rtp.merge(cur, on=\"CourseSer\", how=\"left\").merge(pat, on=\"PatientSer\", how=\"left\")"
   ]
  },
  {
   "cell_type": "code",
   "execution_count": 3,
   "id": "ef525122",
   "metadata": {
    "scrolled": false
   },
   "outputs": [],
   "source": [
    "# ut.resumen_tabla(rtp2, \"nans\")\n",
    "# ut.info_tabla(rtp2)"
   ]
  },
  {
   "cell_type": "code",
   "execution_count": 5,
   "id": "af0d36a2",
   "metadata": {},
   "outputs": [
    {
     "ename": "NameError",
     "evalue": "name 'rtp2' is not defined",
     "output_type": "error",
     "traceback": [
      "\u001b[1;31m---------------------------------------------------------------------------\u001b[0m",
      "\u001b[1;31mNameError\u001b[0m                                 Traceback (most recent call last)",
      "\u001b[1;32m<ipython-input-5-3b4a4d0e4035>\u001b[0m in \u001b[0;36m<module>\u001b[1;34m\u001b[0m\n\u001b[0;32m      7\u001b[0m \u001b[0mnum_div\u001b[0m \u001b[1;33m=\u001b[0m \u001b[1;36m5\u001b[0m \u001b[1;31m# divisiones en las que se va a divir para convertir variables numericas a categoricas\u001b[0m\u001b[1;33m\u001b[0m\u001b[1;33m\u001b[0m\u001b[0m\n\u001b[0;32m      8\u001b[0m \u001b[1;33m\u001b[0m\u001b[0m\n\u001b[1;32m----> 9\u001b[1;33m \u001b[0mrtp3\u001b[0m\u001b[1;33m,\u001b[0m \u001b[0mc_categ\u001b[0m\u001b[1;33m,\u001b[0m \u001b[0mc_num\u001b[0m\u001b[1;33m,\u001b[0m \u001b[0mres\u001b[0m \u001b[1;33m=\u001b[0m \u001b[0mut\u001b[0m\u001b[1;33m.\u001b[0m\u001b[0mlimpiar_tabla\u001b[0m\u001b[1;33m(\u001b[0m\u001b[0mrtp2\u001b[0m\u001b[1;33m,\u001b[0m \u001b[0mc_index\u001b[0m\u001b[1;33m,\u001b[0m \u001b[0mc_seriales\u001b[0m\u001b[1;33m,\u001b[0m \u001b[0mc_fechas\u001b[0m\u001b[1;33m,\u001b[0m \u001b[0mnun_th\u001b[0m\u001b[1;33m,\u001b[0m \u001b[0mlen_th\u001b[0m\u001b[1;33m,\u001b[0m \u001b[0mnum_div\u001b[0m\u001b[1;33m)\u001b[0m\u001b[1;33m\u001b[0m\u001b[1;33m\u001b[0m\u001b[0m\n\u001b[0m\u001b[0;32m     10\u001b[0m \u001b[1;33m\u001b[0m\u001b[0m\n\u001b[0;32m     11\u001b[0m \u001b[1;31m# print(c_categ)\u001b[0m\u001b[1;33m\u001b[0m\u001b[1;33m\u001b[0m\u001b[1;33m\u001b[0m\u001b[0m\n",
      "\u001b[1;31mNameError\u001b[0m: name 'rtp2' is not defined"
     ]
    }
   ],
   "source": [
    "c_index = \"RTPlanSer\"\n",
    "c_seriales = [\"PlanSetupSer\",\"SeriesSer\",\"CourseSer\",\"PatientSer\",\"PrescriptionSer\"]\n",
    "c_fechas = [\"StartDateTime\"]\n",
    "\n",
    "nun_th = 20 # si alguna variable tiene mas que esta cantidad de valores unicos, se agrupan los restantes en una categoria\n",
    "len_th = 40 # si algun campo es texto con longitud mayor a esta cantidad, se corta y añade su hash al final\n",
    "num_div = 5 # divisiones en las que se va a divir para convertir variables numericas a categoricas\n",
    "\n",
    "rtp3, c_categ, c_num, res = ut.limpiar_tabla(rtp2, c_index, c_seriales, c_fechas, nun_th, len_th, num_div)\n",
    "\n",
    "# print(c_categ)\n",
    "# print(c_num)\n",
    "# rtp3.head()\n",
    "# res.sort_values(by=\"nans\")"
   ]
  },
  {
   "cell_type": "code",
   "execution_count": 6,
   "id": "e0f9be22",
   "metadata": {},
   "outputs": [],
   "source": [
    "rtp3.to_csv(\"data/ARIA_cleaned/PlanRT.csv\", index=True)"
   ]
  }
 ],
 "metadata": {
  "kernelspec": {
   "display_name": "Python 3",
   "language": "python",
   "name": "python3"
  },
  "language_info": {
   "codemirror_mode": {
    "name": "ipython",
    "version": 3
   },
   "file_extension": ".py",
   "mimetype": "text/x-python",
   "name": "python",
   "nbconvert_exporter": "python",
   "pygments_lexer": "ipython3",
   "version": "3.9.4"
  }
 },
 "nbformat": 4,
 "nbformat_minor": 5
}
