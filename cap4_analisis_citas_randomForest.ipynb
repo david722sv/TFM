{
 "cells": [
  {
   "cell_type": "code",
   "execution_count": 2,
   "id": "191fd152",
   "metadata": {},
   "outputs": [],
   "source": [
    "library(randomForest)\n",
    "library(tree)\n",
    "\n",
    "library(doParallel)\n",
    "\n",
    "library(rpart)\n",
    "library(rpart.plot)\n",
    "\n",
    "library(microbenchmark)"
   ]
  },
  {
   "cell_type": "code",
   "execution_count": 3,
   "id": "1c008cec",
   "metadata": {},
   "outputs": [],
   "source": [
    "rmse = function(a,b){\n",
    "    sqrt( mean((a - b)^2) )\n",
    "}"
   ]
  },
  {
   "cell_type": "code",
   "execution_count": 4,
   "id": "77ded232",
   "metadata": {},
   "outputs": [
    {
     "data": {
      "text/html": [
       "<style>\n",
       ".list-inline {list-style: none; margin:0; padding: 0}\n",
       ".list-inline>li {display: inline-block}\n",
       ".list-inline>li:not(:last-child)::after {content: \"\\00b7\"; padding: 0 .5ex}\n",
       "</style>\n",
       "<ol class=list-inline><li>76881</li><li>72</li></ol>\n"
      ],
      "text/latex": [
       "\\begin{enumerate*}\n",
       "\\item 76881\n",
       "\\item 72\n",
       "\\end{enumerate*}\n"
      ],
      "text/markdown": [
       "1. 76881\n",
       "2. 72\n",
       "\n",
       "\n"
      ],
      "text/plain": [
       "[1] 76881    72"
      ]
     },
     "metadata": {},
     "output_type": "display_data"
    }
   ],
   "source": [
    "citas = read.csv(\"data/ARIA_cleaned/citas.csv\")\n",
    "\n",
    "c_categ = c('ScheduledActivityCode', 'CityOrTownship', 'NStage', 'Technique', 'NoEditFlag_sch', 'NotificationPriorTimeFlag_sch', 'Site', 'NumberOfFractions_isNaN', 'InterfaceStamp', 'Intent', 'IsMorning', 'TechniqueSer', 'TStage', 'TumorSize_isNaN', 'SchedulableFlag', 'SimulationNeeded', 'DayOfWeek', 'NotificationPriorTime_a', 'SummaryStage', 'TreatmentIntentType', 'Sex', 'NotificationPriorTimeFlag_a', 'DiagnosisCode_sec', 'MStage', 'ActivityCategoryCode', 'NotificationPriorTime_sch', 'ObjectStatus_sec', 'Description', 'ResourceGroupSer', 'ActivityCode', 'FractionFrequency', 'ObjectStatus_planes', 'PlanNormMethod', 'ActualMachineSer', 'AssignableFlag', 'Status_pres', 'ClinicalStatus', 'PhaseType', 'PrimaryPTVSer_isNaN', 'SkinFlashMargin', 'PrescribedDose_isNaN', 'HistologyCode', 'DateOfBirth_isNaN', 'Status_rtpps', 'StartDelay_isNaN', 'CalcModelOptions', 'EquipmentSer', 'Bolus', 'AnchorActivityFlag', 'DiagnosisCode', 'DicomSeqNumber', 'NoEditFlag_cat', 'MultiFieldOptFlag', 'TreatmentOrientation', 'PatientStatus', 'Priority', 'Notes', 'EnergyModeSer')\n",
    "\n",
    "citas[c_categ] <- lapply(citas[c_categ], factor)\n",
    "\n",
    "y_s = citas$ScheduledDuration\n",
    "citas[c(\"Duration\",\"DefaultDuration\",\"ScheduledDuration\",'ScheduledActivitySer','StartDateTime',\"ScheduledStartTime\",\n",
    "        \"ScheduledEndTime\",\"ActualStartDate\",\"ActualEndDate\")] = NULL\n",
    "\n",
    "# citas = citas[citas$ActualDuration<60,]\n",
    "# citas[c('CityOrTownship','Priority','PatientStatus','NotificationPriorTimeFlag_sch','NotificationPriorTimeFlag_a',\n",
    "#         'NotificationPriorTime_a','SkinFlashMargin')] = NULL\n",
    "\n",
    "dim(citas)"
   ]
  },
  {
   "cell_type": "code",
   "execution_count": 5,
   "id": "bdc9d70e",
   "metadata": {},
   "outputs": [],
   "source": [
    "y = citas$ActualDuration\n",
    "x = citas[setdiff(names(citas), \"ActualDuration\")]\n",
    "\n",
    "x = x[y<40,]\n",
    "y = y[y<40]"
   ]
  },
  {
   "cell_type": "code",
   "execution_count": 6,
   "id": "e7a407f5",
   "metadata": {},
   "outputs": [
    {
     "data": {
      "text/html": [
       "<style>\n",
       ".list-inline {list-style: none; margin:0; padding: 0}\n",
       ".list-inline>li {display: inline-block}\n",
       ".list-inline>li:not(:last-child)::after {content: \"\\00b7\"; padding: 0 .5ex}\n",
       "</style>\n",
       "<ol class=list-inline><li>52884</li><li>71</li></ol>\n"
      ],
      "text/latex": [
       "\\begin{enumerate*}\n",
       "\\item 52884\n",
       "\\item 71\n",
       "\\end{enumerate*}\n"
      ],
      "text/markdown": [
       "1. 52884\n",
       "2. 71\n",
       "\n",
       "\n"
      ],
      "text/plain": [
       "[1] 52884    71"
      ]
     },
     "metadata": {},
     "output_type": "display_data"
    },
    {
     "data": {
      "text/html": [
       "<style>\n",
       ".list-inline {list-style: none; margin:0; padding: 0}\n",
       ".list-inline>li {display: inline-block}\n",
       ".list-inline>li:not(:last-child)::after {content: \"\\00b7\"; padding: 0 .5ex}\n",
       "</style>\n",
       "<ol class=list-inline><li>22664</li><li>71</li></ol>\n"
      ],
      "text/latex": [
       "\\begin{enumerate*}\n",
       "\\item 22664\n",
       "\\item 71\n",
       "\\end{enumerate*}\n"
      ],
      "text/markdown": [
       "1. 22664\n",
       "2. 71\n",
       "\n",
       "\n"
      ],
      "text/plain": [
       "[1] 22664    71"
      ]
     },
     "metadata": {},
     "output_type": "display_data"
    }
   ],
   "source": [
    "n <- nrow(x)\n",
    "r = 0.7\n",
    "\n",
    "# set.seed(17)\n",
    "# i <- sample(1:n, round(r*n))\n",
    "i = seq(1,round(r*n))\n",
    "j <- setdiff(1:n, i)\n",
    "\n",
    "x_tr = x[i,]\n",
    "y_tr = y[i]\n",
    "\n",
    "x_te = x[j,]\n",
    "y_te = y[j]\n",
    "\n",
    "dim(x_tr)\n",
    "dim(x_te)"
   ]
  },
  {
   "cell_type": "markdown",
   "id": "95d7893d",
   "metadata": {},
   "source": [
    "# Random Forest"
   ]
  },
  {
   "cell_type": "markdown",
   "id": "a6a7db80",
   "metadata": {},
   "source": [
    "### Parallel"
   ]
  },
  {
   "cell_type": "code",
   "execution_count": 8,
   "id": "6f77c50f",
   "metadata": {},
   "outputs": [
    {
     "name": "stdout",
     "output_type": "stream",
     "text": [
      "[1] 8\n"
     ]
    }
   ],
   "source": [
    "randomForest2 = function(ntree, mtry, sampsize, maxnodes){\n",
    "    randomForest(x = x_tr, y = y_tr,\n",
    "                      ntree = ntree,\n",
    "                      mtry = mtry,\n",
    "                      \n",
    "                      replace = FALSE,\n",
    "                      sampsize = sampsize,\n",
    "                      \n",
    "                      maxnodes = maxnodes,  # max 3500\n",
    "                      \n",
    "#                       importance = TRUE,\n",
    "                    )\n",
    "}\n",
    "\n",
    "no_cores <- detectCores(logical = TRUE)\n",
    "print(no_cores)\n",
    "cl <- makeCluster(no_cores) # -1\n",
    "registerDoParallel(cl)\n",
    "clusterExport(cl, c('randomForest2','randomForest', 'x_tr', 'y_tr'))"
   ]
  },
  {
   "cell_type": "markdown",
   "id": "7033ecca",
   "metadata": {},
   "source": [
    "### Optimización"
   ]
  },
  {
   "cell_type": "code",
   "execution_count": null,
   "id": "acfda1f3",
   "metadata": {},
   "outputs": [],
   "source": [
    "ntrees = rep(10,7) # 9 x 7\n",
    "mtry = 30 # seq(1,40,1) # \n",
    "rel_sampsize = seq(0.01,0.35,0.01) # 0.25\n",
    "maxnodes = 150 # seq(5,200,5) # 150\n",
    "\n",
    "rmse_tr = c(); rmse_te = c(); cor_tr = c(); cor_te = c()\n",
    "for(v1 in mtry){\n",
    "    for(v2 in rel_sampsize){\n",
    "        for(v3 in maxnodes){\n",
    "            cat(v1,v2,v3,\"\\n\")\n",
    "            flush.console()\n",
    "\n",
    "            rfs = parLapply(cl, ntrees, fun = randomForest2,\n",
    "                            mtry = v1,\n",
    "                            sampsize = ceiling(nrow(x_tr)*v2), \n",
    "                            maxnodes = v3)\n",
    "\n",
    "            rf_comb = combine(rfs[[1]], rfs[[2]], rfs[[3]], rfs[[4]], rfs[[5]], rfs[[6]], rfs[[7]])\n",
    "            \n",
    "            y_pred <- predict(rf_comb, x_tr)\n",
    "            rmse_tr = c(rmse_tr, rmse(y_tr, y_pred))\n",
    "            cor_tr  = c(cor_tr, cor(y_tr, y_pred, method = \"pearson\"))\n",
    "            \n",
    "            y_pred = predict(rf_comb, x_te)\n",
    "            rmse_te = c(rmse_te, rmse(y_te, y_pred))\n",
    "            cor_te  = c(cor_te, cor(y_te, y_pred, method = \"pearson\"))\n",
    "        }\n",
    "    }\n",
    "}"
   ]
  },
  {
   "cell_type": "code",
   "execution_count": null,
   "id": "5f73f707",
   "metadata": {},
   "outputs": [],
   "source": [
    "variable = rel_sampsize\n",
    "\n",
    "options(repr.plot.width = 6, repr.plot.height = 6)\n",
    "plot(variable, rmse_tr, col=\"blue\", type=\"l\", xlab = \"sampsize\", ylab=\"RMSE\", ylim=c(6,8), cex.lab=1.4, lwd=2)\n",
    "\n",
    "lines(variable, rmse_te, col=\"red\", lwd=2)\n",
    "legend(0.05, 6.3, legend=c(\"train\", \"test\"),\n",
    "       col=c(\"blue\", \"red\"), lty=1, cex=1.2)\n",
    "\n",
    "plot(variable, cor_tr,  col=\"blue\", type=\"l\", xlab = \"sampsize\", ylab=\"Cor Pearson\", ylim=c(0.68,0.8), cex.lab=1.4, lwd=2)\n",
    "lines(variable, cor_te, col=\"red\", lwd=2)\n",
    "legend(0.05, 0.79, legend=c(\"train\", \"test\"),\n",
    "       col=c(\"blue\", \"red\"), lty=1, cex=1.2)"
   ]
  },
  {
   "cell_type": "markdown",
   "id": "4b315391",
   "metadata": {},
   "source": [
    "### microbenchmark"
   ]
  },
  {
   "cell_type": "code",
   "execution_count": 32,
   "id": "0db50779",
   "metadata": {},
   "outputs": [
    {
     "name": "stdout",
     "output_type": "stream",
     "text": [
      "0\n",
      "[1] 3.950245\n",
      "1\n",
      "2\n",
      "3\n",
      "4\n",
      "5\n"
     ]
    }
   ],
   "source": [
    "aux = function(trees){ # 30 s (60 trees)\n",
    "    microbenchmark(parLapply(cl, trees, fun=randomForest2,mtry = 30,sampsize = ceiling(nrow(x_tr)*0.25),maxnodes = 150),\n",
    "    times=3)$time\n",
    "}\n",
    "\n",
    "# aux = function(trees){ # 245 s (60 trees)\n",
    "#     microbenchmark(parLapply(cl, trees, fun=randomForest2,mtry = 50,sampsize = ceiling(nrow(x_tr)*0.35),maxnodes = 500),\n",
    "#     times=3)$time\n",
    "# }\n",
    "\n",
    "\n",
    "n=1\n",
    "cat(\"0\\n\")\n",
    "flush.console()\n",
    "tiempos1 = aux( rep(60,1)*n )\n",
    "ref = median(tiempos1) # ns\n",
    "print(ref/1e9)\n",
    "cat(\"1\\n\")\n",
    "flush.console()\n",
    "tiempos2 = aux( rep(30,2)*n )\n",
    "cat(\"2\\n\")\n",
    "flush.console()\n",
    "tiempos3 = aux( rep(20,3)*n )\n",
    "cat(\"3\\n\")\n",
    "flush.console()\n",
    "tiempos4 = aux( rep(15,4)*n )\n",
    "cat(\"4\\n\")\n",
    "flush.console()\n",
    "tiempos5 = aux( rep(12,5)*n )\n",
    "cat(\"5\\n\")\n",
    "flush.console()\n",
    "tiempos6 = aux( rep(10,6)*n )\n",
    "cat(\"6\\n\")\n",
    "flush.console()\n",
    "tiempos7 = aux( c(9,9,9,9,8,8,8)*n )\n",
    "cat(\"7\\n\")\n",
    "flush.console()\n",
    "tiempos8 = aux( c(8,8,8,8,7,7,7,7)*n )"
   ]
  },
  {
   "cell_type": "code",
   "execution_count": 33,
   "id": "f1ec066d",
   "metadata": {},
   "outputs": [
    {
     "data": {
      "image/png": "[encoded data removed]",
      "text/plain": [
       "plot without title"
      ]
     },
     "metadata": {
      "image/png": {
       "height": 420,
       "width": 420
      }
     },
     "output_type": "display_data"
    }
   ],
   "source": [
    "boxplot(ref/tiempos1,\n",
    "        ref/tiempos2,  \n",
    "        ref/tiempos3,  \n",
    "        ref/tiempos4,  \n",
    "        ref/tiempos5,  \n",
    "        ref/tiempos6,  \n",
    "        ref/tiempos7,  \n",
    "        ref/tiempos8,  \n",
    "        ylab = \"speedup\", xlab=\"nº cores\", cex.lab=1.4, ylim=c(1,8), names=c(1,2,3,4,5,6,7,8) )\n",
    "abline(a=0, b=1, col=\"red\", lwd=3, lty=2)"
   ]
  },
  {
   "cell_type": "markdown",
   "id": "217af2ad",
   "metadata": {},
   "source": [
    "### Un solo random forest"
   ]
  },
  {
   "cell_type": "code",
   "execution_count": 10,
   "id": "bb9610e5",
   "metadata": {},
   "outputs": [],
   "source": [
    "model1 = randomForest(x = x_tr, y = y_tr,\n",
    "                      ntree = 70,\n",
    "                      mtry = 30,\n",
    "                      \n",
    "                      replace = FALSE,\n",
    "                      sampsize = ceiling(nrow(x_tr)*0.25),\n",
    "                      \n",
    "                      maxnodes = 150,  # max 3500\n",
    "                      \n",
    "                      importance = TRUE,\n",
    "                    )"
   ]
  },
  {
   "cell_type": "code",
   "execution_count": 11,
   "id": "5cc71706",
   "metadata": {},
   "outputs": [
    {
     "data": {
      "image/png": "[encoded data removed]",
      "text/plain": [
       "plot without title"
      ]
     },
     "metadata": {
      "image/png": {
       "height": 420,
       "width": 420
      }
     },
     "output_type": "display_data"
    }
   ],
   "source": [
    "y_pred_all = predict(model1, x_te, predict.all = TRUE)\n",
    "mat = y_pred_all$individual\n",
    "aa = t(apply(mat, 1, cumsum) / seq(ncol(mat)))\n",
    "\n",
    "rmse_te = c()\n",
    "for(i2 in 1:70){\n",
    "    rmse_te = c(rmse_te, rmse(y_te, aa[,i2]))\n",
    "}\n",
    "\n",
    "plot(rmse_te, xlab='Número de árboles', ylab='RMSE', cex.lab=1.4, ylim=c(6.5,7.5), type=\"l\", lwd=3, col=\"blue\")\n",
    "points(sqrt(model1$mse), type=\"l\", lwd=3, col=\"red\")\n",
    "\n",
    "legend(40, 7.4, legend=c(\"test\", \"oob\"),\n",
    "       col=c(\"blue\", \"red\"), lty=1, cex=1.3)"
   ]
  },
  {
   "cell_type": "code",
   "execution_count": 12,
   "id": "2194f347",
   "metadata": {},
   "outputs": [
    {
     "name": "stdout",
     "output_type": "stream",
     "text": [
      "rmse =  4.506286 \n",
      "cor pearson =  0.6946007 \n",
      "rmse =  4.739532 \n",
      "cor pearson =  0.6315173 \n"
     ]
    },
    {
     "data": {
      "image/png": "[encoded data removed]",
      "text/plain": [
       "plot without title"
      ]
     },
     "metadata": {
      "image/png": {
       "height": 420,
       "width": 420
      }
     },
     "output_type": "display_data"
    },
    {
     "data": {
      "image/png": "[encoded data removed]",
      "text/plain": [
       "plot without title"
      ]
     },
     "metadata": {
      "image/png": {
       "height": 420,
       "width": 420
      }
     },
     "output_type": "display_data"
    }
   ],
   "source": [
    "y_pred = predict(model1, x_tr)\n",
    "cat(\"rmse = \", rmse(y_tr, y_pred), \"\\n\")\n",
    "cat(\"cor pearson = \", cor(y_tr, y_pred, method = \"pearson\"), \"\\n\")\n",
    "plot(y_tr, y_pred, xlim=c(0,65), ylim=c(0,65), pch=20, cex = 0.1, xlab = 'duración real (minutos)', \n",
    "     ylab='duración predicha (minutos)', cex.lab=1.4, col=\"blue\")\n",
    "points(y_tr, y_s[i], col=\"red\", pch=20, cex = 0.1)\n",
    "\n",
    "y_pred = predict(model1, x_te)\n",
    "cat(\"rmse = \", rmse(y_te, y_pred), \"\\n\")\n",
    "cat(\"cor pearson = \", cor(y_te, y_pred, method = \"pearson\"), \"\\n\")\n",
    "plot(y_te, y_pred, xlim=c(0,65), ylim=c(0,65), pch=20, cex = 0.1, xlab = 'duración real (minutos)', \n",
    "     ylab='duración predicha (minutos)', cex.lab=1.4, col=\"blue\")\n",
    "points(y_te, y_s[j], col=\"red\", pch=20, cex = 0.1)"
   ]
  },
  {
   "cell_type": "markdown",
   "id": "1359347f",
   "metadata": {},
   "source": [
    "### Importance"
   ]
  },
  {
   "cell_type": "code",
   "execution_count": 45,
   "id": "df380f2e",
   "metadata": {
    "scrolled": false
   },
   "outputs": [
    {
     "data": {
      "text/html": [
       "<table class=\"dataframe\">\n",
       "<caption>A data.frame: 71 × 1</caption>\n",
       "<thead>\n",
       "\t<tr><th></th><th scope=col>X.IncMSE</th></tr>\n",
       "\t<tr><th></th><th scope=col>&lt;dbl&gt;</th></tr>\n",
       "</thead>\n",
       "<tbody>\n",
       "\t<tr><th scope=row>NumPlans</th><td>8.99198810</td></tr>\n",
       "\t<tr><th scope=row>NumFields</th><td>7.34635947</td></tr>\n",
       "\t<tr><th scope=row>ActivityCode</th><td>4.95722655</td></tr>\n",
       "\t<tr><th scope=row>EquipmentSer</th><td>3.39165455</td></tr>\n",
       "\t<tr><th scope=row>DiagnosisCode</th><td>2.31937682</td></tr>\n",
       "\t<tr><th scope=row>EnergyModeSer</th><td>2.25557815</td></tr>\n",
       "\t<tr><th scope=row>TimesHasCome</th><td>1.71354507</td></tr>\n",
       "\t<tr><th scope=row>PrescribedDose</th><td>1.43918914</td></tr>\n",
       "\t<tr><th scope=row>TechniqueSer</th><td>1.19711044</td></tr>\n",
       "\t<tr><th scope=row>NoEditFlag_sch</th><td>0.88089435</td></tr>\n",
       "\t<tr><th scope=row>TreatmentIntentType</th><td>0.86907862</td></tr>\n",
       "\t<tr><th scope=row>SummaryStage</th><td>0.74964015</td></tr>\n",
       "\t<tr><th scope=row>ActualMachineSer</th><td>0.74250543</td></tr>\n",
       "\t<tr><th scope=row>TStage</th><td>0.69961272</td></tr>\n",
       "\t<tr><th scope=row>CityOrTownship</th><td>0.69191564</td></tr>\n",
       "\t<tr><th scope=row>Site</th><td>0.60557252</td></tr>\n",
       "\t<tr><th scope=row>ResourceGroupSer</th><td>0.46347114</td></tr>\n",
       "\t<tr><th scope=row>InterfaceStamp</th><td>0.40980630</td></tr>\n",
       "\t<tr><th scope=row>HistologyCode</th><td>0.38391621</td></tr>\n",
       "\t<tr><th scope=row>CalcModelOptions</th><td>0.37514119</td></tr>\n",
       "\t<tr><th scope=row>DateOfBirth</th><td>0.29262919</td></tr>\n",
       "\t<tr><th scope=row>PlanNormMethod</th><td>0.23769422</td></tr>\n",
       "\t<tr><th scope=row>AssignableFlag</th><td>0.22298913</td></tr>\n",
       "\t<tr><th scope=row>PrimaryPTVSer</th><td>0.21225048</td></tr>\n",
       "\t<tr><th scope=row>Technique</th><td>0.19749735</td></tr>\n",
       "\t<tr><th scope=row>NoFractions</th><td>0.19188796</td></tr>\n",
       "\t<tr><th scope=row>MStage</th><td>0.17857617</td></tr>\n",
       "\t<tr><th scope=row>NStage</th><td>0.13260088</td></tr>\n",
       "\t<tr><th scope=row>Bolus</th><td>0.11152844</td></tr>\n",
       "\t<tr><th scope=row>CalcModelOptionsLen</th><td>0.09352122</td></tr>\n",
       "\t<tr><th scope=row>...</th><td>...</td></tr>\n",
       "\t<tr><th scope=row>Intent</th><td> 2.956814e-02</td></tr>\n",
       "\t<tr><th scope=row>SkinFlashMargin</th><td> 2.893381e-02</td></tr>\n",
       "\t<tr><th scope=row>IsMorning</th><td> 2.862523e-02</td></tr>\n",
       "\t<tr><th scope=row>PhaseType</th><td> 2.137597e-02</td></tr>\n",
       "\t<tr><th scope=row>NumberOfFractions</th><td> 2.048014e-02</td></tr>\n",
       "\t<tr><th scope=row>Status_rtpps</th><td> 1.616182e-02</td></tr>\n",
       "\t<tr><th scope=row>DayOfWeek</th><td> 1.227710e-02</td></tr>\n",
       "\t<tr><th scope=row>PrimaryPTVSer_isNaN</th><td> 1.160080e-02</td></tr>\n",
       "\t<tr><th scope=row>Notes</th><td> 1.043962e-02</td></tr>\n",
       "\t<tr><th scope=row>PrescribedDose_isNaN</th><td> 7.649663e-03</td></tr>\n",
       "\t<tr><th scope=row>FractionFrequency</th><td> 4.978933e-03</td></tr>\n",
       "\t<tr><th scope=row>ObjectStatus_sec</th><td> 3.506314e-03</td></tr>\n",
       "\t<tr><th scope=row>StartDelay</th><td> 2.809607e-03</td></tr>\n",
       "\t<tr><th scope=row>StartDelay_isNaN</th><td> 2.733066e-03</td></tr>\n",
       "\t<tr><th scope=row>NotificationPriorTime_a</th><td> 1.967223e-03</td></tr>\n",
       "\t<tr><th scope=row>NotificationPriorTimeFlag_sch</th><td> 1.421454e-03</td></tr>\n",
       "\t<tr><th scope=row>DateOfBirth_isNaN</th><td> 9.048772e-04</td></tr>\n",
       "\t<tr><th scope=row>NumberOfFractions_isNaN</th><td> 7.687538e-04</td></tr>\n",
       "\t<tr><th scope=row>SimulationNeeded</th><td> 7.677600e-04</td></tr>\n",
       "\t<tr><th scope=row>ClinicalStatus</th><td> 5.784681e-04</td></tr>\n",
       "\t<tr><th scope=row>NotificationPriorTime_sch</th><td> 5.603288e-04</td></tr>\n",
       "\t<tr><th scope=row>PatientStatus</th><td> 3.883100e-04</td></tr>\n",
       "\t<tr><th scope=row>NotificationPriorTimeFlag_a</th><td> 1.253544e-04</td></tr>\n",
       "\t<tr><th scope=row>DicomSeqNumber</th><td> 7.512116e-05</td></tr>\n",
       "\t<tr><th scope=row>ScheduledActivityCode</th><td> 0.000000e+00</td></tr>\n",
       "\t<tr><th scope=row>AnchorActivityFlag</th><td> 0.000000e+00</td></tr>\n",
       "\t<tr><th scope=row>SchedulableFlag</th><td> 0.000000e+00</td></tr>\n",
       "\t<tr><th scope=row>NoEditFlag_cat</th><td> 0.000000e+00</td></tr>\n",
       "\t<tr><th scope=row>Priority</th><td>-1.738987e-04</td></tr>\n",
       "\t<tr><th scope=row>ActivityCategoryCode</th><td>-1.021365e-03</td></tr>\n",
       "</tbody>\n",
       "</table>\n"
      ],
      "text/latex": [
       "A data.frame: 71 × 1\n",
       "\\begin{tabular}{r|l}\n",
       "  & X.IncMSE\\\\\n",
       "  & <dbl>\\\\\n",
       "\\hline\n",
       "\tNumPlans & 8.99198810\\\\\n",
       "\tNumFields & 7.34635947\\\\\n",
       "\tActivityCode & 4.95722655\\\\\n",
       "\tEquipmentSer & 3.39165455\\\\\n",
       "\tDiagnosisCode & 2.31937682\\\\\n",
       "\tEnergyModeSer & 2.25557815\\\\\n",
       "\tTimesHasCome & 1.71354507\\\\\n",
       "\tPrescribedDose & 1.43918914\\\\\n",
       "\tTechniqueSer & 1.19711044\\\\\n",
       "\tNoEditFlag\\_sch & 0.88089435\\\\\n",
       "\tTreatmentIntentType & 0.86907862\\\\\n",
       "\tSummaryStage & 0.74964015\\\\\n",
       "\tActualMachineSer & 0.74250543\\\\\n",
       "\tTStage & 0.69961272\\\\\n",
       "\tCityOrTownship & 0.69191564\\\\\n",
       "\tSite & 0.60557252\\\\\n",
       "\tResourceGroupSer & 0.46347114\\\\\n",
       "\tInterfaceStamp & 0.40980630\\\\\n",
       "\tHistologyCode & 0.38391621\\\\\n",
       "\tCalcModelOptions & 0.37514119\\\\\n",
       "\tDateOfBirth & 0.29262919\\\\\n",
       "\tPlanNormMethod & 0.23769422\\\\\n",
       "\tAssignableFlag & 0.22298913\\\\\n",
       "\tPrimaryPTVSer & 0.21225048\\\\\n",
       "\tTechnique & 0.19749735\\\\\n",
       "\tNoFractions & 0.19188796\\\\\n",
       "\tMStage & 0.17857617\\\\\n",
       "\tNStage & 0.13260088\\\\\n",
       "\tBolus & 0.11152844\\\\\n",
       "\tCalcModelOptionsLen & 0.09352122\\\\\n",
       "\t... & ...\\\\\n",
       "\tIntent &  2.956814e-02\\\\\n",
       "\tSkinFlashMargin &  2.893381e-02\\\\\n",
       "\tIsMorning &  2.862523e-02\\\\\n",
       "\tPhaseType &  2.137597e-02\\\\\n",
       "\tNumberOfFractions &  2.048014e-02\\\\\n",
       "\tStatus\\_rtpps &  1.616182e-02\\\\\n",
       "\tDayOfWeek &  1.227710e-02\\\\\n",
       "\tPrimaryPTVSer\\_isNaN &  1.160080e-02\\\\\n",
       "\tNotes &  1.043962e-02\\\\\n",
       "\tPrescribedDose\\_isNaN &  7.649663e-03\\\\\n",
       "\tFractionFrequency &  4.978933e-03\\\\\n",
       "\tObjectStatus\\_sec &  3.506314e-03\\\\\n",
       "\tStartDelay &  2.809607e-03\\\\\n",
       "\tStartDelay\\_isNaN &  2.733066e-03\\\\\n",
       "\tNotificationPriorTime\\_a &  1.967223e-03\\\\\n",
       "\tNotificationPriorTimeFlag\\_sch &  1.421454e-03\\\\\n",
       "\tDateOfBirth\\_isNaN &  9.048772e-04\\\\\n",
       "\tNumberOfFractions\\_isNaN &  7.687538e-04\\\\\n",
       "\tSimulationNeeded &  7.677600e-04\\\\\n",
       "\tClinicalStatus &  5.784681e-04\\\\\n",
       "\tNotificationPriorTime\\_sch &  5.603288e-04\\\\\n",
       "\tPatientStatus &  3.883100e-04\\\\\n",
       "\tNotificationPriorTimeFlag\\_a &  1.253544e-04\\\\\n",
       "\tDicomSeqNumber &  7.512116e-05\\\\\n",
       "\tScheduledActivityCode &  0.000000e+00\\\\\n",
       "\tAnchorActivityFlag &  0.000000e+00\\\\\n",
       "\tSchedulableFlag &  0.000000e+00\\\\\n",
       "\tNoEditFlag\\_cat &  0.000000e+00\\\\\n",
       "\tPriority & -1.738987e-04\\\\\n",
       "\tActivityCategoryCode & -1.021365e-03\\\\\n",
       "\\end{tabular}\n"
      ],
      "text/markdown": [
       "\n",
       "A data.frame: 71 × 1\n",
       "\n",
       "| <!--/--> | X.IncMSE &lt;dbl&gt; |\n",
       "|---|---|\n",
       "| NumPlans | 8.99198810 |\n",
       "| NumFields | 7.34635947 |\n",
       "| ActivityCode | 4.95722655 |\n",
       "| EquipmentSer | 3.39165455 |\n",
       "| DiagnosisCode | 2.31937682 |\n",
       "| EnergyModeSer | 2.25557815 |\n",
       "| TimesHasCome | 1.71354507 |\n",
       "| PrescribedDose | 1.43918914 |\n",
       "| TechniqueSer | 1.19711044 |\n",
       "| NoEditFlag_sch | 0.88089435 |\n",
       "| TreatmentIntentType | 0.86907862 |\n",
       "| SummaryStage | 0.74964015 |\n",
       "| ActualMachineSer | 0.74250543 |\n",
       "| TStage | 0.69961272 |\n",
       "| CityOrTownship | 0.69191564 |\n",
       "| Site | 0.60557252 |\n",
       "| ResourceGroupSer | 0.46347114 |\n",
       "| InterfaceStamp | 0.40980630 |\n",
       "| HistologyCode | 0.38391621 |\n",
       "| CalcModelOptions | 0.37514119 |\n",
       "| DateOfBirth | 0.29262919 |\n",
       "| PlanNormMethod | 0.23769422 |\n",
       "| AssignableFlag | 0.22298913 |\n",
       "| PrimaryPTVSer | 0.21225048 |\n",
       "| Technique | 0.19749735 |\n",
       "| NoFractions | 0.19188796 |\n",
       "| MStage | 0.17857617 |\n",
       "| NStage | 0.13260088 |\n",
       "| Bolus | 0.11152844 |\n",
       "| CalcModelOptionsLen | 0.09352122 |\n",
       "| ... | ... |\n",
       "| Intent |  2.956814e-02 |\n",
       "| SkinFlashMargin |  2.893381e-02 |\n",
       "| IsMorning |  2.862523e-02 |\n",
       "| PhaseType |  2.137597e-02 |\n",
       "| NumberOfFractions |  2.048014e-02 |\n",
       "| Status_rtpps |  1.616182e-02 |\n",
       "| DayOfWeek |  1.227710e-02 |\n",
       "| PrimaryPTVSer_isNaN |  1.160080e-02 |\n",
       "| Notes |  1.043962e-02 |\n",
       "| PrescribedDose_isNaN |  7.649663e-03 |\n",
       "| FractionFrequency |  4.978933e-03 |\n",
       "| ObjectStatus_sec |  3.506314e-03 |\n",
       "| StartDelay |  2.809607e-03 |\n",
       "| StartDelay_isNaN |  2.733066e-03 |\n",
       "| NotificationPriorTime_a |  1.967223e-03 |\n",
       "| NotificationPriorTimeFlag_sch |  1.421454e-03 |\n",
       "| DateOfBirth_isNaN |  9.048772e-04 |\n",
       "| NumberOfFractions_isNaN |  7.687538e-04 |\n",
       "| SimulationNeeded |  7.677600e-04 |\n",
       "| ClinicalStatus |  5.784681e-04 |\n",
       "| NotificationPriorTime_sch |  5.603288e-04 |\n",
       "| PatientStatus |  3.883100e-04 |\n",
       "| NotificationPriorTimeFlag_a |  1.253544e-04 |\n",
       "| DicomSeqNumber |  7.512116e-05 |\n",
       "| ScheduledActivityCode |  0.000000e+00 |\n",
       "| AnchorActivityFlag |  0.000000e+00 |\n",
       "| SchedulableFlag |  0.000000e+00 |\n",
       "| NoEditFlag_cat |  0.000000e+00 |\n",
       "| Priority | -1.738987e-04 |\n",
       "| ActivityCategoryCode | -1.021365e-03 |\n",
       "\n"
      ],
      "text/plain": [
       "                              X.IncMSE     \n",
       "NumPlans                      8.99198810   \n",
       "NumFields                     7.34635947   \n",
       "ActivityCode                  4.95722655   \n",
       "EquipmentSer                  3.39165455   \n",
       "DiagnosisCode                 2.31937682   \n",
       "EnergyModeSer                 2.25557815   \n",
       "TimesHasCome                  1.71354507   \n",
       "PrescribedDose                1.43918914   \n",
       "TechniqueSer                  1.19711044   \n",
       "NoEditFlag_sch                0.88089435   \n",
       "TreatmentIntentType           0.86907862   \n",
       "SummaryStage                  0.74964015   \n",
       "ActualMachineSer              0.74250543   \n",
       "TStage                        0.69961272   \n",
       "CityOrTownship                0.69191564   \n",
       "Site                          0.60557252   \n",
       "ResourceGroupSer              0.46347114   \n",
       "InterfaceStamp                0.40980630   \n",
       "HistologyCode                 0.38391621   \n",
       "CalcModelOptions              0.37514119   \n",
       "DateOfBirth                   0.29262919   \n",
       "PlanNormMethod                0.23769422   \n",
       "AssignableFlag                0.22298913   \n",
       "PrimaryPTVSer                 0.21225048   \n",
       "Technique                     0.19749735   \n",
       "NoFractions                   0.19188796   \n",
       "MStage                        0.17857617   \n",
       "NStage                        0.13260088   \n",
       "Bolus                         0.11152844   \n",
       "CalcModelOptionsLen           0.09352122   \n",
       "...                           ...          \n",
       "Intent                         2.956814e-02\n",
       "SkinFlashMargin                2.893381e-02\n",
       "IsMorning                      2.862523e-02\n",
       "PhaseType                      2.137597e-02\n",
       "NumberOfFractions              2.048014e-02\n",
       "Status_rtpps                   1.616182e-02\n",
       "DayOfWeek                      1.227710e-02\n",
       "PrimaryPTVSer_isNaN            1.160080e-02\n",
       "Notes                          1.043962e-02\n",
       "PrescribedDose_isNaN           7.649663e-03\n",
       "FractionFrequency              4.978933e-03\n",
       "ObjectStatus_sec               3.506314e-03\n",
       "StartDelay                     2.809607e-03\n",
       "StartDelay_isNaN               2.733066e-03\n",
       "NotificationPriorTime_a        1.967223e-03\n",
       "NotificationPriorTimeFlag_sch  1.421454e-03\n",
       "DateOfBirth_isNaN              9.048772e-04\n",
       "NumberOfFractions_isNaN        7.687538e-04\n",
       "SimulationNeeded               7.677600e-04\n",
       "ClinicalStatus                 5.784681e-04\n",
       "NotificationPriorTime_sch      5.603288e-04\n",
       "PatientStatus                  3.883100e-04\n",
       "NotificationPriorTimeFlag_a    1.253544e-04\n",
       "DicomSeqNumber                 7.512116e-05\n",
       "ScheduledActivityCode          0.000000e+00\n",
       "AnchorActivityFlag             0.000000e+00\n",
       "SchedulableFlag                0.000000e+00\n",
       "NoEditFlag_cat                 0.000000e+00\n",
       "Priority                      -1.738987e-04\n",
       "ActivityCategoryCode          -1.021365e-03"
      ]
     },
     "metadata": {},
     "output_type": "display_data"
    }
   ],
   "source": [
    "df = model1$importance\n",
    "df2 = data.frame( \"%IncMSE\" = df[order(df[,\"%IncMSE\"], decreasing = TRUE),\"%IncMSE\"] )\n",
    "df2"
   ]
  },
  {
   "cell_type": "code",
   "execution_count": 41,
   "id": "8625325c",
   "metadata": {
    "scrolled": false
   },
   "outputs": [
    {
     "data": {
      "text/html": [
       "<table class=\"dataframe\">\n",
       "<caption>A data.frame: 71 × 1</caption>\n",
       "<thead>\n",
       "\t<tr><th></th><th scope=col>IncNodePurity</th></tr>\n",
       "\t<tr><th></th><th scope=col>&lt;dbl&gt;</th></tr>\n",
       "</thead>\n",
       "<tbody>\n",
       "\t<tr><th scope=row>NumPlans</th><td>48617.9299</td></tr>\n",
       "\t<tr><th scope=row>ActivityCode</th><td>27085.9416</td></tr>\n",
       "\t<tr><th scope=row>NumFields</th><td>25476.9359</td></tr>\n",
       "\t<tr><th scope=row>TimesHasCome</th><td>16083.2428</td></tr>\n",
       "\t<tr><th scope=row>EquipmentSer</th><td>14308.3331</td></tr>\n",
       "\t<tr><th scope=row>DiagnosisCode</th><td>12472.9927</td></tr>\n",
       "\t<tr><th scope=row>PrescribedDose</th><td>10431.7432</td></tr>\n",
       "\t<tr><th scope=row>EnergyModeSer</th><td> 8878.8571</td></tr>\n",
       "\t<tr><th scope=row>CityOrTownship</th><td> 5281.7257</td></tr>\n",
       "\t<tr><th scope=row>TStage</th><td> 5014.9297</td></tr>\n",
       "\t<tr><th scope=row>TreatmentIntentType</th><td> 4505.7217</td></tr>\n",
       "\t<tr><th scope=row>TechniqueSer</th><td> 4307.2086</td></tr>\n",
       "\t<tr><th scope=row>Site</th><td> 3761.2454</td></tr>\n",
       "\t<tr><th scope=row>PrescribedPercentage</th><td> 3117.7154</td></tr>\n",
       "\t<tr><th scope=row>SummaryStage</th><td> 2974.1535</td></tr>\n",
       "\t<tr><th scope=row>ResourceGroupSer</th><td> 2603.4018</td></tr>\n",
       "\t<tr><th scope=row>HistologyCode</th><td> 2506.2855</td></tr>\n",
       "\t<tr><th scope=row>NoEditFlag_sch</th><td> 2160.7451</td></tr>\n",
       "\t<tr><th scope=row>DateOfBirth</th><td> 1949.0259</td></tr>\n",
       "\t<tr><th scope=row>ActualMachineSer</th><td> 1894.6223</td></tr>\n",
       "\t<tr><th scope=row>CalcModelOptions</th><td> 1583.4395</td></tr>\n",
       "\t<tr><th scope=row>PrimaryPTVSer</th><td> 1526.8331</td></tr>\n",
       "\t<tr><th scope=row>Technique</th><td> 1095.7793</td></tr>\n",
       "\t<tr><th scope=row>PlanNormMethod</th><td> 1067.5532</td></tr>\n",
       "\t<tr><th scope=row>NStage</th><td> 1057.9556</td></tr>\n",
       "\t<tr><th scope=row>NoFractions</th><td> 1050.1892</td></tr>\n",
       "\t<tr><th scope=row>Bolus</th><td> 1010.2048</td></tr>\n",
       "\t<tr><th scope=row>InterfaceStamp</th><td>  936.0192</td></tr>\n",
       "\t<tr><th scope=row>DayOfWeek</th><td>  847.1706</td></tr>\n",
       "\t<tr><th scope=row>NumberOfFractions</th><td>  631.5788</td></tr>\n",
       "\t<tr><th scope=row>...</th><td>...</td></tr>\n",
       "\t<tr><th scope=row>ObjectStatus_planes</th><td>171.837701</td></tr>\n",
       "\t<tr><th scope=row>TumorSize_isNaN</th><td>135.525467</td></tr>\n",
       "\t<tr><th scope=row>IsMorning</th><td>130.442696</td></tr>\n",
       "\t<tr><th scope=row>SkinFlashMargin</th><td>103.962057</td></tr>\n",
       "\t<tr><th scope=row>PrescribedDose_isNaN</th><td> 98.186890</td></tr>\n",
       "\t<tr><th scope=row>MultiFieldOptFlag</th><td> 77.432880</td></tr>\n",
       "\t<tr><th scope=row>StartDelay_isNaN</th><td> 66.135373</td></tr>\n",
       "\t<tr><th scope=row>NotificationPriorTime_a</th><td> 54.509371</td></tr>\n",
       "\t<tr><th scope=row>StartDelay</th><td> 45.696254</td></tr>\n",
       "\t<tr><th scope=row>NotificationPriorTimeFlag_sch</th><td> 43.941640</td></tr>\n",
       "\t<tr><th scope=row>Status_pres</th><td> 30.174768</td></tr>\n",
       "\t<tr><th scope=row>Intent</th><td> 28.730301</td></tr>\n",
       "\t<tr><th scope=row>FractionFrequency</th><td> 26.443111</td></tr>\n",
       "\t<tr><th scope=row>ObjectStatus_sec</th><td> 25.247288</td></tr>\n",
       "\t<tr><th scope=row>DateOfBirth_isNaN</th><td> 25.106443</td></tr>\n",
       "\t<tr><th scope=row>PatientStatus</th><td> 22.200818</td></tr>\n",
       "\t<tr><th scope=row>PrimaryPTVSer_isNaN</th><td> 21.696313</td></tr>\n",
       "\t<tr><th scope=row>ClinicalStatus</th><td> 16.658947</td></tr>\n",
       "\t<tr><th scope=row>NotificationPriorTime_sch</th><td> 15.486473</td></tr>\n",
       "\t<tr><th scope=row>PhaseType</th><td> 14.144323</td></tr>\n",
       "\t<tr><th scope=row>NotificationPriorTimeFlag_a</th><td> 10.007774</td></tr>\n",
       "\t<tr><th scope=row>SimulationNeeded</th><td>  9.295075</td></tr>\n",
       "\t<tr><th scope=row>DicomSeqNumber</th><td>  7.450969</td></tr>\n",
       "\t<tr><th scope=row>NumberOfFractions_isNaN</th><td>  6.264595</td></tr>\n",
       "\t<tr><th scope=row>ActivityCategoryCode</th><td>  2.754417</td></tr>\n",
       "\t<tr><th scope=row>ScheduledActivityCode</th><td>  1.740094</td></tr>\n",
       "\t<tr><th scope=row>Priority</th><td>  0.000000</td></tr>\n",
       "\t<tr><th scope=row>AnchorActivityFlag</th><td>  0.000000</td></tr>\n",
       "\t<tr><th scope=row>SchedulableFlag</th><td>  0.000000</td></tr>\n",
       "\t<tr><th scope=row>NoEditFlag_cat</th><td>  0.000000</td></tr>\n",
       "</tbody>\n",
       "</table>\n"
      ],
      "text/latex": [
       "A data.frame: 71 × 1\n",
       "\\begin{tabular}{r|l}\n",
       "  & IncNodePurity\\\\\n",
       "  & <dbl>\\\\\n",
       "\\hline\n",
       "\tNumPlans & 48617.9299\\\\\n",
       "\tActivityCode & 27085.9416\\\\\n",
       "\tNumFields & 25476.9359\\\\\n",
       "\tTimesHasCome & 16083.2428\\\\\n",
       "\tEquipmentSer & 14308.3331\\\\\n",
       "\tDiagnosisCode & 12472.9927\\\\\n",
       "\tPrescribedDose & 10431.7432\\\\\n",
       "\tEnergyModeSer &  8878.8571\\\\\n",
       "\tCityOrTownship &  5281.7257\\\\\n",
       "\tTStage &  5014.9297\\\\\n",
       "\tTreatmentIntentType &  4505.7217\\\\\n",
       "\tTechniqueSer &  4307.2086\\\\\n",
       "\tSite &  3761.2454\\\\\n",
       "\tPrescribedPercentage &  3117.7154\\\\\n",
       "\tSummaryStage &  2974.1535\\\\\n",
       "\tResourceGroupSer &  2603.4018\\\\\n",
       "\tHistologyCode &  2506.2855\\\\\n",
       "\tNoEditFlag\\_sch &  2160.7451\\\\\n",
       "\tDateOfBirth &  1949.0259\\\\\n",
       "\tActualMachineSer &  1894.6223\\\\\n",
       "\tCalcModelOptions &  1583.4395\\\\\n",
       "\tPrimaryPTVSer &  1526.8331\\\\\n",
       "\tTechnique &  1095.7793\\\\\n",
       "\tPlanNormMethod &  1067.5532\\\\\n",
       "\tNStage &  1057.9556\\\\\n",
       "\tNoFractions &  1050.1892\\\\\n",
       "\tBolus &  1010.2048\\\\\n",
       "\tInterfaceStamp &   936.0192\\\\\n",
       "\tDayOfWeek &   847.1706\\\\\n",
       "\tNumberOfFractions &   631.5788\\\\\n",
       "\t... & ...\\\\\n",
       "\tObjectStatus\\_planes & 171.837701\\\\\n",
       "\tTumorSize\\_isNaN & 135.525467\\\\\n",
       "\tIsMorning & 130.442696\\\\\n",
       "\tSkinFlashMargin & 103.962057\\\\\n",
       "\tPrescribedDose\\_isNaN &  98.186890\\\\\n",
       "\tMultiFieldOptFlag &  77.432880\\\\\n",
       "\tStartDelay\\_isNaN &  66.135373\\\\\n",
       "\tNotificationPriorTime\\_a &  54.509371\\\\\n",
       "\tStartDelay &  45.696254\\\\\n",
       "\tNotificationPriorTimeFlag\\_sch &  43.941640\\\\\n",
       "\tStatus\\_pres &  30.174768\\\\\n",
       "\tIntent &  28.730301\\\\\n",
       "\tFractionFrequency &  26.443111\\\\\n",
       "\tObjectStatus\\_sec &  25.247288\\\\\n",
       "\tDateOfBirth\\_isNaN &  25.106443\\\\\n",
       "\tPatientStatus &  22.200818\\\\\n",
       "\tPrimaryPTVSer\\_isNaN &  21.696313\\\\\n",
       "\tClinicalStatus &  16.658947\\\\\n",
       "\tNotificationPriorTime\\_sch &  15.486473\\\\\n",
       "\tPhaseType &  14.144323\\\\\n",
       "\tNotificationPriorTimeFlag\\_a &  10.007774\\\\\n",
       "\tSimulationNeeded &   9.295075\\\\\n",
       "\tDicomSeqNumber &   7.450969\\\\\n",
       "\tNumberOfFractions\\_isNaN &   6.264595\\\\\n",
       "\tActivityCategoryCode &   2.754417\\\\\n",
       "\tScheduledActivityCode &   1.740094\\\\\n",
       "\tPriority &   0.000000\\\\\n",
       "\tAnchorActivityFlag &   0.000000\\\\\n",
       "\tSchedulableFlag &   0.000000\\\\\n",
       "\tNoEditFlag\\_cat &   0.000000\\\\\n",
       "\\end{tabular}\n"
      ],
      "text/markdown": [
       "\n",
       "A data.frame: 71 × 1\n",
       "\n",
       "| <!--/--> | IncNodePurity &lt;dbl&gt; |\n",
       "|---|---|\n",
       "| NumPlans | 48617.9299 |\n",
       "| ActivityCode | 27085.9416 |\n",
       "| NumFields | 25476.9359 |\n",
       "| TimesHasCome | 16083.2428 |\n",
       "| EquipmentSer | 14308.3331 |\n",
       "| DiagnosisCode | 12472.9927 |\n",
       "| PrescribedDose | 10431.7432 |\n",
       "| EnergyModeSer |  8878.8571 |\n",
       "| CityOrTownship |  5281.7257 |\n",
       "| TStage |  5014.9297 |\n",
       "| TreatmentIntentType |  4505.7217 |\n",
       "| TechniqueSer |  4307.2086 |\n",
       "| Site |  3761.2454 |\n",
       "| PrescribedPercentage |  3117.7154 |\n",
       "| SummaryStage |  2974.1535 |\n",
       "| ResourceGroupSer |  2603.4018 |\n",
       "| HistologyCode |  2506.2855 |\n",
       "| NoEditFlag_sch |  2160.7451 |\n",
       "| DateOfBirth |  1949.0259 |\n",
       "| ActualMachineSer |  1894.6223 |\n",
       "| CalcModelOptions |  1583.4395 |\n",
       "| PrimaryPTVSer |  1526.8331 |\n",
       "| Technique |  1095.7793 |\n",
       "| PlanNormMethod |  1067.5532 |\n",
       "| NStage |  1057.9556 |\n",
       "| NoFractions |  1050.1892 |\n",
       "| Bolus |  1010.2048 |\n",
       "| InterfaceStamp |   936.0192 |\n",
       "| DayOfWeek |   847.1706 |\n",
       "| NumberOfFractions |   631.5788 |\n",
       "| ... | ... |\n",
       "| ObjectStatus_planes | 171.837701 |\n",
       "| TumorSize_isNaN | 135.525467 |\n",
       "| IsMorning | 130.442696 |\n",
       "| SkinFlashMargin | 103.962057 |\n",
       "| PrescribedDose_isNaN |  98.186890 |\n",
       "| MultiFieldOptFlag |  77.432880 |\n",
       "| StartDelay_isNaN |  66.135373 |\n",
       "| NotificationPriorTime_a |  54.509371 |\n",
       "| StartDelay |  45.696254 |\n",
       "| NotificationPriorTimeFlag_sch |  43.941640 |\n",
       "| Status_pres |  30.174768 |\n",
       "| Intent |  28.730301 |\n",
       "| FractionFrequency |  26.443111 |\n",
       "| ObjectStatus_sec |  25.247288 |\n",
       "| DateOfBirth_isNaN |  25.106443 |\n",
       "| PatientStatus |  22.200818 |\n",
       "| PrimaryPTVSer_isNaN |  21.696313 |\n",
       "| ClinicalStatus |  16.658947 |\n",
       "| NotificationPriorTime_sch |  15.486473 |\n",
       "| PhaseType |  14.144323 |\n",
       "| NotificationPriorTimeFlag_a |  10.007774 |\n",
       "| SimulationNeeded |   9.295075 |\n",
       "| DicomSeqNumber |   7.450969 |\n",
       "| NumberOfFractions_isNaN |   6.264595 |\n",
       "| ActivityCategoryCode |   2.754417 |\n",
       "| ScheduledActivityCode |   1.740094 |\n",
       "| Priority |   0.000000 |\n",
       "| AnchorActivityFlag |   0.000000 |\n",
       "| SchedulableFlag |   0.000000 |\n",
       "| NoEditFlag_cat |   0.000000 |\n",
       "\n"
      ],
      "text/plain": [
       "                              IncNodePurity\n",
       "NumPlans                      48617.9299   \n",
       "ActivityCode                  27085.9416   \n",
       "NumFields                     25476.9359   \n",
       "TimesHasCome                  16083.2428   \n",
       "EquipmentSer                  14308.3331   \n",
       "DiagnosisCode                 12472.9927   \n",
       "PrescribedDose                10431.7432   \n",
       "EnergyModeSer                  8878.8571   \n",
       "CityOrTownship                 5281.7257   \n",
       "TStage                         5014.9297   \n",
       "TreatmentIntentType            4505.7217   \n",
       "TechniqueSer                   4307.2086   \n",
       "Site                           3761.2454   \n",
       "PrescribedPercentage           3117.7154   \n",
       "SummaryStage                   2974.1535   \n",
       "ResourceGroupSer               2603.4018   \n",
       "HistologyCode                  2506.2855   \n",
       "NoEditFlag_sch                 2160.7451   \n",
       "DateOfBirth                    1949.0259   \n",
       "ActualMachineSer               1894.6223   \n",
       "CalcModelOptions               1583.4395   \n",
       "PrimaryPTVSer                  1526.8331   \n",
       "Technique                      1095.7793   \n",
       "PlanNormMethod                 1067.5532   \n",
       "NStage                         1057.9556   \n",
       "NoFractions                    1050.1892   \n",
       "Bolus                          1010.2048   \n",
       "InterfaceStamp                  936.0192   \n",
       "DayOfWeek                       847.1706   \n",
       "NumberOfFractions               631.5788   \n",
       "...                           ...          \n",
       "ObjectStatus_planes           171.837701   \n",
       "TumorSize_isNaN               135.525467   \n",
       "IsMorning                     130.442696   \n",
       "SkinFlashMargin               103.962057   \n",
       "PrescribedDose_isNaN           98.186890   \n",
       "MultiFieldOptFlag              77.432880   \n",
       "StartDelay_isNaN               66.135373   \n",
       "NotificationPriorTime_a        54.509371   \n",
       "StartDelay                     45.696254   \n",
       "NotificationPriorTimeFlag_sch  43.941640   \n",
       "Status_pres                    30.174768   \n",
       "Intent                         28.730301   \n",
       "FractionFrequency              26.443111   \n",
       "ObjectStatus_sec               25.247288   \n",
       "DateOfBirth_isNaN              25.106443   \n",
       "PatientStatus                  22.200818   \n",
       "PrimaryPTVSer_isNaN            21.696313   \n",
       "ClinicalStatus                 16.658947   \n",
       "NotificationPriorTime_sch      15.486473   \n",
       "PhaseType                      14.144323   \n",
       "NotificationPriorTimeFlag_a    10.007774   \n",
       "SimulationNeeded                9.295075   \n",
       "DicomSeqNumber                  7.450969   \n",
       "NumberOfFractions_isNaN         6.264595   \n",
       "ActivityCategoryCode            2.754417   \n",
       "ScheduledActivityCode           1.740094   \n",
       "Priority                        0.000000   \n",
       "AnchorActivityFlag              0.000000   \n",
       "SchedulableFlag                 0.000000   \n",
       "NoEditFlag_cat                  0.000000   "
      ]
     },
     "metadata": {},
     "output_type": "display_data"
    }
   ],
   "source": [
    "df = model1$importance\n",
    "data.frame( \"IncNodePurity\" = df[order(df[,\"IncNodePurity\"], decreasing = TRUE),] )"
   ]
  },
  {
   "cell_type": "markdown",
   "id": "38208380",
   "metadata": {},
   "source": [
    "# Single tree"
   ]
  },
  {
   "cell_type": "code",
   "execution_count": 80,
   "id": "5bac951e",
   "metadata": {},
   "outputs": [
    {
     "data": {
      "text/html": [
       "<style>\n",
       ".list-inline {list-style: none; margin:0; padding: 0}\n",
       ".list-inline>li {display: inline-block}\n",
       ".list-inline>li:not(:last-child)::after {content: \"\\00b7\"; padding: 0 .5ex}\n",
       "</style>\n",
       "<ol class=list-inline><li>'NumPlans'</li><li>'NumFields'</li><li>'ActivityCode'</li><li>'EquipmentSer'</li><li>'DiagnosisCode'</li><li>'EnergyModeSer'</li><li>'TimesHasCome'</li><li>'PrescribedDose'</li><li>'TechniqueSer'</li><li>'NoEditFlag_sch'</li><li>'TreatmentIntentType'</li><li>'SummaryStage'</li><li>'ActualMachineSer'</li></ol>\n"
      ],
      "text/latex": [
       "\\begin{enumerate*}\n",
       "\\item 'NumPlans'\n",
       "\\item 'NumFields'\n",
       "\\item 'ActivityCode'\n",
       "\\item 'EquipmentSer'\n",
       "\\item 'DiagnosisCode'\n",
       "\\item 'EnergyModeSer'\n",
       "\\item 'TimesHasCome'\n",
       "\\item 'PrescribedDose'\n",
       "\\item 'TechniqueSer'\n",
       "\\item 'NoEditFlag\\_sch'\n",
       "\\item 'TreatmentIntentType'\n",
       "\\item 'SummaryStage'\n",
       "\\item 'ActualMachineSer'\n",
       "\\end{enumerate*}\n"
      ],
      "text/markdown": [
       "1. 'NumPlans'\n",
       "2. 'NumFields'\n",
       "3. 'ActivityCode'\n",
       "4. 'EquipmentSer'\n",
       "5. 'DiagnosisCode'\n",
       "6. 'EnergyModeSer'\n",
       "7. 'TimesHasCome'\n",
       "8. 'PrescribedDose'\n",
       "9. 'TechniqueSer'\n",
       "10. 'NoEditFlag_sch'\n",
       "11. 'TreatmentIntentType'\n",
       "12. 'SummaryStage'\n",
       "13. 'ActualMachineSer'\n",
       "\n",
       "\n"
      ],
      "text/plain": [
       " [1] \"NumPlans\"            \"NumFields\"           \"ActivityCode\"       \n",
       " [4] \"EquipmentSer\"        \"DiagnosisCode\"       \"EnergyModeSer\"      \n",
       " [7] \"TimesHasCome\"        \"PrescribedDose\"      \"TechniqueSer\"       \n",
       "[10] \"NoEditFlag_sch\"      \"TreatmentIntentType\" \"SummaryStage\"       \n",
       "[13] \"ActualMachineSer\"   "
      ]
     },
     "metadata": {},
     "output_type": "display_data"
    }
   ],
   "source": [
    "rownames(df2)[1:13]"
   ]
  },
  {
   "cell_type": "code",
   "execution_count": 81,
   "id": "b777d1eb",
   "metadata": {},
   "outputs": [],
   "source": [
    "# citas[,df2]\n",
    "cols = c(rownames(df2)[1:13] , \"ActualDuration\")"
   ]
  },
  {
   "cell_type": "code",
   "execution_count": 92,
   "id": "9a44f23b",
   "metadata": {},
   "outputs": [
    {
     "name": "stdout",
     "output_type": "stream",
     "text": [
      "rmse =  5.453602 \n",
      "cor pearson =  0.5093818 \n",
      "rmse =  5.526887 \n",
      "cor pearson =  0.5003056 \n"
     ]
    }
   ],
   "source": [
    "trc = tree.control(length(y_tr), minsize = 50, mindev = 0.01)\n",
    "model3 = tree(ActualDuration~. , citas[,cols], subset=i, control = trc)\n",
    "\n",
    "y_pred = predict(model3, x_tr)\n",
    "cat(\"rmse = \", rmse(y_tr, y_pred), \"\\n\")\n",
    "cat(\"cor pearson = \", cor(y_tr, y_pred, method = \"pearson\"), \"\\n\")\n",
    "\n",
    "y_pred = predict(model3, x_te)\n",
    "cat(\"rmse = \", rmse(y_te, y_pred), \"\\n\")\n",
    "cat(\"cor pearson = \", cor(y_te, y_pred, method = \"pearson\"), \"\\n\")"
   ]
  },
  {
   "cell_type": "code",
   "execution_count": 93,
   "id": "fcf2fc85",
   "metadata": {},
   "outputs": [],
   "source": [
    "# plot(y_te, y_pred, xlim=c(5,65), ylim=c(5,65), pch=20)"
   ]
  },
  {
   "cell_type": "code",
   "execution_count": 99,
   "id": "1365208a",
   "metadata": {},
   "outputs": [
    {
     "data": {
      "text/html": [
       "<table class=\"dataframe\">\n",
       "<caption>A data.frame: 20 × 2</caption>\n",
       "<thead>\n",
       "\t<tr><th scope=col>categoría</th><th scope=col>letra</th></tr>\n",
       "\t<tr><th scope=col>&lt;chr&gt;</th><th scope=col>&lt;chr&gt;</th></tr>\n",
       "</thead>\n",
       "<tbody>\n",
       "\t<tr><td>Braquiterapia            </td><td>a</td></tr>\n",
       "\t<tr><td>Cambio de tÃ©cnica       </td><td>b</td></tr>\n",
       "\t<tr><td>Cambio horario           </td><td>c</td></tr>\n",
       "\t<tr><td>Compensacion             </td><td>d</td></tr>\n",
       "\t<tr><td>Daily Treatment          </td><td>e</td></tr>\n",
       "\t<tr><td>Dosis Ãºnica             </td><td>f</td></tr>\n",
       "\t<tr><td>Fin Tratamiento          </td><td>g</td></tr>\n",
       "\t<tr><td>ICT                      </td><td>h</td></tr>\n",
       "\t<tr><td>Inicio SBRT Exactrac     </td><td>i</td></tr>\n",
       "\t<tr><td>MU Calculation           </td><td>j</td></tr>\n",
       "\t<tr><td>Necesita celador         </td><td>k</td></tr>\n",
       "\t<tr><td>New Start                </td><td>l</td></tr>\n",
       "\t<tr><td>RadiocirugÃ­a            </td><td>m</td></tr>\n",
       "\t<tr><td>Transplante              </td><td>n</td></tr>\n",
       "\t<tr><td>Tratamiento de Urgencia  </td><td>o</td></tr>\n",
       "\t<tr><td>Tratamiento Electrones   </td><td>p</td></tr>\n",
       "\t<tr><td>Tratamiento Oncothermia  </td><td>q</td></tr>\n",
       "\t<tr><td>Tratamiento SBRT-Exactrac</td><td>r</td></tr>\n",
       "\t<tr><td>Tratamiento semanal      </td><td>s</td></tr>\n",
       "\t<tr><td>Urgencias                </td><td>t</td></tr>\n",
       "</tbody>\n",
       "</table>\n"
      ],
      "text/latex": [
       "A data.frame: 20 × 2\n",
       "\\begin{tabular}{ll}\n",
       " categoría & letra\\\\\n",
       " <chr> & <chr>\\\\\n",
       "\\hline\n",
       "\t Braquiterapia             & a\\\\\n",
       "\t Cambio de tÃ©cnica        & b\\\\\n",
       "\t Cambio horario            & c\\\\\n",
       "\t Compensacion              & d\\\\\n",
       "\t Daily Treatment           & e\\\\\n",
       "\t Dosis Ãºnica              & f\\\\\n",
       "\t Fin Tratamiento           & g\\\\\n",
       "\t ICT                       & h\\\\\n",
       "\t Inicio SBRT Exactrac      & i\\\\\n",
       "\t MU Calculation            & j\\\\\n",
       "\t Necesita celador          & k\\\\\n",
       "\t New Start                 & l\\\\\n",
       "\t RadiocirugÃ­a             & m\\\\\n",
       "\t Transplante               & n\\\\\n",
       "\t Tratamiento de Urgencia   & o\\\\\n",
       "\t Tratamiento Electrones    & p\\\\\n",
       "\t Tratamiento Oncothermia   & q\\\\\n",
       "\t Tratamiento SBRT-Exactrac & r\\\\\n",
       "\t Tratamiento semanal       & s\\\\\n",
       "\t Urgencias                 & t\\\\\n",
       "\\end{tabular}\n"
      ],
      "text/markdown": [
       "\n",
       "A data.frame: 20 × 2\n",
       "\n",
       "| categoría &lt;chr&gt; | letra &lt;chr&gt; |\n",
       "|---|---|\n",
       "| Braquiterapia             | a |\n",
       "| Cambio de tÃ©cnica        | b |\n",
       "| Cambio horario            | c |\n",
       "| Compensacion              | d |\n",
       "| Daily Treatment           | e |\n",
       "| Dosis Ãºnica              | f |\n",
       "| Fin Tratamiento           | g |\n",
       "| ICT                       | h |\n",
       "| Inicio SBRT Exactrac      | i |\n",
       "| MU Calculation            | j |\n",
       "| Necesita celador          | k |\n",
       "| New Start                 | l |\n",
       "| RadiocirugÃ­a             | m |\n",
       "| Transplante               | n |\n",
       "| Tratamiento de Urgencia   | o |\n",
       "| Tratamiento Electrones    | p |\n",
       "| Tratamiento Oncothermia   | q |\n",
       "| Tratamiento SBRT-Exactrac | r |\n",
       "| Tratamiento semanal       | s |\n",
       "| Urgencias                 | t |\n",
       "\n"
      ],
      "text/plain": [
       "   categoría                 letra\n",
       "1  Braquiterapia             a    \n",
       "2  Cambio de tÃ©cnica        b    \n",
       "3  Cambio horario            c    \n",
       "4  Compensacion              d    \n",
       "5  Daily Treatment           e    \n",
       "6  Dosis Ãºnica              f    \n",
       "7  Fin Tratamiento           g    \n",
       "8  ICT                       h    \n",
       "9  Inicio SBRT Exactrac      i    \n",
       "10 MU Calculation            j    \n",
       "11 Necesita celador          k    \n",
       "12 New Start                 l    \n",
       "13 RadiocirugÃ­a             m    \n",
       "14 Transplante               n    \n",
       "15 Tratamiento de Urgencia   o    \n",
       "16 Tratamiento Electrones    p    \n",
       "17 Tratamiento Oncothermia   q    \n",
       "18 Tratamiento SBRT-Exactrac r    \n",
       "19 Tratamiento semanal       s    \n",
       "20 Urgencias                 t    "
      ]
     },
     "metadata": {},
     "output_type": "display_data"
    }
   ],
   "source": [
    "data.frame(\"categoría\"=levels(citas$ActivityCode), \"letra\"=letters[1:20])"
   ]
  },
  {
   "cell_type": "code",
   "execution_count": 95,
   "id": "adea9a26",
   "metadata": {},
   "outputs": [
    {
     "data": {
      "image/png": "[encoded data removed]",
      "text/plain": [
       "plot without title"
      ]
     },
     "metadata": {
      "image/png": {
       "height": 420,
       "width": 420
      }
     },
     "output_type": "display_data"
    }
   ],
   "source": [
    "plot(model3)\n",
    "text(model3)"
   ]
  },
  {
   "cell_type": "code",
   "execution_count": null,
   "id": "50488343",
   "metadata": {},
   "outputs": [],
   "source": [
    "# opt\n",
    "rmse_tr = c()\n",
    "rmse_te = c()\n",
    "\n",
    "\n",
    "minsizes = 4\n",
    "mindevs = 0.01\n",
    "\n",
    "for(minsize in minsizes){\n",
    "    for( mindev in mindevs){\n",
    "        trc = tree.control(length(y_tr), minsize = minsize, mindev = mindev)\n",
    "        aux = tree(ActualDuration~. , citas, subset=i, control = trc)\n",
    "\n",
    "        cat(minsize,'\\n')\n",
    "        flush.console()\n",
    "\n",
    "        y_pred = predict(aux, x_tr)\n",
    "        rmse_tr = c(rmse_tr, rmse(y_tr, y_pred))\n",
    "\n",
    "        y_pred = predict(aux, x_te)\n",
    "        rmse_te = c(rmse_te, rmse(y_te, y_pred))\n",
    "\n",
    "        \n",
    "        \n",
    "    }\n",
    "}\n",
    "plot(rmse_tr, col=\"blue\", ylim=c(6.5,10))\n",
    "points(rmse_te, col=\"red\")"
   ]
  },
  {
   "cell_type": "markdown",
   "id": "34414115",
   "metadata": {},
   "source": [
    "### rpart"
   ]
  },
  {
   "cell_type": "code",
   "execution_count": null,
   "id": "52fdde29",
   "metadata": {},
   "outputs": [],
   "source": [
    "trc = tree.control(length(y_tr), minsize = 2, mindev = 0.01)\n",
    "model4 = rpart(ActualDuration~. , citas, subset=i, control = trc)"
   ]
  },
  {
   "cell_type": "code",
   "execution_count": null,
   "id": "fda59b87",
   "metadata": {},
   "outputs": [],
   "source": [
    "y_pred = predict(model4, x_tr)\n",
    "cat(\"rmse = \", rmse(y_tr, y_pred), \"\\n\")\n",
    "cat(\"cor pearson = \", cor(y_tr, y_pred, method = \"pearson\"), \"\\n\")\n",
    "\n",
    "y_pred = predict(model4, x_te)\n",
    "cat(\"rmse = \", rmse(y_te, y_pred), \"\\n\")\n",
    "cat(\"cor pearson = \", cor(y_te, y_pred, method = \"pearson\"), \"\\n\")"
   ]
  },
  {
   "cell_type": "code",
   "execution_count": null,
   "id": "44d29b7a",
   "metadata": {},
   "outputs": [],
   "source": [
    "options(repr.plot.width = 8, repr.plot.height = 8)\n",
    "rpart.plot(model4)\n",
    "# text(model4)"
   ]
  }
 ],
 "metadata": {
  "kernelspec": {
   "display_name": "R",
   "language": "R",
   "name": "ir"
  },
  "language_info": {
   "codemirror_mode": "r",
   "file_extension": ".r",
   "mimetype": "text/x-r-source",
   "name": "R",
   "pygments_lexer": "r",
   "version": "4.1.0"
  }
 },
 "nbformat": 4,
 "nbformat_minor": 5
}
