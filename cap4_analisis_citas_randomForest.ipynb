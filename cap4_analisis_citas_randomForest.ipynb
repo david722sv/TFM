{
 "cells": [
  {
   "cell_type": "markdown",
   "id": "abfa4dbf",
   "metadata": {},
   "source": [
    "# Librerías"
   ]
  },
  {
   "cell_type": "code",
   "execution_count": 3,
   "id": "191fd152",
   "metadata": {},
   "outputs": [],
   "source": [
    "library(tree)\n",
    "library(rpart)\n",
    "library(rpart.plot)\n",
    "library(randomForest)\n",
    "\n",
    "library(doParallel)\n",
    "\n",
    "library(microbenchmark)"
   ]
  },
  {
   "cell_type": "markdown",
   "id": "87f6cc47",
   "metadata": {},
   "source": [
    "# Funciones"
   ]
  },
  {
   "cell_type": "code",
   "execution_count": 4,
   "id": "1c008cec",
   "metadata": {},
   "outputs": [],
   "source": [
    "rmse = function(a,b){\n",
    "    sqrt( mean((a - b)^2) )\n",
    "}"
   ]
  },
  {
   "cell_type": "markdown",
   "id": "b00f48e1",
   "metadata": {},
   "source": [
    "# Datos"
   ]
  },
  {
   "cell_type": "code",
   "execution_count": 5,
   "id": "77ded232",
   "metadata": {},
   "outputs": [
    {
     "data": {
      "text/html": [
       "<style>\n",
       ".list-inline {list-style: none; margin:0; padding: 0}\n",
       ".list-inline>li {display: inline-block}\n",
       ".list-inline>li:not(:last-child)::after {content: \"\\00b7\"; padding: 0 .5ex}\n",
       "</style>\n",
       "<ol class=list-inline><li>76881</li><li>72</li></ol>\n"
      ],
      "text/latex": [
       "\\begin{enumerate*}\n",
       "\\item 76881\n",
       "\\item 72\n",
       "\\end{enumerate*}\n"
      ],
      "text/markdown": [
       "1. 76881\n",
       "2. 72\n",
       "\n",
       "\n"
      ],
      "text/plain": [
       "[1] 76881    72"
      ]
     },
     "metadata": {},
     "output_type": "display_data"
    }
   ],
   "source": [
    "citas = read.csv(\"data/ARIA_cleaned/citas.csv\")\n",
    "\n",
    "c_categ = c('ScheduledActivityCode', 'CityOrTownship', 'NStage', 'Technique', 'NoEditFlag_sch', 'NotificationPriorTimeFlag_sch', 'Site', 'NumberOfFractions_isNaN', 'InterfaceStamp', 'Intent', 'IsMorning', 'TechniqueSer', 'TStage', 'TumorSize_isNaN', 'SchedulableFlag', 'SimulationNeeded', 'DayOfWeek', 'NotificationPriorTime_a', 'SummaryStage', 'TreatmentIntentType', 'Sex', 'NotificationPriorTimeFlag_a', 'DiagnosisCode_sec', 'MStage', 'ActivityCategoryCode', 'NotificationPriorTime_sch', 'ObjectStatus_sec', 'Description', 'ResourceGroupSer', 'ActivityCode', 'FractionFrequency', 'ObjectStatus_planes', 'PlanNormMethod', 'ActualMachineSer', 'AssignableFlag', 'Status_pres', 'ClinicalStatus', 'PhaseType', 'PrimaryPTVSer_isNaN', 'SkinFlashMargin', 'PrescribedDose_isNaN', 'HistologyCode', 'DateOfBirth_isNaN', 'Status_rtpps', 'StartDelay_isNaN', 'CalcModelOptions', 'EquipmentSer', 'Bolus', 'AnchorActivityFlag', 'DiagnosisCode', 'DicomSeqNumber', 'NoEditFlag_cat', 'MultiFieldOptFlag', 'TreatmentOrientation', 'PatientStatus', 'Priority', 'Notes', 'EnergyModeSer')\n",
    "\n",
    "citas[c_categ] <- lapply(citas[c_categ], factor)\n",
    "\n",
    "y_s = citas$ScheduledDuration\n",
    "citas[c(\"Duration\",\"DefaultDuration\",\"ScheduledDuration\",'ScheduledActivitySer','StartDateTime',\"ScheduledStartTime\",\n",
    "        \"ScheduledEndTime\",\"ActualStartDate\",\"ActualEndDate\")] = NULL\n",
    "\n",
    "dim(citas)"
   ]
  },
  {
   "cell_type": "code",
   "execution_count": 39,
   "id": "bdc9d70e",
   "metadata": {},
   "outputs": [],
   "source": [
    "y = citas$ActualDuration\n",
    "x = citas[setdiff(names(citas), \"ActualDuration\")]"
   ]
  },
  {
   "cell_type": "markdown",
   "id": "2a2327b9",
   "metadata": {},
   "source": [
    "# Train/test split"
   ]
  },
  {
   "cell_type": "code",
   "execution_count": 40,
   "id": "e7a407f5",
   "metadata": {},
   "outputs": [
    {
     "data": {
      "text/html": [
       "<style>\n",
       ".list-inline {list-style: none; margin:0; padding: 0}\n",
       ".list-inline>li {display: inline-block}\n",
       ".list-inline>li:not(:last-child)::after {content: \"\\00b7\"; padding: 0 .5ex}\n",
       "</style>\n",
       "<ol class=list-inline><li>52884</li><li>71</li></ol>\n"
      ],
      "text/latex": [
       "\\begin{enumerate*}\n",
       "\\item 52884\n",
       "\\item 71\n",
       "\\end{enumerate*}\n"
      ],
      "text/markdown": [
       "1. 52884\n",
       "2. 71\n",
       "\n",
       "\n"
      ],
      "text/plain": [
       "[1] 52884    71"
      ]
     },
     "metadata": {},
     "output_type": "display_data"
    },
    {
     "data": {
      "text/html": [
       "<style>\n",
       ".list-inline {list-style: none; margin:0; padding: 0}\n",
       ".list-inline>li {display: inline-block}\n",
       ".list-inline>li:not(:last-child)::after {content: \"\\00b7\"; padding: 0 .5ex}\n",
       "</style>\n",
       "<ol class=list-inline><li>22664</li><li>71</li></ol>\n"
      ],
      "text/latex": [
       "\\begin{enumerate*}\n",
       "\\item 22664\n",
       "\\item 71\n",
       "\\end{enumerate*}\n"
      ],
      "text/markdown": [
       "1. 22664\n",
       "2. 71\n",
       "\n",
       "\n"
      ],
      "text/plain": [
       "[1] 22664    71"
      ]
     },
     "metadata": {},
     "output_type": "display_data"
    }
   ],
   "source": [
    "n <- nrow(x)\n",
    "r = 0.7\n",
    "\n",
    "# set.seed(17)\n",
    "# i <- sample(1:n, round(r*n))\n",
    "i = seq(1,round(r*n))\n",
    "j <- setdiff(1:n, i)\n",
    "\n",
    "x_tr = x[i,]\n",
    "y_tr = y[i]\n",
    "\n",
    "x_te = x[j,]\n",
    "y_te = y[j]\n",
    "\n",
    "dim(x_tr)\n",
    "dim(x_te)"
   ]
  },
  {
   "cell_type": "markdown",
   "id": "95d7893d",
   "metadata": {},
   "source": [
    "# Random Forest"
   ]
  },
  {
   "cell_type": "markdown",
   "id": "a6a7db80",
   "metadata": {},
   "source": [
    "### Parallel\n",
    "Implementación de random forest en paralelo."
   ]
  },
  {
   "cell_type": "code",
   "execution_count": 9,
   "id": "6f77c50f",
   "metadata": {},
   "outputs": [
    {
     "name": "stdout",
     "output_type": "stream",
     "text": [
      "[1] 8\n"
     ]
    }
   ],
   "source": [
    "randomForest2 = function(ntree, mtry, sampsize, maxnodes){\n",
    "    randomForest(x = x_tr, y = y_tr,\n",
    "                      ntree = ntree,\n",
    "                      mtry = mtry,\n",
    "                      \n",
    "                      replace = FALSE,\n",
    "                      sampsize = sampsize,\n",
    "                      \n",
    "                      maxnodes = maxnodes,  # max 3500\n",
    "                      \n",
    "#                       importance = TRUE,\n",
    "                    )\n",
    "}\n",
    "\n",
    "no_cores <- detectCores(logical = TRUE)\n",
    "print(no_cores)\n",
    "cl <- makeCluster(no_cores-1)\n",
    "registerDoParallel(cl)\n",
    "clusterExport(cl, c('randomForest2','randomForest', 'x_tr', 'y_tr'))"
   ]
  },
  {
   "cell_type": "markdown",
   "id": "7033ecca",
   "metadata": {},
   "source": [
    "### Optimización de parámetros"
   ]
  },
  {
   "cell_type": "code",
   "execution_count": null,
   "id": "acfda1f3",
   "metadata": {},
   "outputs": [],
   "source": [
    "ntrees = rep(10,7) # 9 x 7\n",
    "mtry = 30 # seq(1,40,1)\n",
    "rel_sampsize = seq(0.01,0.20,0.03) # 0.25 # \n",
    "maxnodes = 150 # seq(5,200,5)\n",
    "\n",
    "rmse_tr = c(); rmse_te = c(); cor_tr = c(); cor_te = c()\n",
    "for(v1 in mtry){\n",
    "    for(v2 in rel_sampsize){\n",
    "        for(v3 in maxnodes){\n",
    "            cat(v1,v2,v3,\"\\n\")\n",
    "            flush.console()\n",
    "\n",
    "            rfs = parLapply(cl, ntrees, fun = randomForest2,\n",
    "                            mtry = v1,\n",
    "                            sampsize = ceiling(nrow(x_tr)*v2), \n",
    "                            maxnodes = v3)\n",
    "\n",
    "            rf_comb = combine(rfs[[1]], rfs[[2]], rfs[[3]], rfs[[4]], rfs[[5]], rfs[[6]], rfs[[7]])\n",
    "            \n",
    "            y_pred <- predict(rf_comb, x_tr)\n",
    "            rmse_tr = c(rmse_tr, rmse(y_tr, y_pred))\n",
    "            cor_tr  = c(cor_tr, cor(y_tr, y_pred, method = \"pearson\"))\n",
    "            \n",
    "            y_pred = predict(rf_comb, x_te)\n",
    "            rmse_te = c(rmse_te, rmse(y_te, y_pred))\n",
    "            cor_te  = c(cor_te, cor(y_te, y_pred, method = \"pearson\"))\n",
    "        }\n",
    "    }\n",
    "}"
   ]
  },
  {
   "cell_type": "code",
   "execution_count": 33,
   "id": "5f73f707",
   "metadata": {},
   "outputs": [
    {
     "data": {
      "image/png": "[encoded data removed]",
      "text/plain": [
       "plot without title"
      ]
     },
     "metadata": {
      "image/png": {
       "height": 360,
       "width": 360
      }
     },
     "output_type": "display_data"
    },
    {
     "data": {
      "image/png": "[encoded data removed]",
      "text/plain": [
       "plot without title"
      ]
     },
     "metadata": {
      "image/png": {
       "height": 360,
       "width": 360
      }
     },
     "output_type": "display_data"
    }
   ],
   "source": [
    "variable = rel_sampsize\n",
    "\n",
    "options(repr.plot.width = 6, repr.plot.height = 6)\n",
    "plot(variable, rmse_tr, col=\"blue\", type=\"l\", xlab = \"sampsize\", ylab=\"RMSE\", ylim=c(6,8), cex.lab=1.4, lwd=2)\n",
    "\n",
    "lines(variable, rmse_te, col=\"red\", lwd=2)\n",
    "legend(0.05, 6.3, legend=c(\"train\", \"test\"),\n",
    "       col=c(\"blue\", \"red\"), lty=1, cex=1.2)\n",
    "\n",
    "plot(variable, cor_tr,  col=\"blue\", type=\"l\", xlab = \"sampsize\", ylab=\"Cor Pearson\", ylim=c(0.68,0.8), cex.lab=1.4, lwd=2)\n",
    "lines(variable, cor_te, col=\"red\", lwd=2)\n",
    "legend(0.05, 0.79, legend=c(\"train\", \"test\"),\n",
    "       col=c(\"blue\", \"red\"), lty=1, cex=1.2)"
   ]
  },
  {
   "cell_type": "markdown",
   "id": "4b315391",
   "metadata": {},
   "source": [
    "### Análisis de eficiencia, speedup plot"
   ]
  },
  {
   "cell_type": "code",
   "execution_count": 32,
   "id": "0db50779",
   "metadata": {},
   "outputs": [
    {
     "name": "stdout",
     "output_type": "stream",
     "text": [
      "0\n",
      "[1] 3.950245\n",
      "1\n",
      "2\n",
      "3\n",
      "4\n",
      "5\n"
     ]
    }
   ],
   "source": [
    "aux = function(trees){ # 30 s (60 trees)\n",
    "    microbenchmark(parLapply(cl, trees, fun=randomForest2,mtry = 30,sampsize = ceiling(nrow(x_tr)*0.25),maxnodes = 150),\n",
    "    times=3)$time\n",
    "}\n",
    "\n",
    "# aux = function(trees){ # 245 s (60 trees)\n",
    "#     microbenchmark(parLapply(cl, trees, fun=randomForest2,mtry = 50,sampsize = ceiling(nrow(x_tr)*0.35),maxnodes = 500),\n",
    "#     times=3)$time\n",
    "# }\n",
    "\n",
    "n=1\n",
    "tiempos1 = aux( rep(60,1)*n )\n",
    "tiempos2 = aux( rep(30,2)*n )\n",
    "tiempos3 = aux( rep(20,3)*n )\n",
    "tiempos4 = aux( rep(15,4)*n )\n",
    "tiempos5 = aux( rep(12,5)*n )\n",
    "tiempos6 = aux( rep(10,6)*n )\n",
    "tiempos7 = aux( c(9,9,9,9,8,8,8)*n )\n",
    "tiempos8 = aux( c(8,8,8,8,7,7,7,7)*n )\n",
    "\n",
    "ref = median(tiempos1) # ns\n",
    "print(ref/1e9)"
   ]
  },
  {
   "cell_type": "code",
   "execution_count": 33,
   "id": "f1ec066d",
   "metadata": {},
   "outputs": [
    {
     "data": {
      "image/png": "[encoded data removed]",
      "text/plain": [
       "plot without title"
      ]
     },
     "metadata": {
      "image/png": {
       "height": 420,
       "width": 420
      }
     },
     "output_type": "display_data"
    }
   ],
   "source": [
    "boxplot(ref/tiempos1,\n",
    "        ref/tiempos2,  \n",
    "        ref/tiempos3,  \n",
    "        ref/tiempos4,  \n",
    "        ref/tiempos5,  \n",
    "        ref/tiempos6,  \n",
    "        ref/tiempos7,  \n",
    "        ref/tiempos8,  \n",
    "        ylab = \"speedup\", xlab=\"nº cores\", cex.lab=1.4, ylim=c(1,8), names=c(1,2,3,4,5,6,7,8) )\n",
    "abline(a=0, b=1, col=\"red\", lwd=3, lty=2)"
   ]
  },
  {
   "cell_type": "markdown",
   "id": "217af2ad",
   "metadata": {},
   "source": [
    "### Un solo random forest"
   ]
  },
  {
   "cell_type": "code",
   "execution_count": 41,
   "id": "bb9610e5",
   "metadata": {},
   "outputs": [],
   "source": [
    "model1 = randomForest(x = x_tr, y = y_tr,\n",
    "                      ntree = 70,\n",
    "                      mtry = 30,\n",
    "                      \n",
    "                      replace = FALSE,\n",
    "                      sampsize = ceiling(nrow(x_tr)*0.25),\n",
    "                      \n",
    "                      maxnodes = 150,\n",
    "                      \n",
    "                      importance = TRUE,\n",
    "                    )"
   ]
  },
  {
   "cell_type": "code",
   "execution_count": null,
   "id": "5cc71706",
   "metadata": {},
   "outputs": [],
   "source": [
    "y_pred_all = predict(model1, x_te, predict.all = TRUE)\n",
    "mat = y_pred_all$individual\n",
    "aa = t(apply(mat, 1, cumsum) / seq(ncol(mat)))\n",
    "\n",
    "rmse_te = c()\n",
    "for(i2 in 1:70){\n",
    "    rmse_te = c(rmse_te, rmse(y_te, aa[,i2]))\n",
    "}\n",
    "\n",
    "plot(rmse_te, xlab='Número de árboles', ylab='RMSE', cex.lab=1.4, ylim=c(6.5,7.5), type=\"l\", lwd=3, col=\"blue\")\n",
    "points(sqrt(model1$mse), type=\"l\", lwd=3, col=\"red\")\n",
    "\n",
    "legend(40, 7.4, legend=c(\"test\", \"oob\"),\n",
    "       col=c(\"blue\", \"red\"), lty=1, cex=1.3)"
   ]
  },
  {
   "cell_type": "code",
   "execution_count": 13,
   "id": "2194f347",
   "metadata": {},
   "outputs": [
    {
     "name": "stdout",
     "output_type": "stream",
     "text": [
      "rmse =  6.146173 \n",
      "cor pearson =  0.7870704 \n",
      "rmse =  6.667199 \n",
      "cor pearson =  0.7703553 \n"
     ]
    },
    {
     "data": {
      "image/png": "[encoded data removed]",
      "text/plain": [
       "plot without title"
      ]
     },
     "metadata": {
      "image/png": {
       "height": 420,
       "width": 420
      }
     },
     "output_type": "display_data"
    },
    {
     "data": {
      "image/png": "[encoded data removed]",
      "text/plain": [
       "plot without title"
      ]
     },
     "metadata": {
      "image/png": {
       "height": 420,
       "width": 420
      }
     },
     "output_type": "display_data"
    }
   ],
   "source": [
    "y_pred = predict(model1, x_tr)\n",
    "cat(\"rmse = \", rmse(y_tr, y_pred), \"\\n\")\n",
    "cat(\"cor pearson = \", cor(y_tr, y_pred, method = \"pearson\"), \"\\n\")\n",
    "plot(y_tr, y_pred, xlim=c(0,65), ylim=c(0,65), pch=20, cex = 0.1, xlab = 'duración real (minutos)', \n",
    "     ylab='duración predicha (minutos)', cex.lab=1.4, col=\"blue\")\n",
    "points(y_tr, y_s[i], col=\"red\", pch=20, cex = 0.1)\n",
    "\n",
    "y_pred = predict(model1, x_te)\n",
    "cat(\"rmse = \", rmse(y_te, y_pred), \"\\n\")\n",
    "cat(\"cor pearson = \", cor(y_te, y_pred, method = \"pearson\"), \"\\n\")\n",
    "plot(y_te, y_pred, xlim=c(0,65), ylim=c(0,65), pch=20, cex = 0.1, xlab = 'duración real (minutos)', \n",
    "     ylab='duración predicha (minutos)', cex.lab=1.4, col=\"blue\")\n",
    "points(y_te, y_s[j], col=\"red\", pch=20, cex = 0.1)"
   ]
  },
  {
   "cell_type": "markdown",
   "id": "1359347f",
   "metadata": {},
   "source": [
    "### Importance"
   ]
  },
  {
   "cell_type": "code",
   "execution_count": null,
   "id": "df380f2e",
   "metadata": {
    "scrolled": false
   },
   "outputs": [],
   "source": [
    "df = model1$importance\n",
    "df2 = data.frame( \"%IncMSE\" = df[order(df[,\"%IncMSE\"], decreasing = TRUE),\"%IncMSE\"] )\n",
    "df2"
   ]
  },
  {
   "cell_type": "markdown",
   "id": "38208380",
   "metadata": {},
   "source": [
    "# Single tree"
   ]
  },
  {
   "cell_type": "code",
   "execution_count": 37,
   "id": "9a44f23b",
   "metadata": {},
   "outputs": [
    {
     "name": "stdout",
     "output_type": "stream",
     "text": [
      "rmse =  5.803204 \n",
      "cor pearson =  0.427723 \n",
      "rmse =  5.877849 \n",
      "cor pearson =  0.4394059 \n"
     ]
    }
   ],
   "source": [
    "trc = tree.control(length(y_tr), minsize = 50, mindev = 0.03)\n",
    "model3 = tree(ActualDuration~. , citas[,cols], subset=i, control = trc)\n",
    "\n",
    "y_pred = predict(model3, x_tr)\n",
    "cat(\"rmse = \", rmse(y_tr, y_pred), \"\\n\")\n",
    "cat(\"cor pearson = \", cor(y_tr, y_pred, method = \"pearson\"), \"\\n\")\n",
    "\n",
    "y_pred = predict(model3, x_te)\n",
    "cat(\"rmse = \", rmse(y_te, y_pred), \"\\n\")\n",
    "cat(\"cor pearson = \", cor(y_te, y_pred, method = \"pearson\"), \"\\n\")"
   ]
  },
  {
   "cell_type": "code",
   "execution_count": 40,
   "id": "adea9a26",
   "metadata": {},
   "outputs": [
    {
     "data": {
      "image/png": "[encoded data removed]",
      "text/plain": [
       "plot without title"
      ]
     },
     "metadata": {
      "image/png": {
       "height": 420,
       "width": 420
      }
     },
     "output_type": "display_data"
    }
   ],
   "source": [
    "plot(model3)\n",
    "text(model3)"
   ]
  },
  {
   "cell_type": "markdown",
   "id": "34414115",
   "metadata": {},
   "source": [
    "# rpart"
   ]
  },
  {
   "cell_type": "code",
   "execution_count": null,
   "id": "52fdde29",
   "metadata": {},
   "outputs": [],
   "source": [
    "trc = tree.control(length(y_tr), minsize = 2, mindev = 0.01)\n",
    "model4 = rpart(ActualDuration~. , citas, subset=i, control = trc)"
   ]
  },
  {
   "cell_type": "code",
   "execution_count": null,
   "id": "fda59b87",
   "metadata": {},
   "outputs": [],
   "source": [
    "y_pred = predict(model4, x_tr)\n",
    "cat(\"rmse = \", rmse(y_tr, y_pred), \"\\n\")\n",
    "cat(\"cor pearson = \", cor(y_tr, y_pred, method = \"pearson\"), \"\\n\")\n",
    "\n",
    "y_pred = predict(model4, x_te)\n",
    "cat(\"rmse = \", rmse(y_te, y_pred), \"\\n\")\n",
    "cat(\"cor pearson = \", cor(y_te, y_pred, method = \"pearson\"), \"\\n\")"
   ]
  },
  {
   "cell_type": "code",
   "execution_count": null,
   "id": "44d29b7a",
   "metadata": {},
   "outputs": [],
   "source": [
    "options(repr.plot.width = 8, repr.plot.height = 8)\n",
    "rpart.plot(model4)"
   ]
  }
 ],
 "metadata": {
  "kernelspec": {
   "display_name": "R",
   "language": "R",
   "name": "ir"
  },
  "language_info": {
   "codemirror_mode": "r",
   "file_extension": ".r",
   "mimetype": "text/x-r-source",
   "name": "R",
   "pygments_lexer": "r",
   "version": "4.1.0"
  }
 },
 "nbformat": 4,
 "nbformat_minor": 5
}
