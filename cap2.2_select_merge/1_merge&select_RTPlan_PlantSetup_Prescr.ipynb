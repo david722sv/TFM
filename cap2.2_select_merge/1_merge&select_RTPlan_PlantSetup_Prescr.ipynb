{
 "cells": [
  {
   "cell_type": "raw",
   "id": "07213e1e",
   "metadata": {},
   "source": [
    "RTPlan\n",
    "PlanSetup\n",
    "Prescription"
   ]
  },
  {
   "cell_type": "code",
   "execution_count": 3,
   "id": "1eccaa2a",
   "metadata": {},
   "outputs": [
    {
     "name": "stdout",
     "output_type": "stream",
     "text": [
      "Archivo: data/ARIA/5.CourseOfTreatment/_PlanSetup.csv\n",
      "Se dejaron 29 columnas.\n",
      "Se eliminaron 17 columnas:\n",
      "\n",
      "\n",
      "Archivo: data/ARIA/5.CourseOfTreatment/_RTPlan.csv\n",
      "Se dejaron 16 columnas.\n",
      "Se eliminaron 8 columnas:\n",
      "\n",
      "\n",
      "Archivo: data/ARIA/5.CourseOfTreatment/_Prescription.csv\n",
      "Se dejaron 16 columnas.\n",
      "Se eliminaron 5 columnas:\n",
      "\n",
      "\n"
     ]
    }
   ],
   "source": [
    "import pandas as pd\n",
    "import matplotlib.pyplot as plt\n",
    "import numpy as np\n",
    "import utils as ut\n",
    "\n",
    "path = \"data/ARIA/\"\n",
    "\n",
    "show = 1\n",
    "ps = ut.leer_csv(path+\"5.CourseOfTreatment/_PlanSetup.csv\", show).drop(columns=[\"StatusUserName\",\"StructureSetSer\",\n",
    "                                                                                \"ViewingPlane\",\"ViewingPlaneLRCorner\",\n",
    "                                                                               \"PlanSetupName\",\"TransactionId\",\"CopyOfSer\",\n",
    "                                                                               \"Comment\",\"CreationUserName\",\"PlanSetupId\",\n",
    "                                                                               \"StatusDate\",\"CreationDate\",\n",
    "                                                                                \"ViewingPlaneULCorner\",\"ProtocolPhaseId\"])\n",
    "\n",
    "rtp = ut.leer_csv(path+\"5.CourseOfTreatment/_RTPlan.csv\", show).drop(columns=[\"PlanUID\",\"CreationUserName\",\"PlanIntegrityHash\",\n",
    "                                                                             \"PlanHashVersion\",\"CreationDate\"])\n",
    "\n",
    "pres = ut.leer_csv(\"data/ARIA/5.CourseOfTreatment/_Prescription.csv\", show).drop(columns=[\"TreatmentPhaseSer\",\"CreationDate\",\n",
    "                                                                                          \"PrescriptionName\",\"CreationUserName\",\n",
    "                                                                                          \"PrescriptionTemplateSer\",\n",
    "                                                                                         \"PredecessorPrescriptionSer\"])\n",
    "# presAnat = ut.leer_csv(\"data/ARIA/5.CourseOfTreatment/z_PrescriptionAnatomy.csv\", show)"
   ]
  },
  {
   "cell_type": "code",
   "execution_count": null,
   "id": "08105611",
   "metadata": {
    "scrolled": true
   },
   "outputs": [],
   "source": [
    "ut.info_tabla(pres)"
   ]
  },
  {
   "cell_type": "code",
   "execution_count": null,
   "id": "a2501860",
   "metadata": {},
   "outputs": [],
   "source": []
  },
  {
   "cell_type": "code",
   "execution_count": null,
   "id": "c80128ef",
   "metadata": {},
   "outputs": [],
   "source": []
  },
  {
   "cell_type": "code",
   "execution_count": 4,
   "id": "76e125fe",
   "metadata": {},
   "outputs": [],
   "source": [
    "rtp_ps = rtp.merge(ps, on=\"PlanSetupSer\", how='outer', suffixes = (\"_rtp\", \"_ps\"))\\\n",
    ".merge(pres, on=\"PrescriptionSer\", how=\"left\", suffixes = (\"_rtpps\", \"_pres\"))"
   ]
  },
  {
   "cell_type": "code",
   "execution_count": 5,
   "id": "d4313ce4",
   "metadata": {},
   "outputs": [],
   "source": [
    "rtp_ps.to_csv(\"data/ARIA_merged&selected/RTPlan_PS_Pres.csv\", index=False)"
   ]
  },
  {
   "cell_type": "code",
   "execution_count": null,
   "id": "176cb236",
   "metadata": {},
   "outputs": [],
   "source": []
  }
 ],
 "metadata": {
  "kernelspec": {
   "display_name": "Python 3",
   "language": "python",
   "name": "python3"
  },
  "language_info": {
   "codemirror_mode": {
    "name": "ipython",
    "version": 3
   },
   "file_extension": ".py",
   "mimetype": "text/x-python",
   "name": "python",
   "nbconvert_exporter": "python",
   "pygments_lexer": "ipython3",
   "version": "3.9.4"
  }
 },
 "nbformat": 4,
 "nbformat_minor": 5
}
