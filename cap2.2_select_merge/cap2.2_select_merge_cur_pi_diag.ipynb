{
 "cells": [
  {
   "cell_type": "raw",
   "id": "1883c200",
   "metadata": {},
   "source": [
    "Input:\n",
    "Course\n",
    "PhysicianIntent\n",
    "CurseDiagnosis\n",
    "Diagnosis\n",
    "PrmryDiagnosis\n",
    "SecndryDiagnosis\n",
    "ActCaptDiagnosis\n",
    "ActivityCapture\n",
    "\n",
    "Output:\n",
    "Course_pi_diag"
   ]
  },
  {
   "cell_type": "markdown",
   "id": "db030318",
   "metadata": {},
   "source": [
    "# Datos y librerias"
   ]
  },
  {
   "cell_type": "code",
   "execution_count": 18,
   "id": "eb0d4e40",
   "metadata": {
    "scrolled": true
   },
   "outputs": [
    {
     "name": "stdout",
     "output_type": "stream",
     "text": [
      "Archivo: data/ARIA/5.CourseOfTreatment/_Course.csv\n",
      "Se dejaron 10 columnas.\n",
      "Se eliminaron 4 columnas:\n",
      "\n",
      "\n",
      "Archivo: data/ARIA/5.CourseOfTreatment/_PhysicianIntent.csv\n",
      "Se dejaron 6 columnas.\n",
      "Se eliminaron 5 columnas:\n",
      "\n",
      "\n",
      "Archivo: data/ARIA/5.CourseOfTreatment/CourseDiagnosis.csv\n",
      "Se dejaron 3 columnas.\n",
      "Se eliminaron 4 columnas:\n",
      "\n",
      "\n",
      "Archivo: data/ARIA/5.CourseOfTreatment/_Diagnosis.csv\n",
      "Se dejaron 12 columnas.\n",
      "Se eliminaron 5 columnas:\n",
      "\n",
      "\n",
      "Archivo: data/ARIA/5.CourseOfTreatment/_PrmryDiagnosis.csv\n",
      "Se dejaron 7 columnas.\n",
      "Se eliminaron 2 columnas:\n",
      "\n",
      "\n",
      "Archivo: data/ARIA/5.CourseOfTreatment/_SecndryDiagnosis.csv\n",
      "Se dejaron 1 columnas.\n",
      "Se eliminaron 1 columnas:\n",
      "\n",
      "\n",
      "Archivo: data/ARIA/7.ActivityAndBilling/_ActCaptDiagnosis.csv\n",
      "Se dejaron 8 columnas.\n",
      "Se eliminaron 7 columnas:\n",
      "\n",
      "\n",
      "Archivo: data/ARIA/7.ActivityAndBilling/_ActivityCapture.csv\n",
      "Se dejaron 10 columnas.\n",
      "Se eliminaron 12 columnas:\n",
      "\n",
      "\n"
     ]
    }
   ],
   "source": [
    "import pandas as pd\n",
    "import matplotlib.pyplot as plt\n",
    "import numpy as np\n",
    "import utils as ut\n",
    "\n",
    "path = \"data/ARIA/5.CourseOfTreatment/\"\n",
    "show = 1\n",
    "cur = ut.leer_csv(path + \"_Course.csv\", show).drop(columns=[\"ClinicalProtocolDir\",\"Comment\",\"CompletedByUserName\",\n",
    "                                                            \"TransactionId\",\"CourseId\",\"CompletedDateTime\"])\n",
    "\n",
    "pi = ut.leer_csv(path + \"_PhysicianIntent.csv\", show).drop(columns=[\"CreationUserName\",\"CreationDate\",\"PhysicianIntentUID\"])\n",
    "\n",
    "# Diagnosis:\n",
    "cd = ut.leer_csv(path + \"CourseDiagnosis.csv\", show)\n",
    "diag = ut.leer_csv(path + \"_Diagnosis.csv\", show).drop(columns=[\"DiagnosisTableName\",\"DiagnosisId\",\"Description\",\n",
    "                                                                \"HistologyTableName\",\"DateStamp\",\"HisDescription\"])\n",
    "pri_diag = ut.leer_csv(path + \"_PrmryDiagnosis.csv\", show).drop(columns=[\"StageCriteria\"])\n",
    "sec_diag = ut.leer_csv(path + \"_SecndryDiagnosis.csv\", show)\n",
    "\n",
    "path = \"data/ARIA/7.ActivityAndBilling/\"\n",
    "show = 1\n",
    "a1 = ut.leer_csv(path + \"_ActCaptDiagnosis.csv\", show)\n",
    "a2 = ut.leer_csv(path + \"_ActivityCapture.csv\", show)"
   ]
  },
  {
   "cell_type": "markdown",
   "id": "8f2ca12d",
   "metadata": {},
   "source": [
    "# Exploración"
   ]
  },
  {
   "cell_type": "code",
   "execution_count": 19,
   "id": "63ce18a5",
   "metadata": {},
   "outputs": [],
   "source": [
    "# ut.resumen_tabla(cur)\n",
    "# ut.info_tabla(cur)"
   ]
  },
  {
   "cell_type": "markdown",
   "id": "4bc112a7",
   "metadata": {},
   "source": [
    "# Ordeno diagnosis primarias y secundarias"
   ]
  },
  {
   "cell_type": "code",
   "execution_count": 20,
   "id": "3fd23712",
   "metadata": {},
   "outputs": [],
   "source": [
    "diag_pri = diag[diag.DiagnosisType==\"PrmryDiagnosis\"]\\\n",
    ".merge(pri_diag, on=\"DiagnosisSer\", how=\"outer\", suffixes = (\"_diag\", \"_pri_diag\")).drop(columns=\"DiagnosisType\")\n",
    "\n",
    "diag_sec = diag[diag.DiagnosisType==\"SecndryDiagnosis\"]\\\n",
    ".merge(sec_diag, on=\"DiagnosisSer\", how=\"outer\", suffixes = (\"_diag\", \"_sec_diag\")).drop(columns=\"DiagnosisType\")\n",
    "\n",
    "diag_sec = diag_sec.rename(columns={'DiagnosisCode': 'DiagnosisCode_sec',\n",
    "                                    'ObjectStatus': 'ObjectStatus_sec'}).drop(columns=\"HistologyCode\")\n",
    "\n",
    "\n",
    "diag_pri = diag_pri.drop(columns=\"PatientSer\")\n",
    "diag_sec = diag_sec.drop(columns=\"PatientSer\")"
   ]
  },
  {
   "cell_type": "markdown",
   "id": "f40268bd",
   "metadata": {},
   "source": [
    "# Relacción Course-Diagnosis\n",
    "DiagnosisSer puede referirse a una primaria o secundaria"
   ]
  },
  {
   "cell_type": "code",
   "execution_count": 21,
   "id": "821a40fc",
   "metadata": {},
   "outputs": [],
   "source": [
    "cd2 = a2[[\"ActivityCaptureSer\",\"CourseSer\",\"ActivityInstanceSer\"]] \\\n",
    ".merge(a1[[\"DiagnosisSer\",\"ActivityCaptureSer\"]], on=\"ActivityCaptureSer\", how=\"outer\") \\\n",
    "[[\"CourseSer\",\"DiagnosisSer\"]].drop_duplicates().dropna()\n",
    "\n",
    "cdf = pd.concat([cd, cd2])[[\"CourseSer\",\"DiagnosisSer\"]].drop_duplicates()"
   ]
  },
  {
   "cell_type": "code",
   "execution_count": 22,
   "id": "b663bef9",
   "metadata": {},
   "outputs": [],
   "source": [
    "# me quedo con aquellas relaciones Course-Diagnosis donde el curso solo tiene asociada una diagnosis\n",
    "vc = cdf[cdf.DiagnosisSer.isin(diag_pri.DiagnosisSer)].CourseSer.value_counts()\n",
    "c1 = vc[vc==1].index\n",
    "\n",
    "vc = cdf[cdf.DiagnosisSer.isin(diag_sec.DiagnosisSer)].CourseSer.value_counts()\n",
    "c2 = vc[vc==1].index\n",
    "\n",
    "cd_pri = cdf[(cdf.CourseSer.isin(c1)) & cdf.DiagnosisSer.isin(diag_pri.DiagnosisSer)]\n",
    "cd_sec = cdf[(cdf.CourseSer.isin(c2)) & cdf.DiagnosisSer.isin(diag_sec.DiagnosisSer)]"
   ]
  },
  {
   "cell_type": "code",
   "execution_count": 23,
   "id": "8bf7d8e4",
   "metadata": {},
   "outputs": [
    {
     "name": "stdout",
     "output_type": "stream",
     "text": [
      "(4589, 2)\n",
      "4589\n",
      "4305\n",
      "Longitud del primer set: 663\n",
      "Longitud del segundo set: 6430\n",
      "\n",
      "Indices comunes: 663\n",
      "Indices que solo están en el primero: 0\n",
      "Indices que solo están en el segundo: 5767\n",
      "_____________________________________________\n",
      "\n"
     ]
    }
   ],
   "source": [
    "print(cd_pri.shape)\n",
    "print(cd_pri.CourseSer.nunique())\n",
    "print(cd_pri.DiagnosisSer.nunique())\n",
    "\n",
    "a,b,c = ut.rel_indices(cd_sec.CourseSer, cur.CourseSer)"
   ]
  },
  {
   "cell_type": "markdown",
   "id": "ccf39056",
   "metadata": {},
   "source": [
    "# Join"
   ]
  },
  {
   "cell_type": "code",
   "execution_count": 50,
   "id": "e8d70917",
   "metadata": {},
   "outputs": [
    {
     "data": {
      "text/plain": [
       "(6430, 15)"
      ]
     },
     "execution_count": 50,
     "metadata": {},
     "output_type": "execute_result"
    }
   ],
   "source": [
    "cur_pi_diag = cur\\\n",
    ".merge(pi, on=\"CourseSer\", how=\"left\", suffixes = (\"_cur\", \"_pi\")).drop(columns=[\"PhysicianIntentSer\"])\\\n",
    ".merge(cd_pri, on=\"CourseSer\", how=\"left\", suffixes = (\"_curpi\", \"_cd_pri\"))\\\n",
    ".merge(diag_pri, on=\"DiagnosisSer\", how=\"left\", suffixes = (\"_curpi\", \"_diag_pri\")).drop(columns=\"DiagnosisSer\")\\\n",
    ".merge(cd_sec, on=\"CourseSer\", how=\"left\", suffixes = (\"_curpi\", \"_cd_sec\"))\\\n",
    ".merge(diag_sec, on=\"DiagnosisSer\", how=\"left\", suffixes = (\"_curpi\", \"_diag_sec\")).drop(columns=\"DiagnosisSer\")\n",
    "\n",
    "# 71%\n",
    "cur_pi_diag.shape"
   ]
  },
  {
   "cell_type": "code",
   "execution_count": 78,
   "id": "565a9c49",
   "metadata": {},
   "outputs": [
    {
     "name": "stdout",
     "output_type": "stream",
     "text": [
      "(5428, 6)\n"
     ]
    },
    {
     "data": {
      "text/plain": [
       "DiagnosisSer        0\n",
       "DiagnosisType       0\n",
       "PatientSer          0\n",
       "HistologyCode    3769\n",
       "DiagnosisCode       0\n",
       "ObjectStatus        0\n",
       "dtype: int64"
      ]
     },
     "execution_count": 78,
     "metadata": {},
     "output_type": "execute_result"
    }
   ],
   "source": [
    "print(diag.shape)\n",
    "diag.isna().sum()"
   ]
  },
  {
   "cell_type": "markdown",
   "id": "25aa77d2",
   "metadata": {},
   "source": [
    "# Resumen"
   ]
  },
  {
   "cell_type": "code",
   "execution_count": 25,
   "id": "a28b3877",
   "metadata": {},
   "outputs": [
    {
     "name": "stdout",
     "output_type": "stream",
     "text": [
      "6430 registros\n",
      "15 variables\n"
     ]
    },
    {
     "data": {
      "text/html": [
       "<div>\n",
       "<style scoped>\n",
       "    .dataframe tbody tr th:only-of-type {\n",
       "        vertical-align: middle;\n",
       "    }\n",
       "\n",
       "    .dataframe tbody tr th {\n",
       "        vertical-align: top;\n",
       "    }\n",
       "\n",
       "    .dataframe thead th {\n",
       "        text-align: right;\n",
       "    }\n",
       "</style>\n",
       "<table border=\"1\" class=\"dataframe\">\n",
       "  <thead>\n",
       "    <tr style=\"text-align: right;\">\n",
       "      <th></th>\n",
       "      <th>nans</th>\n",
       "      <th>nunicos</th>\n",
       "      <th>nunicos_r</th>\n",
       "      <th>dtype</th>\n",
       "    </tr>\n",
       "  </thead>\n",
       "  <tbody>\n",
       "    <tr>\n",
       "      <th>PatientSer</th>\n",
       "      <td>0.00</td>\n",
       "      <td>5413</td>\n",
       "      <td>84.18</td>\n",
       "      <td>int64</td>\n",
       "    </tr>\n",
       "    <tr>\n",
       "      <th>CourseSer</th>\n",
       "      <td>0.00</td>\n",
       "      <td>6430</td>\n",
       "      <td>100.00</td>\n",
       "      <td>int64</td>\n",
       "    </tr>\n",
       "    <tr>\n",
       "      <th>ClinicalStatus</th>\n",
       "      <td>0.00</td>\n",
       "      <td>2</td>\n",
       "      <td>0.03</td>\n",
       "      <td>object</td>\n",
       "    </tr>\n",
       "    <tr>\n",
       "      <th>StartDateTime</th>\n",
       "      <td>3.00</td>\n",
       "      <td>6236</td>\n",
       "      <td>96.98</td>\n",
       "      <td>object</td>\n",
       "    </tr>\n",
       "    <tr>\n",
       "      <th>TreatmentIntentType</th>\n",
       "      <td>7.84</td>\n",
       "      <td>15</td>\n",
       "      <td>0.23</td>\n",
       "      <td>object</td>\n",
       "    </tr>\n",
       "    <tr>\n",
       "      <th>DiagnosisCode</th>\n",
       "      <td>28.63</td>\n",
       "      <td>422</td>\n",
       "      <td>6.56</td>\n",
       "      <td>object</td>\n",
       "    </tr>\n",
       "    <tr>\n",
       "      <th>ObjectStatus</th>\n",
       "      <td>28.63</td>\n",
       "      <td>2</td>\n",
       "      <td>0.03</td>\n",
       "      <td>object</td>\n",
       "    </tr>\n",
       "    <tr>\n",
       "      <th>SummaryStage</th>\n",
       "      <td>42.75</td>\n",
       "      <td>26</td>\n",
       "      <td>0.40</td>\n",
       "      <td>object</td>\n",
       "    </tr>\n",
       "    <tr>\n",
       "      <th>TStage</th>\n",
       "      <td>49.61</td>\n",
       "      <td>80</td>\n",
       "      <td>1.24</td>\n",
       "      <td>object</td>\n",
       "    </tr>\n",
       "    <tr>\n",
       "      <th>MStage</th>\n",
       "      <td>51.57</td>\n",
       "      <td>13</td>\n",
       "      <td>0.20</td>\n",
       "      <td>object</td>\n",
       "    </tr>\n",
       "    <tr>\n",
       "      <th>NStage</th>\n",
       "      <td>61.93</td>\n",
       "      <td>28</td>\n",
       "      <td>0.44</td>\n",
       "      <td>object</td>\n",
       "    </tr>\n",
       "    <tr>\n",
       "      <th>HistologyCode</th>\n",
       "      <td>77.20</td>\n",
       "      <td>122</td>\n",
       "      <td>1.90</td>\n",
       "      <td>object</td>\n",
       "    </tr>\n",
       "    <tr>\n",
       "      <th>TumorSize</th>\n",
       "      <td>83.13</td>\n",
       "      <td>104</td>\n",
       "      <td>1.62</td>\n",
       "      <td>float64</td>\n",
       "    </tr>\n",
       "    <tr>\n",
       "      <th>DiagnosisCode_sec</th>\n",
       "      <td>89.69</td>\n",
       "      <td>35</td>\n",
       "      <td>0.54</td>\n",
       "      <td>object</td>\n",
       "    </tr>\n",
       "    <tr>\n",
       "      <th>ObjectStatus_sec</th>\n",
       "      <td>89.69</td>\n",
       "      <td>1</td>\n",
       "      <td>0.02</td>\n",
       "      <td>object</td>\n",
       "    </tr>\n",
       "  </tbody>\n",
       "</table>\n",
       "</div>"
      ],
      "text/plain": [
       "                      nans  nunicos  nunicos_r    dtype\n",
       "PatientSer            0.00     5413      84.18    int64\n",
       "CourseSer             0.00     6430     100.00    int64\n",
       "ClinicalStatus        0.00        2       0.03   object\n",
       "StartDateTime         3.00     6236      96.98   object\n",
       "TreatmentIntentType   7.84       15       0.23   object\n",
       "DiagnosisCode        28.63      422       6.56   object\n",
       "ObjectStatus         28.63        2       0.03   object\n",
       "SummaryStage         42.75       26       0.40   object\n",
       "TStage               49.61       80       1.24   object\n",
       "MStage               51.57       13       0.20   object\n",
       "NStage               61.93       28       0.44   object\n",
       "HistologyCode        77.20      122       1.90   object\n",
       "TumorSize            83.13      104       1.62  float64\n",
       "DiagnosisCode_sec    89.69       35       0.54   object\n",
       "ObjectStatus_sec     89.69        1       0.02   object"
      ]
     },
     "execution_count": 25,
     "metadata": {},
     "output_type": "execute_result"
    }
   ],
   "source": [
    "ut.resumen_tabla(cur_pi_diag, 'nans')"
   ]
  },
  {
   "cell_type": "markdown",
   "id": "5c3e5670",
   "metadata": {},
   "source": [
    "# Archivo final"
   ]
  },
  {
   "cell_type": "code",
   "execution_count": 26,
   "id": "aac88e58",
   "metadata": {},
   "outputs": [],
   "source": [
    "cur_pi_diag.to_csv(\"data/ARIA_merged&selected/Course_pi_diag.csv\", index=False)"
   ]
  },
  {
   "cell_type": "code",
   "execution_count": null,
   "id": "6c587e80",
   "metadata": {},
   "outputs": [],
   "source": []
  }
 ],
 "metadata": {
  "kernelspec": {
   "display_name": "Python 3",
   "language": "python",
   "name": "python3"
  },
  "language_info": {
   "codemirror_mode": {
    "name": "ipython",
    "version": 3
   },
   "file_extension": ".py",
   "mimetype": "text/x-python",
   "name": "python",
   "nbconvert_exporter": "python",
   "pygments_lexer": "ipython3",
   "version": "3.9.4"
  }
 },
 "nbformat": 4,
 "nbformat_minor": 5
}
