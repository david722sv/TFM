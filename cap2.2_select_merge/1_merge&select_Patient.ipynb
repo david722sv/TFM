{
 "cells": [
  {
   "cell_type": "code",
   "execution_count": 1,
   "id": "dbe249cc",
   "metadata": {},
   "outputs": [],
   "source": [
    "import pandas as pd\n",
    "import matplotlib.pyplot as plt\n",
    "import numpy as np\n",
    "import utils as ut\n",
    "\n",
    "showInfo = 0\n",
    "p = ut.leer_csv(\"data/ARIA/4.PatientDemographics/_Patient.csv\", showInfo).drop(columns = [\"SSN\",\"WorkPhone\",\"HomePhone\",\n",
    "                      \"Citizenship\",\"MobilePhone\",\"CreationDate\",\"Language\",\"PatientId2\",\"MobilePhoneProviderSer\",\"PatientId\",\n",
    "                       \"FileDataSiteID\",\"PatientUID\"])\n",
    "\n",
    "pa = ut.leer_csv(\"data/ARIA/4.PatientDemographics/_PatientAddress.csv\", showInfo).drop(columns = [\"PrimaryFlag\"])\n",
    "\n",
    "a  = ut.leer_csv(\"data/ARIA/4.PatientDemographics/_Address.csv\", showInfo).drop(columns = [\"County\",\"AddressLine1\",\n",
    "                     \"AddressLine2\",\"PhoneNumber1\",\"PhoneNumber2\",\"EMailAddress\",\"OriginationDate\",\n",
    "                      \"TerminationDate\",\"PostalCode\",\"AddressType\",\"StateOrProvince\"])\n",
    "\n",
    "tr = pd.read_csv(\"data/ARIA_merged&selected/TreatmentRecord.csv\", index_col=\"TreatmentRecordSer\")\\\n",
    ".drop(columns = [\"ActualMachineAuthorization\",\"MachOverrideFlag\"])\n",
    "\n",
    "# pp = ut.leer_csv(\"data/ARIA/4.PatientDemographics/_PatientParticular.csv\", showInfo).drop(columns = [\"MaritalStatus\",\n",
    "#          \"RetireDate\",\"DeathDate\",\"PassportNumber\",\"UserDefAttrib01\",\"UniversalPatientId\",\"RetireReason\",\"RetireNote\"])"
   ]
  },
  {
   "cell_type": "code",
   "execution_count": 2,
   "id": "730a94ef",
   "metadata": {
    "scrolled": false
   },
   "outputs": [],
   "source": [
    "# ut.info_tabla(a)"
   ]
  },
  {
   "cell_type": "code",
   "execution_count": null,
   "id": "4c0b7a16",
   "metadata": {},
   "outputs": [],
   "source": []
  },
  {
   "cell_type": "code",
   "execution_count": 3,
   "id": "cfa273cf",
   "metadata": {},
   "outputs": [
    {
     "data": {
      "text/html": [
       "<div>\n",
       "<style scoped>\n",
       "    .dataframe tbody tr th:only-of-type {\n",
       "        vertical-align: middle;\n",
       "    }\n",
       "\n",
       "    .dataframe tbody tr th {\n",
       "        vertical-align: top;\n",
       "    }\n",
       "\n",
       "    .dataframe thead th {\n",
       "        text-align: right;\n",
       "    }\n",
       "</style>\n",
       "<table border=\"1\" class=\"dataframe\">\n",
       "  <thead>\n",
       "    <tr style=\"text-align: right;\">\n",
       "      <th></th>\n",
       "      <th>FirstName</th>\n",
       "      <th>DateOfBirth</th>\n",
       "      <th>PatientSer</th>\n",
       "      <th>Sex</th>\n",
       "      <th>Country</th>\n",
       "      <th>CityOrTownship</th>\n",
       "    </tr>\n",
       "  </thead>\n",
       "  <tbody>\n",
       "    <tr>\n",
       "      <th>0</th>\n",
       "      <td>Truebeam</td>\n",
       "      <td>NaN</td>\n",
       "      <td>4</td>\n",
       "      <td>Other</td>\n",
       "      <td>None</td>\n",
       "      <td>None</td>\n",
       "    </tr>\n",
       "    <tr>\n",
       "      <th>1</th>\n",
       "      <td>NaN</td>\n",
       "      <td>4/29/2008 12:00:00 AM</td>\n",
       "      <td>7</td>\n",
       "      <td>Unknown</td>\n",
       "      <td>None</td>\n",
       "      <td>None</td>\n",
       "    </tr>\n",
       "    <tr>\n",
       "      <th>2</th>\n",
       "      <td>NaN</td>\n",
       "      <td>4/29/2008 12:00:00 AM</td>\n",
       "      <td>8</td>\n",
       "      <td>Unknown</td>\n",
       "      <td>None</td>\n",
       "      <td>None</td>\n",
       "    </tr>\n",
       "    <tr>\n",
       "      <th>3</th>\n",
       "      <td>NaN</td>\n",
       "      <td>5/19/2008 12:00:00 AM</td>\n",
       "      <td>9</td>\n",
       "      <td>Unknown</td>\n",
       "      <td>None</td>\n",
       "      <td>None</td>\n",
       "    </tr>\n",
       "    <tr>\n",
       "      <th>4</th>\n",
       "      <td>NaN</td>\n",
       "      <td>4/29/2008 12:00:00 AM</td>\n",
       "      <td>11</td>\n",
       "      <td>Unknown</td>\n",
       "      <td>None</td>\n",
       "      <td>None</td>\n",
       "    </tr>\n",
       "  </tbody>\n",
       "</table>\n",
       "</div>"
      ],
      "text/plain": [
       "  FirstName            DateOfBirth  PatientSer               Sex Country  \\\n",
       "0  Truebeam                    NaN           4  Other               None   \n",
       "1       NaN  4/29/2008 12:00:00 AM           7  Unknown             None   \n",
       "2       NaN  4/29/2008 12:00:00 AM           8  Unknown             None   \n",
       "3       NaN  5/19/2008 12:00:00 AM           9  Unknown             None   \n",
       "4       NaN  4/29/2008 12:00:00 AM          11  Unknown             None   \n",
       "\n",
       "  CityOrTownship  \n",
       "0           None  \n",
       "1           None  \n",
       "2           None  \n",
       "3           None  \n",
       "4           None  "
      ]
     },
     "execution_count": 3,
     "metadata": {},
     "output_type": "execute_result"
    }
   ],
   "source": [
    "join1 = pa.merge(a, on=\"AddressSer\", how=\"left\", suffixes = (\"_pa\", \"_a\")).groupby(\"PatientSer\", as_index=False).first()\n",
    "join2 = p.merge(join1, on=\"PatientSer\", how='left', suffixes = (\"_p\", \"_paa\")).drop(columns=\"AddressSer\")\n",
    "# join3 = join2.merge(pp, on=\"PatientSer\", how=\"left\")\n",
    "join2.head()"
   ]
  },
  {
   "cell_type": "code",
   "execution_count": 4,
   "id": "d6ee0952",
   "metadata": {},
   "outputs": [
    {
     "data": {
      "text/html": [
       "<div>\n",
       "<style scoped>\n",
       "    .dataframe tbody tr th:only-of-type {\n",
       "        vertical-align: middle;\n",
       "    }\n",
       "\n",
       "    .dataframe tbody tr th {\n",
       "        vertical-align: top;\n",
       "    }\n",
       "\n",
       "    .dataframe thead th {\n",
       "        text-align: right;\n",
       "    }\n",
       "</style>\n",
       "<table border=\"1\" class=\"dataframe\">\n",
       "  <thead>\n",
       "    <tr style=\"text-align: right;\">\n",
       "      <th></th>\n",
       "      <th>FirstName</th>\n",
       "      <th>DateOfBirth</th>\n",
       "      <th>PatientSer</th>\n",
       "      <th>Sex</th>\n",
       "      <th>Country</th>\n",
       "      <th>CityOrTownship</th>\n",
       "    </tr>\n",
       "  </thead>\n",
       "  <tbody>\n",
       "    <tr>\n",
       "      <th>0</th>\n",
       "      <td>Truebeam</td>\n",
       "      <td>NaN</td>\n",
       "      <td>4</td>\n",
       "      <td>Other</td>\n",
       "      <td>None</td>\n",
       "      <td>None</td>\n",
       "    </tr>\n",
       "    <tr>\n",
       "      <th>1</th>\n",
       "      <td>NaN</td>\n",
       "      <td>2008.0</td>\n",
       "      <td>7</td>\n",
       "      <td>Unknown</td>\n",
       "      <td>None</td>\n",
       "      <td>None</td>\n",
       "    </tr>\n",
       "    <tr>\n",
       "      <th>2</th>\n",
       "      <td>NaN</td>\n",
       "      <td>2008.0</td>\n",
       "      <td>8</td>\n",
       "      <td>Unknown</td>\n",
       "      <td>None</td>\n",
       "      <td>None</td>\n",
       "    </tr>\n",
       "    <tr>\n",
       "      <th>3</th>\n",
       "      <td>NaN</td>\n",
       "      <td>2008.0</td>\n",
       "      <td>9</td>\n",
       "      <td>Unknown</td>\n",
       "      <td>None</td>\n",
       "      <td>None</td>\n",
       "    </tr>\n",
       "    <tr>\n",
       "      <th>4</th>\n",
       "      <td>NaN</td>\n",
       "      <td>2008.0</td>\n",
       "      <td>11</td>\n",
       "      <td>Unknown</td>\n",
       "      <td>None</td>\n",
       "      <td>None</td>\n",
       "    </tr>\n",
       "  </tbody>\n",
       "</table>\n",
       "</div>"
      ],
      "text/plain": [
       "  FirstName  DateOfBirth  PatientSer               Sex Country CityOrTownship\n",
       "0  Truebeam          NaN           4  Other               None           None\n",
       "1       NaN       2008.0           7  Unknown             None           None\n",
       "2       NaN       2008.0           8  Unknown             None           None\n",
       "3       NaN       2008.0           9  Unknown             None           None\n",
       "4       NaN       2008.0          11  Unknown             None           None"
      ]
     },
     "execution_count": 4,
     "metadata": {},
     "output_type": "execute_result"
    }
   ],
   "source": [
    "join2[\"DateOfBirth\"] = pd.DatetimeIndex( pd.to_datetime(join2[\"DateOfBirth\"])).year\n",
    "join2.head()"
   ]
  },
  {
   "cell_type": "markdown",
   "id": "25133cce",
   "metadata": {},
   "source": [
    "# Separar pacientes reales y \"de prueba\""
   ]
  },
  {
   "cell_type": "code",
   "execution_count": 5,
   "id": "67af8786",
   "metadata": {},
   "outputs": [],
   "source": [
    "l2 = list(pd.read_csv(\"data/nombres_hombre.csv\", skiprows=6, delimiter=\";\").Nombre.values)\n",
    "l3 = list(pd.read_csv(\"data/nombres_mujer.csv\" , skiprows=6, delimiter=\";\").Nombre.values)\n",
    "\n",
    "import unidecode\n",
    "l4 = []\n",
    "for i in l2+l3:\n",
    "    if isinstance(i, str): l4.append(unidecode.unidecode(i))"
   ]
  },
  {
   "cell_type": "code",
   "execution_count": 6,
   "id": "7fdd73e6",
   "metadata": {},
   "outputs": [],
   "source": [
    "nombres = join2.FirstName.str.normalize('NFKD').str.encode('ascii', errors='ignore').str.decode('utf-8') \\\n",
    "            .str.upper().str.split().str[0]"
   ]
  },
  {
   "cell_type": "code",
   "execution_count": 7,
   "id": "0a8cb3f1",
   "metadata": {},
   "outputs": [
    {
     "name": "stdout",
     "output_type": "stream",
     "text": [
      "6759\n",
      "165\n"
     ]
    }
   ],
   "source": [
    "patient_real = join2[ nombres.isin(l4)]\n",
    "patient_test = join2[~nombres.isin(l4)]\n",
    "print(len(patient_real))\n",
    "print(len(patient_test))"
   ]
  },
  {
   "cell_type": "markdown",
   "id": "aaf9869e",
   "metadata": {},
   "source": [
    "# Corrección\n",
    "Reviso aquellos pacientes en 'patient_test' que han sido tratados en las máquinas, por si hubiera quedado alguno como falso negativo."
   ]
  },
  {
   "cell_type": "code",
   "execution_count": 8,
   "id": "c499f8f3",
   "metadata": {},
   "outputs": [
    {
     "data": {
      "text/plain": [
       "(51, 6)"
      ]
     },
     "execution_count": 8,
     "metadata": {},
     "output_type": "execute_result"
    }
   ],
   "source": [
    "idx = list(set.intersection(set(tr.PatientSer.unique()), set(patient_test.PatientSer)  ))\n",
    "aa = patient_test[patient_test.PatientSer.isin(idx)]\n",
    "aa.shape"
   ]
  },
  {
   "cell_type": "markdown",
   "id": "b0c7cd6e",
   "metadata": {},
   "source": [
    "Parece que dentro de este grupo aquellos con 'CityOrTownship' no nulo son reales."
   ]
  },
  {
   "cell_type": "code",
   "execution_count": 9,
   "id": "c9607d6c",
   "metadata": {},
   "outputs": [],
   "source": [
    "idx_pats_real = list(set.union(set(patient_real.PatientSer), set(aa[aa.CityOrTownship.notnull()].PatientSer)))"
   ]
  },
  {
   "cell_type": "code",
   "execution_count": 10,
   "id": "0a39ff83",
   "metadata": {},
   "outputs": [],
   "source": [
    "patient_real = join2[ join2.PatientSer.isin(idx_pats_real)]\n",
    "patient_test = join2[~join2.PatientSer.isin(idx_pats_real)]"
   ]
  },
  {
   "cell_type": "code",
   "execution_count": 11,
   "id": "10a89e8e",
   "metadata": {},
   "outputs": [
    {
     "name": "stdout",
     "output_type": "stream",
     "text": [
      "(6924, 6)\n",
      "(6789, 6)\n",
      "(135, 6)\n"
     ]
    }
   ],
   "source": [
    "# patient_real\n",
    "print(join2.shape)\n",
    "\n",
    "print(patient_real.shape)\n",
    "print(patient_test.shape)\n",
    "# patient_real.head()"
   ]
  },
  {
   "cell_type": "markdown",
   "id": "11992aae",
   "metadata": {},
   "source": [
    "# Guardar tablas"
   ]
  },
  {
   "cell_type": "code",
   "execution_count": 12,
   "id": "2b9ffcbf",
   "metadata": {},
   "outputs": [],
   "source": [
    "patient_real.to_csv(\"data/ARIA_merged&selected/Patient_real.csv\", index=False)\n",
    "patient_test.to_csv(\"data/ARIA_merged&selected/Patient_test.csv\", index=False)"
   ]
  },
  {
   "cell_type": "code",
   "execution_count": null,
   "id": "3a659629",
   "metadata": {},
   "outputs": [],
   "source": []
  }
 ],
 "metadata": {
  "kernelspec": {
   "display_name": "Python 3",
   "language": "python",
   "name": "python3"
  },
  "language_info": {
   "codemirror_mode": {
    "name": "ipython",
    "version": 3
   },
   "file_extension": ".py",
   "mimetype": "text/x-python",
   "name": "python",
   "nbconvert_exporter": "python",
   "pygments_lexer": "ipython3",
   "version": "3.9.4"
  }
 },
 "nbformat": 4,
 "nbformat_minor": 5
}
