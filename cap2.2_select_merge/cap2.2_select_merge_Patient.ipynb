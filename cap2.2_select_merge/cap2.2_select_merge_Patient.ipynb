{
 "cells": [
  {
   "cell_type": "raw",
   "metadata": {},
   "source": [
    "Input:\n",
    "Patient\n",
    "PatientAddress\n",
    "Address\n",
    "TreatmentRecord\n",
    "\n",
    "Output:\n",
    "Patient_real\n",
    "Patient_test"
   ]
  },
  {
   "cell_type": "markdown",
   "metadata": {},
   "source": [
    "# Datos y librerias"
   ]
  },
  {
   "cell_type": "code",
   "execution_count": 1,
   "metadata": {},
   "outputs": [
    {
     "name": "stdout",
     "output_type": "stream",
     "text": [
      "Archivo: data/ARIA/4.PatientDemographics/_Patient.csv\n",
      "Se dejaron 16 columnas.\n",
      "Se eliminaron 25 columnas:\n",
      "\n",
      "\n",
      "Archivo: data/ARIA/4.PatientDemographics/_PatientAddress.csv\n",
      "Se dejaron 3 columnas.\n",
      "Se eliminaron 5 columnas:\n",
      "\n",
      "\n",
      "Archivo: data/ARIA/4.PatientDemographics/_Address.csv\n",
      "Se dejaron 14 columnas.\n",
      "Se eliminaron 9 columnas:\n",
      "\n",
      "\n"
     ]
    }
   ],
   "source": [
    "import pandas as pd\n",
    "import matplotlib.pyplot as plt\n",
    "import numpy as np\n",
    "import utils as ut\n",
    "\n",
    "path = \"data/ARIA/4.PatientDemographics/\"\n",
    "showInfo = 1\n",
    "p = ut.leer_csv(path + \"_Patient.csv\", showInfo).drop(columns = [\"Citizenship\",\"CreationDate\",\"Language\",\"PatientId2\",\n",
    "                       \"MobilePhoneProviderSer\",\"PatientId\",\"FileDataSiteID\",\"PatientUID\"])\n",
    "\n",
    "pa = ut.leer_csv(path + \"_PatientAddress.csv\", showInfo).drop(columns = [\"PrimaryFlag\"])\n",
    "\n",
    "a  = ut.leer_csv(path + \"_Address.csv\", showInfo).drop(columns = [\"County\",\"AddressLine1\",\"AddressLine2\",\"PhoneNumber1\",\n",
    "     'Country',\"PhoneNumber2\",\"EMailAddress\",\"OriginationDate\",\"TerminationDate\",\"PostalCode\",\"AddressType\",\"StateOrProvince\"])\n",
    "\n",
    "tr = pd.read_csv(\"data/ARIA_merged&selected/TreatmentRecord.csv\", index_col=\"TreatmentRecordSer\")"
   ]
  },
  {
   "cell_type": "markdown",
   "metadata": {},
   "source": [
    "# Exploración"
   ]
  },
  {
   "cell_type": "code",
   "execution_count": 2,
   "metadata": {
    "scrolled": false
   },
   "outputs": [],
   "source": [
    "# ut.resumen_tabla(p)\n",
    "# ut.info_tabla(p)"
   ]
  },
  {
   "cell_type": "markdown",
   "metadata": {},
   "source": [
    "# Join"
   ]
  },
  {
   "cell_type": "code",
   "execution_count": 3,
   "metadata": {},
   "outputs": [
    {
     "data": {
      "text/html": [
       "<div>\n",
       "<style scoped>\n",
       "    .dataframe tbody tr th:only-of-type {\n",
       "        vertical-align: middle;\n",
       "    }\n",
       "\n",
       "    .dataframe tbody tr th {\n",
       "        vertical-align: top;\n",
       "    }\n",
       "\n",
       "    .dataframe thead th {\n",
       "        text-align: right;\n",
       "    }\n",
       "</style>\n",
       "<table border=\"1\" class=\"dataframe\">\n",
       "  <thead>\n",
       "    <tr style=\"text-align: right;\">\n",
       "      <th></th>\n",
       "      <th>FirstName</th>\n",
       "      <th>DateOfBirth</th>\n",
       "      <th>Sex</th>\n",
       "      <th>PatientSer</th>\n",
       "      <th>CityOrTownship</th>\n",
       "    </tr>\n",
       "  </thead>\n",
       "  <tbody>\n",
       "    <tr>\n",
       "      <th>0</th>\n",
       "      <td>Truebeam</td>\n",
       "      <td>NaN</td>\n",
       "      <td>Other</td>\n",
       "      <td>4</td>\n",
       "      <td>None</td>\n",
       "    </tr>\n",
       "    <tr>\n",
       "      <th>1</th>\n",
       "      <td>NaN</td>\n",
       "      <td>4/29/2008 12:00:00 AM</td>\n",
       "      <td>Unknown</td>\n",
       "      <td>7</td>\n",
       "      <td>None</td>\n",
       "    </tr>\n",
       "    <tr>\n",
       "      <th>2</th>\n",
       "      <td>NaN</td>\n",
       "      <td>4/29/2008 12:00:00 AM</td>\n",
       "      <td>Unknown</td>\n",
       "      <td>8</td>\n",
       "      <td>None</td>\n",
       "    </tr>\n",
       "    <tr>\n",
       "      <th>3</th>\n",
       "      <td>NaN</td>\n",
       "      <td>5/19/2008 12:00:00 AM</td>\n",
       "      <td>Unknown</td>\n",
       "      <td>9</td>\n",
       "      <td>None</td>\n",
       "    </tr>\n",
       "    <tr>\n",
       "      <th>4</th>\n",
       "      <td>NaN</td>\n",
       "      <td>4/29/2008 12:00:00 AM</td>\n",
       "      <td>Unknown</td>\n",
       "      <td>11</td>\n",
       "      <td>None</td>\n",
       "    </tr>\n",
       "  </tbody>\n",
       "</table>\n",
       "</div>"
      ],
      "text/plain": [
       "  FirstName            DateOfBirth               Sex  PatientSer  \\\n",
       "0  Truebeam                    NaN  Other                      4   \n",
       "1       NaN  4/29/2008 12:00:00 AM  Unknown                    7   \n",
       "2       NaN  4/29/2008 12:00:00 AM  Unknown                    8   \n",
       "3       NaN  5/19/2008 12:00:00 AM  Unknown                    9   \n",
       "4       NaN  4/29/2008 12:00:00 AM  Unknown                   11   \n",
       "\n",
       "  CityOrTownship  \n",
       "0           None  \n",
       "1           None  \n",
       "2           None  \n",
       "3           None  \n",
       "4           None  "
      ]
     },
     "execution_count": 3,
     "metadata": {},
     "output_type": "execute_result"
    }
   ],
   "source": [
    "join1 = pa.merge(a, on=\"AddressSer\", how=\"left\", suffixes = (\"_pa\", \"_a\")).groupby(\"PatientSer\", as_index=False).first()\n",
    "join2 = p.merge(join1, on=\"PatientSer\", how='left', suffixes = (\"_p\", \"_paa\")).drop(columns=\"AddressSer\")\n",
    "join2.head()"
   ]
  },
  {
   "cell_type": "code",
   "execution_count": 4,
   "metadata": {},
   "outputs": [
    {
     "data": {
      "text/html": [
       "<div>\n",
       "<style scoped>\n",
       "    .dataframe tbody tr th:only-of-type {\n",
       "        vertical-align: middle;\n",
       "    }\n",
       "\n",
       "    .dataframe tbody tr th {\n",
       "        vertical-align: top;\n",
       "    }\n",
       "\n",
       "    .dataframe thead th {\n",
       "        text-align: right;\n",
       "    }\n",
       "</style>\n",
       "<table border=\"1\" class=\"dataframe\">\n",
       "  <thead>\n",
       "    <tr style=\"text-align: right;\">\n",
       "      <th></th>\n",
       "      <th>FirstName</th>\n",
       "      <th>DateOfBirth</th>\n",
       "      <th>Sex</th>\n",
       "      <th>PatientSer</th>\n",
       "      <th>CityOrTownship</th>\n",
       "    </tr>\n",
       "  </thead>\n",
       "  <tbody>\n",
       "    <tr>\n",
       "      <th>0</th>\n",
       "      <td>Truebeam</td>\n",
       "      <td>NaN</td>\n",
       "      <td>Other</td>\n",
       "      <td>4</td>\n",
       "      <td>None</td>\n",
       "    </tr>\n",
       "    <tr>\n",
       "      <th>1</th>\n",
       "      <td>NaN</td>\n",
       "      <td>2008.0</td>\n",
       "      <td>Unknown</td>\n",
       "      <td>7</td>\n",
       "      <td>None</td>\n",
       "    </tr>\n",
       "    <tr>\n",
       "      <th>2</th>\n",
       "      <td>NaN</td>\n",
       "      <td>2008.0</td>\n",
       "      <td>Unknown</td>\n",
       "      <td>8</td>\n",
       "      <td>None</td>\n",
       "    </tr>\n",
       "    <tr>\n",
       "      <th>3</th>\n",
       "      <td>NaN</td>\n",
       "      <td>2008.0</td>\n",
       "      <td>Unknown</td>\n",
       "      <td>9</td>\n",
       "      <td>None</td>\n",
       "    </tr>\n",
       "    <tr>\n",
       "      <th>4</th>\n",
       "      <td>NaN</td>\n",
       "      <td>2008.0</td>\n",
       "      <td>Unknown</td>\n",
       "      <td>11</td>\n",
       "      <td>None</td>\n",
       "    </tr>\n",
       "  </tbody>\n",
       "</table>\n",
       "</div>"
      ],
      "text/plain": [
       "  FirstName  DateOfBirth               Sex  PatientSer CityOrTownship\n",
       "0  Truebeam          NaN  Other                      4           None\n",
       "1       NaN       2008.0  Unknown                    7           None\n",
       "2       NaN       2008.0  Unknown                    8           None\n",
       "3       NaN       2008.0  Unknown                    9           None\n",
       "4       NaN       2008.0  Unknown                   11           None"
      ]
     },
     "execution_count": 4,
     "metadata": {},
     "output_type": "execute_result"
    }
   ],
   "source": [
    "join2[\"DateOfBirth\"] = pd.DatetimeIndex( pd.to_datetime(join2[\"DateOfBirth\"])).year\n",
    "join2.head()"
   ]
  },
  {
   "cell_type": "markdown",
   "metadata": {},
   "source": [
    "# Separar pacientes reales y \"de prueba\""
   ]
  },
  {
   "cell_type": "code",
   "execution_count": 5,
   "metadata": {},
   "outputs": [],
   "source": [
    "l2 = list(pd.read_csv(\"data/nombres_hombre.csv\", skiprows=6, delimiter=\";\").Nombre.values)\n",
    "l3 = list(pd.read_csv(\"data/nombres_mujer.csv\" , skiprows=6, delimiter=\";\").Nombre.values)\n",
    "\n",
    "import unidecode\n",
    "l4 = []\n",
    "for i in l2+l3:\n",
    "    if isinstance(i, str):\n",
    "        l4.append(unidecode.unidecode(i))"
   ]
  },
  {
   "cell_type": "code",
   "execution_count": 6,
   "metadata": {},
   "outputs": [],
   "source": [
    "nombres = join2.FirstName.str.normalize('NFKD').str.encode('ascii', errors='ignore').str.decode('utf-8')\\\n",
    "            .str.upper().str.split().str[0]"
   ]
  },
  {
   "cell_type": "code",
   "execution_count": 7,
   "metadata": {},
   "outputs": [
    {
     "name": "stdout",
     "output_type": "stream",
     "text": [
      "6759\n",
      "165\n"
     ]
    }
   ],
   "source": [
    "patient_real = join2[ nombres.isin(l4)]\n",
    "patient_test = join2[~nombres.isin(l4)]\n",
    "print(len(patient_real))\n",
    "print(len(patient_test))"
   ]
  },
  {
   "cell_type": "markdown",
   "metadata": {},
   "source": [
    "# Corrección\n",
    "Reviso aquellos pacientes en 'patient_test' que han sido tratados en las máquinas, por si hubiera quedado alguno como falso negativo."
   ]
  },
  {
   "cell_type": "code",
   "execution_count": 8,
   "metadata": {},
   "outputs": [
    {
     "data": {
      "text/plain": [
       "(51, 5)"
      ]
     },
     "execution_count": 8,
     "metadata": {},
     "output_type": "execute_result"
    }
   ],
   "source": [
    "idx = list(set.intersection(set(tr.PatientSer.unique()), set(patient_test.PatientSer)  ))\n",
    "aa = patient_test[patient_test.PatientSer.isin(idx)]\n",
    "aa.shape"
   ]
  },
  {
   "cell_type": "markdown",
   "metadata": {},
   "source": [
    "Parece que dentro de este grupo aquellos con 'CityOrTownship' no nulo son reales."
   ]
  },
  {
   "cell_type": "code",
   "execution_count": 9,
   "metadata": {},
   "outputs": [],
   "source": [
    "idx_pats_real = list(set.union(set(patient_real.PatientSer), set(aa[aa.CityOrTownship.notnull()].PatientSer)))"
   ]
  },
  {
   "cell_type": "code",
   "execution_count": 10,
   "metadata": {},
   "outputs": [],
   "source": [
    "patient_real = join2[ join2.PatientSer.isin(idx_pats_real)].drop(columns=\"FirstName\")\n",
    "patient_test = join2[~join2.PatientSer.isin(idx_pats_real)]"
   ]
  },
  {
   "cell_type": "code",
   "execution_count": 11,
   "metadata": {},
   "outputs": [
    {
     "name": "stdout",
     "output_type": "stream",
     "text": [
      "(6789, 4)\n",
      "(135, 5)\n"
     ]
    }
   ],
   "source": [
    "print(patient_real.shape)\n",
    "print(patient_test.shape)"
   ]
  },
  {
   "cell_type": "markdown",
   "metadata": {},
   "source": [
    "# Resumen"
   ]
  },
  {
   "cell_type": "code",
   "execution_count": 12,
   "metadata": {},
   "outputs": [
    {
     "name": "stdout",
     "output_type": "stream",
     "text": [
      "6789 registros\n",
      "4 variables\n"
     ]
    },
    {
     "data": {
      "text/html": [
       "<div>\n",
       "<style scoped>\n",
       "    .dataframe tbody tr th:only-of-type {\n",
       "        vertical-align: middle;\n",
       "    }\n",
       "\n",
       "    .dataframe tbody tr th {\n",
       "        vertical-align: top;\n",
       "    }\n",
       "\n",
       "    .dataframe thead th {\n",
       "        text-align: right;\n",
       "    }\n",
       "</style>\n",
       "<table border=\"1\" class=\"dataframe\">\n",
       "  <thead>\n",
       "    <tr style=\"text-align: right;\">\n",
       "      <th></th>\n",
       "      <th>nans</th>\n",
       "      <th>nunicos</th>\n",
       "      <th>nunicos_r</th>\n",
       "      <th>dtype</th>\n",
       "    </tr>\n",
       "  </thead>\n",
       "  <tbody>\n",
       "    <tr>\n",
       "      <th>PatientSer</th>\n",
       "      <td>0.00</td>\n",
       "      <td>6789</td>\n",
       "      <td>100.00</td>\n",
       "      <td>int64</td>\n",
       "    </tr>\n",
       "    <tr>\n",
       "      <th>Sex</th>\n",
       "      <td>0.01</td>\n",
       "      <td>5</td>\n",
       "      <td>0.07</td>\n",
       "      <td>object</td>\n",
       "    </tr>\n",
       "    <tr>\n",
       "      <th>DateOfBirth</th>\n",
       "      <td>0.96</td>\n",
       "      <td>95</td>\n",
       "      <td>1.40</td>\n",
       "      <td>float64</td>\n",
       "    </tr>\n",
       "    <tr>\n",
       "      <th>CityOrTownship</th>\n",
       "      <td>2.34</td>\n",
       "      <td>753</td>\n",
       "      <td>11.09</td>\n",
       "      <td>object</td>\n",
       "    </tr>\n",
       "  </tbody>\n",
       "</table>\n",
       "</div>"
      ],
      "text/plain": [
       "                nans  nunicos  nunicos_r    dtype\n",
       "PatientSer      0.00     6789     100.00    int64\n",
       "Sex             0.01        5       0.07   object\n",
       "DateOfBirth     0.96       95       1.40  float64\n",
       "CityOrTownship  2.34      753      11.09   object"
      ]
     },
     "execution_count": 12,
     "metadata": {},
     "output_type": "execute_result"
    }
   ],
   "source": [
    "ut.resumen_tabla(patient_real, 'nans')"
   ]
  },
  {
   "cell_type": "markdown",
   "metadata": {},
   "source": [
    "# Archivo final"
   ]
  },
  {
   "cell_type": "code",
   "execution_count": 13,
   "metadata": {},
   "outputs": [],
   "source": [
    "patient_real.to_csv(\"data/ARIA_merged&selected/Patient_real.csv\", index=False)\n",
    "patient_test.to_csv(\"data/ARIA_merged&selected/Patient_test.csv\", index=False)"
   ]
  },
  {
   "cell_type": "code",
   "execution_count": null,
   "metadata": {},
   "outputs": [],
   "source": []
  }
 ],
 "metadata": {
  "kernelspec": {
   "display_name": "Python 3",
   "language": "python",
   "name": "python3"
  },
  "language_info": {
   "codemirror_mode": {
    "name": "ipython",
    "version": 3
   },
   "file_extension": ".py",
   "mimetype": "text/x-python",
   "name": "python",
   "nbconvert_exporter": "python",
   "pygments_lexer": "ipython3",
   "version": "3.7.10"
  }
 },
 "nbformat": 4,
 "nbformat_minor": 5
}
