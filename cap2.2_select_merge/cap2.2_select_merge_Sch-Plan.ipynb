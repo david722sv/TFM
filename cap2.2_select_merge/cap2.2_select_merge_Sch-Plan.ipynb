{
 "cells": [
  {
   "cell_type": "raw",
   "id": "4822350b",
   "metadata": {},
   "source": [
    "Input:\n",
    "TreatmentRecord\n",
    "SchActivity\n",
    "\n",
    "Output:\n",
    "Sch_Plan"
   ]
  },
  {
   "cell_type": "raw",
   "id": "7a31182b",
   "metadata": {},
   "source": [
    "obtiene la relacion ScheduledActivitySer - RTPlanSer"
   ]
  },
  {
   "cell_type": "markdown",
   "id": "85153428",
   "metadata": {},
   "source": [
    "# Datos y librerias"
   ]
  },
  {
   "cell_type": "code",
   "execution_count": 1,
   "id": "a5e1871a",
   "metadata": {},
   "outputs": [],
   "source": [
    "import pandas as pd\n",
    "import matplotlib.pyplot as plt\n",
    "import numpy as np\n",
    "import utils as ut\n",
    "\n",
    "path = \"data/ARIA_merged&selected/\"\n",
    "tr  = pd.read_csv(path + \"TreatmentRecord.csv\", index_col=\"TreatmentRecordSer\")\n",
    "sch = pd.read_csv(path + \"SchActivity.csv\")"
   ]
  },
  {
   "cell_type": "markdown",
   "id": "217becc3",
   "metadata": {},
   "source": [
    "# Formatear fechas"
   ]
  },
  {
   "cell_type": "code",
   "execution_count": 2,
   "id": "ab93f9da",
   "metadata": {},
   "outputs": [],
   "source": [
    "tr.TreatmentRecordDateTime = pd.to_datetime(tr.TreatmentRecordDateTime)\n",
    "\n",
    "sch.ScheduledStartTime = pd.to_datetime(sch.ScheduledStartTime)\n",
    "sch.ScheduledEndTime = pd.to_datetime(sch.ScheduledEndTime)\n",
    "sch.ActualStartDate = pd.to_datetime(sch.ActualStartDate)\n",
    "sch.ActualEndDate = pd.to_datetime(sch.ActualEndDate)"
   ]
  },
  {
   "cell_type": "markdown",
   "id": "6c79d063",
   "metadata": {},
   "source": [
    "# Join por fechas"
   ]
  },
  {
   "cell_type": "code",
   "execution_count": 3,
   "id": "89baa349",
   "metadata": {},
   "outputs": [],
   "source": [
    "sch2 = sch[(sch.ActualEndDate.notnull()) & (sch.ActualStartDate.notnull()) & (sch.ActualStartDate != sch.ActualEndDate)]\n",
    "\n",
    "sch_plan = tr.merge(sch2, on=\"PatientSer\", how=\"inner\", suffixes = (\"_tr\", \"_sch\"))\n",
    "sch_plan = sch_plan[(sch_plan['TreatmentRecordDateTime'] >= sch_plan['ActualStartDate']) & \n",
    "                    (sch_plan['TreatmentRecordDateTime'] <= sch_plan['ActualEndDate'])]\n",
    "sch_plan = sch_plan[[\"RTPlanSer\",\"ScheduledActivitySer\",'ActualMachineSer','NoOfFractions']].drop_duplicates()"
   ]
  },
  {
   "cell_type": "code",
   "execution_count": 4,
   "id": "5a80f272",
   "metadata": {},
   "outputs": [
    {
     "data": {
      "text/html": [
       "<div>\n",
       "<style scoped>\n",
       "    .dataframe tbody tr th:only-of-type {\n",
       "        vertical-align: middle;\n",
       "    }\n",
       "\n",
       "    .dataframe tbody tr th {\n",
       "        vertical-align: top;\n",
       "    }\n",
       "\n",
       "    .dataframe thead th {\n",
       "        text-align: right;\n",
       "    }\n",
       "</style>\n",
       "<table border=\"1\" class=\"dataframe\">\n",
       "  <thead>\n",
       "    <tr style=\"text-align: right;\">\n",
       "      <th></th>\n",
       "      <th>RTPlanSer</th>\n",
       "      <th>ScheduledActivitySer</th>\n",
       "      <th>ActualMachineSer</th>\n",
       "      <th>NoOfFractions</th>\n",
       "    </tr>\n",
       "  </thead>\n",
       "  <tbody>\n",
       "    <tr>\n",
       "      <th>1</th>\n",
       "      <td>231</td>\n",
       "      <td>48</td>\n",
       "      <td>1033</td>\n",
       "      <td>10.0</td>\n",
       "    </tr>\n",
       "    <tr>\n",
       "      <th>6</th>\n",
       "      <td>241</td>\n",
       "      <td>47</td>\n",
       "      <td>1033</td>\n",
       "      <td>9.0</td>\n",
       "    </tr>\n",
       "    <tr>\n",
       "      <th>32</th>\n",
       "      <td>241</td>\n",
       "      <td>49</td>\n",
       "      <td>1033</td>\n",
       "      <td>9.0</td>\n",
       "    </tr>\n",
       "    <tr>\n",
       "      <th>59</th>\n",
       "      <td>241</td>\n",
       "      <td>52</td>\n",
       "      <td>1033</td>\n",
       "      <td>9.0</td>\n",
       "    </tr>\n",
       "    <tr>\n",
       "      <th>81</th>\n",
       "      <td>241</td>\n",
       "      <td>50</td>\n",
       "      <td>1033</td>\n",
       "      <td>9.0</td>\n",
       "    </tr>\n",
       "  </tbody>\n",
       "</table>\n",
       "</div>"
      ],
      "text/plain": [
       "    RTPlanSer  ScheduledActivitySer  ActualMachineSer  NoOfFractions\n",
       "1         231                    48              1033           10.0\n",
       "6         241                    47              1033            9.0\n",
       "32        241                    49              1033            9.0\n",
       "59        241                    52              1033            9.0\n",
       "81        241                    50              1033            9.0"
      ]
     },
     "execution_count": 4,
     "metadata": {},
     "output_type": "execute_result"
    }
   ],
   "source": [
    "sch_plan.head()"
   ]
  },
  {
   "cell_type": "markdown",
   "id": "b2eccff2",
   "metadata": {},
   "source": [
    "# Archivo final"
   ]
  },
  {
   "cell_type": "code",
   "execution_count": 5,
   "id": "070507d8",
   "metadata": {},
   "outputs": [],
   "source": [
    "sch_plan.to_csv(\"data/ARIA_merged&selected/Sch_Plan.csv\", index = False)"
   ]
  },
  {
   "cell_type": "raw",
   "id": "4ef688f9",
   "metadata": {},
   "source": [
    "Algunas citas tienen asociados varios planes, es porque en esas citas se tratan varios planes seguidos"
   ]
  }
 ],
 "metadata": {
  "kernelspec": {
   "display_name": "Python 3",
   "language": "python",
   "name": "python3"
  },
  "language_info": {
   "codemirror_mode": {
    "name": "ipython",
    "version": 3
   },
   "file_extension": ".py",
   "mimetype": "text/x-python",
   "name": "python",
   "nbconvert_exporter": "python",
   "pygments_lexer": "ipython3",
   "version": "3.9.4"
  }
 },
 "nbformat": 4,
 "nbformat_minor": 5
}
