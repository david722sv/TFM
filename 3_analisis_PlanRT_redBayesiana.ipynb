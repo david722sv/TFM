{
 "cells": [
  {
   "cell_type": "markdown",
   "id": "concerned-pulse",
   "metadata": {},
   "source": [
    "# Librerias"
   ]
  },
  {
   "cell_type": "code",
   "execution_count": 1,
   "id": "2341f45e",
   "metadata": {},
   "outputs": [
    {
     "name": "stderr",
     "output_type": "stream",
     "text": [
      "Loading required package: graph\n",
      "\n",
      "Loading required package: BiocGenerics\n",
      "\n",
      "Loading required package: parallel\n",
      "\n"
     ]
    },
    {
     "name": "stdout",
     "output_type": "stream",
     "text": [
      "Error in setMethod(\"path\", cl, where = topenv(parent.frame()), function(object,  : \n",
      "  the environment 'base' is locked; cannot assign methods for function 'path'\n"
     ]
    },
    {
     "name": "stderr",
     "output_type": "stream",
     "text": [
      "\n",
      "Attaching package: 'BiocGenerics'\n",
      "\n",
      "\n",
      "The following objects are masked from 'package:parallel':\n",
      "\n",
      "    clusterApply, clusterApplyLB, clusterCall, clusterEvalQ,\n",
      "    clusterExport, clusterMap, parApply, parCapply, parLapply,\n",
      "    parLapplyLB, parRapply, parSapply, parSapplyLB\n",
      "\n",
      "\n",
      "The following objects are masked from 'package:bnlearn':\n",
      "\n",
      "    path, score\n",
      "\n",
      "\n",
      "The following objects are masked from 'package:stats':\n",
      "\n",
      "    IQR, mad, sd, var, xtabs\n",
      "\n",
      "\n",
      "The following objects are masked from 'package:base':\n",
      "\n",
      "    anyDuplicated, append, as.data.frame, basename, cbind, colnames,\n",
      "    dirname, do.call, duplicated, eval, evalq, Filter, Find, get, grep,\n",
      "    grepl, intersect, is.unsorted, lapply, Map, mapply, match, mget,\n",
      "    order, paste, pmax, pmax.int, pmin, pmin.int, Position, rank,\n",
      "    rbind, Reduce, rownames, sapply, setdiff, sort, table, tapply,\n",
      "    union, unique, unsplit, which.max, which.min\n",
      "\n",
      "\n"
     ]
    },
    {
     "name": "stdout",
     "output_type": "stream",
     "text": [
      "Error in setMethod(\"nodes\", cl, where = topenv(parent.frame()), function(object) .nodes(object)) : \n",
      "  the environment 'base' is locked; cannot assign methods for function 'nodes'\n"
     ]
    },
    {
     "name": "stderr",
     "output_type": "stream",
     "text": [
      "\n",
      "Attaching package: 'graph'\n",
      "\n",
      "\n",
      "The following objects are masked from 'package:bnlearn':\n",
      "\n",
      "    degree, nodes, nodes<-\n",
      "\n",
      "\n",
      "Loading required package: grid\n",
      "\n"
     ]
    }
   ],
   "source": [
    "library(bnlearn)\n",
    "library(Rgraphviz)"
   ]
  },
  {
   "cell_type": "markdown",
   "id": "western-dynamics",
   "metadata": {},
   "source": [
    "# Datos"
   ]
  },
  {
   "cell_type": "code",
   "execution_count": 2,
   "id": "caa31a88",
   "metadata": {},
   "outputs": [
    {
     "data": {
      "text/html": [
       "60"
      ],
      "text/latex": [
       "60"
      ],
      "text/markdown": [
       "60"
      ],
      "text/plain": [
       "[1] 60"
      ]
     },
     "metadata": {},
     "output_type": "display_data"
    },
    {
     "data": {
      "text/html": [
       "<style>\n",
       ".list-inline {list-style: none; margin:0; padding: 0}\n",
       ".list-inline>li {display: inline-block}\n",
       ".list-inline>li:not(:last-child)::after {content: \"\\00b7\"; padding: 0 .5ex}\n",
       "</style>\n",
       "<ol class=list-inline><li>19844</li><li>60</li></ol>\n"
      ],
      "text/latex": [
       "\\begin{enumerate*}\n",
       "\\item 19844\n",
       "\\item 60\n",
       "\\end{enumerate*}\n"
      ],
      "text/markdown": [
       "1. 19844\n",
       "2. 60\n",
       "\n",
       "\n"
      ],
      "text/plain": [
       "[1] 19844    60"
      ]
     },
     "metadata": {},
     "output_type": "display_data"
    },
    {
     "data": {
      "text/html": [
       "<table class=\"dataframe\">\n",
       "<caption>A data.frame: 6 × 60</caption>\n",
       "<thead>\n",
       "\t<tr><th></th><th scope=col>ActivityCategoryCode</th><th scope=col>Duration</th><th scope=col>NotificationPriorTimeFlag_x</th><th scope=col>NoEditFlag_x</th><th scope=col>NotificationPriorTimeFlag_y</th><th scope=col>ResourceGroupSer</th><th scope=col>Description</th><th scope=col>PatientStatus</th><th scope=col>Priority</th><th scope=col>AssignableFlag</th><th scope=col>...</th><th scope=col>TStage</th><th scope=col>ObjectStatus_y_4</th><th scope=col>TumorSize</th><th scope=col>NStage</th><th scope=col>DiagnosisCode_sec</th><th scope=col>SummaryStage</th><th scope=col>ClinicalStatus</th><th scope=col>ObjectStatus_sec</th><th scope=col>DiagnosisCode</th><th scope=col>HistologyCode_sec</th></tr>\n",
       "\t<tr><th></th><th scope=col>&lt;fct&gt;</th><th scope=col>&lt;fct&gt;</th><th scope=col>&lt;fct&gt;</th><th scope=col>&lt;fct&gt;</th><th scope=col>&lt;fct&gt;</th><th scope=col>&lt;fct&gt;</th><th scope=col>&lt;fct&gt;</th><th scope=col>&lt;fct&gt;</th><th scope=col>&lt;fct&gt;</th><th scope=col>&lt;fct&gt;</th><th scope=col>...</th><th scope=col>&lt;fct&gt;</th><th scope=col>&lt;fct&gt;</th><th scope=col>&lt;fct&gt;</th><th scope=col>&lt;fct&gt;</th><th scope=col>&lt;fct&gt;</th><th scope=col>&lt;fct&gt;</th><th scope=col>&lt;fct&gt;</th><th scope=col>&lt;fct&gt;</th><th scope=col>&lt;fct&gt;</th><th scope=col>&lt;fct&gt;</th></tr>\n",
       "</thead>\n",
       "<tbody>\n",
       "\t<tr><th scope=row>54</th><td>Treatment</td><td>10</td><td>0</td><td>1</td><td>0</td><td>12.0 </td><td>isNaN</td><td>Paciente Ingresado</td><td>Medium</td><td>1</td><td>...</td><td>isNaN</td><td>isNaN </td><td>isNaN</td><td>isNaN</td><td>isNaN</td><td>isNaN</td><td>ACTIVE</td><td>isNaN</td><td>isNaN           </td><td>isNaN</td></tr>\n",
       "\t<tr><th scope=row>55</th><td>Treatment</td><td>10</td><td>0</td><td>1</td><td>0</td><td>12.0 </td><td>isNaN</td><td>Paciente Ingresado</td><td>Medium</td><td>1</td><td>...</td><td>isNaN</td><td>isNaN </td><td>isNaN</td><td>isNaN</td><td>isNaN</td><td>isNaN</td><td>ACTIVE</td><td>isNaN</td><td>isNaN           </td><td>isNaN</td></tr>\n",
       "\t<tr><th scope=row>56</th><td>Treatment</td><td>10</td><td>0</td><td>1</td><td>0</td><td>12.0 </td><td>isNaN</td><td>Paciente Ingresado</td><td>Medium</td><td>1</td><td>...</td><td>isNaN</td><td>isNaN </td><td>isNaN</td><td>isNaN</td><td>isNaN</td><td>isNaN</td><td>ACTIVE</td><td>isNaN</td><td>isNaN           </td><td>isNaN</td></tr>\n",
       "\t<tr><th scope=row>57</th><td>Treatment</td><td>10</td><td>0</td><td>1</td><td>0</td><td>12.0 </td><td>isNaN</td><td>Paciente Ingresado</td><td>Medium</td><td>1</td><td>...</td><td>isNaN</td><td>isNaN </td><td>isNaN</td><td>isNaN</td><td>isNaN</td><td>isNaN</td><td>ACTIVE</td><td>isNaN</td><td>isNaN           </td><td>isNaN</td></tr>\n",
       "\t<tr><th scope=row>62</th><td>Treatment</td><td>10</td><td>0</td><td>1</td><td>0</td><td>12.0 </td><td>isNaN</td><td>Paciente Ingresado</td><td>Medium</td><td>1</td><td>...</td><td>isNaN</td><td>isNaN </td><td>isNaN</td><td>isNaN</td><td>isNaN</td><td>isNaN</td><td>ACTIVE</td><td>isNaN</td><td>isNaN           </td><td>isNaN</td></tr>\n",
       "\t<tr><th scope=row>663</th><td>Treatment</td><td>30</td><td>0</td><td>0</td><td>0</td><td>isNaN</td><td>isNaN</td><td>Paciente Ingresado</td><td>Medium</td><td>1</td><td>...</td><td>3a   </td><td>Active</td><td>isNaN</td><td>1    </td><td>isNaN</td><td>IIB  </td><td>ACTIVE</td><td>isNaN</td><td>C61             </td><td>isNaN</td></tr>\n",
       "</tbody>\n",
       "</table>\n"
      ],
      "text/latex": [
       "A data.frame: 6 × 60\n",
       "\\begin{tabular}{r|lllllllllllllllllllll}\n",
       "  & ActivityCategoryCode & Duration & NotificationPriorTimeFlag\\_x & NoEditFlag\\_x & NotificationPriorTimeFlag\\_y & ResourceGroupSer & Description & PatientStatus & Priority & AssignableFlag & ... & TStage & ObjectStatus\\_y\\_4 & TumorSize & NStage & DiagnosisCode\\_sec & SummaryStage & ClinicalStatus & ObjectStatus\\_sec & DiagnosisCode & HistologyCode\\_sec\\\\\n",
       "  & <fct> & <fct> & <fct> & <fct> & <fct> & <fct> & <fct> & <fct> & <fct> & <fct> & ... & <fct> & <fct> & <fct> & <fct> & <fct> & <fct> & <fct> & <fct> & <fct> & <fct>\\\\\n",
       "\\hline\n",
       "\t54 & Treatment & 10 & 0 & 1 & 0 & 12.0  & isNaN & Paciente Ingresado & Medium & 1 & ... & isNaN & isNaN  & isNaN & isNaN & isNaN & isNaN & ACTIVE & isNaN & isNaN            & isNaN\\\\\n",
       "\t55 & Treatment & 10 & 0 & 1 & 0 & 12.0  & isNaN & Paciente Ingresado & Medium & 1 & ... & isNaN & isNaN  & isNaN & isNaN & isNaN & isNaN & ACTIVE & isNaN & isNaN            & isNaN\\\\\n",
       "\t56 & Treatment & 10 & 0 & 1 & 0 & 12.0  & isNaN & Paciente Ingresado & Medium & 1 & ... & isNaN & isNaN  & isNaN & isNaN & isNaN & isNaN & ACTIVE & isNaN & isNaN            & isNaN\\\\\n",
       "\t57 & Treatment & 10 & 0 & 1 & 0 & 12.0  & isNaN & Paciente Ingresado & Medium & 1 & ... & isNaN & isNaN  & isNaN & isNaN & isNaN & isNaN & ACTIVE & isNaN & isNaN            & isNaN\\\\\n",
       "\t62 & Treatment & 10 & 0 & 1 & 0 & 12.0  & isNaN & Paciente Ingresado & Medium & 1 & ... & isNaN & isNaN  & isNaN & isNaN & isNaN & isNaN & ACTIVE & isNaN & isNaN            & isNaN\\\\\n",
       "\t663 & Treatment & 30 & 0 & 0 & 0 & isNaN & isNaN & Paciente Ingresado & Medium & 1 & ... & 3a    & Active & isNaN & 1     & isNaN & IIB   & ACTIVE & isNaN & C61              & isNaN\\\\\n",
       "\\end{tabular}\n"
      ],
      "text/markdown": [
       "\n",
       "A data.frame: 6 × 60\n",
       "\n",
       "| <!--/--> | ActivityCategoryCode &lt;fct&gt; | Duration &lt;fct&gt; | NotificationPriorTimeFlag_x &lt;fct&gt; | NoEditFlag_x &lt;fct&gt; | NotificationPriorTimeFlag_y &lt;fct&gt; | ResourceGroupSer &lt;fct&gt; | Description &lt;fct&gt; | PatientStatus &lt;fct&gt; | Priority &lt;fct&gt; | AssignableFlag &lt;fct&gt; | ... ... | TStage &lt;fct&gt; | ObjectStatus_y_4 &lt;fct&gt; | TumorSize &lt;fct&gt; | NStage &lt;fct&gt; | DiagnosisCode_sec &lt;fct&gt; | SummaryStage &lt;fct&gt; | ClinicalStatus &lt;fct&gt; | ObjectStatus_sec &lt;fct&gt; | DiagnosisCode &lt;fct&gt; | HistologyCode_sec &lt;fct&gt; |\n",
       "|---|---|---|---|---|---|---|---|---|---|---|---|---|---|---|---|---|---|---|---|---|---|\n",
       "| 54 | Treatment | 10 | 0 | 1 | 0 | 12.0  | isNaN | Paciente Ingresado | Medium | 1 | ... | isNaN | isNaN  | isNaN | isNaN | isNaN | isNaN | ACTIVE | isNaN | isNaN            | isNaN |\n",
       "| 55 | Treatment | 10 | 0 | 1 | 0 | 12.0  | isNaN | Paciente Ingresado | Medium | 1 | ... | isNaN | isNaN  | isNaN | isNaN | isNaN | isNaN | ACTIVE | isNaN | isNaN            | isNaN |\n",
       "| 56 | Treatment | 10 | 0 | 1 | 0 | 12.0  | isNaN | Paciente Ingresado | Medium | 1 | ... | isNaN | isNaN  | isNaN | isNaN | isNaN | isNaN | ACTIVE | isNaN | isNaN            | isNaN |\n",
       "| 57 | Treatment | 10 | 0 | 1 | 0 | 12.0  | isNaN | Paciente Ingresado | Medium | 1 | ... | isNaN | isNaN  | isNaN | isNaN | isNaN | isNaN | ACTIVE | isNaN | isNaN            | isNaN |\n",
       "| 62 | Treatment | 10 | 0 | 1 | 0 | 12.0  | isNaN | Paciente Ingresado | Medium | 1 | ... | isNaN | isNaN  | isNaN | isNaN | isNaN | isNaN | ACTIVE | isNaN | isNaN            | isNaN |\n",
       "| 663 | Treatment | 30 | 0 | 0 | 0 | isNaN | isNaN | Paciente Ingresado | Medium | 1 | ... | 3a    | Active | isNaN | 1     | isNaN | IIB   | ACTIVE | isNaN | C61              | isNaN |\n",
       "\n"
      ],
      "text/plain": [
       "    ActivityCategoryCode Duration NotificationPriorTimeFlag_x NoEditFlag_x\n",
       "54  Treatment            10       0                           1           \n",
       "55  Treatment            10       0                           1           \n",
       "56  Treatment            10       0                           1           \n",
       "57  Treatment            10       0                           1           \n",
       "62  Treatment            10       0                           1           \n",
       "663 Treatment            30       0                           0           \n",
       "    NotificationPriorTimeFlag_y ResourceGroupSer Description PatientStatus     \n",
       "54  0                           12.0             isNaN       Paciente Ingresado\n",
       "55  0                           12.0             isNaN       Paciente Ingresado\n",
       "56  0                           12.0             isNaN       Paciente Ingresado\n",
       "57  0                           12.0             isNaN       Paciente Ingresado\n",
       "62  0                           12.0             isNaN       Paciente Ingresado\n",
       "663 0                           isNaN            isNaN       Paciente Ingresado\n",
       "    Priority AssignableFlag ... TStage ObjectStatus_y_4 TumorSize NStage\n",
       "54  Medium   1              ... isNaN  isNaN            isNaN     isNaN \n",
       "55  Medium   1              ... isNaN  isNaN            isNaN     isNaN \n",
       "56  Medium   1              ... isNaN  isNaN            isNaN     isNaN \n",
       "57  Medium   1              ... isNaN  isNaN            isNaN     isNaN \n",
       "62  Medium   1              ... isNaN  isNaN            isNaN     isNaN \n",
       "663 Medium   1              ... 3a     Active           isNaN     1     \n",
       "    DiagnosisCode_sec SummaryStage ClinicalStatus ObjectStatus_sec\n",
       "54  isNaN             isNaN        ACTIVE         isNaN           \n",
       "55  isNaN             isNaN        ACTIVE         isNaN           \n",
       "56  isNaN             isNaN        ACTIVE         isNaN           \n",
       "57  isNaN             isNaN        ACTIVE         isNaN           \n",
       "62  isNaN             isNaN        ACTIVE         isNaN           \n",
       "663 isNaN             IIB          ACTIVE         isNaN           \n",
       "    DiagnosisCode    HistologyCode_sec\n",
       "54  isNaN            isNaN            \n",
       "55  isNaN            isNaN            \n",
       "56  isNaN            isNaN            \n",
       "57  isNaN            isNaN            \n",
       "62  isNaN            isNaN            \n",
       "663 C61              isNaN            "
      ]
     },
     "metadata": {},
     "output_type": "display_data"
    }
   ],
   "source": [
    "# tabla = read.csv(\"data/ARIA_cleaned/PlanRT.csv\", row.names=1)\n",
    "tabla = read.csv(\"data/ARIA_cleaned/Sch_categ.csv\", row.names=1)\n",
    "\n",
    "cols = names(tabla)\n",
    "length(cols)\n",
    "\n",
    "tabla[cols] <- lapply(tabla[cols], factor)\n",
    "tabla = tabla[cols]\n",
    "\n",
    "dim(tabla)\n",
    "head(tabla)"
   ]
  },
  {
   "cell_type": "markdown",
   "id": "manufactured-integer",
   "metadata": {},
   "source": [
    "# Aprendizaje de estructura"
   ]
  },
  {
   "cell_type": "code",
   "execution_count": 3,
   "id": "08a1b474",
   "metadata": {},
   "outputs": [],
   "source": [
    "hcdag <- hc(tabla)\n",
    "tabudag <- tabu(tabla)"
   ]
  },
  {
   "cell_type": "code",
   "execution_count": 4,
   "id": "f21011b2",
   "metadata": {
    "scrolled": false
   },
   "outputs": [
    {
     "data": {
      "text/html": [
       "-420825.63348842"
      ],
      "text/latex": [
       "-420825.63348842"
      ],
      "text/markdown": [
       "-420825.63348842"
      ],
      "text/plain": [
       "[1] -420825.6"
      ]
     },
     "metadata": {},
     "output_type": "display_data"
    },
    {
     "data": {
      "text/html": [
       "-420825.63348842"
      ],
      "text/latex": [
       "-420825.63348842"
      ],
      "text/markdown": [
       "-420825.63348842"
      ],
      "text/plain": [
       "[1] -420825.6"
      ]
     },
     "metadata": {},
     "output_type": "display_data"
    },
    {
     "data": {
      "text/html": [
       "<table class=\"dataframe\">\n",
       "<caption>A bn.strength: 70 × 3</caption>\n",
       "<thead>\n",
       "\t<tr><th></th><th scope=col>from</th><th scope=col>to</th><th scope=col>strength</th></tr>\n",
       "\t<tr><th></th><th scope=col>&lt;chr&gt;</th><th scope=col>&lt;chr&gt;</th><th scope=col>&lt;dbl&gt;</th></tr>\n",
       "</thead>\n",
       "<tbody>\n",
       "\t<tr><th scope=row>1</th><td>SummaryStage       </td><td>DiagnosisCode      </td><td>0</td></tr>\n",
       "\t<tr><th scope=row>2</th><td>DiagnosisCode      </td><td>TreatmentIntentType</td><td>0</td></tr>\n",
       "\t<tr><th scope=row>3</th><td>DiagnosisCode      </td><td>TStage             </td><td>0</td></tr>\n",
       "\t<tr><th scope=row>4</th><td>NStage             </td><td>SummaryStage       </td><td>0</td></tr>\n",
       "\t<tr><th scope=row>5</th><td>SummaryStage       </td><td>MStage             </td><td>0</td></tr>\n",
       "\t<tr><th scope=row>6</th><td>TreatmentIntentType</td><td>NoFractions        </td><td>0</td></tr>\n",
       "\t<tr><th scope=row>7</th><td>ResourceGroupSer   </td><td>ActivityCode       </td><td>0</td></tr>\n",
       "\t<tr><th scope=row>8</th><td>EquipmentSer       </td><td>InterfaceStamp     </td><td>0</td></tr>\n",
       "\t<tr><th scope=row>9</th><td>NoEditFlag_x       </td><td>ResourceGroupSer   </td><td>0</td></tr>\n",
       "\t<tr><th scope=row>10</th><td>Duration           </td><td>ScheduledDuration  </td><td>0</td></tr>\n",
       "\t<tr><th scope=row>11</th><td>ActivityCode       </td><td>AssignableFlag     </td><td>0</td></tr>\n",
       "\t<tr><th scope=row>12</th><td>NoFractions        </td><td>PrescribedDose     </td><td>0</td></tr>\n",
       "\t<tr><th scope=row>13</th><td>DiagnosisCode      </td><td>ObjectStatus_y_4   </td><td>0</td></tr>\n",
       "\t<tr><th scope=row>14</th><td>CalcModelOptions   </td><td>CalcModelOptionsLen</td><td>0</td></tr>\n",
       "\t<tr><th scope=row>15</th><td>CalcModelOptionsLen</td><td>PrimaryPTVSer      </td><td>0</td></tr>\n",
       "\t<tr><th scope=row>16</th><td>NumberOfFractions  </td><td>Site               </td><td>0</td></tr>\n",
       "\t<tr><th scope=row>17</th><td>CalcModelOptionsLen</td><td>MultiFieldOptFlag  </td><td>0</td></tr>\n",
       "\t<tr><th scope=row>18</th><td>ActivityCode       </td><td>Description        </td><td>0</td></tr>\n",
       "\t<tr><th scope=row>19</th><td>MultiFieldOptFlag  </td><td>SkinFlashMargin    </td><td>0</td></tr>\n",
       "\t<tr><th scope=row>20</th><td>Site               </td><td>Technique          </td><td>0</td></tr>\n",
       "\t<tr><th scope=row>21</th><td>SkinFlashMargin    </td><td>Intent             </td><td>0</td></tr>\n",
       "\t<tr><th scope=row>22</th><td>SimulationNeeded   </td><td>Status_y           </td><td>0</td></tr>\n",
       "\t<tr><th scope=row>23</th><td>SimulationNeeded   </td><td>PhaseType          </td><td>0</td></tr>\n",
       "\t<tr><th scope=row>24</th><td>SkinFlashMargin    </td><td>PlanNormMethod     </td><td>0</td></tr>\n",
       "\t<tr><th scope=row>25</th><td>Technique          </td><td>SimulationNeeded   </td><td>0</td></tr>\n",
       "\t<tr><th scope=row>26</th><td>ActivityCode       </td><td>DefaultDuration    </td><td>0</td></tr>\n",
       "\t<tr><th scope=row>27</th><td>PrimaryPTVSer      </td><td>NumberOfFractions  </td><td>0</td></tr>\n",
       "\t<tr><th scope=row>28</th><td>DiagnosisCode      </td><td>HistologyCode      </td><td>0</td></tr>\n",
       "\t<tr><th scope=row>29</th><td>TreatmentIntentType</td><td>PrescribedDose     </td><td>0</td></tr>\n",
       "\t<tr><th scope=row>30</th><td>DiagnosisCode      </td><td>Sex                </td><td>0</td></tr>\n",
       "\t<tr><th scope=row>...</th><td>...</td><td>...</td><td>...</td></tr>\n",
       "\t<tr><th scope=row>41</th><td>MultiFieldOptFlag          </td><td>DicomSeqNumber             </td><td> 0.000000e+00</td></tr>\n",
       "\t<tr><th scope=row>42</th><td>TStage                     </td><td>CityOrTownship             </td><td> 0.000000e+00</td></tr>\n",
       "\t<tr><th scope=row>43</th><td>DiagnosisCode              </td><td>DateOfBirth                </td><td> 0.000000e+00</td></tr>\n",
       "\t<tr><th scope=row>44</th><td>PrescribedDose             </td><td>NoEditFlag_x               </td><td>1.021200e-304</td></tr>\n",
       "\t<tr><th scope=row>45</th><td>PrescribedDose             </td><td>DiagnosisCode_sec          </td><td> 0.000000e+00</td></tr>\n",
       "\t<tr><th scope=row>46</th><td>ObjectStatus_y_4           </td><td>NoFractions                </td><td> 0.000000e+00</td></tr>\n",
       "\t<tr><th scope=row>47</th><td>PrescribedDose             </td><td>CalcModelOptions           </td><td> 0.000000e+00</td></tr>\n",
       "\t<tr><th scope=row>48</th><td>EquipmentSer               </td><td>Duration                   </td><td> 0.000000e+00</td></tr>\n",
       "\t<tr><th scope=row>49</th><td>ObjectStatus_sec           </td><td>HistologyCode_sec          </td><td> 0.000000e+00</td></tr>\n",
       "\t<tr><th scope=row>50</th><td>SimulationNeeded           </td><td>Notes                      </td><td> 0.000000e+00</td></tr>\n",
       "\t<tr><th scope=row>51</th><td>PrimaryPTVSer              </td><td>PlanNormMethod             </td><td> 0.000000e+00</td></tr>\n",
       "\t<tr><th scope=row>52</th><td>ResourceGroupSer           </td><td>ActivityCategoryCode       </td><td> 0.000000e+00</td></tr>\n",
       "\t<tr><th scope=row>53</th><td>NoFractions                </td><td>NumberOfFractions          </td><td> 0.000000e+00</td></tr>\n",
       "\t<tr><th scope=row>54</th><td>TreatmentIntentType        </td><td>EquipmentSer               </td><td> 0.000000e+00</td></tr>\n",
       "\t<tr><th scope=row>55</th><td>InterfaceStamp             </td><td>DateOfBirth                </td><td>7.761124e-231</td></tr>\n",
       "\t<tr><th scope=row>56</th><td>NumberOfFractions          </td><td>Country                    </td><td>6.246869e-156</td></tr>\n",
       "\t<tr><th scope=row>57</th><td>FractionPatternDigitsPerDay</td><td>FractionPattern            </td><td> 0.000000e+00</td></tr>\n",
       "\t<tr><th scope=row>58</th><td>NoFractions                </td><td>NoEditFlag_x               </td><td>9.577637e-133</td></tr>\n",
       "\t<tr><th scope=row>59</th><td>SimulationNeeded           </td><td>TreatmentOrientation       </td><td>5.133402e-184</td></tr>\n",
       "\t<tr><th scope=row>60</th><td>ObjectStatus_y_4           </td><td>ClinicalStatus             </td><td> 1.105741e-62</td></tr>\n",
       "\t<tr><th scope=row>61</th><td>PrimaryPTVSer              </td><td>Intent                     </td><td> 0.000000e+00</td></tr>\n",
       "\t<tr><th scope=row>62</th><td>PrimaryPTVSer              </td><td>InterfaceStamp             </td><td> 4.621243e-78</td></tr>\n",
       "\t<tr><th scope=row>63</th><td>ObjectStatus_y_4           </td><td>Notes                      </td><td>5.272215e-158</td></tr>\n",
       "\t<tr><th scope=row>64</th><td>NoEditFlag_x               </td><td>FractionPatternDigitsPerDay</td><td> 1.110092e-11</td></tr>\n",
       "\t<tr><th scope=row>65</th><td>NoEditFlag_x               </td><td>StartDelay                 </td><td> 6.249028e-10</td></tr>\n",
       "\t<tr><th scope=row>66</th><td>SimulationNeeded           </td><td>PatientStatus              </td><td> 3.268106e-08</td></tr>\n",
       "\t<tr><th scope=row>67</th><td>NotificationPriorTimeFlag_x</td><td>NotificationPriorTimeFlag_y</td><td> 0.000000e+00</td></tr>\n",
       "\t<tr><th scope=row>68</th><td>NotificationPriorTimeFlag_x</td><td>NotificationPriorTime_x    </td><td> 0.000000e+00</td></tr>\n",
       "\t<tr><th scope=row>69</th><td>NotificationPriorTimeFlag_x</td><td>NotificationPriorTime_y    </td><td> 0.000000e+00</td></tr>\n",
       "\t<tr><th scope=row>70</th><td>ObjectStatus_y_4           </td><td>FractionPatternDigitsPerDay</td><td> 1.378106e-12</td></tr>\n",
       "</tbody>\n",
       "</table>\n"
      ],
      "text/latex": [
       "A bn.strength: 70 × 3\n",
       "\\begin{tabular}{r|lll}\n",
       "  & from & to & strength\\\\\n",
       "  & <chr> & <chr> & <dbl>\\\\\n",
       "\\hline\n",
       "\t1 & SummaryStage        & DiagnosisCode       & 0\\\\\n",
       "\t2 & DiagnosisCode       & TreatmentIntentType & 0\\\\\n",
       "\t3 & DiagnosisCode       & TStage              & 0\\\\\n",
       "\t4 & NStage              & SummaryStage        & 0\\\\\n",
       "\t5 & SummaryStage        & MStage              & 0\\\\\n",
       "\t6 & TreatmentIntentType & NoFractions         & 0\\\\\n",
       "\t7 & ResourceGroupSer    & ActivityCode        & 0\\\\\n",
       "\t8 & EquipmentSer        & InterfaceStamp      & 0\\\\\n",
       "\t9 & NoEditFlag\\_x        & ResourceGroupSer    & 0\\\\\n",
       "\t10 & Duration            & ScheduledDuration   & 0\\\\\n",
       "\t11 & ActivityCode        & AssignableFlag      & 0\\\\\n",
       "\t12 & NoFractions         & PrescribedDose      & 0\\\\\n",
       "\t13 & DiagnosisCode       & ObjectStatus\\_y\\_4    & 0\\\\\n",
       "\t14 & CalcModelOptions    & CalcModelOptionsLen & 0\\\\\n",
       "\t15 & CalcModelOptionsLen & PrimaryPTVSer       & 0\\\\\n",
       "\t16 & NumberOfFractions   & Site                & 0\\\\\n",
       "\t17 & CalcModelOptionsLen & MultiFieldOptFlag   & 0\\\\\n",
       "\t18 & ActivityCode        & Description         & 0\\\\\n",
       "\t19 & MultiFieldOptFlag   & SkinFlashMargin     & 0\\\\\n",
       "\t20 & Site                & Technique           & 0\\\\\n",
       "\t21 & SkinFlashMargin     & Intent              & 0\\\\\n",
       "\t22 & SimulationNeeded    & Status\\_y            & 0\\\\\n",
       "\t23 & SimulationNeeded    & PhaseType           & 0\\\\\n",
       "\t24 & SkinFlashMargin     & PlanNormMethod      & 0\\\\\n",
       "\t25 & Technique           & SimulationNeeded    & 0\\\\\n",
       "\t26 & ActivityCode        & DefaultDuration     & 0\\\\\n",
       "\t27 & PrimaryPTVSer       & NumberOfFractions   & 0\\\\\n",
       "\t28 & DiagnosisCode       & HistologyCode       & 0\\\\\n",
       "\t29 & TreatmentIntentType & PrescribedDose      & 0\\\\\n",
       "\t30 & DiagnosisCode       & Sex                 & 0\\\\\n",
       "\t... & ... & ... & ...\\\\\n",
       "\t41 & MultiFieldOptFlag           & DicomSeqNumber              &  0.000000e+00\\\\\n",
       "\t42 & TStage                      & CityOrTownship              &  0.000000e+00\\\\\n",
       "\t43 & DiagnosisCode               & DateOfBirth                 &  0.000000e+00\\\\\n",
       "\t44 & PrescribedDose              & NoEditFlag\\_x                & 1.021200e-304\\\\\n",
       "\t45 & PrescribedDose              & DiagnosisCode\\_sec           &  0.000000e+00\\\\\n",
       "\t46 & ObjectStatus\\_y\\_4            & NoFractions                 &  0.000000e+00\\\\\n",
       "\t47 & PrescribedDose              & CalcModelOptions            &  0.000000e+00\\\\\n",
       "\t48 & EquipmentSer                & Duration                    &  0.000000e+00\\\\\n",
       "\t49 & ObjectStatus\\_sec            & HistologyCode\\_sec           &  0.000000e+00\\\\\n",
       "\t50 & SimulationNeeded            & Notes                       &  0.000000e+00\\\\\n",
       "\t51 & PrimaryPTVSer               & PlanNormMethod              &  0.000000e+00\\\\\n",
       "\t52 & ResourceGroupSer            & ActivityCategoryCode        &  0.000000e+00\\\\\n",
       "\t53 & NoFractions                 & NumberOfFractions           &  0.000000e+00\\\\\n",
       "\t54 & TreatmentIntentType         & EquipmentSer                &  0.000000e+00\\\\\n",
       "\t55 & InterfaceStamp              & DateOfBirth                 & 7.761124e-231\\\\\n",
       "\t56 & NumberOfFractions           & Country                     & 6.246869e-156\\\\\n",
       "\t57 & FractionPatternDigitsPerDay & FractionPattern             &  0.000000e+00\\\\\n",
       "\t58 & NoFractions                 & NoEditFlag\\_x                & 9.577637e-133\\\\\n",
       "\t59 & SimulationNeeded            & TreatmentOrientation        & 5.133402e-184\\\\\n",
       "\t60 & ObjectStatus\\_y\\_4            & ClinicalStatus              &  1.105741e-62\\\\\n",
       "\t61 & PrimaryPTVSer               & Intent                      &  0.000000e+00\\\\\n",
       "\t62 & PrimaryPTVSer               & InterfaceStamp              &  4.621243e-78\\\\\n",
       "\t63 & ObjectStatus\\_y\\_4            & Notes                       & 5.272215e-158\\\\\n",
       "\t64 & NoEditFlag\\_x                & FractionPatternDigitsPerDay &  1.110092e-11\\\\\n",
       "\t65 & NoEditFlag\\_x                & StartDelay                  &  6.249028e-10\\\\\n",
       "\t66 & SimulationNeeded            & PatientStatus               &  3.268106e-08\\\\\n",
       "\t67 & NotificationPriorTimeFlag\\_x & NotificationPriorTimeFlag\\_y &  0.000000e+00\\\\\n",
       "\t68 & NotificationPriorTimeFlag\\_x & NotificationPriorTime\\_x     &  0.000000e+00\\\\\n",
       "\t69 & NotificationPriorTimeFlag\\_x & NotificationPriorTime\\_y     &  0.000000e+00\\\\\n",
       "\t70 & ObjectStatus\\_y\\_4            & FractionPatternDigitsPerDay &  1.378106e-12\\\\\n",
       "\\end{tabular}\n"
      ],
      "text/markdown": [
       "\n",
       "A bn.strength: 70 × 3\n",
       "\n",
       "| <!--/--> | from &lt;chr&gt; | to &lt;chr&gt; | strength &lt;dbl&gt; |\n",
       "|---|---|---|---|\n",
       "| 1 | SummaryStage        | DiagnosisCode       | 0 |\n",
       "| 2 | DiagnosisCode       | TreatmentIntentType | 0 |\n",
       "| 3 | DiagnosisCode       | TStage              | 0 |\n",
       "| 4 | NStage              | SummaryStage        | 0 |\n",
       "| 5 | SummaryStage        | MStage              | 0 |\n",
       "| 6 | TreatmentIntentType | NoFractions         | 0 |\n",
       "| 7 | ResourceGroupSer    | ActivityCode        | 0 |\n",
       "| 8 | EquipmentSer        | InterfaceStamp      | 0 |\n",
       "| 9 | NoEditFlag_x        | ResourceGroupSer    | 0 |\n",
       "| 10 | Duration            | ScheduledDuration   | 0 |\n",
       "| 11 | ActivityCode        | AssignableFlag      | 0 |\n",
       "| 12 | NoFractions         | PrescribedDose      | 0 |\n",
       "| 13 | DiagnosisCode       | ObjectStatus_y_4    | 0 |\n",
       "| 14 | CalcModelOptions    | CalcModelOptionsLen | 0 |\n",
       "| 15 | CalcModelOptionsLen | PrimaryPTVSer       | 0 |\n",
       "| 16 | NumberOfFractions   | Site                | 0 |\n",
       "| 17 | CalcModelOptionsLen | MultiFieldOptFlag   | 0 |\n",
       "| 18 | ActivityCode        | Description         | 0 |\n",
       "| 19 | MultiFieldOptFlag   | SkinFlashMargin     | 0 |\n",
       "| 20 | Site                | Technique           | 0 |\n",
       "| 21 | SkinFlashMargin     | Intent              | 0 |\n",
       "| 22 | SimulationNeeded    | Status_y            | 0 |\n",
       "| 23 | SimulationNeeded    | PhaseType           | 0 |\n",
       "| 24 | SkinFlashMargin     | PlanNormMethod      | 0 |\n",
       "| 25 | Technique           | SimulationNeeded    | 0 |\n",
       "| 26 | ActivityCode        | DefaultDuration     | 0 |\n",
       "| 27 | PrimaryPTVSer       | NumberOfFractions   | 0 |\n",
       "| 28 | DiagnosisCode       | HistologyCode       | 0 |\n",
       "| 29 | TreatmentIntentType | PrescribedDose      | 0 |\n",
       "| 30 | DiagnosisCode       | Sex                 | 0 |\n",
       "| ... | ... | ... | ... |\n",
       "| 41 | MultiFieldOptFlag           | DicomSeqNumber              |  0.000000e+00 |\n",
       "| 42 | TStage                      | CityOrTownship              |  0.000000e+00 |\n",
       "| 43 | DiagnosisCode               | DateOfBirth                 |  0.000000e+00 |\n",
       "| 44 | PrescribedDose              | NoEditFlag_x                | 1.021200e-304 |\n",
       "| 45 | PrescribedDose              | DiagnosisCode_sec           |  0.000000e+00 |\n",
       "| 46 | ObjectStatus_y_4            | NoFractions                 |  0.000000e+00 |\n",
       "| 47 | PrescribedDose              | CalcModelOptions            |  0.000000e+00 |\n",
       "| 48 | EquipmentSer                | Duration                    |  0.000000e+00 |\n",
       "| 49 | ObjectStatus_sec            | HistologyCode_sec           |  0.000000e+00 |\n",
       "| 50 | SimulationNeeded            | Notes                       |  0.000000e+00 |\n",
       "| 51 | PrimaryPTVSer               | PlanNormMethod              |  0.000000e+00 |\n",
       "| 52 | ResourceGroupSer            | ActivityCategoryCode        |  0.000000e+00 |\n",
       "| 53 | NoFractions                 | NumberOfFractions           |  0.000000e+00 |\n",
       "| 54 | TreatmentIntentType         | EquipmentSer                |  0.000000e+00 |\n",
       "| 55 | InterfaceStamp              | DateOfBirth                 | 7.761124e-231 |\n",
       "| 56 | NumberOfFractions           | Country                     | 6.246869e-156 |\n",
       "| 57 | FractionPatternDigitsPerDay | FractionPattern             |  0.000000e+00 |\n",
       "| 58 | NoFractions                 | NoEditFlag_x                | 9.577637e-133 |\n",
       "| 59 | SimulationNeeded            | TreatmentOrientation        | 5.133402e-184 |\n",
       "| 60 | ObjectStatus_y_4            | ClinicalStatus              |  1.105741e-62 |\n",
       "| 61 | PrimaryPTVSer               | Intent                      |  0.000000e+00 |\n",
       "| 62 | PrimaryPTVSer               | InterfaceStamp              |  4.621243e-78 |\n",
       "| 63 | ObjectStatus_y_4            | Notes                       | 5.272215e-158 |\n",
       "| 64 | NoEditFlag_x                | FractionPatternDigitsPerDay |  1.110092e-11 |\n",
       "| 65 | NoEditFlag_x                | StartDelay                  |  6.249028e-10 |\n",
       "| 66 | SimulationNeeded            | PatientStatus               |  3.268106e-08 |\n",
       "| 67 | NotificationPriorTimeFlag_x | NotificationPriorTimeFlag_y |  0.000000e+00 |\n",
       "| 68 | NotificationPriorTimeFlag_x | NotificationPriorTime_x     |  0.000000e+00 |\n",
       "| 69 | NotificationPriorTimeFlag_x | NotificationPriorTime_y     |  0.000000e+00 |\n",
       "| 70 | ObjectStatus_y_4            | FractionPatternDigitsPerDay |  1.378106e-12 |\n",
       "\n"
      ],
      "text/plain": [
       "    from                        to                          strength     \n",
       "1   SummaryStage                DiagnosisCode               0            \n",
       "2   DiagnosisCode               TreatmentIntentType         0            \n",
       "3   DiagnosisCode               TStage                      0            \n",
       "4   NStage                      SummaryStage                0            \n",
       "5   SummaryStage                MStage                      0            \n",
       "6   TreatmentIntentType         NoFractions                 0            \n",
       "7   ResourceGroupSer            ActivityCode                0            \n",
       "8   EquipmentSer                InterfaceStamp              0            \n",
       "9   NoEditFlag_x                ResourceGroupSer            0            \n",
       "10  Duration                    ScheduledDuration           0            \n",
       "11  ActivityCode                AssignableFlag              0            \n",
       "12  NoFractions                 PrescribedDose              0            \n",
       "13  DiagnosisCode               ObjectStatus_y_4            0            \n",
       "14  CalcModelOptions            CalcModelOptionsLen         0            \n",
       "15  CalcModelOptionsLen         PrimaryPTVSer               0            \n",
       "16  NumberOfFractions           Site                        0            \n",
       "17  CalcModelOptionsLen         MultiFieldOptFlag           0            \n",
       "18  ActivityCode                Description                 0            \n",
       "19  MultiFieldOptFlag           SkinFlashMargin             0            \n",
       "20  Site                        Technique                   0            \n",
       "21  SkinFlashMargin             Intent                      0            \n",
       "22  SimulationNeeded            Status_y                    0            \n",
       "23  SimulationNeeded            PhaseType                   0            \n",
       "24  SkinFlashMargin             PlanNormMethod              0            \n",
       "25  Technique                   SimulationNeeded            0            \n",
       "26  ActivityCode                DefaultDuration             0            \n",
       "27  PrimaryPTVSer               NumberOfFractions           0            \n",
       "28  DiagnosisCode               HistologyCode               0            \n",
       "29  TreatmentIntentType         PrescribedDose              0            \n",
       "30  DiagnosisCode               Sex                         0            \n",
       "... ...                         ...                         ...          \n",
       "41  MultiFieldOptFlag           DicomSeqNumber               0.000000e+00\n",
       "42  TStage                      CityOrTownship               0.000000e+00\n",
       "43  DiagnosisCode               DateOfBirth                  0.000000e+00\n",
       "44  PrescribedDose              NoEditFlag_x                1.021200e-304\n",
       "45  PrescribedDose              DiagnosisCode_sec            0.000000e+00\n",
       "46  ObjectStatus_y_4            NoFractions                  0.000000e+00\n",
       "47  PrescribedDose              CalcModelOptions             0.000000e+00\n",
       "48  EquipmentSer                Duration                     0.000000e+00\n",
       "49  ObjectStatus_sec            HistologyCode_sec            0.000000e+00\n",
       "50  SimulationNeeded            Notes                        0.000000e+00\n",
       "51  PrimaryPTVSer               PlanNormMethod               0.000000e+00\n",
       "52  ResourceGroupSer            ActivityCategoryCode         0.000000e+00\n",
       "53  NoFractions                 NumberOfFractions            0.000000e+00\n",
       "54  TreatmentIntentType         EquipmentSer                 0.000000e+00\n",
       "55  InterfaceStamp              DateOfBirth                 7.761124e-231\n",
       "56  NumberOfFractions           Country                     6.246869e-156\n",
       "57  FractionPatternDigitsPerDay FractionPattern              0.000000e+00\n",
       "58  NoFractions                 NoEditFlag_x                9.577637e-133\n",
       "59  SimulationNeeded            TreatmentOrientation        5.133402e-184\n",
       "60  ObjectStatus_y_4            ClinicalStatus               1.105741e-62\n",
       "61  PrimaryPTVSer               Intent                       0.000000e+00\n",
       "62  PrimaryPTVSer               InterfaceStamp               4.621243e-78\n",
       "63  ObjectStatus_y_4            Notes                       5.272215e-158\n",
       "64  NoEditFlag_x                FractionPatternDigitsPerDay  1.110092e-11\n",
       "65  NoEditFlag_x                StartDelay                   6.249028e-10\n",
       "66  SimulationNeeded            PatientStatus                3.268106e-08\n",
       "67  NotificationPriorTimeFlag_x NotificationPriorTimeFlag_y  0.000000e+00\n",
       "68  NotificationPriorTimeFlag_x NotificationPriorTime_x      0.000000e+00\n",
       "69  NotificationPriorTimeFlag_x NotificationPriorTime_y      0.000000e+00\n",
       "70  ObjectStatus_y_4            FractionPatternDigitsPerDay  1.378106e-12"
      ]
     },
     "metadata": {},
     "output_type": "display_data"
    },
    {
     "data": {
      "text/html": [
       "<table class=\"dataframe\">\n",
       "<caption>A bn.strength: 70 × 3</caption>\n",
       "<thead>\n",
       "\t<tr><th></th><th scope=col>from</th><th scope=col>to</th><th scope=col>strength</th></tr>\n",
       "\t<tr><th></th><th scope=col>&lt;chr&gt;</th><th scope=col>&lt;chr&gt;</th><th scope=col>&lt;dbl&gt;</th></tr>\n",
       "</thead>\n",
       "<tbody>\n",
       "\t<tr><th scope=row>1</th><td>SummaryStage       </td><td>DiagnosisCode      </td><td>-16385.8812</td></tr>\n",
       "\t<tr><th scope=row>2</th><td>DiagnosisCode      </td><td>TreatmentIntentType</td><td>-16063.6890</td></tr>\n",
       "\t<tr><th scope=row>3</th><td>DiagnosisCode      </td><td>TStage             </td><td>-15866.5139</td></tr>\n",
       "\t<tr><th scope=row>4</th><td>NStage             </td><td>SummaryStage       </td><td>-13335.9271</td></tr>\n",
       "\t<tr><th scope=row>5</th><td>SummaryStage       </td><td>MStage             </td><td>-12732.7881</td></tr>\n",
       "\t<tr><th scope=row>6</th><td>TreatmentIntentType</td><td>NoFractions        </td><td>-11908.9776</td></tr>\n",
       "\t<tr><th scope=row>7</th><td>ResourceGroupSer   </td><td>ActivityCode       </td><td>-11734.4625</td></tr>\n",
       "\t<tr><th scope=row>8</th><td>EquipmentSer       </td><td>InterfaceStamp     </td><td>-10339.5470</td></tr>\n",
       "\t<tr><th scope=row>9</th><td>NoEditFlag_x       </td><td>ResourceGroupSer   </td><td>-11424.7106</td></tr>\n",
       "\t<tr><th scope=row>10</th><td>Duration           </td><td>ScheduledDuration  </td><td>-10779.5589</td></tr>\n",
       "\t<tr><th scope=row>11</th><td>ActivityCode       </td><td>AssignableFlag     </td><td> -9983.1275</td></tr>\n",
       "\t<tr><th scope=row>12</th><td>NoFractions        </td><td>PrescribedDose     </td><td> -5073.3055</td></tr>\n",
       "\t<tr><th scope=row>13</th><td>DiagnosisCode      </td><td>ObjectStatus_y_4   </td><td> -9006.8915</td></tr>\n",
       "\t<tr><th scope=row>14</th><td>CalcModelOptions   </td><td>CalcModelOptionsLen</td><td> -8871.4150</td></tr>\n",
       "\t<tr><th scope=row>15</th><td>CalcModelOptionsLen</td><td>PrimaryPTVSer      </td><td> -8118.5617</td></tr>\n",
       "\t<tr><th scope=row>16</th><td>NumberOfFractions  </td><td>Site               </td><td> -7794.0830</td></tr>\n",
       "\t<tr><th scope=row>17</th><td>CalcModelOptionsLen</td><td>MultiFieldOptFlag  </td><td> -7366.7242</td></tr>\n",
       "\t<tr><th scope=row>18</th><td>ActivityCode       </td><td>Description        </td><td> -7052.9583</td></tr>\n",
       "\t<tr><th scope=row>19</th><td>MultiFieldOptFlag  </td><td>SkinFlashMargin    </td><td> -6879.2239</td></tr>\n",
       "\t<tr><th scope=row>20</th><td>Site               </td><td>Technique          </td><td> -6818.3727</td></tr>\n",
       "\t<tr><th scope=row>21</th><td>SkinFlashMargin    </td><td>Intent             </td><td> -1106.6050</td></tr>\n",
       "\t<tr><th scope=row>22</th><td>SimulationNeeded   </td><td>Status_y           </td><td> -6632.0554</td></tr>\n",
       "\t<tr><th scope=row>23</th><td>SimulationNeeded   </td><td>PhaseType          </td><td> -6627.1076</td></tr>\n",
       "\t<tr><th scope=row>24</th><td>SkinFlashMargin    </td><td>PlanNormMethod     </td><td>  -599.1039</td></tr>\n",
       "\t<tr><th scope=row>25</th><td>Technique          </td><td>SimulationNeeded   </td><td> -6607.3163</td></tr>\n",
       "\t<tr><th scope=row>26</th><td>ActivityCode       </td><td>DefaultDuration    </td><td> -5819.0617</td></tr>\n",
       "\t<tr><th scope=row>27</th><td>PrimaryPTVSer      </td><td>NumberOfFractions  </td><td> -3361.4311</td></tr>\n",
       "\t<tr><th scope=row>28</th><td>DiagnosisCode      </td><td>HistologyCode      </td><td> -5493.5335</td></tr>\n",
       "\t<tr><th scope=row>29</th><td>TreatmentIntentType</td><td>PrescribedDose     </td><td> -4620.0772</td></tr>\n",
       "\t<tr><th scope=row>30</th><td>DiagnosisCode      </td><td>Sex                </td><td> -4222.3176</td></tr>\n",
       "\t<tr><th scope=row>...</th><td>...</td><td>...</td><td>...</td></tr>\n",
       "\t<tr><th scope=row>41</th><td>MultiFieldOptFlag          </td><td>DicomSeqNumber             </td><td>-1791.798409</td></tr>\n",
       "\t<tr><th scope=row>42</th><td>TStage                     </td><td>CityOrTownship             </td><td>-1609.884171</td></tr>\n",
       "\t<tr><th scope=row>43</th><td>DiagnosisCode              </td><td>DateOfBirth                </td><td>-1759.575661</td></tr>\n",
       "\t<tr><th scope=row>44</th><td>PrescribedDose             </td><td>NoEditFlag_x               </td><td> -617.155134</td></tr>\n",
       "\t<tr><th scope=row>45</th><td>PrescribedDose             </td><td>DiagnosisCode_sec          </td><td>-1055.980913</td></tr>\n",
       "\t<tr><th scope=row>46</th><td>ObjectStatus_y_4           </td><td>NoFractions                </td><td>-1013.746575</td></tr>\n",
       "\t<tr><th scope=row>47</th><td>PrescribedDose             </td><td>CalcModelOptions           </td><td> -710.141099</td></tr>\n",
       "\t<tr><th scope=row>48</th><td>EquipmentSer               </td><td>Duration                   </td><td> -633.588358</td></tr>\n",
       "\t<tr><th scope=row>49</th><td>ObjectStatus_sec           </td><td>HistologyCode_sec          </td><td> -622.878318</td></tr>\n",
       "\t<tr><th scope=row>50</th><td>SimulationNeeded           </td><td>Notes                      </td><td> -502.443454</td></tr>\n",
       "\t<tr><th scope=row>51</th><td>PrimaryPTVSer              </td><td>PlanNormMethod             </td><td> -553.785541</td></tr>\n",
       "\t<tr><th scope=row>52</th><td>ResourceGroupSer           </td><td>ActivityCategoryCode       </td><td> -543.870352</td></tr>\n",
       "\t<tr><th scope=row>53</th><td>NoFractions                </td><td>NumberOfFractions          </td><td> -391.953438</td></tr>\n",
       "\t<tr><th scope=row>54</th><td>TreatmentIntentType        </td><td>EquipmentSer               </td><td> -333.559023</td></tr>\n",
       "\t<tr><th scope=row>55</th><td>InterfaceStamp             </td><td>DateOfBirth                </td><td> -310.634363</td></tr>\n",
       "\t<tr><th scope=row>56</th><td>NumberOfFractions          </td><td>Country                    </td><td> -237.271655</td></tr>\n",
       "\t<tr><th scope=row>57</th><td>FractionPatternDigitsPerDay</td><td>FractionPattern            </td><td> -208.128138</td></tr>\n",
       "\t<tr><th scope=row>58</th><td>NoFractions                </td><td>NoEditFlag_x               </td><td> -202.420766</td></tr>\n",
       "\t<tr><th scope=row>59</th><td>SimulationNeeded           </td><td>TreatmentOrientation       </td><td> -195.645138</td></tr>\n",
       "\t<tr><th scope=row>60</th><td>ObjectStatus_y_4           </td><td>ClinicalStatus             </td><td> -187.872152</td></tr>\n",
       "\t<tr><th scope=row>61</th><td>PrimaryPTVSer              </td><td>Intent                     </td><td> -100.180587</td></tr>\n",
       "\t<tr><th scope=row>62</th><td>PrimaryPTVSer              </td><td>InterfaceStamp             </td><td>  -54.980341</td></tr>\n",
       "\t<tr><th scope=row>63</th><td>ObjectStatus_y_4           </td><td>Notes                      </td><td>  -24.753810</td></tr>\n",
       "\t<tr><th scope=row>64</th><td>NoEditFlag_x               </td><td>FractionPatternDigitsPerDay</td><td>   -8.440237</td></tr>\n",
       "\t<tr><th scope=row>65</th><td>NoEditFlag_x               </td><td>StartDelay                 </td><td>   -8.495363</td></tr>\n",
       "\t<tr><th scope=row>66</th><td>SimulationNeeded           </td><td>PatientStatus              </td><td>   -6.856836</td></tr>\n",
       "\t<tr><th scope=row>67</th><td>NotificationPriorTimeFlag_x</td><td>NotificationPriorTimeFlag_y</td><td>   -5.947803</td></tr>\n",
       "\t<tr><th scope=row>68</th><td>NotificationPriorTimeFlag_x</td><td>NotificationPriorTime_x    </td><td>   -5.947803</td></tr>\n",
       "\t<tr><th scope=row>69</th><td>NotificationPriorTimeFlag_x</td><td>NotificationPriorTime_y    </td><td>   -5.947803</td></tr>\n",
       "\t<tr><th scope=row>70</th><td>ObjectStatus_y_4           </td><td>FractionPatternDigitsPerDay</td><td>   -2.767964</td></tr>\n",
       "</tbody>\n",
       "</table>\n"
      ],
      "text/latex": [
       "A bn.strength: 70 × 3\n",
       "\\begin{tabular}{r|lll}\n",
       "  & from & to & strength\\\\\n",
       "  & <chr> & <chr> & <dbl>\\\\\n",
       "\\hline\n",
       "\t1 & SummaryStage        & DiagnosisCode       & -16385.8812\\\\\n",
       "\t2 & DiagnosisCode       & TreatmentIntentType & -16063.6890\\\\\n",
       "\t3 & DiagnosisCode       & TStage              & -15866.5139\\\\\n",
       "\t4 & NStage              & SummaryStage        & -13335.9271\\\\\n",
       "\t5 & SummaryStage        & MStage              & -12732.7881\\\\\n",
       "\t6 & TreatmentIntentType & NoFractions         & -11908.9776\\\\\n",
       "\t7 & ResourceGroupSer    & ActivityCode        & -11734.4625\\\\\n",
       "\t8 & EquipmentSer        & InterfaceStamp      & -10339.5470\\\\\n",
       "\t9 & NoEditFlag\\_x        & ResourceGroupSer    & -11424.7106\\\\\n",
       "\t10 & Duration            & ScheduledDuration   & -10779.5589\\\\\n",
       "\t11 & ActivityCode        & AssignableFlag      &  -9983.1275\\\\\n",
       "\t12 & NoFractions         & PrescribedDose      &  -5073.3055\\\\\n",
       "\t13 & DiagnosisCode       & ObjectStatus\\_y\\_4    &  -9006.8915\\\\\n",
       "\t14 & CalcModelOptions    & CalcModelOptionsLen &  -8871.4150\\\\\n",
       "\t15 & CalcModelOptionsLen & PrimaryPTVSer       &  -8118.5617\\\\\n",
       "\t16 & NumberOfFractions   & Site                &  -7794.0830\\\\\n",
       "\t17 & CalcModelOptionsLen & MultiFieldOptFlag   &  -7366.7242\\\\\n",
       "\t18 & ActivityCode        & Description         &  -7052.9583\\\\\n",
       "\t19 & MultiFieldOptFlag   & SkinFlashMargin     &  -6879.2239\\\\\n",
       "\t20 & Site                & Technique           &  -6818.3727\\\\\n",
       "\t21 & SkinFlashMargin     & Intent              &  -1106.6050\\\\\n",
       "\t22 & SimulationNeeded    & Status\\_y            &  -6632.0554\\\\\n",
       "\t23 & SimulationNeeded    & PhaseType           &  -6627.1076\\\\\n",
       "\t24 & SkinFlashMargin     & PlanNormMethod      &   -599.1039\\\\\n",
       "\t25 & Technique           & SimulationNeeded    &  -6607.3163\\\\\n",
       "\t26 & ActivityCode        & DefaultDuration     &  -5819.0617\\\\\n",
       "\t27 & PrimaryPTVSer       & NumberOfFractions   &  -3361.4311\\\\\n",
       "\t28 & DiagnosisCode       & HistologyCode       &  -5493.5335\\\\\n",
       "\t29 & TreatmentIntentType & PrescribedDose      &  -4620.0772\\\\\n",
       "\t30 & DiagnosisCode       & Sex                 &  -4222.3176\\\\\n",
       "\t... & ... & ... & ...\\\\\n",
       "\t41 & MultiFieldOptFlag           & DicomSeqNumber              & -1791.798409\\\\\n",
       "\t42 & TStage                      & CityOrTownship              & -1609.884171\\\\\n",
       "\t43 & DiagnosisCode               & DateOfBirth                 & -1759.575661\\\\\n",
       "\t44 & PrescribedDose              & NoEditFlag\\_x                &  -617.155134\\\\\n",
       "\t45 & PrescribedDose              & DiagnosisCode\\_sec           & -1055.980913\\\\\n",
       "\t46 & ObjectStatus\\_y\\_4            & NoFractions                 & -1013.746575\\\\\n",
       "\t47 & PrescribedDose              & CalcModelOptions            &  -710.141099\\\\\n",
       "\t48 & EquipmentSer                & Duration                    &  -633.588358\\\\\n",
       "\t49 & ObjectStatus\\_sec            & HistologyCode\\_sec           &  -622.878318\\\\\n",
       "\t50 & SimulationNeeded            & Notes                       &  -502.443454\\\\\n",
       "\t51 & PrimaryPTVSer               & PlanNormMethod              &  -553.785541\\\\\n",
       "\t52 & ResourceGroupSer            & ActivityCategoryCode        &  -543.870352\\\\\n",
       "\t53 & NoFractions                 & NumberOfFractions           &  -391.953438\\\\\n",
       "\t54 & TreatmentIntentType         & EquipmentSer                &  -333.559023\\\\\n",
       "\t55 & InterfaceStamp              & DateOfBirth                 &  -310.634363\\\\\n",
       "\t56 & NumberOfFractions           & Country                     &  -237.271655\\\\\n",
       "\t57 & FractionPatternDigitsPerDay & FractionPattern             &  -208.128138\\\\\n",
       "\t58 & NoFractions                 & NoEditFlag\\_x                &  -202.420766\\\\\n",
       "\t59 & SimulationNeeded            & TreatmentOrientation        &  -195.645138\\\\\n",
       "\t60 & ObjectStatus\\_y\\_4            & ClinicalStatus              &  -187.872152\\\\\n",
       "\t61 & PrimaryPTVSer               & Intent                      &  -100.180587\\\\\n",
       "\t62 & PrimaryPTVSer               & InterfaceStamp              &   -54.980341\\\\\n",
       "\t63 & ObjectStatus\\_y\\_4            & Notes                       &   -24.753810\\\\\n",
       "\t64 & NoEditFlag\\_x                & FractionPatternDigitsPerDay &    -8.440237\\\\\n",
       "\t65 & NoEditFlag\\_x                & StartDelay                  &    -8.495363\\\\\n",
       "\t66 & SimulationNeeded            & PatientStatus               &    -6.856836\\\\\n",
       "\t67 & NotificationPriorTimeFlag\\_x & NotificationPriorTimeFlag\\_y &    -5.947803\\\\\n",
       "\t68 & NotificationPriorTimeFlag\\_x & NotificationPriorTime\\_x     &    -5.947803\\\\\n",
       "\t69 & NotificationPriorTimeFlag\\_x & NotificationPriorTime\\_y     &    -5.947803\\\\\n",
       "\t70 & ObjectStatus\\_y\\_4            & FractionPatternDigitsPerDay &    -2.767964\\\\\n",
       "\\end{tabular}\n"
      ],
      "text/markdown": [
       "\n",
       "A bn.strength: 70 × 3\n",
       "\n",
       "| <!--/--> | from &lt;chr&gt; | to &lt;chr&gt; | strength &lt;dbl&gt; |\n",
       "|---|---|---|---|\n",
       "| 1 | SummaryStage        | DiagnosisCode       | -16385.8812 |\n",
       "| 2 | DiagnosisCode       | TreatmentIntentType | -16063.6890 |\n",
       "| 3 | DiagnosisCode       | TStage              | -15866.5139 |\n",
       "| 4 | NStage              | SummaryStage        | -13335.9271 |\n",
       "| 5 | SummaryStage        | MStage              | -12732.7881 |\n",
       "| 6 | TreatmentIntentType | NoFractions         | -11908.9776 |\n",
       "| 7 | ResourceGroupSer    | ActivityCode        | -11734.4625 |\n",
       "| 8 | EquipmentSer        | InterfaceStamp      | -10339.5470 |\n",
       "| 9 | NoEditFlag_x        | ResourceGroupSer    | -11424.7106 |\n",
       "| 10 | Duration            | ScheduledDuration   | -10779.5589 |\n",
       "| 11 | ActivityCode        | AssignableFlag      |  -9983.1275 |\n",
       "| 12 | NoFractions         | PrescribedDose      |  -5073.3055 |\n",
       "| 13 | DiagnosisCode       | ObjectStatus_y_4    |  -9006.8915 |\n",
       "| 14 | CalcModelOptions    | CalcModelOptionsLen |  -8871.4150 |\n",
       "| 15 | CalcModelOptionsLen | PrimaryPTVSer       |  -8118.5617 |\n",
       "| 16 | NumberOfFractions   | Site                |  -7794.0830 |\n",
       "| 17 | CalcModelOptionsLen | MultiFieldOptFlag   |  -7366.7242 |\n",
       "| 18 | ActivityCode        | Description         |  -7052.9583 |\n",
       "| 19 | MultiFieldOptFlag   | SkinFlashMargin     |  -6879.2239 |\n",
       "| 20 | Site                | Technique           |  -6818.3727 |\n",
       "| 21 | SkinFlashMargin     | Intent              |  -1106.6050 |\n",
       "| 22 | SimulationNeeded    | Status_y            |  -6632.0554 |\n",
       "| 23 | SimulationNeeded    | PhaseType           |  -6627.1076 |\n",
       "| 24 | SkinFlashMargin     | PlanNormMethod      |   -599.1039 |\n",
       "| 25 | Technique           | SimulationNeeded    |  -6607.3163 |\n",
       "| 26 | ActivityCode        | DefaultDuration     |  -5819.0617 |\n",
       "| 27 | PrimaryPTVSer       | NumberOfFractions   |  -3361.4311 |\n",
       "| 28 | DiagnosisCode       | HistologyCode       |  -5493.5335 |\n",
       "| 29 | TreatmentIntentType | PrescribedDose      |  -4620.0772 |\n",
       "| 30 | DiagnosisCode       | Sex                 |  -4222.3176 |\n",
       "| ... | ... | ... | ... |\n",
       "| 41 | MultiFieldOptFlag           | DicomSeqNumber              | -1791.798409 |\n",
       "| 42 | TStage                      | CityOrTownship              | -1609.884171 |\n",
       "| 43 | DiagnosisCode               | DateOfBirth                 | -1759.575661 |\n",
       "| 44 | PrescribedDose              | NoEditFlag_x                |  -617.155134 |\n",
       "| 45 | PrescribedDose              | DiagnosisCode_sec           | -1055.980913 |\n",
       "| 46 | ObjectStatus_y_4            | NoFractions                 | -1013.746575 |\n",
       "| 47 | PrescribedDose              | CalcModelOptions            |  -710.141099 |\n",
       "| 48 | EquipmentSer                | Duration                    |  -633.588358 |\n",
       "| 49 | ObjectStatus_sec            | HistologyCode_sec           |  -622.878318 |\n",
       "| 50 | SimulationNeeded            | Notes                       |  -502.443454 |\n",
       "| 51 | PrimaryPTVSer               | PlanNormMethod              |  -553.785541 |\n",
       "| 52 | ResourceGroupSer            | ActivityCategoryCode        |  -543.870352 |\n",
       "| 53 | NoFractions                 | NumberOfFractions           |  -391.953438 |\n",
       "| 54 | TreatmentIntentType         | EquipmentSer                |  -333.559023 |\n",
       "| 55 | InterfaceStamp              | DateOfBirth                 |  -310.634363 |\n",
       "| 56 | NumberOfFractions           | Country                     |  -237.271655 |\n",
       "| 57 | FractionPatternDigitsPerDay | FractionPattern             |  -208.128138 |\n",
       "| 58 | NoFractions                 | NoEditFlag_x                |  -202.420766 |\n",
       "| 59 | SimulationNeeded            | TreatmentOrientation        |  -195.645138 |\n",
       "| 60 | ObjectStatus_y_4            | ClinicalStatus              |  -187.872152 |\n",
       "| 61 | PrimaryPTVSer               | Intent                      |  -100.180587 |\n",
       "| 62 | PrimaryPTVSer               | InterfaceStamp              |   -54.980341 |\n",
       "| 63 | ObjectStatus_y_4            | Notes                       |   -24.753810 |\n",
       "| 64 | NoEditFlag_x                | FractionPatternDigitsPerDay |    -8.440237 |\n",
       "| 65 | NoEditFlag_x                | StartDelay                  |    -8.495363 |\n",
       "| 66 | SimulationNeeded            | PatientStatus               |    -6.856836 |\n",
       "| 67 | NotificationPriorTimeFlag_x | NotificationPriorTimeFlag_y |    -5.947803 |\n",
       "| 68 | NotificationPriorTimeFlag_x | NotificationPriorTime_x     |    -5.947803 |\n",
       "| 69 | NotificationPriorTimeFlag_x | NotificationPriorTime_y     |    -5.947803 |\n",
       "| 70 | ObjectStatus_y_4            | FractionPatternDigitsPerDay |    -2.767964 |\n",
       "\n"
      ],
      "text/plain": [
       "    from                        to                          strength    \n",
       "1   SummaryStage                DiagnosisCode               -16385.8812 \n",
       "2   DiagnosisCode               TreatmentIntentType         -16063.6890 \n",
       "3   DiagnosisCode               TStage                      -15866.5139 \n",
       "4   NStage                      SummaryStage                -13335.9271 \n",
       "5   SummaryStage                MStage                      -12732.7881 \n",
       "6   TreatmentIntentType         NoFractions                 -11908.9776 \n",
       "7   ResourceGroupSer            ActivityCode                -11734.4625 \n",
       "8   EquipmentSer                InterfaceStamp              -10339.5470 \n",
       "9   NoEditFlag_x                ResourceGroupSer            -11424.7106 \n",
       "10  Duration                    ScheduledDuration           -10779.5589 \n",
       "11  ActivityCode                AssignableFlag               -9983.1275 \n",
       "12  NoFractions                 PrescribedDose               -5073.3055 \n",
       "13  DiagnosisCode               ObjectStatus_y_4             -9006.8915 \n",
       "14  CalcModelOptions            CalcModelOptionsLen          -8871.4150 \n",
       "15  CalcModelOptionsLen         PrimaryPTVSer                -8118.5617 \n",
       "16  NumberOfFractions           Site                         -7794.0830 \n",
       "17  CalcModelOptionsLen         MultiFieldOptFlag            -7366.7242 \n",
       "18  ActivityCode                Description                  -7052.9583 \n",
       "19  MultiFieldOptFlag           SkinFlashMargin              -6879.2239 \n",
       "20  Site                        Technique                    -6818.3727 \n",
       "21  SkinFlashMargin             Intent                       -1106.6050 \n",
       "22  SimulationNeeded            Status_y                     -6632.0554 \n",
       "23  SimulationNeeded            PhaseType                    -6627.1076 \n",
       "24  SkinFlashMargin             PlanNormMethod                -599.1039 \n",
       "25  Technique                   SimulationNeeded             -6607.3163 \n",
       "26  ActivityCode                DefaultDuration              -5819.0617 \n",
       "27  PrimaryPTVSer               NumberOfFractions            -3361.4311 \n",
       "28  DiagnosisCode               HistologyCode                -5493.5335 \n",
       "29  TreatmentIntentType         PrescribedDose               -4620.0772 \n",
       "30  DiagnosisCode               Sex                          -4222.3176 \n",
       "... ...                         ...                         ...         \n",
       "41  MultiFieldOptFlag           DicomSeqNumber              -1791.798409\n",
       "42  TStage                      CityOrTownship              -1609.884171\n",
       "43  DiagnosisCode               DateOfBirth                 -1759.575661\n",
       "44  PrescribedDose              NoEditFlag_x                 -617.155134\n",
       "45  PrescribedDose              DiagnosisCode_sec           -1055.980913\n",
       "46  ObjectStatus_y_4            NoFractions                 -1013.746575\n",
       "47  PrescribedDose              CalcModelOptions             -710.141099\n",
       "48  EquipmentSer                Duration                     -633.588358\n",
       "49  ObjectStatus_sec            HistologyCode_sec            -622.878318\n",
       "50  SimulationNeeded            Notes                        -502.443454\n",
       "51  PrimaryPTVSer               PlanNormMethod               -553.785541\n",
       "52  ResourceGroupSer            ActivityCategoryCode         -543.870352\n",
       "53  NoFractions                 NumberOfFractions            -391.953438\n",
       "54  TreatmentIntentType         EquipmentSer                 -333.559023\n",
       "55  InterfaceStamp              DateOfBirth                  -310.634363\n",
       "56  NumberOfFractions           Country                      -237.271655\n",
       "57  FractionPatternDigitsPerDay FractionPattern              -208.128138\n",
       "58  NoFractions                 NoEditFlag_x                 -202.420766\n",
       "59  SimulationNeeded            TreatmentOrientation         -195.645138\n",
       "60  ObjectStatus_y_4            ClinicalStatus               -187.872152\n",
       "61  PrimaryPTVSer               Intent                       -100.180587\n",
       "62  PrimaryPTVSer               InterfaceStamp                -54.980341\n",
       "63  ObjectStatus_y_4            Notes                         -24.753810\n",
       "64  NoEditFlag_x                FractionPatternDigitsPerDay    -8.440237\n",
       "65  NoEditFlag_x                StartDelay                     -8.495363\n",
       "66  SimulationNeeded            PatientStatus                  -6.856836\n",
       "67  NotificationPriorTimeFlag_x NotificationPriorTimeFlag_y    -5.947803\n",
       "68  NotificationPriorTimeFlag_x NotificationPriorTime_x        -5.947803\n",
       "69  NotificationPriorTimeFlag_x NotificationPriorTime_y        -5.947803\n",
       "70  ObjectStatus_y_4            FractionPatternDigitsPerDay    -2.767964"
      ]
     },
     "metadata": {},
     "output_type": "display_data"
    }
   ],
   "source": [
    "bnlearn::score(hcdag, data = tabla, type = \"bic\")\n",
    "bnlearn::score(tabudag, data = tabla, type = \"bic\")\n",
    "\n",
    "arc.strength(hcdag, data = tabla, criterion = \"x2\") # x2, aic...\n",
    "arc.strength(hcdag, data = tabla, criterion = \"bic\") # x2, aic... iamzç\n",
    "\n",
    "# print(hcdag)\n",
    "# plot(hcdag)\n",
    "# print(tabudag)"
   ]
  },
  {
   "cell_type": "code",
   "execution_count": 5,
   "id": "a24145fb",
   "metadata": {},
   "outputs": [
    {
     "data": {
      "image/png": "[encoded data removed]",
      "text/plain": [
       "plot without title"
      ]
     },
     "metadata": {
      "image/png": {
       "height": 420,
       "width": 420
      }
     },
     "output_type": "display_data"
    }
   ],
   "source": [
    "# graphviz.plot(hcdag)\n",
    "# graphviz.plot(tabudag)\n",
    "\n",
    "g <- Rgraphviz::layoutGraph(bnlearn::as.graphNEL(hcdag))\n",
    "graph::nodeRenderInfo(g) <- list(fontsize=60)\n",
    "Rgraphviz::renderGraph(g)"
   ]
  },
  {
   "cell_type": "code",
   "execution_count": 6,
   "id": "e59311f4",
   "metadata": {},
   "outputs": [
    {
     "data": {
      "image/png": "[encoded data removed]",
      "text/plain": [
       "plot without title"
      ]
     },
     "metadata": {
      "image/png": {
       "height": 420,
       "width": 420
      }
     },
     "output_type": "display_data"
    }
   ],
   "source": [
    "g <- Rgraphviz::layoutGraph(bnlearn::as.graphNEL(tabudag))\n",
    "graph::nodeRenderInfo(g) <- list(fontsize=80)\n",
    "Rgraphviz::renderGraph(g)"
   ]
  },
  {
   "cell_type": "code",
   "execution_count": 7,
   "id": "stable-douglas",
   "metadata": {},
   "outputs": [
    {
     "data": {
      "text/html": [
       "<table class=\"dataframe\">\n",
       "<caption>A matrix: 12 × 3 of type chr</caption>\n",
       "<thead>\n",
       "\t<tr><th scope=col>X</th><th scope=col>Z</th><th scope=col>Y</th></tr>\n",
       "</thead>\n",
       "<tbody>\n",
       "\t<tr><td>DefaultDuration    </td><td>Duration                   </td><td>EquipmentSer       </td></tr>\n",
       "\t<tr><td>InterfaceStamp     </td><td>DateOfBirth                </td><td>DiagnosisCode      </td></tr>\n",
       "\t<tr><td>MultiFieldOptFlag  </td><td>EquipmentSer               </td><td>TreatmentIntentType</td></tr>\n",
       "\t<tr><td>SkinFlashMargin    </td><td>PlanNormMethod             </td><td>PrimaryPTVSer      </td></tr>\n",
       "\t<tr><td>PrimaryPTVSer      </td><td>NumberOfFractions          </td><td>NoFractions        </td></tr>\n",
       "\t<tr><td>SimulationNeeded   </td><td>TreatmentOrientation       </td><td>MultiFieldOptFlag  </td></tr>\n",
       "\t<tr><td>NoEditFlag_x       </td><td>FractionPatternDigitsPerDay</td><td>ObjectStatus_y_4   </td></tr>\n",
       "\t<tr><td>TreatmentIntentType</td><td>NoFractions                </td><td>ObjectStatus_y_4   </td></tr>\n",
       "\t<tr><td>SkinFlashMargin    </td><td>Intent                     </td><td>PrimaryPTVSer      </td></tr>\n",
       "\t<tr><td>SimulationNeeded   </td><td>Notes                      </td><td>ObjectStatus_y_4   </td></tr>\n",
       "\t<tr><td>EquipmentSer       </td><td>InterfaceStamp             </td><td>PrimaryPTVSer      </td></tr>\n",
       "\t<tr><td>EquipmentSer       </td><td>ClinicalStatus             </td><td>ObjectStatus_y_4   </td></tr>\n",
       "</tbody>\n",
       "</table>\n"
      ],
      "text/latex": [
       "A matrix: 12 × 3 of type chr\n",
       "\\begin{tabular}{lll}\n",
       " X & Z & Y\\\\\n",
       "\\hline\n",
       "\t DefaultDuration     & Duration                    & EquipmentSer       \\\\\n",
       "\t InterfaceStamp      & DateOfBirth                 & DiagnosisCode      \\\\\n",
       "\t MultiFieldOptFlag   & EquipmentSer                & TreatmentIntentType\\\\\n",
       "\t SkinFlashMargin     & PlanNormMethod              & PrimaryPTVSer      \\\\\n",
       "\t PrimaryPTVSer       & NumberOfFractions           & NoFractions        \\\\\n",
       "\t SimulationNeeded    & TreatmentOrientation        & MultiFieldOptFlag  \\\\\n",
       "\t NoEditFlag\\_x        & FractionPatternDigitsPerDay & ObjectStatus\\_y\\_4   \\\\\n",
       "\t TreatmentIntentType & NoFractions                 & ObjectStatus\\_y\\_4   \\\\\n",
       "\t SkinFlashMargin     & Intent                      & PrimaryPTVSer      \\\\\n",
       "\t SimulationNeeded    & Notes                       & ObjectStatus\\_y\\_4   \\\\\n",
       "\t EquipmentSer        & InterfaceStamp              & PrimaryPTVSer      \\\\\n",
       "\t EquipmentSer        & ClinicalStatus              & ObjectStatus\\_y\\_4   \\\\\n",
       "\\end{tabular}\n"
      ],
      "text/markdown": [
       "\n",
       "A matrix: 12 × 3 of type chr\n",
       "\n",
       "| X | Z | Y |\n",
       "|---|---|---|\n",
       "| DefaultDuration     | Duration                    | EquipmentSer        |\n",
       "| InterfaceStamp      | DateOfBirth                 | DiagnosisCode       |\n",
       "| MultiFieldOptFlag   | EquipmentSer                | TreatmentIntentType |\n",
       "| SkinFlashMargin     | PlanNormMethod              | PrimaryPTVSer       |\n",
       "| PrimaryPTVSer       | NumberOfFractions           | NoFractions         |\n",
       "| SimulationNeeded    | TreatmentOrientation        | MultiFieldOptFlag   |\n",
       "| NoEditFlag_x        | FractionPatternDigitsPerDay | ObjectStatus_y_4    |\n",
       "| TreatmentIntentType | NoFractions                 | ObjectStatus_y_4    |\n",
       "| SkinFlashMargin     | Intent                      | PrimaryPTVSer       |\n",
       "| SimulationNeeded    | Notes                       | ObjectStatus_y_4    |\n",
       "| EquipmentSer        | InterfaceStamp              | PrimaryPTVSer       |\n",
       "| EquipmentSer        | ClinicalStatus              | ObjectStatus_y_4    |\n",
       "\n"
      ],
      "text/plain": [
       "      X                   Z                           Y                  \n",
       " [1,] DefaultDuration     Duration                    EquipmentSer       \n",
       " [2,] InterfaceStamp      DateOfBirth                 DiagnosisCode      \n",
       " [3,] MultiFieldOptFlag   EquipmentSer                TreatmentIntentType\n",
       " [4,] SkinFlashMargin     PlanNormMethod              PrimaryPTVSer      \n",
       " [5,] PrimaryPTVSer       NumberOfFractions           NoFractions        \n",
       " [6,] SimulationNeeded    TreatmentOrientation        MultiFieldOptFlag  \n",
       " [7,] NoEditFlag_x        FractionPatternDigitsPerDay ObjectStatus_y_4   \n",
       " [8,] TreatmentIntentType NoFractions                 ObjectStatus_y_4   \n",
       " [9,] SkinFlashMargin     Intent                      PrimaryPTVSer      \n",
       "[10,] SimulationNeeded    Notes                       ObjectStatus_y_4   \n",
       "[11,] EquipmentSer        InterfaceStamp              PrimaryPTVSer      \n",
       "[12,] EquipmentSer        ClinicalStatus              ObjectStatus_y_4   "
      ]
     },
     "metadata": {},
     "output_type": "display_data"
    }
   ],
   "source": [
    "vstructs(hcdag)"
   ]
  },
  {
   "cell_type": "markdown",
   "id": "spoken-prairie",
   "metadata": {},
   "source": [
    "# Aprendizaje de parámetros"
   ]
  },
  {
   "cell_type": "code",
   "execution_count": 8,
   "id": "subject-leather",
   "metadata": {
    "scrolled": false
   },
   "outputs": [
    {
     "data": {
      "text/html": [
       "6399"
      ],
      "text/latex": [
       "6399"
      ],
      "text/markdown": [
       "6399"
      ],
      "text/plain": [
       "[1] 6399"
      ]
     },
     "metadata": {},
     "output_type": "display_data"
    },
    {
     "data": {
      "text/plain": [
       "\n",
       "  Parameters of node Status_y (multinomial distribution)\n",
       "\n",
       "Conditional probability table:\n",
       " \n",
       "          SimulationNeeded\n",
       "Status_y            1.0        isNaN\n",
       "  Approved 9.998793e-01 1.406509e-05\n",
       "  isNaN    1.207438e-04 9.999859e-01"
      ]
     },
     "metadata": {},
     "output_type": "display_data"
    }
   ],
   "source": [
    "bn.bayes <- bn.fit(hcdag, data = tabla, method = \"bayes\")\n",
    "nparams(bn.bayes)\n",
    "# bn.bayes$PrescribedPercentage\n",
    "bn.bayes$Status_y"
   ]
  },
  {
   "cell_type": "code",
   "execution_count": null,
   "id": "intensive-spirit",
   "metadata": {},
   "outputs": [],
   "source": []
  },
  {
   "cell_type": "code",
   "execution_count": null,
   "id": "bae3b2da",
   "metadata": {},
   "outputs": [],
   "source": []
  },
  {
   "cell_type": "code",
   "execution_count": null,
   "id": "dcc8f1aa",
   "metadata": {},
   "outputs": [],
   "source": []
  }
 ],
 "metadata": {
  "kernelspec": {
   "display_name": "R",
   "language": "R",
   "name": "ir"
  },
  "language_info": {
   "codemirror_mode": "r",
   "file_extension": ".r",
   "mimetype": "text/x-r-source",
   "name": "R",
   "pygments_lexer": "r",
   "version": "4.1.0"
  }
 },
 "nbformat": 4,
 "nbformat_minor": 5
}
