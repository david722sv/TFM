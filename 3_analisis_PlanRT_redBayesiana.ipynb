{
 "cells": [
  {
   "cell_type": "markdown",
   "id": "concerned-pulse",
   "metadata": {},
   "source": [
    "# Librerias"
   ]
  },
  {
   "cell_type": "code",
   "execution_count": 1,
   "id": "2341f45e",
   "metadata": {},
   "outputs": [
    {
     "name": "stderr",
     "output_type": "stream",
     "text": [
      "Loading required package: graph\n",
      "\n",
      "Loading required package: BiocGenerics\n",
      "\n",
      "Loading required package: parallel\n",
      "\n"
     ]
    },
    {
     "name": "stdout",
     "output_type": "stream",
     "text": [
      "Error in setMethod(\"path\", cl, where = topenv(parent.frame()), function(object,  : \n",
      "  the environment 'base' is locked; cannot assign methods for function 'path'\n"
     ]
    },
    {
     "name": "stderr",
     "output_type": "stream",
     "text": [
      "\n",
      "Attaching package: 'BiocGenerics'\n",
      "\n",
      "\n",
      "The following objects are masked from 'package:parallel':\n",
      "\n",
      "    clusterApply, clusterApplyLB, clusterCall, clusterEvalQ,\n",
      "    clusterExport, clusterMap, parApply, parCapply, parLapply,\n",
      "    parLapplyLB, parRapply, parSapply, parSapplyLB\n",
      "\n",
      "\n",
      "The following objects are masked from 'package:bnlearn':\n",
      "\n",
      "    path, score\n",
      "\n",
      "\n",
      "The following objects are masked from 'package:stats':\n",
      "\n",
      "    IQR, mad, sd, var, xtabs\n",
      "\n",
      "\n",
      "The following objects are masked from 'package:base':\n",
      "\n",
      "    anyDuplicated, append, as.data.frame, basename, cbind, colnames,\n",
      "    dirname, do.call, duplicated, eval, evalq, Filter, Find, get, grep,\n",
      "    grepl, intersect, is.unsorted, lapply, Map, mapply, match, mget,\n",
      "    order, paste, pmax, pmax.int, pmin, pmin.int, Position, rank,\n",
      "    rbind, Reduce, rownames, sapply, setdiff, sort, table, tapply,\n",
      "    union, unique, unsplit, which.max, which.min\n",
      "\n",
      "\n"
     ]
    },
    {
     "name": "stdout",
     "output_type": "stream",
     "text": [
      "Error in setMethod(\"nodes\", cl, where = topenv(parent.frame()), function(object) .nodes(object)) : \n",
      "  the environment 'base' is locked; cannot assign methods for function 'nodes'\n"
     ]
    },
    {
     "name": "stderr",
     "output_type": "stream",
     "text": [
      "\n",
      "Attaching package: 'graph'\n",
      "\n",
      "\n",
      "The following objects are masked from 'package:bnlearn':\n",
      "\n",
      "    degree, nodes, nodes<-\n",
      "\n",
      "\n",
      "Loading required package: grid\n",
      "\n"
     ]
    }
   ],
   "source": [
    "library(bnlearn)\n",
    "library(Rgraphviz)\n",
    "\n",
    "rtp = read.csv(\"data/ARIA_cleaned/PlanRT.csv\", row.names=1)"
   ]
  },
  {
   "cell_type": "markdown",
   "id": "western-dynamics",
   "metadata": {},
   "source": [
    "# Datos"
   ]
  },
  {
   "cell_type": "code",
   "execution_count": 2,
   "id": "caa31a88",
   "metadata": {},
   "outputs": [
    {
     "data": {
      "text/html": [
       "47"
      ],
      "text/latex": [
       "47"
      ],
      "text/markdown": [
       "47"
      ],
      "text/plain": [
       "[1] 47"
      ]
     },
     "metadata": {},
     "output_type": "display_data"
    },
    {
     "data": {
      "text/html": [
       "<style>\n",
       ".list-inline {list-style: none; margin:0; padding: 0}\n",
       ".list-inline>li {display: inline-block}\n",
       ".list-inline>li:not(:last-child)::after {content: \"\\00b7\"; padding: 0 .5ex}\n",
       "</style>\n",
       "<ol class=list-inline><li>'PlanNormMethod'</li><li>'CityOrTownship'</li><li>'SimulationNeeded'</li><li>'Technique'</li><li>'PrescribedDose'</li><li>'DateOfBirth'</li><li>'NumberOfFractions'</li><li>'FractionPatternDigitsPerDay'</li><li>'FractionPattern'</li><li>'MStage'</li><li>'BolusFrequency'</li><li>'TreatmentIntentType'</li><li>'TreatmentOrientation'</li><li>'Sex'</li><li>'InterfaceStamp'</li><li>'SkinFlashMargin'</li><li>'NStage'</li><li>'PhaseType'</li><li>'HistologyCode'</li><li>'Status_y'</li><li>'BolusThickness'</li><li>'CalcModelOptions'</li><li>'FirstName'</li><li>'ClinicalStatus'</li><li>'DiagnosisCode_sec'</li><li>'DicomSeqNumber'</li><li>'Status_x'</li><li>'PrimaryPTVSer'</li><li>'Site'</li><li>'StartDelay'</li><li>'ObjectStatus'</li><li>'HistologyCode_sec'</li><li>'Intent'</li><li>'Notes'</li><li>'ObjectStatus_sec'</li><li>'TreatmentOrder'</li><li>'TumorSize'</li><li>'CalcModelOptionsLen'</li><li>'PlanNormFactor'</li><li>'DiagnosisCode'</li><li>'SummaryStage'</li><li>'EquipmentSer'</li><li>'TStage'</li><li>'Country'</li><li>'PrescribedPercentage'</li><li>'MultiFieldOptFlag'</li><li>'NoFractions'</li></ol>\n"
      ],
      "text/latex": [
       "\\begin{enumerate*}\n",
       "\\item 'PlanNormMethod'\n",
       "\\item 'CityOrTownship'\n",
       "\\item 'SimulationNeeded'\n",
       "\\item 'Technique'\n",
       "\\item 'PrescribedDose'\n",
       "\\item 'DateOfBirth'\n",
       "\\item 'NumberOfFractions'\n",
       "\\item 'FractionPatternDigitsPerDay'\n",
       "\\item 'FractionPattern'\n",
       "\\item 'MStage'\n",
       "\\item 'BolusFrequency'\n",
       "\\item 'TreatmentIntentType'\n",
       "\\item 'TreatmentOrientation'\n",
       "\\item 'Sex'\n",
       "\\item 'InterfaceStamp'\n",
       "\\item 'SkinFlashMargin'\n",
       "\\item 'NStage'\n",
       "\\item 'PhaseType'\n",
       "\\item 'HistologyCode'\n",
       "\\item 'Status\\_y'\n",
       "\\item 'BolusThickness'\n",
       "\\item 'CalcModelOptions'\n",
       "\\item 'FirstName'\n",
       "\\item 'ClinicalStatus'\n",
       "\\item 'DiagnosisCode\\_sec'\n",
       "\\item 'DicomSeqNumber'\n",
       "\\item 'Status\\_x'\n",
       "\\item 'PrimaryPTVSer'\n",
       "\\item 'Site'\n",
       "\\item 'StartDelay'\n",
       "\\item 'ObjectStatus'\n",
       "\\item 'HistologyCode\\_sec'\n",
       "\\item 'Intent'\n",
       "\\item 'Notes'\n",
       "\\item 'ObjectStatus\\_sec'\n",
       "\\item 'TreatmentOrder'\n",
       "\\item 'TumorSize'\n",
       "\\item 'CalcModelOptionsLen'\n",
       "\\item 'PlanNormFactor'\n",
       "\\item 'DiagnosisCode'\n",
       "\\item 'SummaryStage'\n",
       "\\item 'EquipmentSer'\n",
       "\\item 'TStage'\n",
       "\\item 'Country'\n",
       "\\item 'PrescribedPercentage'\n",
       "\\item 'MultiFieldOptFlag'\n",
       "\\item 'NoFractions'\n",
       "\\end{enumerate*}\n"
      ],
      "text/markdown": [
       "1. 'PlanNormMethod'\n",
       "2. 'CityOrTownship'\n",
       "3. 'SimulationNeeded'\n",
       "4. 'Technique'\n",
       "5. 'PrescribedDose'\n",
       "6. 'DateOfBirth'\n",
       "7. 'NumberOfFractions'\n",
       "8. 'FractionPatternDigitsPerDay'\n",
       "9. 'FractionPattern'\n",
       "10. 'MStage'\n",
       "11. 'BolusFrequency'\n",
       "12. 'TreatmentIntentType'\n",
       "13. 'TreatmentOrientation'\n",
       "14. 'Sex'\n",
       "15. 'InterfaceStamp'\n",
       "16. 'SkinFlashMargin'\n",
       "17. 'NStage'\n",
       "18. 'PhaseType'\n",
       "19. 'HistologyCode'\n",
       "20. 'Status_y'\n",
       "21. 'BolusThickness'\n",
       "22. 'CalcModelOptions'\n",
       "23. 'FirstName'\n",
       "24. 'ClinicalStatus'\n",
       "25. 'DiagnosisCode_sec'\n",
       "26. 'DicomSeqNumber'\n",
       "27. 'Status_x'\n",
       "28. 'PrimaryPTVSer'\n",
       "29. 'Site'\n",
       "30. 'StartDelay'\n",
       "31. 'ObjectStatus'\n",
       "32. 'HistologyCode_sec'\n",
       "33. 'Intent'\n",
       "34. 'Notes'\n",
       "35. 'ObjectStatus_sec'\n",
       "36. 'TreatmentOrder'\n",
       "37. 'TumorSize'\n",
       "38. 'CalcModelOptionsLen'\n",
       "39. 'PlanNormFactor'\n",
       "40. 'DiagnosisCode'\n",
       "41. 'SummaryStage'\n",
       "42. 'EquipmentSer'\n",
       "43. 'TStage'\n",
       "44. 'Country'\n",
       "45. 'PrescribedPercentage'\n",
       "46. 'MultiFieldOptFlag'\n",
       "47. 'NoFractions'\n",
       "\n",
       "\n"
      ],
      "text/plain": [
       " [1] \"PlanNormMethod\"              \"CityOrTownship\"             \n",
       " [3] \"SimulationNeeded\"            \"Technique\"                  \n",
       " [5] \"PrescribedDose\"              \"DateOfBirth\"                \n",
       " [7] \"NumberOfFractions\"           \"FractionPatternDigitsPerDay\"\n",
       " [9] \"FractionPattern\"             \"MStage\"                     \n",
       "[11] \"BolusFrequency\"              \"TreatmentIntentType\"        \n",
       "[13] \"TreatmentOrientation\"        \"Sex\"                        \n",
       "[15] \"InterfaceStamp\"              \"SkinFlashMargin\"            \n",
       "[17] \"NStage\"                      \"PhaseType\"                  \n",
       "[19] \"HistologyCode\"               \"Status_y\"                   \n",
       "[21] \"BolusThickness\"              \"CalcModelOptions\"           \n",
       "[23] \"FirstName\"                   \"ClinicalStatus\"             \n",
       "[25] \"DiagnosisCode_sec\"           \"DicomSeqNumber\"             \n",
       "[27] \"Status_x\"                    \"PrimaryPTVSer\"              \n",
       "[29] \"Site\"                        \"StartDelay\"                 \n",
       "[31] \"ObjectStatus\"                \"HistologyCode_sec\"          \n",
       "[33] \"Intent\"                      \"Notes\"                      \n",
       "[35] \"ObjectStatus_sec\"            \"TreatmentOrder\"             \n",
       "[37] \"TumorSize\"                   \"CalcModelOptionsLen\"        \n",
       "[39] \"PlanNormFactor\"              \"DiagnosisCode\"              \n",
       "[41] \"SummaryStage\"                \"EquipmentSer\"               \n",
       "[43] \"TStage\"                      \"Country\"                    \n",
       "[45] \"PrescribedPercentage\"        \"MultiFieldOptFlag\"          \n",
       "[47] \"NoFractions\"                "
      ]
     },
     "metadata": {},
     "output_type": "display_data"
    }
   ],
   "source": [
    "# cols = c('TreatmentOrder', 'PlanNormFactor_isNaN', 'PrescribedPercentage', 'Site', 'CityOrTownship', 'Status_x', 'Country', 'FractionPatternDigitsPerDay', 'Technique', 'SkinFlashMargin', 'TreatmentIntentType', 'DateOfBirth_isNaN', 'SimulationNeeded', 'StartDelay_isNaN', 'PrimaryPTVSer_isNaN', 'PlanNormMethod', 'FirstName', 'Status_y', 'TreatmentOrientation', 'Notes', 'DicomSeqNumber', 'FractionPattern', 'PrescribedDose_isNaN', 'BolusFrequency', 'EquipmentSer', 'PhaseType', 'CalcModelOptions', 'BolusThickness', 'InterfaceStamp', 'Intent', 'NumberOfFractions_isNaN', 'MultiFieldOptFlag', 'NoFractions_isNaN', 'ClinicalStatus', 'Sex')\n",
    "# cols = c('PrescribedPercentage', 'NoFractions', 'PrescribedDose', 'Status_x', 'ClinicalStatus', 'MultiFieldOptFlag', 'DicomSeqNumber', 'SkinFlashMargin', 'StartDelay', 'BolusThickness', 'PlanNormMethod', 'FractionPattern', 'BolusFrequency', 'Technique', 'PhaseType', 'DateOfBirth', 'CalcModelOptions', 'Intent', 'PrimaryPTVSer', 'InterfaceStamp', 'TreatmentOrientation', 'CityOrTownship', 'PlanNormFactor', 'Site', 'NumberOfFractions', 'EquipmentSer', 'Status_y', 'CalcModelOptionsLen', 'Notes', 'TreatmentOrder', 'Sex', 'TreatmentIntentType', 'Country', 'FirstName', 'SimulationNeeded', 'FractionPatternDigitsPerDay')\n",
    "\n",
    "# cols = setdiff(cols,  c('TreatmentIntentType', 'Country', 'Intent', 'PlanNormMethod',\n",
    "#        'CalcModelOptions', 'SkinFlashMargin', 'InterfaceStamp',\n",
    "#        'PrimaryPTVSer', 'StartDelay', 'Technique', 'NumberOfFractions',\n",
    "#        'PrescriptionSer', 'PhaseType', 'Site', 'SimulationNeeded', 'Status_y',\n",
    "#        'Notes', 'TreatmentOrder', 'FractionPatternDigitsPerDay',\n",
    "#        'FractionPattern', 'BolusThickness', 'BolusFrequency'))\n",
    "\n",
    "# cols = c('SkinFlashMargin', 'FractionPattern', 'Status_y', 'Technique', 'NoFractions', 'PlanNormMethod', 'DateOfBirth', 'PlanNormFactor', 'BolusThickness', 'Country', 'StartDelay', 'CalcModelOptions', 'Notes', 'TreatmentIntentType', 'PhaseType', 'TreatmentOrder', 'NumberOfFractions', 'InterfaceStamp', 'PrescribedPercentage', 'ClinicalStatus', 'Intent', 'PrescribedDose', 'DicomSeqNumber', 'Sex', 'PrimaryPTVSer', 'FractionPatternDigitsPerDay', 'TreatmentOrientation', 'FirstName', 'MultiFieldOptFlag', 'CalcModelOptionsLen', 'EquipmentSer', 'SimulationNeeded', 'Site', 'Status_x', 'CityOrTownship', 'BolusFrequency')\n",
    "cols = c('PlanNormMethod', 'CityOrTownship', 'SimulationNeeded', 'Technique', 'PrescribedDose', 'DateOfBirth', 'NumberOfFractions', 'FractionPatternDigitsPerDay', 'FractionPattern', 'MStage', 'BolusFrequency', 'TreatmentIntentType', 'TreatmentOrientation', 'Sex', 'InterfaceStamp', 'SkinFlashMargin', 'NStage', 'PhaseType', 'HistologyCode', 'Status_y', 'BolusThickness', 'CalcModelOptions', 'FirstName', 'ClinicalStatus', 'DiagnosisCode_sec', 'DicomSeqNumber', 'Status_x', 'PrimaryPTVSer', 'Site', 'StartDelay', 'ObjectStatus', 'HistologyCode_sec', 'Intent', 'Notes', 'ObjectStatus_sec', 'TreatmentOrder', 'TumorSize', 'CalcModelOptionsLen', 'PlanNormFactor', 'DiagnosisCode', 'SummaryStage', 'EquipmentSer', 'TStage', 'Country', 'PrescribedPercentage', 'MultiFieldOptFlag', 'NoFractions')\n",
    "\n",
    "length(cols)\n",
    "cols"
   ]
  },
  {
   "cell_type": "code",
   "execution_count": 3,
   "id": "eedebb9b",
   "metadata": {},
   "outputs": [],
   "source": [
    "rtp[cols] <- lapply(rtp[cols], factor)"
   ]
  },
  {
   "cell_type": "code",
   "execution_count": 4,
   "id": "aa545708",
   "metadata": {},
   "outputs": [
    {
     "data": {
      "text/html": [
       "<style>\n",
       ".list-inline {list-style: none; margin:0; padding: 0}\n",
       ".list-inline>li {display: inline-block}\n",
       ".list-inline>li:not(:last-child)::after {content: \"\\00b7\"; padding: 0 .5ex}\n",
       "</style>\n",
       "<ol class=list-inline><li>14157</li><li>47</li></ol>\n"
      ],
      "text/latex": [
       "\\begin{enumerate*}\n",
       "\\item 14157\n",
       "\\item 47\n",
       "\\end{enumerate*}\n"
      ],
      "text/markdown": [
       "1. 14157\n",
       "2. 47\n",
       "\n",
       "\n"
      ],
      "text/plain": [
       "[1] 14157    47"
      ]
     },
     "metadata": {},
     "output_type": "display_data"
    },
    {
     "data": {
      "text/html": [
       "<table class=\"dataframe\">\n",
       "<caption>A data.frame: 6 × 47</caption>\n",
       "<thead>\n",
       "\t<tr><th></th><th scope=col>PlanNormMethod</th><th scope=col>CityOrTownship</th><th scope=col>SimulationNeeded</th><th scope=col>Technique</th><th scope=col>PrescribedDose</th><th scope=col>DateOfBirth</th><th scope=col>NumberOfFractions</th><th scope=col>FractionPatternDigitsPerDay</th><th scope=col>FractionPattern</th><th scope=col>MStage</th><th scope=col>...</th><th scope=col>CalcModelOptionsLen</th><th scope=col>PlanNormFactor</th><th scope=col>DiagnosisCode</th><th scope=col>SummaryStage</th><th scope=col>EquipmentSer</th><th scope=col>TStage</th><th scope=col>Country</th><th scope=col>PrescribedPercentage</th><th scope=col>MultiFieldOptFlag</th><th scope=col>NoFractions</th></tr>\n",
       "\t<tr><th></th><th scope=col>&lt;fct&gt;</th><th scope=col>&lt;fct&gt;</th><th scope=col>&lt;fct&gt;</th><th scope=col>&lt;fct&gt;</th><th scope=col>&lt;fct&gt;</th><th scope=col>&lt;fct&gt;</th><th scope=col>&lt;fct&gt;</th><th scope=col>&lt;fct&gt;</th><th scope=col>&lt;fct&gt;</th><th scope=col>&lt;fct&gt;</th><th scope=col>...</th><th scope=col>&lt;fct&gt;</th><th scope=col>&lt;fct&gt;</th><th scope=col>&lt;fct&gt;</th><th scope=col>&lt;fct&gt;</th><th scope=col>&lt;fct&gt;</th><th scope=col>&lt;fct&gt;</th><th scope=col>&lt;fct&gt;</th><th scope=col>&lt;fct&gt;</th><th scope=col>&lt;fct&gt;</th><th scope=col>&lt;fct&gt;</th></tr>\n",
       "</thead>\n",
       "<tbody>\n",
       "\t<tr><th scope=row>71</th><td>0\\Mode\\NoNormalization$0\\Err\\0$         </td><td>isNaN</td><td>isNaN</td><td>isNaN</td><td>(0.001, 2.0]</td><td>isNaN</td><td>isNaN</td><td>isNaN</td><td>isNaN    </td><td>isNaN</td><td>...</td><td>(-0.001, 7674.0]</td><td>(0.009000000000000001, 1.0]</td><td>isNaN</td><td>isNaN</td><td>1 </td><td>isNaN</td><td>isNaN</td><td>1.0</td><td>0</td><td>(10.0, 23.0] </td></tr>\n",
       "\t<tr><th scope=row>113</th><td>isNaN                                       </td><td>isNaN</td><td>isNaN</td><td>isNaN</td><td>isNaN       </td><td>isNaN</td><td>isNaN</td><td>isNaN</td><td>isNaN    </td><td>isNaN</td><td>...</td><td>(-0.001, 7674.0]</td><td>(0.009000000000000001, 1.0]</td><td>isNaN</td><td>isNaN</td><td>52</td><td>isNaN</td><td>isNaN</td><td>1.0</td><td>1</td><td>(-0.001, 1.0]</td></tr>\n",
       "\t<tr><th scope=row>116</th><td>0\\Mode\\UserDefined$0...7578002517764764173</td><td>isNaN</td><td>isNaN</td><td>isNaN</td><td>isNaN       </td><td>isNaN</td><td>isNaN</td><td>1.0  </td><td>1111111.0</td><td>isNaN</td><td>...</td><td>(-0.001, 7674.0]</td><td>(0.009000000000000001, 1.0]</td><td>isNaN</td><td>isNaN</td><td>52</td><td>isNaN</td><td>isNaN</td><td>1.0</td><td>0</td><td>(-0.001, 1.0]</td></tr>\n",
       "\t<tr><th scope=row>117</th><td>0\\Mode\\UserDefined$0...7578002517764764173</td><td>isNaN</td><td>isNaN</td><td>isNaN</td><td>isNaN       </td><td>isNaN</td><td>isNaN</td><td>1.0  </td><td>1111111.0</td><td>isNaN</td><td>...</td><td>(-0.001, 7674.0]</td><td>(0.009000000000000001, 1.0]</td><td>isNaN</td><td>isNaN</td><td>52</td><td>isNaN</td><td>isNaN</td><td>1.0</td><td>0</td><td>(-0.001, 1.0]</td></tr>\n",
       "\t<tr><th scope=row>118</th><td>0\\Mode\\UserDefined$0...7578002517764764173</td><td>isNaN</td><td>isNaN</td><td>isNaN</td><td>isNaN       </td><td>isNaN</td><td>isNaN</td><td>isNaN</td><td>isNaN    </td><td>isNaN</td><td>...</td><td>(-0.001, 7674.0]</td><td>(0.009000000000000001, 1.0]</td><td>isNaN</td><td>isNaN</td><td>52</td><td>isNaN</td><td>isNaN</td><td>1.0</td><td>0</td><td>(-0.001, 1.0]</td></tr>\n",
       "\t<tr><th scope=row>119</th><td>0\\Mode\\UserDefined$0...7578002517764764173</td><td>isNaN</td><td>isNaN</td><td>isNaN</td><td>isNaN       </td><td>isNaN</td><td>isNaN</td><td>isNaN</td><td>isNaN    </td><td>isNaN</td><td>...</td><td>(-0.001, 7674.0]</td><td>(0.009000000000000001, 1.0]</td><td>isNaN</td><td>isNaN</td><td>52</td><td>isNaN</td><td>isNaN</td><td>1.0</td><td>0</td><td>(-0.001, 1.0]</td></tr>\n",
       "</tbody>\n",
       "</table>\n"
      ],
      "text/latex": [
       "A data.frame: 6 × 47\n",
       "\\begin{tabular}{r|lllllllllllllllllllll}\n",
       "  & PlanNormMethod & CityOrTownship & SimulationNeeded & Technique & PrescribedDose & DateOfBirth & NumberOfFractions & FractionPatternDigitsPerDay & FractionPattern & MStage & ... & CalcModelOptionsLen & PlanNormFactor & DiagnosisCode & SummaryStage & EquipmentSer & TStage & Country & PrescribedPercentage & MultiFieldOptFlag & NoFractions\\\\\n",
       "  & <fct> & <fct> & <fct> & <fct> & <fct> & <fct> & <fct> & <fct> & <fct> & <fct> & ... & <fct> & <fct> & <fct> & <fct> & <fct> & <fct> & <fct> & <fct> & <fct> & <fct>\\\\\n",
       "\\hline\n",
       "\t71 & 0\\textbackslash{}Mode\\textbackslash{}NoNormalization\\$0\\textbackslash{}Err\\textbackslash{}0\\$          & isNaN & isNaN & isNaN & (0.001, 2.0{]} & isNaN & isNaN & isNaN & isNaN     & isNaN & ... & (-0.001, 7674.0{]} & (0.009000000000000001, 1.0{]} & isNaN & isNaN & 1  & isNaN & isNaN & 1.0 & 0 & (10.0, 23.0{]} \\\\\n",
       "\t113 & isNaN                                        & isNaN & isNaN & isNaN & isNaN        & isNaN & isNaN & isNaN & isNaN     & isNaN & ... & (-0.001, 7674.0{]} & (0.009000000000000001, 1.0{]} & isNaN & isNaN & 52 & isNaN & isNaN & 1.0 & 1 & (-0.001, 1.0{]}\\\\\n",
       "\t116 & 0\\textbackslash{}Mode\\textbackslash{}UserDefined\\$0...7578002517764764173 & isNaN & isNaN & isNaN & isNaN        & isNaN & isNaN & 1.0   & 1111111.0 & isNaN & ... & (-0.001, 7674.0{]} & (0.009000000000000001, 1.0{]} & isNaN & isNaN & 52 & isNaN & isNaN & 1.0 & 0 & (-0.001, 1.0{]}\\\\\n",
       "\t117 & 0\\textbackslash{}Mode\\textbackslash{}UserDefined\\$0...7578002517764764173 & isNaN & isNaN & isNaN & isNaN        & isNaN & isNaN & 1.0   & 1111111.0 & isNaN & ... & (-0.001, 7674.0{]} & (0.009000000000000001, 1.0{]} & isNaN & isNaN & 52 & isNaN & isNaN & 1.0 & 0 & (-0.001, 1.0{]}\\\\\n",
       "\t118 & 0\\textbackslash{}Mode\\textbackslash{}UserDefined\\$0...7578002517764764173 & isNaN & isNaN & isNaN & isNaN        & isNaN & isNaN & isNaN & isNaN     & isNaN & ... & (-0.001, 7674.0{]} & (0.009000000000000001, 1.0{]} & isNaN & isNaN & 52 & isNaN & isNaN & 1.0 & 0 & (-0.001, 1.0{]}\\\\\n",
       "\t119 & 0\\textbackslash{}Mode\\textbackslash{}UserDefined\\$0...7578002517764764173 & isNaN & isNaN & isNaN & isNaN        & isNaN & isNaN & isNaN & isNaN     & isNaN & ... & (-0.001, 7674.0{]} & (0.009000000000000001, 1.0{]} & isNaN & isNaN & 52 & isNaN & isNaN & 1.0 & 0 & (-0.001, 1.0{]}\\\\\n",
       "\\end{tabular}\n"
      ],
      "text/markdown": [
       "\n",
       "A data.frame: 6 × 47\n",
       "\n",
       "| <!--/--> | PlanNormMethod &lt;fct&gt; | CityOrTownship &lt;fct&gt; | SimulationNeeded &lt;fct&gt; | Technique &lt;fct&gt; | PrescribedDose &lt;fct&gt; | DateOfBirth &lt;fct&gt; | NumberOfFractions &lt;fct&gt; | FractionPatternDigitsPerDay &lt;fct&gt; | FractionPattern &lt;fct&gt; | MStage &lt;fct&gt; | ... ... | CalcModelOptionsLen &lt;fct&gt; | PlanNormFactor &lt;fct&gt; | DiagnosisCode &lt;fct&gt; | SummaryStage &lt;fct&gt; | EquipmentSer &lt;fct&gt; | TStage &lt;fct&gt; | Country &lt;fct&gt; | PrescribedPercentage &lt;fct&gt; | MultiFieldOptFlag &lt;fct&gt; | NoFractions &lt;fct&gt; |\n",
       "|---|---|---|---|---|---|---|---|---|---|---|---|---|---|---|---|---|---|---|---|---|---|\n",
       "| 71 | 0\\Mode\\NoNormalization$0\\Err\\0$          | isNaN | isNaN | isNaN | (0.001, 2.0] | isNaN | isNaN | isNaN | isNaN     | isNaN | ... | (-0.001, 7674.0] | (0.009000000000000001, 1.0] | isNaN | isNaN | 1  | isNaN | isNaN | 1.0 | 0 | (10.0, 23.0]  |\n",
       "| 113 | isNaN                                        | isNaN | isNaN | isNaN | isNaN        | isNaN | isNaN | isNaN | isNaN     | isNaN | ... | (-0.001, 7674.0] | (0.009000000000000001, 1.0] | isNaN | isNaN | 52 | isNaN | isNaN | 1.0 | 1 | (-0.001, 1.0] |\n",
       "| 116 | 0\\Mode\\UserDefined$0...7578002517764764173 | isNaN | isNaN | isNaN | isNaN        | isNaN | isNaN | 1.0   | 1111111.0 | isNaN | ... | (-0.001, 7674.0] | (0.009000000000000001, 1.0] | isNaN | isNaN | 52 | isNaN | isNaN | 1.0 | 0 | (-0.001, 1.0] |\n",
       "| 117 | 0\\Mode\\UserDefined$0...7578002517764764173 | isNaN | isNaN | isNaN | isNaN        | isNaN | isNaN | 1.0   | 1111111.0 | isNaN | ... | (-0.001, 7674.0] | (0.009000000000000001, 1.0] | isNaN | isNaN | 52 | isNaN | isNaN | 1.0 | 0 | (-0.001, 1.0] |\n",
       "| 118 | 0\\Mode\\UserDefined$0...7578002517764764173 | isNaN | isNaN | isNaN | isNaN        | isNaN | isNaN | isNaN | isNaN     | isNaN | ... | (-0.001, 7674.0] | (0.009000000000000001, 1.0] | isNaN | isNaN | 52 | isNaN | isNaN | 1.0 | 0 | (-0.001, 1.0] |\n",
       "| 119 | 0\\Mode\\UserDefined$0...7578002517764764173 | isNaN | isNaN | isNaN | isNaN        | isNaN | isNaN | isNaN | isNaN     | isNaN | ... | (-0.001, 7674.0] | (0.009000000000000001, 1.0] | isNaN | isNaN | 52 | isNaN | isNaN | 1.0 | 0 | (-0.001, 1.0] |\n",
       "\n"
      ],
      "text/plain": [
       "    PlanNormMethod                               CityOrTownship\n",
       "71  0\\\\Mode\\\\NoNormalization$0\\\\Err\\\\0$          isNaN         \n",
       "113 isNaN                                        isNaN         \n",
       "116 0\\\\Mode\\\\UserDefined$0...7578002517764764173 isNaN         \n",
       "117 0\\\\Mode\\\\UserDefined$0...7578002517764764173 isNaN         \n",
       "118 0\\\\Mode\\\\UserDefined$0...7578002517764764173 isNaN         \n",
       "119 0\\\\Mode\\\\UserDefined$0...7578002517764764173 isNaN         \n",
       "    SimulationNeeded Technique PrescribedDose DateOfBirth NumberOfFractions\n",
       "71  isNaN            isNaN     (0.001, 2.0]   isNaN       isNaN            \n",
       "113 isNaN            isNaN     isNaN          isNaN       isNaN            \n",
       "116 isNaN            isNaN     isNaN          isNaN       isNaN            \n",
       "117 isNaN            isNaN     isNaN          isNaN       isNaN            \n",
       "118 isNaN            isNaN     isNaN          isNaN       isNaN            \n",
       "119 isNaN            isNaN     isNaN          isNaN       isNaN            \n",
       "    FractionPatternDigitsPerDay FractionPattern MStage ... CalcModelOptionsLen\n",
       "71  isNaN                       isNaN           isNaN  ... (-0.001, 7674.0]   \n",
       "113 isNaN                       isNaN           isNaN  ... (-0.001, 7674.0]   \n",
       "116 1.0                         1111111.0       isNaN  ... (-0.001, 7674.0]   \n",
       "117 1.0                         1111111.0       isNaN  ... (-0.001, 7674.0]   \n",
       "118 isNaN                       isNaN           isNaN  ... (-0.001, 7674.0]   \n",
       "119 isNaN                       isNaN           isNaN  ... (-0.001, 7674.0]   \n",
       "    PlanNormFactor              DiagnosisCode SummaryStage EquipmentSer TStage\n",
       "71  (0.009000000000000001, 1.0] isNaN         isNaN        1            isNaN \n",
       "113 (0.009000000000000001, 1.0] isNaN         isNaN        52           isNaN \n",
       "116 (0.009000000000000001, 1.0] isNaN         isNaN        52           isNaN \n",
       "117 (0.009000000000000001, 1.0] isNaN         isNaN        52           isNaN \n",
       "118 (0.009000000000000001, 1.0] isNaN         isNaN        52           isNaN \n",
       "119 (0.009000000000000001, 1.0] isNaN         isNaN        52           isNaN \n",
       "    Country PrescribedPercentage MultiFieldOptFlag NoFractions  \n",
       "71  isNaN   1.0                  0                 (10.0, 23.0] \n",
       "113 isNaN   1.0                  1                 (-0.001, 1.0]\n",
       "116 isNaN   1.0                  0                 (-0.001, 1.0]\n",
       "117 isNaN   1.0                  0                 (-0.001, 1.0]\n",
       "118 isNaN   1.0                  0                 (-0.001, 1.0]\n",
       "119 isNaN   1.0                  0                 (-0.001, 1.0]"
      ]
     },
     "metadata": {},
     "output_type": "display_data"
    }
   ],
   "source": [
    "dim(rtp[cols])\n",
    "head(rtp[cols])"
   ]
  },
  {
   "cell_type": "markdown",
   "id": "manufactured-integer",
   "metadata": {},
   "source": [
    "# Aprendizaje de estructura"
   ]
  },
  {
   "cell_type": "code",
   "execution_count": 5,
   "id": "08a1b474",
   "metadata": {},
   "outputs": [],
   "source": [
    "hcdag <- hc(rtp[cols])\n",
    "tabudag <- tabu(rtp[cols])"
   ]
  },
  {
   "cell_type": "code",
   "execution_count": 6,
   "id": "f21011b2",
   "metadata": {
    "scrolled": false
   },
   "outputs": [
    {
     "data": {
      "text/html": [
       "-384606.42888079"
      ],
      "text/latex": [
       "-384606.42888079"
      ],
      "text/markdown": [
       "-384606.42888079"
      ],
      "text/plain": [
       "[1] -384606.4"
      ]
     },
     "metadata": {},
     "output_type": "display_data"
    },
    {
     "data": {
      "text/html": [
       "-384606.42888079"
      ],
      "text/latex": [
       "-384606.42888079"
      ],
      "text/markdown": [
       "-384606.42888079"
      ],
      "text/plain": [
       "[1] -384606.4"
      ]
     },
     "metadata": {},
     "output_type": "display_data"
    },
    {
     "data": {
      "text/html": [
       "<table class=\"dataframe\">\n",
       "<caption>A bn.strength: 55 × 3</caption>\n",
       "<thead>\n",
       "\t<tr><th></th><th scope=col>from</th><th scope=col>to</th><th scope=col>strength</th></tr>\n",
       "\t<tr><th></th><th scope=col>&lt;chr&gt;</th><th scope=col>&lt;chr&gt;</th><th scope=col>&lt;dbl&gt;</th></tr>\n",
       "</thead>\n",
       "<tbody>\n",
       "\t<tr><th scope=row>1</th><td>CalcModelOptions           </td><td>CalcModelOptionsLen </td><td>-10896.88403</td></tr>\n",
       "\t<tr><th scope=row>2</th><td>PlanNormMethod             </td><td>Intent              </td><td>-10596.18082</td></tr>\n",
       "\t<tr><th scope=row>3</th><td>SummaryStage               </td><td>TStage              </td><td>-10210.57590</td></tr>\n",
       "\t<tr><th scope=row>4</th><td>SkinFlashMargin            </td><td>MultiFieldOptFlag   </td><td> -9599.17441</td></tr>\n",
       "\t<tr><th scope=row>5</th><td>NumberOfFractions          </td><td>Site                </td><td> -9390.07172</td></tr>\n",
       "\t<tr><th scope=row>6</th><td>Technique                  </td><td>NumberOfFractions   </td><td> -5391.88941</td></tr>\n",
       "\t<tr><th scope=row>7</th><td>MStage                     </td><td>SummaryStage        </td><td> -8645.15334</td></tr>\n",
       "\t<tr><th scope=row>8</th><td>NumberOfFractions          </td><td>PhaseType           </td><td> -8513.76165</td></tr>\n",
       "\t<tr><th scope=row>9</th><td>SummaryStage               </td><td>DiagnosisCode       </td><td> -8499.62138</td></tr>\n",
       "\t<tr><th scope=row>10</th><td>PhaseType                  </td><td>SimulationNeeded    </td><td> -8491.22798</td></tr>\n",
       "\t<tr><th scope=row>11</th><td>SimulationNeeded           </td><td>Status_y            </td><td> -8481.67002</td></tr>\n",
       "\t<tr><th scope=row>12</th><td>DiagnosisCode              </td><td>ObjectStatus        </td><td> -8439.50982</td></tr>\n",
       "\t<tr><th scope=row>13</th><td>SkinFlashMargin            </td><td>CalcModelOptions    </td><td> -4818.89548</td></tr>\n",
       "\t<tr><th scope=row>14</th><td>PlanNormMethod             </td><td>SkinFlashMargin     </td><td> -8218.82749</td></tr>\n",
       "\t<tr><th scope=row>15</th><td>Intent                     </td><td>PrimaryPTVSer       </td><td> -6372.56303</td></tr>\n",
       "\t<tr><th scope=row>16</th><td>SummaryStage               </td><td>NStage              </td><td> -6463.41084</td></tr>\n",
       "\t<tr><th scope=row>17</th><td>PrimaryPTVSer              </td><td>Technique           </td><td> -6430.68562</td></tr>\n",
       "\t<tr><th scope=row>18</th><td>Intent                     </td><td>StartDelay          </td><td> -5356.96058</td></tr>\n",
       "\t<tr><th scope=row>19</th><td>DiagnosisCode              </td><td>TreatmentIntentType </td><td> -5629.21205</td></tr>\n",
       "\t<tr><th scope=row>20</th><td>Intent                     </td><td>Status_x            </td><td> -5360.00505</td></tr>\n",
       "\t<tr><th scope=row>21</th><td>StartDelay                 </td><td>NoFractions         </td><td> -4684.73560</td></tr>\n",
       "\t<tr><th scope=row>22</th><td>Sex                        </td><td>FirstName           </td><td> -4540.82395</td></tr>\n",
       "\t<tr><th scope=row>23</th><td>InterfaceStamp             </td><td>EquipmentSer        </td><td> -3218.65569</td></tr>\n",
       "\t<tr><th scope=row>24</th><td>DiagnosisCode_sec          </td><td>ObjectStatus_sec    </td><td> -3852.03289</td></tr>\n",
       "\t<tr><th scope=row>25</th><td>PrescribedDose             </td><td>NoFractions         </td><td> -3330.69658</td></tr>\n",
       "\t<tr><th scope=row>26</th><td>TreatmentIntentType        </td><td>PrescribedDose      </td><td> -3360.91799</td></tr>\n",
       "\t<tr><th scope=row>27</th><td>DateOfBirth                </td><td>Sex                 </td><td> -2205.12968</td></tr>\n",
       "\t<tr><th scope=row>28</th><td>PlanNormMethod             </td><td>PlanNormFactor      </td><td> -2773.77846</td></tr>\n",
       "\t<tr><th scope=row>29</th><td>TStage                     </td><td>TumorSize           </td><td> -2769.40606</td></tr>\n",
       "\t<tr><th scope=row>30</th><td>DiagnosisCode              </td><td>HistologyCode       </td><td> -2541.83459</td></tr>\n",
       "\t<tr><th scope=row>31</th><td>PrimaryPTVSer              </td><td>CalcModelOptions    </td><td> -2344.07010</td></tr>\n",
       "\t<tr><th scope=row>32</th><td>NumberOfFractions          </td><td>Notes               </td><td> -2117.20872</td></tr>\n",
       "\t<tr><th scope=row>33</th><td>MultiFieldOptFlag          </td><td>EquipmentSer        </td><td> -2052.09958</td></tr>\n",
       "\t<tr><th scope=row>34</th><td>Sex                        </td><td>CityOrTownship      </td><td> -1982.31618</td></tr>\n",
       "\t<tr><th scope=row>35</th><td>TreatmentIntentType        </td><td>DateOfBirth         </td><td> -1399.44014</td></tr>\n",
       "\t<tr><th scope=row>36</th><td>Sex                        </td><td>Country             </td><td> -1289.12908</td></tr>\n",
       "\t<tr><th scope=row>37</th><td>Intent                     </td><td>InterfaceStamp      </td><td>  -269.88380</td></tr>\n",
       "\t<tr><th scope=row>38</th><td>SkinFlashMargin            </td><td>PrescribedDose      </td><td>  -963.40534</td></tr>\n",
       "\t<tr><th scope=row>39</th><td>SkinFlashMargin            </td><td>StartDelay          </td><td>  -699.65458</td></tr>\n",
       "\t<tr><th scope=row>40</th><td>ObjectStatus_sec           </td><td>HistologyCode_sec   </td><td>  -618.75413</td></tr>\n",
       "\t<tr><th scope=row>41</th><td>ObjectStatus_sec           </td><td>MStage              </td><td>  -471.47477</td></tr>\n",
       "\t<tr><th scope=row>42</th><td>TumorSize                  </td><td>Sex                 </td><td>  -267.59074</td></tr>\n",
       "\t<tr><th scope=row>43</th><td>FractionPatternDigitsPerDay</td><td>FractionPattern     </td><td>  -257.55880</td></tr>\n",
       "\t<tr><th scope=row>44</th><td>NoFractions                </td><td>NumberOfFractions   </td><td>  -205.57549</td></tr>\n",
       "\t<tr><th scope=row>45</th><td>StartDelay                 </td><td>DicomSeqNumber      </td><td>  -113.94039</td></tr>\n",
       "\t<tr><th scope=row>46</th><td>TreatmentIntentType        </td><td>ClinicalStatus      </td><td>  -167.72078</td></tr>\n",
       "\t<tr><th scope=row>47</th><td>InterfaceStamp             </td><td>PrimaryPTVSer       </td><td>  -106.60079</td></tr>\n",
       "\t<tr><th scope=row>48</th><td>MultiFieldOptFlag          </td><td>DicomSeqNumber      </td><td>   -59.29058</td></tr>\n",
       "\t<tr><th scope=row>49</th><td>MultiFieldOptFlag          </td><td>DiagnosisCode_sec   </td><td>   -57.62111</td></tr>\n",
       "\t<tr><th scope=row>50</th><td>SkinFlashMargin            </td><td>InterfaceStamp      </td><td>   -49.13332</td></tr>\n",
       "\t<tr><th scope=row>51</th><td>SkinFlashMargin            </td><td>PrescribedPercentage</td><td>   -36.00344</td></tr>\n",
       "\t<tr><th scope=row>52</th><td>StartDelay                 </td><td>TreatmentOrder      </td><td>   -19.15310</td></tr>\n",
       "\t<tr><th scope=row>53</th><td>SkinFlashMargin            </td><td>TreatmentOrientation</td><td>   -13.94444</td></tr>\n",
       "\t<tr><th scope=row>54</th><td>SkinFlashMargin            </td><td>NoFractions         </td><td>   -12.34107</td></tr>\n",
       "\t<tr><th scope=row>55</th><td>SimulationNeeded           </td><td>BolusThickness      </td><td>   -10.37413</td></tr>\n",
       "</tbody>\n",
       "</table>\n"
      ],
      "text/latex": [
       "A bn.strength: 55 × 3\n",
       "\\begin{tabular}{r|lll}\n",
       "  & from & to & strength\\\\\n",
       "  & <chr> & <chr> & <dbl>\\\\\n",
       "\\hline\n",
       "\t1 & CalcModelOptions            & CalcModelOptionsLen  & -10896.88403\\\\\n",
       "\t2 & PlanNormMethod              & Intent               & -10596.18082\\\\\n",
       "\t3 & SummaryStage                & TStage               & -10210.57590\\\\\n",
       "\t4 & SkinFlashMargin             & MultiFieldOptFlag    &  -9599.17441\\\\\n",
       "\t5 & NumberOfFractions           & Site                 &  -9390.07172\\\\\n",
       "\t6 & Technique                   & NumberOfFractions    &  -5391.88941\\\\\n",
       "\t7 & MStage                      & SummaryStage         &  -8645.15334\\\\\n",
       "\t8 & NumberOfFractions           & PhaseType            &  -8513.76165\\\\\n",
       "\t9 & SummaryStage                & DiagnosisCode        &  -8499.62138\\\\\n",
       "\t10 & PhaseType                   & SimulationNeeded     &  -8491.22798\\\\\n",
       "\t11 & SimulationNeeded            & Status\\_y             &  -8481.67002\\\\\n",
       "\t12 & DiagnosisCode               & ObjectStatus         &  -8439.50982\\\\\n",
       "\t13 & SkinFlashMargin             & CalcModelOptions     &  -4818.89548\\\\\n",
       "\t14 & PlanNormMethod              & SkinFlashMargin      &  -8218.82749\\\\\n",
       "\t15 & Intent                      & PrimaryPTVSer        &  -6372.56303\\\\\n",
       "\t16 & SummaryStage                & NStage               &  -6463.41084\\\\\n",
       "\t17 & PrimaryPTVSer               & Technique            &  -6430.68562\\\\\n",
       "\t18 & Intent                      & StartDelay           &  -5356.96058\\\\\n",
       "\t19 & DiagnosisCode               & TreatmentIntentType  &  -5629.21205\\\\\n",
       "\t20 & Intent                      & Status\\_x             &  -5360.00505\\\\\n",
       "\t21 & StartDelay                  & NoFractions          &  -4684.73560\\\\\n",
       "\t22 & Sex                         & FirstName            &  -4540.82395\\\\\n",
       "\t23 & InterfaceStamp              & EquipmentSer         &  -3218.65569\\\\\n",
       "\t24 & DiagnosisCode\\_sec           & ObjectStatus\\_sec     &  -3852.03289\\\\\n",
       "\t25 & PrescribedDose              & NoFractions          &  -3330.69658\\\\\n",
       "\t26 & TreatmentIntentType         & PrescribedDose       &  -3360.91799\\\\\n",
       "\t27 & DateOfBirth                 & Sex                  &  -2205.12968\\\\\n",
       "\t28 & PlanNormMethod              & PlanNormFactor       &  -2773.77846\\\\\n",
       "\t29 & TStage                      & TumorSize            &  -2769.40606\\\\\n",
       "\t30 & DiagnosisCode               & HistologyCode        &  -2541.83459\\\\\n",
       "\t31 & PrimaryPTVSer               & CalcModelOptions     &  -2344.07010\\\\\n",
       "\t32 & NumberOfFractions           & Notes                &  -2117.20872\\\\\n",
       "\t33 & MultiFieldOptFlag           & EquipmentSer         &  -2052.09958\\\\\n",
       "\t34 & Sex                         & CityOrTownship       &  -1982.31618\\\\\n",
       "\t35 & TreatmentIntentType         & DateOfBirth          &  -1399.44014\\\\\n",
       "\t36 & Sex                         & Country              &  -1289.12908\\\\\n",
       "\t37 & Intent                      & InterfaceStamp       &   -269.88380\\\\\n",
       "\t38 & SkinFlashMargin             & PrescribedDose       &   -963.40534\\\\\n",
       "\t39 & SkinFlashMargin             & StartDelay           &   -699.65458\\\\\n",
       "\t40 & ObjectStatus\\_sec            & HistologyCode\\_sec    &   -618.75413\\\\\n",
       "\t41 & ObjectStatus\\_sec            & MStage               &   -471.47477\\\\\n",
       "\t42 & TumorSize                   & Sex                  &   -267.59074\\\\\n",
       "\t43 & FractionPatternDigitsPerDay & FractionPattern      &   -257.55880\\\\\n",
       "\t44 & NoFractions                 & NumberOfFractions    &   -205.57549\\\\\n",
       "\t45 & StartDelay                  & DicomSeqNumber       &   -113.94039\\\\\n",
       "\t46 & TreatmentIntentType         & ClinicalStatus       &   -167.72078\\\\\n",
       "\t47 & InterfaceStamp              & PrimaryPTVSer        &   -106.60079\\\\\n",
       "\t48 & MultiFieldOptFlag           & DicomSeqNumber       &    -59.29058\\\\\n",
       "\t49 & MultiFieldOptFlag           & DiagnosisCode\\_sec    &    -57.62111\\\\\n",
       "\t50 & SkinFlashMargin             & InterfaceStamp       &    -49.13332\\\\\n",
       "\t51 & SkinFlashMargin             & PrescribedPercentage &    -36.00344\\\\\n",
       "\t52 & StartDelay                  & TreatmentOrder       &    -19.15310\\\\\n",
       "\t53 & SkinFlashMargin             & TreatmentOrientation &    -13.94444\\\\\n",
       "\t54 & SkinFlashMargin             & NoFractions          &    -12.34107\\\\\n",
       "\t55 & SimulationNeeded            & BolusThickness       &    -10.37413\\\\\n",
       "\\end{tabular}\n"
      ],
      "text/markdown": [
       "\n",
       "A bn.strength: 55 × 3\n",
       "\n",
       "| <!--/--> | from &lt;chr&gt; | to &lt;chr&gt; | strength &lt;dbl&gt; |\n",
       "|---|---|---|---|\n",
       "| 1 | CalcModelOptions            | CalcModelOptionsLen  | -10896.88403 |\n",
       "| 2 | PlanNormMethod              | Intent               | -10596.18082 |\n",
       "| 3 | SummaryStage                | TStage               | -10210.57590 |\n",
       "| 4 | SkinFlashMargin             | MultiFieldOptFlag    |  -9599.17441 |\n",
       "| 5 | NumberOfFractions           | Site                 |  -9390.07172 |\n",
       "| 6 | Technique                   | NumberOfFractions    |  -5391.88941 |\n",
       "| 7 | MStage                      | SummaryStage         |  -8645.15334 |\n",
       "| 8 | NumberOfFractions           | PhaseType            |  -8513.76165 |\n",
       "| 9 | SummaryStage                | DiagnosisCode        |  -8499.62138 |\n",
       "| 10 | PhaseType                   | SimulationNeeded     |  -8491.22798 |\n",
       "| 11 | SimulationNeeded            | Status_y             |  -8481.67002 |\n",
       "| 12 | DiagnosisCode               | ObjectStatus         |  -8439.50982 |\n",
       "| 13 | SkinFlashMargin             | CalcModelOptions     |  -4818.89548 |\n",
       "| 14 | PlanNormMethod              | SkinFlashMargin      |  -8218.82749 |\n",
       "| 15 | Intent                      | PrimaryPTVSer        |  -6372.56303 |\n",
       "| 16 | SummaryStage                | NStage               |  -6463.41084 |\n",
       "| 17 | PrimaryPTVSer               | Technique            |  -6430.68562 |\n",
       "| 18 | Intent                      | StartDelay           |  -5356.96058 |\n",
       "| 19 | DiagnosisCode               | TreatmentIntentType  |  -5629.21205 |\n",
       "| 20 | Intent                      | Status_x             |  -5360.00505 |\n",
       "| 21 | StartDelay                  | NoFractions          |  -4684.73560 |\n",
       "| 22 | Sex                         | FirstName            |  -4540.82395 |\n",
       "| 23 | InterfaceStamp              | EquipmentSer         |  -3218.65569 |\n",
       "| 24 | DiagnosisCode_sec           | ObjectStatus_sec     |  -3852.03289 |\n",
       "| 25 | PrescribedDose              | NoFractions          |  -3330.69658 |\n",
       "| 26 | TreatmentIntentType         | PrescribedDose       |  -3360.91799 |\n",
       "| 27 | DateOfBirth                 | Sex                  |  -2205.12968 |\n",
       "| 28 | PlanNormMethod              | PlanNormFactor       |  -2773.77846 |\n",
       "| 29 | TStage                      | TumorSize            |  -2769.40606 |\n",
       "| 30 | DiagnosisCode               | HistologyCode        |  -2541.83459 |\n",
       "| 31 | PrimaryPTVSer               | CalcModelOptions     |  -2344.07010 |\n",
       "| 32 | NumberOfFractions           | Notes                |  -2117.20872 |\n",
       "| 33 | MultiFieldOptFlag           | EquipmentSer         |  -2052.09958 |\n",
       "| 34 | Sex                         | CityOrTownship       |  -1982.31618 |\n",
       "| 35 | TreatmentIntentType         | DateOfBirth          |  -1399.44014 |\n",
       "| 36 | Sex                         | Country              |  -1289.12908 |\n",
       "| 37 | Intent                      | InterfaceStamp       |   -269.88380 |\n",
       "| 38 | SkinFlashMargin             | PrescribedDose       |   -963.40534 |\n",
       "| 39 | SkinFlashMargin             | StartDelay           |   -699.65458 |\n",
       "| 40 | ObjectStatus_sec            | HistologyCode_sec    |   -618.75413 |\n",
       "| 41 | ObjectStatus_sec            | MStage               |   -471.47477 |\n",
       "| 42 | TumorSize                   | Sex                  |   -267.59074 |\n",
       "| 43 | FractionPatternDigitsPerDay | FractionPattern      |   -257.55880 |\n",
       "| 44 | NoFractions                 | NumberOfFractions    |   -205.57549 |\n",
       "| 45 | StartDelay                  | DicomSeqNumber       |   -113.94039 |\n",
       "| 46 | TreatmentIntentType         | ClinicalStatus       |   -167.72078 |\n",
       "| 47 | InterfaceStamp              | PrimaryPTVSer        |   -106.60079 |\n",
       "| 48 | MultiFieldOptFlag           | DicomSeqNumber       |    -59.29058 |\n",
       "| 49 | MultiFieldOptFlag           | DiagnosisCode_sec    |    -57.62111 |\n",
       "| 50 | SkinFlashMargin             | InterfaceStamp       |    -49.13332 |\n",
       "| 51 | SkinFlashMargin             | PrescribedPercentage |    -36.00344 |\n",
       "| 52 | StartDelay                  | TreatmentOrder       |    -19.15310 |\n",
       "| 53 | SkinFlashMargin             | TreatmentOrientation |    -13.94444 |\n",
       "| 54 | SkinFlashMargin             | NoFractions          |    -12.34107 |\n",
       "| 55 | SimulationNeeded            | BolusThickness       |    -10.37413 |\n",
       "\n"
      ],
      "text/plain": [
       "   from                        to                   strength    \n",
       "1  CalcModelOptions            CalcModelOptionsLen  -10896.88403\n",
       "2  PlanNormMethod              Intent               -10596.18082\n",
       "3  SummaryStage                TStage               -10210.57590\n",
       "4  SkinFlashMargin             MultiFieldOptFlag     -9599.17441\n",
       "5  NumberOfFractions           Site                  -9390.07172\n",
       "6  Technique                   NumberOfFractions     -5391.88941\n",
       "7  MStage                      SummaryStage          -8645.15334\n",
       "8  NumberOfFractions           PhaseType             -8513.76165\n",
       "9  SummaryStage                DiagnosisCode         -8499.62138\n",
       "10 PhaseType                   SimulationNeeded      -8491.22798\n",
       "11 SimulationNeeded            Status_y              -8481.67002\n",
       "12 DiagnosisCode               ObjectStatus          -8439.50982\n",
       "13 SkinFlashMargin             CalcModelOptions      -4818.89548\n",
       "14 PlanNormMethod              SkinFlashMargin       -8218.82749\n",
       "15 Intent                      PrimaryPTVSer         -6372.56303\n",
       "16 SummaryStage                NStage                -6463.41084\n",
       "17 PrimaryPTVSer               Technique             -6430.68562\n",
       "18 Intent                      StartDelay            -5356.96058\n",
       "19 DiagnosisCode               TreatmentIntentType   -5629.21205\n",
       "20 Intent                      Status_x              -5360.00505\n",
       "21 StartDelay                  NoFractions           -4684.73560\n",
       "22 Sex                         FirstName             -4540.82395\n",
       "23 InterfaceStamp              EquipmentSer          -3218.65569\n",
       "24 DiagnosisCode_sec           ObjectStatus_sec      -3852.03289\n",
       "25 PrescribedDose              NoFractions           -3330.69658\n",
       "26 TreatmentIntentType         PrescribedDose        -3360.91799\n",
       "27 DateOfBirth                 Sex                   -2205.12968\n",
       "28 PlanNormMethod              PlanNormFactor        -2773.77846\n",
       "29 TStage                      TumorSize             -2769.40606\n",
       "30 DiagnosisCode               HistologyCode         -2541.83459\n",
       "31 PrimaryPTVSer               CalcModelOptions      -2344.07010\n",
       "32 NumberOfFractions           Notes                 -2117.20872\n",
       "33 MultiFieldOptFlag           EquipmentSer          -2052.09958\n",
       "34 Sex                         CityOrTownship        -1982.31618\n",
       "35 TreatmentIntentType         DateOfBirth           -1399.44014\n",
       "36 Sex                         Country               -1289.12908\n",
       "37 Intent                      InterfaceStamp         -269.88380\n",
       "38 SkinFlashMargin             PrescribedDose         -963.40534\n",
       "39 SkinFlashMargin             StartDelay             -699.65458\n",
       "40 ObjectStatus_sec            HistologyCode_sec      -618.75413\n",
       "41 ObjectStatus_sec            MStage                 -471.47477\n",
       "42 TumorSize                   Sex                    -267.59074\n",
       "43 FractionPatternDigitsPerDay FractionPattern        -257.55880\n",
       "44 NoFractions                 NumberOfFractions      -205.57549\n",
       "45 StartDelay                  DicomSeqNumber         -113.94039\n",
       "46 TreatmentIntentType         ClinicalStatus         -167.72078\n",
       "47 InterfaceStamp              PrimaryPTVSer          -106.60079\n",
       "48 MultiFieldOptFlag           DicomSeqNumber          -59.29058\n",
       "49 MultiFieldOptFlag           DiagnosisCode_sec       -57.62111\n",
       "50 SkinFlashMargin             InterfaceStamp          -49.13332\n",
       "51 SkinFlashMargin             PrescribedPercentage    -36.00344\n",
       "52 StartDelay                  TreatmentOrder          -19.15310\n",
       "53 SkinFlashMargin             TreatmentOrientation    -13.94444\n",
       "54 SkinFlashMargin             NoFractions             -12.34107\n",
       "55 SimulationNeeded            BolusThickness          -10.37413"
      ]
     },
     "metadata": {},
     "output_type": "display_data"
    }
   ],
   "source": [
    "bnlearn::score(hcdag, data = rtp[cols], type = \"bic\")\n",
    "bnlearn::score(tabudag, data = rtp[cols], type = \"bic\")\n",
    "\n",
    "arc.strength(hcdag, data = rtp[cols], criterion = \"bic\") # x2, aic...\n",
    "\n",
    "# print(hcdag)\n",
    "# plot(hcdag)\n",
    "# print(tabudag)"
   ]
  },
  {
   "cell_type": "code",
   "execution_count": 7,
   "id": "a24145fb",
   "metadata": {},
   "outputs": [
    {
     "data": {
      "image/png": "[encoded data removed]",
      "text/plain": [
       "plot without title"
      ]
     },
     "metadata": {
      "image/png": {
       "height": 420,
       "width": 420
      }
     },
     "output_type": "display_data"
    }
   ],
   "source": [
    "# graphviz.plot(hcdag)\n",
    "# graphviz.plot(tabudag)\n",
    "\n",
    "g <- Rgraphviz::layoutGraph(bnlearn::as.graphNEL(hcdag))\n",
    "graph::nodeRenderInfo(g) <- list(fontsize=80)\n",
    "Rgraphviz::renderGraph(g)"
   ]
  },
  {
   "cell_type": "code",
   "execution_count": 8,
   "id": "stable-douglas",
   "metadata": {},
   "outputs": [
    {
     "data": {
      "text/html": [
       "<table class=\"dataframe\">\n",
       "<caption>A matrix: 9 × 3 of type chr</caption>\n",
       "<thead>\n",
       "\t<tr><th scope=col>X</th><th scope=col>Z</th><th scope=col>Y</th></tr>\n",
       "</thead>\n",
       "<tbody>\n",
       "\t<tr><td>TreatmentIntentType</td><td>PrescribedDose   </td><td>SkinFlashMargin  </td></tr>\n",
       "\t<tr><td>Technique          </td><td>NumberOfFractions</td><td>NoFractions      </td></tr>\n",
       "\t<tr><td>DateOfBirth        </td><td>Sex              </td><td>TumorSize        </td></tr>\n",
       "\t<tr><td>SkinFlashMargin    </td><td>InterfaceStamp   </td><td>Intent           </td></tr>\n",
       "\t<tr><td>SkinFlashMargin    </td><td>CalcModelOptions </td><td>PrimaryPTVSer    </td></tr>\n",
       "\t<tr><td>StartDelay         </td><td>DicomSeqNumber   </td><td>MultiFieldOptFlag</td></tr>\n",
       "\t<tr><td>SkinFlashMargin    </td><td>StartDelay       </td><td>Intent           </td></tr>\n",
       "\t<tr><td>InterfaceStamp     </td><td>EquipmentSer     </td><td>MultiFieldOptFlag</td></tr>\n",
       "\t<tr><td>PrescribedDose     </td><td>NoFractions      </td><td>StartDelay       </td></tr>\n",
       "</tbody>\n",
       "</table>\n"
      ],
      "text/latex": [
       "A matrix: 9 × 3 of type chr\n",
       "\\begin{tabular}{lll}\n",
       " X & Z & Y\\\\\n",
       "\\hline\n",
       "\t TreatmentIntentType & PrescribedDose    & SkinFlashMargin  \\\\\n",
       "\t Technique           & NumberOfFractions & NoFractions      \\\\\n",
       "\t DateOfBirth         & Sex               & TumorSize        \\\\\n",
       "\t SkinFlashMargin     & InterfaceStamp    & Intent           \\\\\n",
       "\t SkinFlashMargin     & CalcModelOptions  & PrimaryPTVSer    \\\\\n",
       "\t StartDelay          & DicomSeqNumber    & MultiFieldOptFlag\\\\\n",
       "\t SkinFlashMargin     & StartDelay        & Intent           \\\\\n",
       "\t InterfaceStamp      & EquipmentSer      & MultiFieldOptFlag\\\\\n",
       "\t PrescribedDose      & NoFractions       & StartDelay       \\\\\n",
       "\\end{tabular}\n"
      ],
      "text/markdown": [
       "\n",
       "A matrix: 9 × 3 of type chr\n",
       "\n",
       "| X | Z | Y |\n",
       "|---|---|---|\n",
       "| TreatmentIntentType | PrescribedDose    | SkinFlashMargin   |\n",
       "| Technique           | NumberOfFractions | NoFractions       |\n",
       "| DateOfBirth         | Sex               | TumorSize         |\n",
       "| SkinFlashMargin     | InterfaceStamp    | Intent            |\n",
       "| SkinFlashMargin     | CalcModelOptions  | PrimaryPTVSer     |\n",
       "| StartDelay          | DicomSeqNumber    | MultiFieldOptFlag |\n",
       "| SkinFlashMargin     | StartDelay        | Intent            |\n",
       "| InterfaceStamp      | EquipmentSer      | MultiFieldOptFlag |\n",
       "| PrescribedDose      | NoFractions       | StartDelay        |\n",
       "\n"
      ],
      "text/plain": [
       "      X                   Z                 Y                \n",
       " [1,] TreatmentIntentType PrescribedDose    SkinFlashMargin  \n",
       " [2,] Technique           NumberOfFractions NoFractions      \n",
       " [3,] DateOfBirth         Sex               TumorSize        \n",
       " [4,] SkinFlashMargin     InterfaceStamp    Intent           \n",
       " [5,] SkinFlashMargin     CalcModelOptions  PrimaryPTVSer    \n",
       " [6,] StartDelay          DicomSeqNumber    MultiFieldOptFlag\n",
       " [7,] SkinFlashMargin     StartDelay        Intent           \n",
       " [8,] InterfaceStamp      EquipmentSer      MultiFieldOptFlag\n",
       " [9,] PrescribedDose      NoFractions       StartDelay       "
      ]
     },
     "metadata": {},
     "output_type": "display_data"
    }
   ],
   "source": [
    "vstructs(hcdag)"
   ]
  },
  {
   "cell_type": "markdown",
   "id": "spoken-prairie",
   "metadata": {},
   "source": [
    "# Aprendizaje de parámetros"
   ]
  },
  {
   "cell_type": "code",
   "execution_count": 9,
   "id": "subject-leather",
   "metadata": {
    "scrolled": false
   },
   "outputs": [
    {
     "data": {
      "text/html": [
       "5163"
      ],
      "text/latex": [
       "5163"
      ],
      "text/markdown": [
       "5163"
      ],
      "text/plain": [
       "[1] 5163"
      ]
     },
     "metadata": {},
     "output_type": "display_data"
    },
    {
     "data": {
      "text/plain": [
       "\n",
       "  Parameters of node NoFractions (multinomial distribution)\n",
       "\n",
       "Conditional probability table:\n",
       " \n",
       ", , SkinFlashMargin = 20.0, StartDelay = (-0.001, 2.0]\n",
       "\n",
       "               PrescribedDose\n",
       "NoFractions     (0.001, 2.0] (2.0, 2.017] (2.017, 2.67]  (2.67, 4.0]\n",
       "  (-0.001, 1.0] 9.156405e-01 1.666667e-01  9.426022e-01 9.303577e-01\n",
       "  (1.0, 4.0]    7.287625e-02 1.666667e-01  5.271809e-02 6.186317e-02\n",
       "  (10.0, 23.0]  7.425387e-03 1.666667e-01  3.107819e-03 1.193118e-05\n",
       "  (23.0, 800.0] 2.027377e-03 1.666667e-01  7.177411e-06 2.589066e-03\n",
       "  (4.0, 10.0]   2.027377e-03 1.666667e-01  1.557498e-03 5.166201e-03\n",
       "  isNaN         3.123848e-06 1.666667e-01  7.177411e-06 1.193118e-05\n",
       "               PrescribedDose\n",
       "NoFractions     (4.0, 9333.766]        isNaN\n",
       "  (-0.001, 1.0]    9.565607e-01 9.885845e-01\n",
       "  (1.0, 4.0]       3.798115e-02 2.283105e-03\n",
       "  (10.0, 23.0]     8.371423e-06 2.283105e-03\n",
       "  (23.0, 800.0]    8.371423e-06 2.283105e-03\n",
       "  (4.0, 10.0]      5.433054e-03 2.283105e-03\n",
       "  isNaN            8.371423e-06 2.283105e-03\n",
       "\n",
       ", , SkinFlashMargin = isNaN, StartDelay = (-0.001, 2.0]\n",
       "\n",
       "               PrescribedDose\n",
       "NoFractions     (0.001, 2.0] (2.0, 2.017] (2.017, 2.67]  (2.67, 4.0]\n",
       "  (-0.001, 1.0] 7.939468e-01 7.268012e-01  8.367542e-01 7.656035e-01\n",
       "  (1.0, 4.0]    2.944913e-02 6.069526e-02  5.030687e-05 1.914747e-01\n",
       "  (10.0, 23.0]  7.845540e-02 3.041772e-02  1.413120e-01 9.844458e-05\n",
       "  (23.0, 800.0] 5.885289e-02 3.041772e-02  5.030687e-05 9.844458e-05\n",
       "  (4.0, 10.0]   3.925039e-02 1.515279e-01  2.178288e-02 4.262650e-02\n",
       "  isNaN         4.537617e-05 1.401738e-04  5.030687e-05 9.844458e-05\n",
       "               PrescribedDose\n",
       "NoFractions     (4.0, 9333.766]        isNaN\n",
       "  (-0.001, 1.0]    8.081315e-01 3.330765e-01\n",
       "  (1.0, 4.0]       4.262650e-02 3.885465e-01\n",
       "  (10.0, 23.0]     9.844458e-05 5.572676e-02\n",
       "  (23.0, 800.0]    9.844458e-05 2.568053e-04\n",
       "  (4.0, 10.0]      1.489466e-01 2.221366e-01\n",
       "  isNaN            9.844458e-05 2.568053e-04\n",
       "\n",
       ", , SkinFlashMargin = 20.0, StartDelay = (2.0, 33.0]\n",
       "\n",
       "               PrescribedDose\n",
       "NoFractions     (0.001, 2.0] (2.0, 2.017] (2.017, 2.67]  (2.67, 4.0]\n",
       "  (-0.001, 1.0] 2.029774e-02 1.666667e-01  5.899946e-02 2.251690e-02\n",
       "  (1.0, 4.0]    9.460812e-02 1.666667e-01  5.899946e-02 8.649506e-01\n",
       "  (10.0, 23.0]  1.756740e-01 1.666667e-01  2.351822e-01 3.374935e-02\n",
       "  (23.0, 800.0] 6.786764e-03 1.666667e-01  1.177270e-01 5.200208e-05\n",
       "  (4.0, 10.0]   7.026021e-01 1.666667e-01  5.288200e-01 7.867915e-02\n",
       "  isNaN         3.127541e-05 1.666667e-01  2.718869e-04 5.200208e-05\n",
       "               PrescribedDose\n",
       "NoFractions     (4.0, 9333.766]        isNaN\n",
       "  (-0.001, 1.0]    3.179908e-01 1.666667e-01\n",
       "  (1.0, 4.0]       5.903741e-01 1.666667e-01\n",
       "  (10.0, 23.0]     2.101723e-04 1.666667e-01\n",
       "  (23.0, 800.0]    2.101723e-04 1.666667e-01\n",
       "  (4.0, 10.0]      9.100462e-02 1.666667e-01\n",
       "  isNaN            2.101723e-04 1.666667e-01\n",
       "\n",
       ", , SkinFlashMargin = isNaN, StartDelay = (2.0, 33.0]\n",
       "\n",
       "               PrescribedDose\n",
       "NoFractions     (0.001, 2.0] (2.0, 2.017] (2.017, 2.67]  (2.67, 4.0]\n",
       "  (-0.001, 1.0] 1.646184e-02 9.109992e-02  9.680549e-02 2.636631e-03\n",
       "  (1.0, 4.0]    2.622516e-01 9.109992e-02  3.225108e-01 9.474496e-01\n",
       "  (10.0, 23.0]  1.475497e-01 9.109992e-02  1.129273e-01 1.215037e-05\n",
       "  (23.0, 800.0] 7.586102e-05 4.198153e-04  1.619645e-02 1.215037e-05\n",
       "  (4.0, 10.0]   5.735852e-01 7.258606e-01  4.514853e-01 4.987728e-02\n",
       "  isNaN         7.586102e-05 4.198153e-04  7.463801e-05 1.215037e-05\n",
       "               PrescribedDose\n",
       "NoFractions     (4.0, 9333.766]        isNaN\n",
       "  (-0.001, 1.0]    3.987109e-01 4.173896e-02\n",
       "  (1.0, 4.0]       5.976059e-01 5.622711e-01\n",
       "  (10.0, 23.0]     9.208103e-04 8.338153e-02\n",
       "  (23.0, 800.0]    9.208103e-04 9.639483e-05\n",
       "  (4.0, 10.0]      9.208103e-04 3.124157e-01\n",
       "  isNaN            9.208103e-04 9.639483e-05\n",
       "\n",
       ", , SkinFlashMargin = 20.0, StartDelay = isNaN\n",
       "\n",
       "               PrescribedDose\n",
       "NoFractions     (0.001, 2.0] (2.0, 2.017] (2.017, 2.67]  (2.67, 4.0]\n",
       "  (-0.001, 1.0] 7.599929e-02 4.954338e-01  9.427995e-03 1.760662e-02\n",
       "  (1.0, 4.0]    3.655777e-02 2.283105e-03  8.250177e-03 1.104025e-01\n",
       "  (10.0, 23.0]  2.429042e-01 4.954338e-01  5.217787e-01 1.632002e-01\n",
       "  (23.0, 800.0] 5.521834e-01 2.283105e-03  3.957522e-01 4.000563e-02\n",
       "  (4.0, 10.0]   9.235309e-02 2.283105e-03  6.478543e-02 6.687777e-01\n",
       "  isNaN         2.226824e-06 2.283105e-03  5.452860e-06 7.407078e-06\n",
       "               PrescribedDose\n",
       "NoFractions     (4.0, 9333.766]        isNaN\n",
       "  (-0.001, 1.0]    2.432410e-01 1.379585e-01\n",
       "  (1.0, 4.0]       1.330571e-01 1.594896e-04\n",
       "  (10.0, 23.0]     3.123225e-03 1.594896e-04\n",
       "  (23.0, 800.0]    1.351794e-02 1.594896e-04\n",
       "  (4.0, 10.0]      6.070559e-01 1.594896e-04\n",
       "  isNaN            4.812366e-06 8.614035e-01\n",
       "\n",
       ", , SkinFlashMargin = isNaN, StartDelay = isNaN\n",
       "\n",
       "               PrescribedDose\n",
       "NoFractions     (0.001, 2.0] (2.0, 2.017] (2.017, 2.67]  (2.67, 4.0]\n",
       "  (-0.001, 1.0] 8.814523e-02 1.370600e-01  5.914739e-02 3.942034e-02\n",
       "  (1.0, 4.0]    5.928470e-02 5.077776e-02  1.638232e-02 6.598354e-02\n",
       "  (10.0, 23.0]  2.628684e-01 3.451525e-01  6.442099e-01 3.290450e-01\n",
       "  (23.0, 800.0] 4.820524e-01 3.959068e-01  1.974515e-01 7.715866e-03\n",
       "  (4.0, 10.0]   1.076456e-01 6.600404e-02  8.280467e-02 5.578313e-01\n",
       "  isNaN         3.611177e-06 5.098924e-03  4.212477e-06 3.967026e-06\n",
       "               PrescribedDose\n",
       "NoFractions     (4.0, 9333.766]        isNaN\n",
       "  (-0.001, 1.0]    5.936789e-01 2.151652e-01\n",
       "  (1.0, 4.0]       7.744023e-02 1.093503e-01\n",
       "  (10.0, 23.0]     1.916421e-03 1.975294e-01\n",
       "  (23.0, 800.0]    2.872419e-03 1.975294e-01\n",
       "  (4.0, 10.0]      3.240876e-01 2.804177e-01\n",
       "  isNaN            4.425915e-06 8.164732e-06\n"
      ]
     },
     "metadata": {},
     "output_type": "display_data"
    }
   ],
   "source": [
    "bn.bayes <- bn.fit(hcdag, data = rtp[cols], method = \"bayes\")\n",
    "nparams(bn.bayes)\n",
    "# bn.bayes$PrescribedPercentage\n",
    "bn.bayes$NoFractions"
   ]
  },
  {
   "cell_type": "code",
   "execution_count": null,
   "id": "intensive-spirit",
   "metadata": {},
   "outputs": [],
   "source": []
  }
 ],
 "metadata": {
  "kernelspec": {
   "display_name": "R",
   "language": "R",
   "name": "ir"
  },
  "language_info": {
   "codemirror_mode": "r",
   "file_extension": ".r",
   "mimetype": "text/x-r-source",
   "name": "R",
   "pygments_lexer": "r",
   "version": "4.1.0"
  }
 },
 "nbformat": 4,
 "nbformat_minor": 5
}
