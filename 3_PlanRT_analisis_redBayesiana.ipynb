{
 "cells": [
  {
   "cell_type": "markdown",
   "id": "concerned-pulse",
   "metadata": {},
   "source": [
    "# Librerias"
   ]
  },
  {
   "cell_type": "code",
   "execution_count": 10,
   "id": "2341f45e",
   "metadata": {},
   "outputs": [],
   "source": [
    "library(bnlearn)\n",
    "library(Rgraphviz)\n",
    "\n",
    "rtp = read.csv(\"data/ARIA_cleaned/PlanRT.csv\", row.names=1)"
   ]
  },
  {
   "cell_type": "markdown",
   "id": "western-dynamics",
   "metadata": {},
   "source": [
    "# Datos"
   ]
  },
  {
   "cell_type": "code",
   "execution_count": 11,
   "id": "caa31a88",
   "metadata": {},
   "outputs": [
    {
     "data": {
      "text/html": [
       "36"
      ],
      "text/latex": [
       "36"
      ],
      "text/markdown": [
       "36"
      ],
      "text/plain": [
       "[1] 36"
      ]
     },
     "metadata": {},
     "output_type": "display_data"
    }
   ],
   "source": [
    "# cols = c('TreatmentOrder', 'PlanNormFactor_isNaN', 'PrescribedPercentage', 'Site', 'CityOrTownship', 'Status_x', 'Country', 'FractionPatternDigitsPerDay', 'Technique', 'SkinFlashMargin', 'TreatmentIntentType', 'DateOfBirth_isNaN', 'SimulationNeeded', 'StartDelay_isNaN', 'PrimaryPTVSer_isNaN', 'PlanNormMethod', 'FirstName', 'Status_y', 'TreatmentOrientation', 'Notes', 'DicomSeqNumber', 'FractionPattern', 'PrescribedDose_isNaN', 'BolusFrequency', 'EquipmentSer', 'PhaseType', 'CalcModelOptions', 'BolusThickness', 'InterfaceStamp', 'Intent', 'NumberOfFractions_isNaN', 'MultiFieldOptFlag', 'NoFractions_isNaN', 'ClinicalStatus', 'Sex')\n",
    "cols = c('PrescribedPercentage', 'NoFractions', 'PrescribedDose', 'Status_x', 'ClinicalStatus', 'MultiFieldOptFlag', 'DicomSeqNumber', 'SkinFlashMargin', 'StartDelay', 'BolusThickness', 'PlanNormMethod', 'FractionPattern', 'BolusFrequency', 'Technique', 'PhaseType', 'DateOfBirth', 'CalcModelOptions', 'Intent', 'PrimaryPTVSer', 'InterfaceStamp', 'TreatmentOrientation', 'CityOrTownship', 'PlanNormFactor', 'Site', 'NumberOfFractions', 'EquipmentSer', 'Status_y', 'CalcModelOptionsLen', 'Notes', 'TreatmentOrder', 'Sex', 'TreatmentIntentType', 'Country', 'FirstName', 'SimulationNeeded', 'FractionPatternDigitsPerDay')\n",
    "\n",
    "length(cols)"
   ]
  },
  {
   "cell_type": "code",
   "execution_count": 12,
   "id": "eedebb9b",
   "metadata": {},
   "outputs": [],
   "source": [
    "rtp[cols] <- lapply(rtp[cols], factor)"
   ]
  },
  {
   "cell_type": "code",
   "execution_count": 13,
   "id": "aa545708",
   "metadata": {},
   "outputs": [
    {
     "data": {
      "text/html": [
       "<style>\n",
       ".list-inline {list-style: none; margin:0; padding: 0}\n",
       ".list-inline>li {display: inline-block}\n",
       ".list-inline>li:not(:last-child)::after {content: \"\\00b7\"; padding: 0 .5ex}\n",
       "</style>\n",
       "<ol class=list-inline><li>14157</li><li>36</li></ol>\n"
      ],
      "text/latex": [
       "\\begin{enumerate*}\n",
       "\\item 14157\n",
       "\\item 36\n",
       "\\end{enumerate*}\n"
      ],
      "text/markdown": [
       "1. 14157\n",
       "2. 36\n",
       "\n",
       "\n"
      ],
      "text/plain": [
       "[1] 14157    36"
      ]
     },
     "metadata": {},
     "output_type": "display_data"
    },
    {
     "data": {
      "text/html": [
       "<table class=\"dataframe\">\n",
       "<caption>A data.frame: 6 × 36</caption>\n",
       "<thead>\n",
       "\t<tr><th></th><th scope=col>PrescribedPercentage</th><th scope=col>NoFractions</th><th scope=col>PrescribedDose</th><th scope=col>Status_x</th><th scope=col>ClinicalStatus</th><th scope=col>MultiFieldOptFlag</th><th scope=col>DicomSeqNumber</th><th scope=col>SkinFlashMargin</th><th scope=col>StartDelay</th><th scope=col>BolusThickness</th><th scope=col>...</th><th scope=col>Status_y</th><th scope=col>CalcModelOptionsLen</th><th scope=col>Notes</th><th scope=col>TreatmentOrder</th><th scope=col>Sex</th><th scope=col>TreatmentIntentType</th><th scope=col>Country</th><th scope=col>FirstName</th><th scope=col>SimulationNeeded</th><th scope=col>FractionPatternDigitsPerDay</th></tr>\n",
       "\t<tr><th></th><th scope=col>&lt;fct&gt;</th><th scope=col>&lt;fct&gt;</th><th scope=col>&lt;fct&gt;</th><th scope=col>&lt;fct&gt;</th><th scope=col>&lt;fct&gt;</th><th scope=col>&lt;fct&gt;</th><th scope=col>&lt;fct&gt;</th><th scope=col>&lt;fct&gt;</th><th scope=col>&lt;fct&gt;</th><th scope=col>&lt;fct&gt;</th><th scope=col>...</th><th scope=col>&lt;fct&gt;</th><th scope=col>&lt;fct&gt;</th><th scope=col>&lt;fct&gt;</th><th scope=col>&lt;fct&gt;</th><th scope=col>&lt;fct&gt;</th><th scope=col>&lt;fct&gt;</th><th scope=col>&lt;fct&gt;</th><th scope=col>&lt;fct&gt;</th><th scope=col>&lt;fct&gt;</th><th scope=col>&lt;fct&gt;</th></tr>\n",
       "</thead>\n",
       "<tbody>\n",
       "\t<tr><th scope=row>71</th><td>1.0</td><td>NoFractions_(10.0, 23.0]</td><td>PrescribedDose_(0.002, 2.0]</td><td>PlanApproval </td><td>ACTIVE</td><td>0</td><td>1</td><td>20.0 </td><td>isNaN</td><td>isNaN</td><td>...</td><td>isNaN</td><td></td><td>isNaN</td><td>isNaN</td><td>isNaN</td><td>isNaN</td><td>isNaN</td><td>isNaN</td><td>isNaN</td><td>isNaN</td></tr>\n",
       "\t<tr><th scope=row>113</th><td>1.0</td><td>NoFractions_(0.0, 1.0]  </td><td>isNaN                      </td><td>PlanApproval </td><td>ACTIVE</td><td>1</td><td>1</td><td>isNaN</td><td>isNaN</td><td>isNaN</td><td>...</td><td>isNaN</td><td></td><td>isNaN</td><td>isNaN</td><td>isNaN</td><td>isNaN</td><td>isNaN</td><td>isNaN</td><td>isNaN</td><td>isNaN</td></tr>\n",
       "\t<tr><th scope=row>116</th><td>1.0</td><td>NoFractions_(0.0, 1.0]  </td><td>isNaN                      </td><td>TreatApproval</td><td>ACTIVE</td><td>0</td><td>1</td><td>20.0 </td><td>     </td><td>isNaN</td><td>...</td><td>isNaN</td><td></td><td>isNaN</td><td>isNaN</td><td>isNaN</td><td>isNaN</td><td>isNaN</td><td>isNaN</td><td>isNaN</td><td>1.0  </td></tr>\n",
       "\t<tr><th scope=row>117</th><td>1.0</td><td>NoFractions_(0.0, 1.0]  </td><td>isNaN                      </td><td>TreatApproval</td><td>ACTIVE</td><td>0</td><td>1</td><td>20.0 </td><td>     </td><td>isNaN</td><td>...</td><td>isNaN</td><td></td><td>isNaN</td><td>isNaN</td><td>isNaN</td><td>isNaN</td><td>isNaN</td><td>isNaN</td><td>isNaN</td><td>1.0  </td></tr>\n",
       "\t<tr><th scope=row>118</th><td>1.0</td><td>NoFractions_(0.0, 1.0]  </td><td>isNaN                      </td><td>Unapproved   </td><td>ACTIVE</td><td>0</td><td>1</td><td>20.0 </td><td>isNaN</td><td>isNaN</td><td>...</td><td>isNaN</td><td></td><td>isNaN</td><td>isNaN</td><td>isNaN</td><td>isNaN</td><td>isNaN</td><td>isNaN</td><td>isNaN</td><td>isNaN</td></tr>\n",
       "\t<tr><th scope=row>119</th><td>1.0</td><td>NoFractions_(0.0, 1.0]  </td><td>isNaN                      </td><td>Unapproved   </td><td>ACTIVE</td><td>0</td><td>1</td><td>20.0 </td><td>isNaN</td><td>isNaN</td><td>...</td><td>isNaN</td><td></td><td>isNaN</td><td>isNaN</td><td>isNaN</td><td>isNaN</td><td>isNaN</td><td>isNaN</td><td>isNaN</td><td>isNaN</td></tr>\n",
       "</tbody>\n",
       "</table>\n"
      ],
      "text/latex": [
       "A data.frame: 6 × 36\n",
       "\\begin{tabular}{r|lllllllllllllllllllll}\n",
       "  & PrescribedPercentage & NoFractions & PrescribedDose & Status\\_x & ClinicalStatus & MultiFieldOptFlag & DicomSeqNumber & SkinFlashMargin & StartDelay & BolusThickness & ... & Status\\_y & CalcModelOptionsLen & Notes & TreatmentOrder & Sex & TreatmentIntentType & Country & FirstName & SimulationNeeded & FractionPatternDigitsPerDay\\\\\n",
       "  & <fct> & <fct> & <fct> & <fct> & <fct> & <fct> & <fct> & <fct> & <fct> & <fct> & ... & <fct> & <fct> & <fct> & <fct> & <fct> & <fct> & <fct> & <fct> & <fct> & <fct>\\\\\n",
       "\\hline\n",
       "\t71 & 1.0 & NoFractions\\_(10.0, 23.0{]} & PrescribedDose\\_(0.002, 2.0{]} & PlanApproval  & ACTIVE & 0 & 1 & 20.0  & isNaN & isNaN & ... & isNaN &  & isNaN & isNaN & isNaN & isNaN & isNaN & isNaN & isNaN & isNaN\\\\\n",
       "\t113 & 1.0 & NoFractions\\_(0.0, 1.0{]}   & isNaN                       & PlanApproval  & ACTIVE & 1 & 1 & isNaN & isNaN & isNaN & ... & isNaN &  & isNaN & isNaN & isNaN & isNaN & isNaN & isNaN & isNaN & isNaN\\\\\n",
       "\t116 & 1.0 & NoFractions\\_(0.0, 1.0{]}   & isNaN                       & TreatApproval & ACTIVE & 0 & 1 & 20.0  &       & isNaN & ... & isNaN &  & isNaN & isNaN & isNaN & isNaN & isNaN & isNaN & isNaN & 1.0  \\\\\n",
       "\t117 & 1.0 & NoFractions\\_(0.0, 1.0{]}   & isNaN                       & TreatApproval & ACTIVE & 0 & 1 & 20.0  &       & isNaN & ... & isNaN &  & isNaN & isNaN & isNaN & isNaN & isNaN & isNaN & isNaN & 1.0  \\\\\n",
       "\t118 & 1.0 & NoFractions\\_(0.0, 1.0{]}   & isNaN                       & Unapproved    & ACTIVE & 0 & 1 & 20.0  & isNaN & isNaN & ... & isNaN &  & isNaN & isNaN & isNaN & isNaN & isNaN & isNaN & isNaN & isNaN\\\\\n",
       "\t119 & 1.0 & NoFractions\\_(0.0, 1.0{]}   & isNaN                       & Unapproved    & ACTIVE & 0 & 1 & 20.0  & isNaN & isNaN & ... & isNaN &  & isNaN & isNaN & isNaN & isNaN & isNaN & isNaN & isNaN & isNaN\\\\\n",
       "\\end{tabular}\n"
      ],
      "text/markdown": [
       "\n",
       "A data.frame: 6 × 36\n",
       "\n",
       "| <!--/--> | PrescribedPercentage &lt;fct&gt; | NoFractions &lt;fct&gt; | PrescribedDose &lt;fct&gt; | Status_x &lt;fct&gt; | ClinicalStatus &lt;fct&gt; | MultiFieldOptFlag &lt;fct&gt; | DicomSeqNumber &lt;fct&gt; | SkinFlashMargin &lt;fct&gt; | StartDelay &lt;fct&gt; | BolusThickness &lt;fct&gt; | ... ... | Status_y &lt;fct&gt; | CalcModelOptionsLen &lt;fct&gt; | Notes &lt;fct&gt; | TreatmentOrder &lt;fct&gt; | Sex &lt;fct&gt; | TreatmentIntentType &lt;fct&gt; | Country &lt;fct&gt; | FirstName &lt;fct&gt; | SimulationNeeded &lt;fct&gt; | FractionPatternDigitsPerDay &lt;fct&gt; |\n",
       "|---|---|---|---|---|---|---|---|---|---|---|---|---|---|---|---|---|---|---|---|---|---|\n",
       "| 71 | 1.0 | NoFractions_(10.0, 23.0] | PrescribedDose_(0.002, 2.0] | PlanApproval  | ACTIVE | 0 | 1 | 20.0  | isNaN | isNaN | ... | isNaN | <!----> | isNaN | isNaN | isNaN | isNaN | isNaN | isNaN | isNaN | isNaN |\n",
       "| 113 | 1.0 | NoFractions_(0.0, 1.0]   | isNaN                       | PlanApproval  | ACTIVE | 1 | 1 | isNaN | isNaN | isNaN | ... | isNaN | <!----> | isNaN | isNaN | isNaN | isNaN | isNaN | isNaN | isNaN | isNaN |\n",
       "| 116 | 1.0 | NoFractions_(0.0, 1.0]   | isNaN                       | TreatApproval | ACTIVE | 0 | 1 | 20.0  | <!----> | isNaN | ... | isNaN | <!----> | isNaN | isNaN | isNaN | isNaN | isNaN | isNaN | isNaN | 1.0   |\n",
       "| 117 | 1.0 | NoFractions_(0.0, 1.0]   | isNaN                       | TreatApproval | ACTIVE | 0 | 1 | 20.0  | <!----> | isNaN | ... | isNaN | <!----> | isNaN | isNaN | isNaN | isNaN | isNaN | isNaN | isNaN | 1.0   |\n",
       "| 118 | 1.0 | NoFractions_(0.0, 1.0]   | isNaN                       | Unapproved    | ACTIVE | 0 | 1 | 20.0  | isNaN | isNaN | ... | isNaN | <!----> | isNaN | isNaN | isNaN | isNaN | isNaN | isNaN | isNaN | isNaN |\n",
       "| 119 | 1.0 | NoFractions_(0.0, 1.0]   | isNaN                       | Unapproved    | ACTIVE | 0 | 1 | 20.0  | isNaN | isNaN | ... | isNaN | <!----> | isNaN | isNaN | isNaN | isNaN | isNaN | isNaN | isNaN | isNaN |\n",
       "\n"
      ],
      "text/plain": [
       "    PrescribedPercentage NoFractions              PrescribedDose             \n",
       "71  1.0                  NoFractions_(10.0, 23.0] PrescribedDose_(0.002, 2.0]\n",
       "113 1.0                  NoFractions_(0.0, 1.0]   isNaN                      \n",
       "116 1.0                  NoFractions_(0.0, 1.0]   isNaN                      \n",
       "117 1.0                  NoFractions_(0.0, 1.0]   isNaN                      \n",
       "118 1.0                  NoFractions_(0.0, 1.0]   isNaN                      \n",
       "119 1.0                  NoFractions_(0.0, 1.0]   isNaN                      \n",
       "    Status_x      ClinicalStatus MultiFieldOptFlag DicomSeqNumber\n",
       "71  PlanApproval  ACTIVE         0                 1             \n",
       "113 PlanApproval  ACTIVE         1                 1             \n",
       "116 TreatApproval ACTIVE         0                 1             \n",
       "117 TreatApproval ACTIVE         0                 1             \n",
       "118 Unapproved    ACTIVE         0                 1             \n",
       "119 Unapproved    ACTIVE         0                 1             \n",
       "    SkinFlashMargin StartDelay BolusThickness ... Status_y CalcModelOptionsLen\n",
       "71  20.0            isNaN      isNaN          ... isNaN                       \n",
       "113 isNaN           isNaN      isNaN          ... isNaN                       \n",
       "116 20.0                       isNaN          ... isNaN                       \n",
       "117 20.0                       isNaN          ... isNaN                       \n",
       "118 20.0            isNaN      isNaN          ... isNaN                       \n",
       "119 20.0            isNaN      isNaN          ... isNaN                       \n",
       "    Notes TreatmentOrder Sex   TreatmentIntentType Country FirstName\n",
       "71  isNaN isNaN          isNaN isNaN               isNaN   isNaN    \n",
       "113 isNaN isNaN          isNaN isNaN               isNaN   isNaN    \n",
       "116 isNaN isNaN          isNaN isNaN               isNaN   isNaN    \n",
       "117 isNaN isNaN          isNaN isNaN               isNaN   isNaN    \n",
       "118 isNaN isNaN          isNaN isNaN               isNaN   isNaN    \n",
       "119 isNaN isNaN          isNaN isNaN               isNaN   isNaN    \n",
       "    SimulationNeeded FractionPatternDigitsPerDay\n",
       "71  isNaN            isNaN                      \n",
       "113 isNaN            isNaN                      \n",
       "116 isNaN            1.0                        \n",
       "117 isNaN            1.0                        \n",
       "118 isNaN            isNaN                      \n",
       "119 isNaN            isNaN                      "
      ]
     },
     "metadata": {},
     "output_type": "display_data"
    }
   ],
   "source": [
    "dim(rtp[cols])\n",
    "head(rtp[cols])"
   ]
  },
  {
   "cell_type": "markdown",
   "id": "manufactured-integer",
   "metadata": {},
   "source": [
    "# Aprendizaje de estructura"
   ]
  },
  {
   "cell_type": "code",
   "execution_count": 14,
   "id": "08a1b474",
   "metadata": {},
   "outputs": [],
   "source": [
    "hcdag <- hc(rtp[cols])\n",
    "tabudag <- tabu(rtp[cols])"
   ]
  },
  {
   "cell_type": "code",
   "execution_count": 18,
   "id": "f21011b2",
   "metadata": {
    "scrolled": false
   },
   "outputs": [
    {
     "data": {
      "text/html": [
       "-273196.57256247"
      ],
      "text/latex": [
       "-273196.57256247"
      ],
      "text/markdown": [
       "-273196.57256247"
      ],
      "text/plain": [
       "[1] -273196.6"
      ]
     },
     "metadata": {},
     "output_type": "display_data"
    },
    {
     "data": {
      "text/html": [
       "-273196.57256247"
      ],
      "text/latex": [
       "-273196.57256247"
      ],
      "text/markdown": [
       "-273196.57256247"
      ],
      "text/plain": [
       "[1] -273196.6"
      ]
     },
     "metadata": {},
     "output_type": "display_data"
    },
    {
     "data": {
      "text/html": [
       "<table class=\"dataframe\">\n",
       "<caption>A bn.strength: 42 × 3</caption>\n",
       "<thead>\n",
       "\t<tr><th></th><th scope=col>from</th><th scope=col>to</th><th scope=col>strength</th></tr>\n",
       "\t<tr><th></th><th scope=col>&lt;chr&gt;</th><th scope=col>&lt;chr&gt;</th><th scope=col>&lt;dbl&gt;</th></tr>\n",
       "</thead>\n",
       "<tbody>\n",
       "\t<tr><th scope=row>1</th><td>CalcModelOptions   </td><td>CalcModelOptionsLen        </td><td> 0.000000e+00</td></tr>\n",
       "\t<tr><th scope=row>2</th><td>PlanNormMethod     </td><td>Intent                     </td><td> 0.000000e+00</td></tr>\n",
       "\t<tr><th scope=row>3</th><td>MultiFieldOptFlag  </td><td>SkinFlashMargin            </td><td> 0.000000e+00</td></tr>\n",
       "\t<tr><th scope=row>4</th><td>Site               </td><td>NumberOfFractions          </td><td> 0.000000e+00</td></tr>\n",
       "\t<tr><th scope=row>5</th><td>NumberOfFractions  </td><td>Technique                  </td><td> 0.000000e+00</td></tr>\n",
       "\t<tr><th scope=row>6</th><td>CalcModelOptionsLen</td><td>PlanNormMethod             </td><td> 0.000000e+00</td></tr>\n",
       "\t<tr><th scope=row>7</th><td>NumberOfFractions  </td><td>PhaseType                  </td><td> 0.000000e+00</td></tr>\n",
       "\t<tr><th scope=row>8</th><td>PhaseType          </td><td>SimulationNeeded           </td><td> 0.000000e+00</td></tr>\n",
       "\t<tr><th scope=row>9</th><td>SimulationNeeded   </td><td>Status_y                   </td><td> 0.000000e+00</td></tr>\n",
       "\t<tr><th scope=row>10</th><td>SkinFlashMargin    </td><td>CalcModelOptions           </td><td> 0.000000e+00</td></tr>\n",
       "\t<tr><th scope=row>11</th><td>Intent             </td><td>PrimaryPTVSer              </td><td> 0.000000e+00</td></tr>\n",
       "\t<tr><th scope=row>12</th><td>PrimaryPTVSer      </td><td>Site                       </td><td> 0.000000e+00</td></tr>\n",
       "\t<tr><th scope=row>13</th><td>Intent             </td><td>StartDelay                 </td><td> 0.000000e+00</td></tr>\n",
       "\t<tr><th scope=row>14</th><td>Intent             </td><td>Status_x                   </td><td> 0.000000e+00</td></tr>\n",
       "\t<tr><th scope=row>15</th><td>StartDelay         </td><td>NoFractions                </td><td> 0.000000e+00</td></tr>\n",
       "\t<tr><th scope=row>16</th><td>Sex                </td><td>FirstName                  </td><td> 0.000000e+00</td></tr>\n",
       "\t<tr><th scope=row>17</th><td>InterfaceStamp     </td><td>EquipmentSer               </td><td> 0.000000e+00</td></tr>\n",
       "\t<tr><th scope=row>18</th><td>PrescribedDose     </td><td>TreatmentIntentType        </td><td> 0.000000e+00</td></tr>\n",
       "\t<tr><th scope=row>19</th><td>PrescribedDose     </td><td>NoFractions                </td><td> 0.000000e+00</td></tr>\n",
       "\t<tr><th scope=row>20</th><td>DateOfBirth        </td><td>Sex                        </td><td> 0.000000e+00</td></tr>\n",
       "\t<tr><th scope=row>21</th><td>EquipmentSer       </td><td>MultiFieldOptFlag          </td><td> 0.000000e+00</td></tr>\n",
       "\t<tr><th scope=row>22</th><td>PlanNormMethod     </td><td>PlanNormFactor             </td><td> 0.000000e+00</td></tr>\n",
       "\t<tr><th scope=row>23</th><td>NumberOfFractions  </td><td>PrescribedDose             </td><td> 0.000000e+00</td></tr>\n",
       "\t<tr><th scope=row>24</th><td>NumberOfFractions  </td><td>Notes                      </td><td> 0.000000e+00</td></tr>\n",
       "\t<tr><th scope=row>25</th><td>Sex                </td><td>CityOrTownship             </td><td> 0.000000e+00</td></tr>\n",
       "\t<tr><th scope=row>26</th><td>TreatmentIntentType</td><td>DateOfBirth                </td><td> 0.000000e+00</td></tr>\n",
       "\t<tr><th scope=row>27</th><td>Sex                </td><td>Country                    </td><td> 0.000000e+00</td></tr>\n",
       "\t<tr><th scope=row>28</th><td>CalcModelOptionsLen</td><td>PrimaryPTVSer              </td><td> 0.000000e+00</td></tr>\n",
       "\t<tr><th scope=row>29</th><td>CalcModelOptionsLen</td><td>StartDelay                 </td><td> 0.000000e+00</td></tr>\n",
       "\t<tr><th scope=row>30</th><td>SkinFlashMargin    </td><td>PlanNormMethod             </td><td> 0.000000e+00</td></tr>\n",
       "\t<tr><th scope=row>31</th><td>SkinFlashMargin    </td><td>PrescribedDose             </td><td> 0.000000e+00</td></tr>\n",
       "\t<tr><th scope=row>32</th><td>MultiFieldOptFlag  </td><td>TreatmentIntentType        </td><td>3.448761e-258</td></tr>\n",
       "\t<tr><th scope=row>33</th><td>FractionPattern    </td><td>FractionPatternDigitsPerDay</td><td> 0.000000e+00</td></tr>\n",
       "\t<tr><th scope=row>34</th><td>StartDelay         </td><td>DicomSeqNumber             </td><td>2.113299e-127</td></tr>\n",
       "\t<tr><th scope=row>35</th><td>TreatmentIntentType</td><td>ClinicalStatus             </td><td> 1.498330e-84</td></tr>\n",
       "\t<tr><th scope=row>36</th><td>InterfaceStamp     </td><td>CalcModelOptions           </td><td> 1.450839e-75</td></tr>\n",
       "\t<tr><th scope=row>37</th><td>MultiFieldOptFlag  </td><td>DicomSeqNumber             </td><td> 1.516293e-32</td></tr>\n",
       "\t<tr><th scope=row>38</th><td>SkinFlashMargin    </td><td>PrescribedPercentage       </td><td> 3.958082e-16</td></tr>\n",
       "\t<tr><th scope=row>39</th><td>InterfaceStamp     </td><td>MultiFieldOptFlag          </td><td> 4.492311e-33</td></tr>\n",
       "\t<tr><th scope=row>40</th><td>SkinFlashMargin    </td><td>TreatmentOrientation       </td><td> 0.000000e+00</td></tr>\n",
       "\t<tr><th scope=row>41</th><td>CalcModelOptionsLen</td><td>TreatmentOrientation       </td><td> 0.000000e+00</td></tr>\n",
       "\t<tr><th scope=row>42</th><td>SimulationNeeded   </td><td>BolusThickness             </td><td> 2.547909e-09</td></tr>\n",
       "</tbody>\n",
       "</table>\n"
      ],
      "text/latex": [
       "A bn.strength: 42 × 3\n",
       "\\begin{tabular}{r|lll}\n",
       "  & from & to & strength\\\\\n",
       "  & <chr> & <chr> & <dbl>\\\\\n",
       "\\hline\n",
       "\t1 & CalcModelOptions    & CalcModelOptionsLen         &  0.000000e+00\\\\\n",
       "\t2 & PlanNormMethod      & Intent                      &  0.000000e+00\\\\\n",
       "\t3 & MultiFieldOptFlag   & SkinFlashMargin             &  0.000000e+00\\\\\n",
       "\t4 & Site                & NumberOfFractions           &  0.000000e+00\\\\\n",
       "\t5 & NumberOfFractions   & Technique                   &  0.000000e+00\\\\\n",
       "\t6 & CalcModelOptionsLen & PlanNormMethod              &  0.000000e+00\\\\\n",
       "\t7 & NumberOfFractions   & PhaseType                   &  0.000000e+00\\\\\n",
       "\t8 & PhaseType           & SimulationNeeded            &  0.000000e+00\\\\\n",
       "\t9 & SimulationNeeded    & Status\\_y                    &  0.000000e+00\\\\\n",
       "\t10 & SkinFlashMargin     & CalcModelOptions            &  0.000000e+00\\\\\n",
       "\t11 & Intent              & PrimaryPTVSer               &  0.000000e+00\\\\\n",
       "\t12 & PrimaryPTVSer       & Site                        &  0.000000e+00\\\\\n",
       "\t13 & Intent              & StartDelay                  &  0.000000e+00\\\\\n",
       "\t14 & Intent              & Status\\_x                    &  0.000000e+00\\\\\n",
       "\t15 & StartDelay          & NoFractions                 &  0.000000e+00\\\\\n",
       "\t16 & Sex                 & FirstName                   &  0.000000e+00\\\\\n",
       "\t17 & InterfaceStamp      & EquipmentSer                &  0.000000e+00\\\\\n",
       "\t18 & PrescribedDose      & TreatmentIntentType         &  0.000000e+00\\\\\n",
       "\t19 & PrescribedDose      & NoFractions                 &  0.000000e+00\\\\\n",
       "\t20 & DateOfBirth         & Sex                         &  0.000000e+00\\\\\n",
       "\t21 & EquipmentSer        & MultiFieldOptFlag           &  0.000000e+00\\\\\n",
       "\t22 & PlanNormMethod      & PlanNormFactor              &  0.000000e+00\\\\\n",
       "\t23 & NumberOfFractions   & PrescribedDose              &  0.000000e+00\\\\\n",
       "\t24 & NumberOfFractions   & Notes                       &  0.000000e+00\\\\\n",
       "\t25 & Sex                 & CityOrTownship              &  0.000000e+00\\\\\n",
       "\t26 & TreatmentIntentType & DateOfBirth                 &  0.000000e+00\\\\\n",
       "\t27 & Sex                 & Country                     &  0.000000e+00\\\\\n",
       "\t28 & CalcModelOptionsLen & PrimaryPTVSer               &  0.000000e+00\\\\\n",
       "\t29 & CalcModelOptionsLen & StartDelay                  &  0.000000e+00\\\\\n",
       "\t30 & SkinFlashMargin     & PlanNormMethod              &  0.000000e+00\\\\\n",
       "\t31 & SkinFlashMargin     & PrescribedDose              &  0.000000e+00\\\\\n",
       "\t32 & MultiFieldOptFlag   & TreatmentIntentType         & 3.448761e-258\\\\\n",
       "\t33 & FractionPattern     & FractionPatternDigitsPerDay &  0.000000e+00\\\\\n",
       "\t34 & StartDelay          & DicomSeqNumber              & 2.113299e-127\\\\\n",
       "\t35 & TreatmentIntentType & ClinicalStatus              &  1.498330e-84\\\\\n",
       "\t36 & InterfaceStamp      & CalcModelOptions            &  1.450839e-75\\\\\n",
       "\t37 & MultiFieldOptFlag   & DicomSeqNumber              &  1.516293e-32\\\\\n",
       "\t38 & SkinFlashMargin     & PrescribedPercentage        &  3.958082e-16\\\\\n",
       "\t39 & InterfaceStamp      & MultiFieldOptFlag           &  4.492311e-33\\\\\n",
       "\t40 & SkinFlashMargin     & TreatmentOrientation        &  0.000000e+00\\\\\n",
       "\t41 & CalcModelOptionsLen & TreatmentOrientation        &  0.000000e+00\\\\\n",
       "\t42 & SimulationNeeded    & BolusThickness              &  2.547909e-09\\\\\n",
       "\\end{tabular}\n"
      ],
      "text/markdown": [
       "\n",
       "A bn.strength: 42 × 3\n",
       "\n",
       "| <!--/--> | from &lt;chr&gt; | to &lt;chr&gt; | strength &lt;dbl&gt; |\n",
       "|---|---|---|---|\n",
       "| 1 | CalcModelOptions    | CalcModelOptionsLen         |  0.000000e+00 |\n",
       "| 2 | PlanNormMethod      | Intent                      |  0.000000e+00 |\n",
       "| 3 | MultiFieldOptFlag   | SkinFlashMargin             |  0.000000e+00 |\n",
       "| 4 | Site                | NumberOfFractions           |  0.000000e+00 |\n",
       "| 5 | NumberOfFractions   | Technique                   |  0.000000e+00 |\n",
       "| 6 | CalcModelOptionsLen | PlanNormMethod              |  0.000000e+00 |\n",
       "| 7 | NumberOfFractions   | PhaseType                   |  0.000000e+00 |\n",
       "| 8 | PhaseType           | SimulationNeeded            |  0.000000e+00 |\n",
       "| 9 | SimulationNeeded    | Status_y                    |  0.000000e+00 |\n",
       "| 10 | SkinFlashMargin     | CalcModelOptions            |  0.000000e+00 |\n",
       "| 11 | Intent              | PrimaryPTVSer               |  0.000000e+00 |\n",
       "| 12 | PrimaryPTVSer       | Site                        |  0.000000e+00 |\n",
       "| 13 | Intent              | StartDelay                  |  0.000000e+00 |\n",
       "| 14 | Intent              | Status_x                    |  0.000000e+00 |\n",
       "| 15 | StartDelay          | NoFractions                 |  0.000000e+00 |\n",
       "| 16 | Sex                 | FirstName                   |  0.000000e+00 |\n",
       "| 17 | InterfaceStamp      | EquipmentSer                |  0.000000e+00 |\n",
       "| 18 | PrescribedDose      | TreatmentIntentType         |  0.000000e+00 |\n",
       "| 19 | PrescribedDose      | NoFractions                 |  0.000000e+00 |\n",
       "| 20 | DateOfBirth         | Sex                         |  0.000000e+00 |\n",
       "| 21 | EquipmentSer        | MultiFieldOptFlag           |  0.000000e+00 |\n",
       "| 22 | PlanNormMethod      | PlanNormFactor              |  0.000000e+00 |\n",
       "| 23 | NumberOfFractions   | PrescribedDose              |  0.000000e+00 |\n",
       "| 24 | NumberOfFractions   | Notes                       |  0.000000e+00 |\n",
       "| 25 | Sex                 | CityOrTownship              |  0.000000e+00 |\n",
       "| 26 | TreatmentIntentType | DateOfBirth                 |  0.000000e+00 |\n",
       "| 27 | Sex                 | Country                     |  0.000000e+00 |\n",
       "| 28 | CalcModelOptionsLen | PrimaryPTVSer               |  0.000000e+00 |\n",
       "| 29 | CalcModelOptionsLen | StartDelay                  |  0.000000e+00 |\n",
       "| 30 | SkinFlashMargin     | PlanNormMethod              |  0.000000e+00 |\n",
       "| 31 | SkinFlashMargin     | PrescribedDose              |  0.000000e+00 |\n",
       "| 32 | MultiFieldOptFlag   | TreatmentIntentType         | 3.448761e-258 |\n",
       "| 33 | FractionPattern     | FractionPatternDigitsPerDay |  0.000000e+00 |\n",
       "| 34 | StartDelay          | DicomSeqNumber              | 2.113299e-127 |\n",
       "| 35 | TreatmentIntentType | ClinicalStatus              |  1.498330e-84 |\n",
       "| 36 | InterfaceStamp      | CalcModelOptions            |  1.450839e-75 |\n",
       "| 37 | MultiFieldOptFlag   | DicomSeqNumber              |  1.516293e-32 |\n",
       "| 38 | SkinFlashMargin     | PrescribedPercentage        |  3.958082e-16 |\n",
       "| 39 | InterfaceStamp      | MultiFieldOptFlag           |  4.492311e-33 |\n",
       "| 40 | SkinFlashMargin     | TreatmentOrientation        |  0.000000e+00 |\n",
       "| 41 | CalcModelOptionsLen | TreatmentOrientation        |  0.000000e+00 |\n",
       "| 42 | SimulationNeeded    | BolusThickness              |  2.547909e-09 |\n",
       "\n"
      ],
      "text/plain": [
       "   from                to                          strength     \n",
       "1  CalcModelOptions    CalcModelOptionsLen          0.000000e+00\n",
       "2  PlanNormMethod      Intent                       0.000000e+00\n",
       "3  MultiFieldOptFlag   SkinFlashMargin              0.000000e+00\n",
       "4  Site                NumberOfFractions            0.000000e+00\n",
       "5  NumberOfFractions   Technique                    0.000000e+00\n",
       "6  CalcModelOptionsLen PlanNormMethod               0.000000e+00\n",
       "7  NumberOfFractions   PhaseType                    0.000000e+00\n",
       "8  PhaseType           SimulationNeeded             0.000000e+00\n",
       "9  SimulationNeeded    Status_y                     0.000000e+00\n",
       "10 SkinFlashMargin     CalcModelOptions             0.000000e+00\n",
       "11 Intent              PrimaryPTVSer                0.000000e+00\n",
       "12 PrimaryPTVSer       Site                         0.000000e+00\n",
       "13 Intent              StartDelay                   0.000000e+00\n",
       "14 Intent              Status_x                     0.000000e+00\n",
       "15 StartDelay          NoFractions                  0.000000e+00\n",
       "16 Sex                 FirstName                    0.000000e+00\n",
       "17 InterfaceStamp      EquipmentSer                 0.000000e+00\n",
       "18 PrescribedDose      TreatmentIntentType          0.000000e+00\n",
       "19 PrescribedDose      NoFractions                  0.000000e+00\n",
       "20 DateOfBirth         Sex                          0.000000e+00\n",
       "21 EquipmentSer        MultiFieldOptFlag            0.000000e+00\n",
       "22 PlanNormMethod      PlanNormFactor               0.000000e+00\n",
       "23 NumberOfFractions   PrescribedDose               0.000000e+00\n",
       "24 NumberOfFractions   Notes                        0.000000e+00\n",
       "25 Sex                 CityOrTownship               0.000000e+00\n",
       "26 TreatmentIntentType DateOfBirth                  0.000000e+00\n",
       "27 Sex                 Country                      0.000000e+00\n",
       "28 CalcModelOptionsLen PrimaryPTVSer                0.000000e+00\n",
       "29 CalcModelOptionsLen StartDelay                   0.000000e+00\n",
       "30 SkinFlashMargin     PlanNormMethod               0.000000e+00\n",
       "31 SkinFlashMargin     PrescribedDose               0.000000e+00\n",
       "32 MultiFieldOptFlag   TreatmentIntentType         3.448761e-258\n",
       "33 FractionPattern     FractionPatternDigitsPerDay  0.000000e+00\n",
       "34 StartDelay          DicomSeqNumber              2.113299e-127\n",
       "35 TreatmentIntentType ClinicalStatus               1.498330e-84\n",
       "36 InterfaceStamp      CalcModelOptions             1.450839e-75\n",
       "37 MultiFieldOptFlag   DicomSeqNumber               1.516293e-32\n",
       "38 SkinFlashMargin     PrescribedPercentage         3.958082e-16\n",
       "39 InterfaceStamp      MultiFieldOptFlag            4.492311e-33\n",
       "40 SkinFlashMargin     TreatmentOrientation         0.000000e+00\n",
       "41 CalcModelOptionsLen TreatmentOrientation         0.000000e+00\n",
       "42 SimulationNeeded    BolusThickness               2.547909e-09"
      ]
     },
     "metadata": {},
     "output_type": "display_data"
    },
    {
     "name": "stdout",
     "output_type": "stream",
     "text": [
      "\n",
      "  Bayesian network learned via Score-based methods\n",
      "\n",
      "  model:\n",
      "   [FractionPattern][BolusFrequency][InterfaceStamp][TreatmentOrder]\n",
      "   [EquipmentSer|InterfaceStamp][FractionPatternDigitsPerDay|FractionPattern]\n",
      "   [MultiFieldOptFlag|InterfaceStamp:EquipmentSer]\n",
      "   [SkinFlashMargin|MultiFieldOptFlag][PrescribedPercentage|SkinFlashMargin]\n",
      "   [CalcModelOptions|SkinFlashMargin:InterfaceStamp]\n",
      "   [CalcModelOptionsLen|CalcModelOptions]\n",
      "   [PlanNormMethod|SkinFlashMargin:CalcModelOptionsLen]\n",
      "   [TreatmentOrientation|SkinFlashMargin:CalcModelOptionsLen]\n",
      "   [Intent|PlanNormMethod][PlanNormFactor|PlanNormMethod][Status_x|Intent]\n",
      "   [StartDelay|Intent:CalcModelOptionsLen]\n",
      "   [PrimaryPTVSer|Intent:CalcModelOptionsLen]\n",
      "   [DicomSeqNumber|MultiFieldOptFlag:StartDelay][Site|PrimaryPTVSer]\n",
      "   [NumberOfFractions|Site][PrescribedDose|SkinFlashMargin:NumberOfFractions]\n",
      "   [Technique|NumberOfFractions][PhaseType|NumberOfFractions]\n",
      "   [Notes|NumberOfFractions][NoFractions|PrescribedDose:StartDelay]\n",
      "   [TreatmentIntentType|PrescribedDose:MultiFieldOptFlag]\n",
      "   [SimulationNeeded|PhaseType][ClinicalStatus|TreatmentIntentType]\n",
      "   [BolusThickness|SimulationNeeded][DateOfBirth|TreatmentIntentType]\n",
      "   [Status_y|SimulationNeeded][Sex|DateOfBirth][CityOrTownship|Sex][Country|Sex]\n",
      "   [FirstName|Sex]\n",
      "  nodes:                                 36 \n",
      "  arcs:                                  42 \n",
      "    undirected arcs:                     0 \n",
      "    directed arcs:                       42 \n",
      "  average markov blanket size:           2.72 \n",
      "  average neighbourhood size:            2.33 \n",
      "  average branching factor:              1.17 \n",
      "\n",
      "  learning algorithm:                    Hill-Climbing \n",
      "  score:                                 BIC (disc.) \n",
      "  penalization coefficient:              4.778982 \n",
      "  tests used in the learning procedure:  2100 \n",
      "  optimized:                             TRUE \n",
      "\n"
     ]
    }
   ],
   "source": [
    "score(hcdag, data = rtp[cols], type = \"bic\")\n",
    "score(tabudag, data = rtp[cols], type = \"bic\")\n",
    "arc.strength(hcdag, data = rtp[cols], criterion = \"x2\")\n",
    "\n",
    "print(hcdag)\n",
    "# plot(hcdag)\n",
    "# print(tabudag)"
   ]
  },
  {
   "cell_type": "code",
   "execution_count": 16,
   "id": "a24145fb",
   "metadata": {},
   "outputs": [
    {
     "data": {
      "image/png": "[encoded data removed]",
      "text/plain": [
       "plot without title"
      ]
     },
     "metadata": {
      "image/png": {
       "height": 420,
       "width": 420
      }
     },
     "output_type": "display_data"
    }
   ],
   "source": [
    "# graphviz.plot(hcdag)\n",
    "# graphviz.plot(tabudag)\n",
    "\n",
    "g <- Rgraphviz::layoutGraph(bnlearn::as.graphNEL(hcdag))\n",
    "graph::nodeRenderInfo(g) <- list(fontsize=90)\n",
    "Rgraphviz::renderGraph(g)"
   ]
  },
  {
   "cell_type": "code",
   "execution_count": 19,
   "id": "stable-douglas",
   "metadata": {},
   "outputs": [
    {
     "data": {
      "text/html": [
       "<table class=\"dataframe\">\n",
       "<caption>A matrix: 9 × 3 of type chr</caption>\n",
       "<thead>\n",
       "\t<tr><th scope=col>X</th><th scope=col>Z</th><th scope=col>Y</th></tr>\n",
       "</thead>\n",
       "<tbody>\n",
       "\t<tr><td>PrescribedDose   </td><td>NoFractions         </td><td>StartDelay         </td></tr>\n",
       "\t<tr><td>SkinFlashMargin  </td><td>PrescribedDose      </td><td>NumberOfFractions  </td></tr>\n",
       "\t<tr><td>MultiFieldOptFlag</td><td>DicomSeqNumber      </td><td>StartDelay         </td></tr>\n",
       "\t<tr><td>Intent           </td><td>StartDelay          </td><td>CalcModelOptionsLen</td></tr>\n",
       "\t<tr><td>SkinFlashMargin  </td><td>PlanNormMethod      </td><td>CalcModelOptionsLen</td></tr>\n",
       "\t<tr><td>SkinFlashMargin  </td><td>CalcModelOptions    </td><td>InterfaceStamp     </td></tr>\n",
       "\t<tr><td>Intent           </td><td>PrimaryPTVSer       </td><td>CalcModelOptionsLen</td></tr>\n",
       "\t<tr><td>SkinFlashMargin  </td><td>TreatmentOrientation</td><td>CalcModelOptionsLen</td></tr>\n",
       "\t<tr><td>PrescribedDose   </td><td>TreatmentIntentType </td><td>MultiFieldOptFlag  </td></tr>\n",
       "</tbody>\n",
       "</table>\n"
      ],
      "text/latex": [
       "A matrix: 9 × 3 of type chr\n",
       "\\begin{tabular}{lll}\n",
       " X & Z & Y\\\\\n",
       "\\hline\n",
       "\t PrescribedDose    & NoFractions          & StartDelay         \\\\\n",
       "\t SkinFlashMargin   & PrescribedDose       & NumberOfFractions  \\\\\n",
       "\t MultiFieldOptFlag & DicomSeqNumber       & StartDelay         \\\\\n",
       "\t Intent            & StartDelay           & CalcModelOptionsLen\\\\\n",
       "\t SkinFlashMargin   & PlanNormMethod       & CalcModelOptionsLen\\\\\n",
       "\t SkinFlashMargin   & CalcModelOptions     & InterfaceStamp     \\\\\n",
       "\t Intent            & PrimaryPTVSer        & CalcModelOptionsLen\\\\\n",
       "\t SkinFlashMargin   & TreatmentOrientation & CalcModelOptionsLen\\\\\n",
       "\t PrescribedDose    & TreatmentIntentType  & MultiFieldOptFlag  \\\\\n",
       "\\end{tabular}\n"
      ],
      "text/markdown": [
       "\n",
       "A matrix: 9 × 3 of type chr\n",
       "\n",
       "| X | Z | Y |\n",
       "|---|---|---|\n",
       "| PrescribedDose    | NoFractions          | StartDelay          |\n",
       "| SkinFlashMargin   | PrescribedDose       | NumberOfFractions   |\n",
       "| MultiFieldOptFlag | DicomSeqNumber       | StartDelay          |\n",
       "| Intent            | StartDelay           | CalcModelOptionsLen |\n",
       "| SkinFlashMargin   | PlanNormMethod       | CalcModelOptionsLen |\n",
       "| SkinFlashMargin   | CalcModelOptions     | InterfaceStamp      |\n",
       "| Intent            | PrimaryPTVSer        | CalcModelOptionsLen |\n",
       "| SkinFlashMargin   | TreatmentOrientation | CalcModelOptionsLen |\n",
       "| PrescribedDose    | TreatmentIntentType  | MultiFieldOptFlag   |\n",
       "\n"
      ],
      "text/plain": [
       "      X                 Z                    Y                  \n",
       " [1,] PrescribedDose    NoFractions          StartDelay         \n",
       " [2,] SkinFlashMargin   PrescribedDose       NumberOfFractions  \n",
       " [3,] MultiFieldOptFlag DicomSeqNumber       StartDelay         \n",
       " [4,] Intent            StartDelay           CalcModelOptionsLen\n",
       " [5,] SkinFlashMargin   PlanNormMethod       CalcModelOptionsLen\n",
       " [6,] SkinFlashMargin   CalcModelOptions     InterfaceStamp     \n",
       " [7,] Intent            PrimaryPTVSer        CalcModelOptionsLen\n",
       " [8,] SkinFlashMargin   TreatmentOrientation CalcModelOptionsLen\n",
       " [9,] PrescribedDose    TreatmentIntentType  MultiFieldOptFlag  "
      ]
     },
     "metadata": {},
     "output_type": "display_data"
    }
   ],
   "source": [
    "vstructs(hcdag)"
   ]
  },
  {
   "cell_type": "markdown",
   "id": "spoken-prairie",
   "metadata": {},
   "source": [
    "# Aprendizaje de parámetros"
   ]
  },
  {
   "cell_type": "code",
   "execution_count": 17,
   "id": "subject-leather",
   "metadata": {
    "scrolled": false
   },
   "outputs": [
    {
     "data": {
      "text/html": [
       "2482"
      ],
      "text/latex": [
       "2482"
      ],
      "text/markdown": [
       "2482"
      ],
      "text/plain": [
       "[1] 2482"
      ]
     },
     "metadata": {},
     "output_type": "display_data"
    },
    {
     "data": {
      "text/plain": [
       "\n",
       "  Parameters of node PrescribedPercentage (multinomial distribution)\n",
       "\n",
       "Conditional probability table:\n",
       " \n",
       "                    SkinFlashMargin\n",
       "PrescribedPercentage         20.0        isNaN\n",
       "               0.2   1.404287e-03 1.330035e-05\n",
       "               0.5   1.116038e-02 1.330035e-05\n",
       "               0.914 1.372611e-04 1.330035e-05\n",
       "               1.0   9.870235e-01 9.999335e-01\n",
       "               1.104 1.372611e-04 1.330035e-05\n",
       "               isNaN 1.372611e-04 1.330035e-05"
      ]
     },
     "metadata": {},
     "output_type": "display_data"
    }
   ],
   "source": [
    "bn.bayes <- bn.fit(hcdag, data = rtp[cols], method = \"bayes\")\n",
    "nparams(bn.bayes)\n",
    "bn.bayes$PrescribedPercentage\n",
    "# bn.bayes$Notes"
   ]
  },
  {
   "cell_type": "code",
   "execution_count": null,
   "id": "intensive-spirit",
   "metadata": {},
   "outputs": [],
   "source": []
  }
 ],
 "metadata": {
  "kernelspec": {
   "display_name": "R",
   "language": "R",
   "name": "ir"
  },
  "language_info": {
   "codemirror_mode": "r",
   "file_extension": ".r",
   "mimetype": "text/x-r-source",
   "name": "R",
   "pygments_lexer": "r",
   "version": "4.0.3"
  }
 },
 "nbformat": 4,
 "nbformat_minor": 5
}
