{
 "cells": [
  {
   "cell_type": "markdown",
   "id": "concerned-pulse",
   "metadata": {},
   "source": [
    "# Librerias"
   ]
  },
  {
   "cell_type": "code",
   "execution_count": 5,
   "id": "2341f45e",
   "metadata": {},
   "outputs": [],
   "source": [
    "library(bnlearn)\n",
    "library(Rgraphviz)\n",
    "\n",
    "rtp = read.csv(\"data/ARIA_cleaned/PlanRT.csv\", row.names=1)"
   ]
  },
  {
   "cell_type": "markdown",
   "id": "western-dynamics",
   "metadata": {},
   "source": [
    "# Datos"
   ]
  },
  {
   "cell_type": "code",
   "execution_count": 6,
   "id": "caa31a88",
   "metadata": {},
   "outputs": [
    {
     "data": {
      "text/html": [
       "36"
      ],
      "text/latex": [
       "36"
      ],
      "text/markdown": [
       "36"
      ],
      "text/plain": [
       "[1] 36"
      ]
     },
     "metadata": {},
     "output_type": "display_data"
    },
    {
     "data": {
      "text/html": [
       "<style>\n",
       ".list-inline {list-style: none; margin:0; padding: 0}\n",
       ".list-inline>li {display: inline-block}\n",
       ".list-inline>li:not(:last-child)::after {content: \"\\00b7\"; padding: 0 .5ex}\n",
       "</style>\n",
       "<ol class=list-inline><li>'SkinFlashMargin'</li><li>'FractionPattern'</li><li>'Status_y'</li><li>'Technique'</li><li>'NoFractions'</li><li>'PlanNormMethod'</li><li>'DateOfBirth'</li><li>'PlanNormFactor'</li><li>'BolusThickness'</li><li>'Country'</li><li>'StartDelay'</li><li>'CalcModelOptions'</li><li>'Notes'</li><li>'TreatmentIntentType'</li><li>'PhaseType'</li><li>'TreatmentOrder'</li><li>'NumberOfFractions'</li><li>'InterfaceStamp'</li><li>'PrescribedPercentage'</li><li>'ClinicalStatus'</li><li>'Intent'</li><li>'PrescribedDose'</li><li>'DicomSeqNumber'</li><li>'Sex'</li><li>'PrimaryPTVSer'</li><li>'FractionPatternDigitsPerDay'</li><li>'TreatmentOrientation'</li><li>'FirstName'</li><li>'MultiFieldOptFlag'</li><li>'CalcModelOptionsLen'</li><li>'EquipmentSer'</li><li>'SimulationNeeded'</li><li>'Site'</li><li>'Status_x'</li><li>'CityOrTownship'</li><li>'BolusFrequency'</li></ol>\n"
      ],
      "text/latex": [
       "\\begin{enumerate*}\n",
       "\\item 'SkinFlashMargin'\n",
       "\\item 'FractionPattern'\n",
       "\\item 'Status\\_y'\n",
       "\\item 'Technique'\n",
       "\\item 'NoFractions'\n",
       "\\item 'PlanNormMethod'\n",
       "\\item 'DateOfBirth'\n",
       "\\item 'PlanNormFactor'\n",
       "\\item 'BolusThickness'\n",
       "\\item 'Country'\n",
       "\\item 'StartDelay'\n",
       "\\item 'CalcModelOptions'\n",
       "\\item 'Notes'\n",
       "\\item 'TreatmentIntentType'\n",
       "\\item 'PhaseType'\n",
       "\\item 'TreatmentOrder'\n",
       "\\item 'NumberOfFractions'\n",
       "\\item 'InterfaceStamp'\n",
       "\\item 'PrescribedPercentage'\n",
       "\\item 'ClinicalStatus'\n",
       "\\item 'Intent'\n",
       "\\item 'PrescribedDose'\n",
       "\\item 'DicomSeqNumber'\n",
       "\\item 'Sex'\n",
       "\\item 'PrimaryPTVSer'\n",
       "\\item 'FractionPatternDigitsPerDay'\n",
       "\\item 'TreatmentOrientation'\n",
       "\\item 'FirstName'\n",
       "\\item 'MultiFieldOptFlag'\n",
       "\\item 'CalcModelOptionsLen'\n",
       "\\item 'EquipmentSer'\n",
       "\\item 'SimulationNeeded'\n",
       "\\item 'Site'\n",
       "\\item 'Status\\_x'\n",
       "\\item 'CityOrTownship'\n",
       "\\item 'BolusFrequency'\n",
       "\\end{enumerate*}\n"
      ],
      "text/markdown": [
       "1. 'SkinFlashMargin'\n",
       "2. 'FractionPattern'\n",
       "3. 'Status_y'\n",
       "4. 'Technique'\n",
       "5. 'NoFractions'\n",
       "6. 'PlanNormMethod'\n",
       "7. 'DateOfBirth'\n",
       "8. 'PlanNormFactor'\n",
       "9. 'BolusThickness'\n",
       "10. 'Country'\n",
       "11. 'StartDelay'\n",
       "12. 'CalcModelOptions'\n",
       "13. 'Notes'\n",
       "14. 'TreatmentIntentType'\n",
       "15. 'PhaseType'\n",
       "16. 'TreatmentOrder'\n",
       "17. 'NumberOfFractions'\n",
       "18. 'InterfaceStamp'\n",
       "19. 'PrescribedPercentage'\n",
       "20. 'ClinicalStatus'\n",
       "21. 'Intent'\n",
       "22. 'PrescribedDose'\n",
       "23. 'DicomSeqNumber'\n",
       "24. 'Sex'\n",
       "25. 'PrimaryPTVSer'\n",
       "26. 'FractionPatternDigitsPerDay'\n",
       "27. 'TreatmentOrientation'\n",
       "28. 'FirstName'\n",
       "29. 'MultiFieldOptFlag'\n",
       "30. 'CalcModelOptionsLen'\n",
       "31. 'EquipmentSer'\n",
       "32. 'SimulationNeeded'\n",
       "33. 'Site'\n",
       "34. 'Status_x'\n",
       "35. 'CityOrTownship'\n",
       "36. 'BolusFrequency'\n",
       "\n",
       "\n"
      ],
      "text/plain": [
       " [1] \"SkinFlashMargin\"             \"FractionPattern\"            \n",
       " [3] \"Status_y\"                    \"Technique\"                  \n",
       " [5] \"NoFractions\"                 \"PlanNormMethod\"             \n",
       " [7] \"DateOfBirth\"                 \"PlanNormFactor\"             \n",
       " [9] \"BolusThickness\"              \"Country\"                    \n",
       "[11] \"StartDelay\"                  \"CalcModelOptions\"           \n",
       "[13] \"Notes\"                       \"TreatmentIntentType\"        \n",
       "[15] \"PhaseType\"                   \"TreatmentOrder\"             \n",
       "[17] \"NumberOfFractions\"           \"InterfaceStamp\"             \n",
       "[19] \"PrescribedPercentage\"        \"ClinicalStatus\"             \n",
       "[21] \"Intent\"                      \"PrescribedDose\"             \n",
       "[23] \"DicomSeqNumber\"              \"Sex\"                        \n",
       "[25] \"PrimaryPTVSer\"               \"FractionPatternDigitsPerDay\"\n",
       "[27] \"TreatmentOrientation\"        \"FirstName\"                  \n",
       "[29] \"MultiFieldOptFlag\"           \"CalcModelOptionsLen\"        \n",
       "[31] \"EquipmentSer\"                \"SimulationNeeded\"           \n",
       "[33] \"Site\"                        \"Status_x\"                   \n",
       "[35] \"CityOrTownship\"              \"BolusFrequency\"             "
      ]
     },
     "metadata": {},
     "output_type": "display_data"
    }
   ],
   "source": [
    "# cols = c('TreatmentOrder', 'PlanNormFactor_isNaN', 'PrescribedPercentage', 'Site', 'CityOrTownship', 'Status_x', 'Country', 'FractionPatternDigitsPerDay', 'Technique', 'SkinFlashMargin', 'TreatmentIntentType', 'DateOfBirth_isNaN', 'SimulationNeeded', 'StartDelay_isNaN', 'PrimaryPTVSer_isNaN', 'PlanNormMethod', 'FirstName', 'Status_y', 'TreatmentOrientation', 'Notes', 'DicomSeqNumber', 'FractionPattern', 'PrescribedDose_isNaN', 'BolusFrequency', 'EquipmentSer', 'PhaseType', 'CalcModelOptions', 'BolusThickness', 'InterfaceStamp', 'Intent', 'NumberOfFractions_isNaN', 'MultiFieldOptFlag', 'NoFractions_isNaN', 'ClinicalStatus', 'Sex')\n",
    "# cols = c('PrescribedPercentage', 'NoFractions', 'PrescribedDose', 'Status_x', 'ClinicalStatus', 'MultiFieldOptFlag', 'DicomSeqNumber', 'SkinFlashMargin', 'StartDelay', 'BolusThickness', 'PlanNormMethod', 'FractionPattern', 'BolusFrequency', 'Technique', 'PhaseType', 'DateOfBirth', 'CalcModelOptions', 'Intent', 'PrimaryPTVSer', 'InterfaceStamp', 'TreatmentOrientation', 'CityOrTownship', 'PlanNormFactor', 'Site', 'NumberOfFractions', 'EquipmentSer', 'Status_y', 'CalcModelOptionsLen', 'Notes', 'TreatmentOrder', 'Sex', 'TreatmentIntentType', 'Country', 'FirstName', 'SimulationNeeded', 'FractionPatternDigitsPerDay')\n",
    "\n",
    "# cols = setdiff(cols,  c('TreatmentIntentType', 'Country', 'Intent', 'PlanNormMethod',\n",
    "#        'CalcModelOptions', 'SkinFlashMargin', 'InterfaceStamp',\n",
    "#        'PrimaryPTVSer', 'StartDelay', 'Technique', 'NumberOfFractions',\n",
    "#        'PrescriptionSer', 'PhaseType', 'Site', 'SimulationNeeded', 'Status_y',\n",
    "#        'Notes', 'TreatmentOrder', 'FractionPatternDigitsPerDay',\n",
    "#        'FractionPattern', 'BolusThickness', 'BolusFrequency'))\n",
    "\n",
    "cols = c('SkinFlashMargin', 'FractionPattern', 'Status_y', 'Technique', 'NoFractions', 'PlanNormMethod', 'DateOfBirth', 'PlanNormFactor', 'BolusThickness', 'Country', 'StartDelay', 'CalcModelOptions', 'Notes', 'TreatmentIntentType', 'PhaseType', 'TreatmentOrder', 'NumberOfFractions', 'InterfaceStamp', 'PrescribedPercentage', 'ClinicalStatus', 'Intent', 'PrescribedDose', 'DicomSeqNumber', 'Sex', 'PrimaryPTVSer', 'FractionPatternDigitsPerDay', 'TreatmentOrientation', 'FirstName', 'MultiFieldOptFlag', 'CalcModelOptionsLen', 'EquipmentSer', 'SimulationNeeded', 'Site', 'Status_x', 'CityOrTownship', 'BolusFrequency')\n",
    "length(cols)\n",
    "cols"
   ]
  },
  {
   "cell_type": "code",
   "execution_count": 7,
   "id": "eedebb9b",
   "metadata": {},
   "outputs": [],
   "source": [
    "rtp[cols] <- lapply(rtp[cols], factor)"
   ]
  },
  {
   "cell_type": "code",
   "execution_count": 8,
   "id": "aa545708",
   "metadata": {},
   "outputs": [
    {
     "data": {
      "text/html": [
       "<style>\n",
       ".list-inline {list-style: none; margin:0; padding: 0}\n",
       ".list-inline>li {display: inline-block}\n",
       ".list-inline>li:not(:last-child)::after {content: \"\\00b7\"; padding: 0 .5ex}\n",
       "</style>\n",
       "<ol class=list-inline><li>14157</li><li>36</li></ol>\n"
      ],
      "text/latex": [
       "\\begin{enumerate*}\n",
       "\\item 14157\n",
       "\\item 36\n",
       "\\end{enumerate*}\n"
      ],
      "text/markdown": [
       "1. 14157\n",
       "2. 36\n",
       "\n",
       "\n"
      ],
      "text/plain": [
       "[1] 14157    36"
      ]
     },
     "metadata": {},
     "output_type": "display_data"
    },
    {
     "data": {
      "text/html": [
       "<table class=\"dataframe\">\n",
       "<caption>A data.frame: 6 × 36</caption>\n",
       "<thead>\n",
       "\t<tr><th></th><th scope=col>SkinFlashMargin</th><th scope=col>FractionPattern</th><th scope=col>Status_y</th><th scope=col>Technique</th><th scope=col>NoFractions</th><th scope=col>PlanNormMethod</th><th scope=col>DateOfBirth</th><th scope=col>PlanNormFactor</th><th scope=col>BolusThickness</th><th scope=col>Country</th><th scope=col>...</th><th scope=col>TreatmentOrientation</th><th scope=col>FirstName</th><th scope=col>MultiFieldOptFlag</th><th scope=col>CalcModelOptionsLen</th><th scope=col>EquipmentSer</th><th scope=col>SimulationNeeded</th><th scope=col>Site</th><th scope=col>Status_x</th><th scope=col>CityOrTownship</th><th scope=col>BolusFrequency</th></tr>\n",
       "\t<tr><th></th><th scope=col>&lt;fct&gt;</th><th scope=col>&lt;fct&gt;</th><th scope=col>&lt;fct&gt;</th><th scope=col>&lt;fct&gt;</th><th scope=col>&lt;fct&gt;</th><th scope=col>&lt;fct&gt;</th><th scope=col>&lt;fct&gt;</th><th scope=col>&lt;fct&gt;</th><th scope=col>&lt;fct&gt;</th><th scope=col>&lt;fct&gt;</th><th scope=col>...</th><th scope=col>&lt;fct&gt;</th><th scope=col>&lt;fct&gt;</th><th scope=col>&lt;fct&gt;</th><th scope=col>&lt;fct&gt;</th><th scope=col>&lt;fct&gt;</th><th scope=col>&lt;fct&gt;</th><th scope=col>&lt;fct&gt;</th><th scope=col>&lt;fct&gt;</th><th scope=col>&lt;fct&gt;</th><th scope=col>&lt;fct&gt;</th></tr>\n",
       "</thead>\n",
       "<tbody>\n",
       "\t<tr><th scope=row>71</th><td>20.0 </td><td>isNaN    </td><td>isNaN</td><td>isNaN</td><td>NoFractions_(10.0, 23.0] </td><td>0\\Mode\\NoNormalization$0\\Err\\0$          </td><td>isNaN</td><td>PlanNormFactor_(0.009000000000000001, 1.0]</td><td>isNaN</td><td>isNaN</td><td>...</td><td>HFS</td><td>isNaN</td><td>0</td><td>CalcModelOptionsLen_(-0.001, 7674.0]</td><td>1 </td><td>isNaN</td><td>isNaN</td><td>PlanApproval </td><td>isNaN</td><td>isNaN</td></tr>\n",
       "\t<tr><th scope=row>113</th><td>isNaN</td><td>isNaN    </td><td>isNaN</td><td>isNaN</td><td>NoFractions_(-0.001, 1.0]</td><td>isNaN                                        </td><td>isNaN</td><td>PlanNormFactor_(0.009000000000000001, 1.0]</td><td>isNaN</td><td>isNaN</td><td>...</td><td>HFS</td><td>isNaN</td><td>1</td><td>CalcModelOptionsLen_(-0.001, 7674.0]</td><td>52</td><td>isNaN</td><td>isNaN</td><td>PlanApproval </td><td>isNaN</td><td>isNaN</td></tr>\n",
       "\t<tr><th scope=row>116</th><td>20.0 </td><td>1111111.0</td><td>isNaN</td><td>isNaN</td><td>NoFractions_(-0.001, 1.0]</td><td>0\\Mode\\UserDefined$0...-1275435217422153600</td><td>isNaN</td><td>PlanNormFactor_(0.009000000000000001, 1.0]</td><td>isNaN</td><td>isNaN</td><td>...</td><td>HFS</td><td>isNaN</td><td>0</td><td>CalcModelOptionsLen_(-0.001, 7674.0]</td><td>52</td><td>isNaN</td><td>isNaN</td><td>TreatApproval</td><td>isNaN</td><td>isNaN</td></tr>\n",
       "\t<tr><th scope=row>117</th><td>20.0 </td><td>1111111.0</td><td>isNaN</td><td>isNaN</td><td>NoFractions_(-0.001, 1.0]</td><td>0\\Mode\\UserDefined$0...-1275435217422153600</td><td>isNaN</td><td>PlanNormFactor_(0.009000000000000001, 1.0]</td><td>isNaN</td><td>isNaN</td><td>...</td><td>HFS</td><td>isNaN</td><td>0</td><td>CalcModelOptionsLen_(-0.001, 7674.0]</td><td>52</td><td>isNaN</td><td>isNaN</td><td>TreatApproval</td><td>isNaN</td><td>isNaN</td></tr>\n",
       "\t<tr><th scope=row>118</th><td>20.0 </td><td>isNaN    </td><td>isNaN</td><td>isNaN</td><td>NoFractions_(-0.001, 1.0]</td><td>0\\Mode\\UserDefined$0...-1275435217422153600</td><td>isNaN</td><td>PlanNormFactor_(0.009000000000000001, 1.0]</td><td>isNaN</td><td>isNaN</td><td>...</td><td>HFS</td><td>isNaN</td><td>0</td><td>CalcModelOptionsLen_(-0.001, 7674.0]</td><td>52</td><td>isNaN</td><td>isNaN</td><td>Unapproved   </td><td>isNaN</td><td>isNaN</td></tr>\n",
       "\t<tr><th scope=row>119</th><td>20.0 </td><td>isNaN    </td><td>isNaN</td><td>isNaN</td><td>NoFractions_(-0.001, 1.0]</td><td>0\\Mode\\UserDefined$0...-1275435217422153600</td><td>isNaN</td><td>PlanNormFactor_(0.009000000000000001, 1.0]</td><td>isNaN</td><td>isNaN</td><td>...</td><td>HFS</td><td>isNaN</td><td>0</td><td>CalcModelOptionsLen_(-0.001, 7674.0]</td><td>52</td><td>isNaN</td><td>isNaN</td><td>Unapproved   </td><td>isNaN</td><td>isNaN</td></tr>\n",
       "</tbody>\n",
       "</table>\n"
      ],
      "text/latex": [
       "A data.frame: 6 × 36\n",
       "\\begin{tabular}{r|lllllllllllllllllllll}\n",
       "  & SkinFlashMargin & FractionPattern & Status\\_y & Technique & NoFractions & PlanNormMethod & DateOfBirth & PlanNormFactor & BolusThickness & Country & ... & TreatmentOrientation & FirstName & MultiFieldOptFlag & CalcModelOptionsLen & EquipmentSer & SimulationNeeded & Site & Status\\_x & CityOrTownship & BolusFrequency\\\\\n",
       "  & <fct> & <fct> & <fct> & <fct> & <fct> & <fct> & <fct> & <fct> & <fct> & <fct> & ... & <fct> & <fct> & <fct> & <fct> & <fct> & <fct> & <fct> & <fct> & <fct> & <fct>\\\\\n",
       "\\hline\n",
       "\t71 & 20.0  & isNaN     & isNaN & isNaN & NoFractions\\_(10.0, 23.0{]}  & 0\\textbackslash{}Mode\\textbackslash{}NoNormalization\\$0\\textbackslash{}Err\\textbackslash{}0\\$           & isNaN & PlanNormFactor\\_(0.009000000000000001, 1.0{]} & isNaN & isNaN & ... & HFS & isNaN & 0 & CalcModelOptionsLen\\_(-0.001, 7674.0{]} & 1  & isNaN & isNaN & PlanApproval  & isNaN & isNaN\\\\\n",
       "\t113 & isNaN & isNaN     & isNaN & isNaN & NoFractions\\_(-0.001, 1.0{]} & isNaN                                         & isNaN & PlanNormFactor\\_(0.009000000000000001, 1.0{]} & isNaN & isNaN & ... & HFS & isNaN & 1 & CalcModelOptionsLen\\_(-0.001, 7674.0{]} & 52 & isNaN & isNaN & PlanApproval  & isNaN & isNaN\\\\\n",
       "\t116 & 20.0  & 1111111.0 & isNaN & isNaN & NoFractions\\_(-0.001, 1.0{]} & 0\\textbackslash{}Mode\\textbackslash{}UserDefined\\$0...-1275435217422153600 & isNaN & PlanNormFactor\\_(0.009000000000000001, 1.0{]} & isNaN & isNaN & ... & HFS & isNaN & 0 & CalcModelOptionsLen\\_(-0.001, 7674.0{]} & 52 & isNaN & isNaN & TreatApproval & isNaN & isNaN\\\\\n",
       "\t117 & 20.0  & 1111111.0 & isNaN & isNaN & NoFractions\\_(-0.001, 1.0{]} & 0\\textbackslash{}Mode\\textbackslash{}UserDefined\\$0...-1275435217422153600 & isNaN & PlanNormFactor\\_(0.009000000000000001, 1.0{]} & isNaN & isNaN & ... & HFS & isNaN & 0 & CalcModelOptionsLen\\_(-0.001, 7674.0{]} & 52 & isNaN & isNaN & TreatApproval & isNaN & isNaN\\\\\n",
       "\t118 & 20.0  & isNaN     & isNaN & isNaN & NoFractions\\_(-0.001, 1.0{]} & 0\\textbackslash{}Mode\\textbackslash{}UserDefined\\$0...-1275435217422153600 & isNaN & PlanNormFactor\\_(0.009000000000000001, 1.0{]} & isNaN & isNaN & ... & HFS & isNaN & 0 & CalcModelOptionsLen\\_(-0.001, 7674.0{]} & 52 & isNaN & isNaN & Unapproved    & isNaN & isNaN\\\\\n",
       "\t119 & 20.0  & isNaN     & isNaN & isNaN & NoFractions\\_(-0.001, 1.0{]} & 0\\textbackslash{}Mode\\textbackslash{}UserDefined\\$0...-1275435217422153600 & isNaN & PlanNormFactor\\_(0.009000000000000001, 1.0{]} & isNaN & isNaN & ... & HFS & isNaN & 0 & CalcModelOptionsLen\\_(-0.001, 7674.0{]} & 52 & isNaN & isNaN & Unapproved    & isNaN & isNaN\\\\\n",
       "\\end{tabular}\n"
      ],
      "text/markdown": [
       "\n",
       "A data.frame: 6 × 36\n",
       "\n",
       "| <!--/--> | SkinFlashMargin &lt;fct&gt; | FractionPattern &lt;fct&gt; | Status_y &lt;fct&gt; | Technique &lt;fct&gt; | NoFractions &lt;fct&gt; | PlanNormMethod &lt;fct&gt; | DateOfBirth &lt;fct&gt; | PlanNormFactor &lt;fct&gt; | BolusThickness &lt;fct&gt; | Country &lt;fct&gt; | ... ... | TreatmentOrientation &lt;fct&gt; | FirstName &lt;fct&gt; | MultiFieldOptFlag &lt;fct&gt; | CalcModelOptionsLen &lt;fct&gt; | EquipmentSer &lt;fct&gt; | SimulationNeeded &lt;fct&gt; | Site &lt;fct&gt; | Status_x &lt;fct&gt; | CityOrTownship &lt;fct&gt; | BolusFrequency &lt;fct&gt; |\n",
       "|---|---|---|---|---|---|---|---|---|---|---|---|---|---|---|---|---|---|---|---|---|---|\n",
       "| 71 | 20.0  | isNaN     | isNaN | isNaN | NoFractions_(10.0, 23.0]  | 0\\Mode\\NoNormalization$0\\Err\\0$           | isNaN | PlanNormFactor_(0.009000000000000001, 1.0] | isNaN | isNaN | ... | HFS | isNaN | 0 | CalcModelOptionsLen_(-0.001, 7674.0] | 1  | isNaN | isNaN | PlanApproval  | isNaN | isNaN |\n",
       "| 113 | isNaN | isNaN     | isNaN | isNaN | NoFractions_(-0.001, 1.0] | isNaN                                         | isNaN | PlanNormFactor_(0.009000000000000001, 1.0] | isNaN | isNaN | ... | HFS | isNaN | 1 | CalcModelOptionsLen_(-0.001, 7674.0] | 52 | isNaN | isNaN | PlanApproval  | isNaN | isNaN |\n",
       "| 116 | 20.0  | 1111111.0 | isNaN | isNaN | NoFractions_(-0.001, 1.0] | 0\\Mode\\UserDefined$0...-1275435217422153600 | isNaN | PlanNormFactor_(0.009000000000000001, 1.0] | isNaN | isNaN | ... | HFS | isNaN | 0 | CalcModelOptionsLen_(-0.001, 7674.0] | 52 | isNaN | isNaN | TreatApproval | isNaN | isNaN |\n",
       "| 117 | 20.0  | 1111111.0 | isNaN | isNaN | NoFractions_(-0.001, 1.0] | 0\\Mode\\UserDefined$0...-1275435217422153600 | isNaN | PlanNormFactor_(0.009000000000000001, 1.0] | isNaN | isNaN | ... | HFS | isNaN | 0 | CalcModelOptionsLen_(-0.001, 7674.0] | 52 | isNaN | isNaN | TreatApproval | isNaN | isNaN |\n",
       "| 118 | 20.0  | isNaN     | isNaN | isNaN | NoFractions_(-0.001, 1.0] | 0\\Mode\\UserDefined$0...-1275435217422153600 | isNaN | PlanNormFactor_(0.009000000000000001, 1.0] | isNaN | isNaN | ... | HFS | isNaN | 0 | CalcModelOptionsLen_(-0.001, 7674.0] | 52 | isNaN | isNaN | Unapproved    | isNaN | isNaN |\n",
       "| 119 | 20.0  | isNaN     | isNaN | isNaN | NoFractions_(-0.001, 1.0] | 0\\Mode\\UserDefined$0...-1275435217422153600 | isNaN | PlanNormFactor_(0.009000000000000001, 1.0] | isNaN | isNaN | ... | HFS | isNaN | 0 | CalcModelOptionsLen_(-0.001, 7674.0] | 52 | isNaN | isNaN | Unapproved    | isNaN | isNaN |\n",
       "\n"
      ],
      "text/plain": [
       "    SkinFlashMargin FractionPattern Status_y Technique\n",
       "71  20.0            isNaN           isNaN    isNaN    \n",
       "113 isNaN           isNaN           isNaN    isNaN    \n",
       "116 20.0            1111111.0       isNaN    isNaN    \n",
       "117 20.0            1111111.0       isNaN    isNaN    \n",
       "118 20.0            isNaN           isNaN    isNaN    \n",
       "119 20.0            isNaN           isNaN    isNaN    \n",
       "    NoFractions               PlanNormMethod                               \n",
       "71  NoFractions_(10.0, 23.0]  0\\\\Mode\\\\NoNormalization$0\\\\Err\\\\0$          \n",
       "113 NoFractions_(-0.001, 1.0] isNaN                                        \n",
       "116 NoFractions_(-0.001, 1.0] 0\\\\Mode\\\\UserDefined$0...-1275435217422153600\n",
       "117 NoFractions_(-0.001, 1.0] 0\\\\Mode\\\\UserDefined$0...-1275435217422153600\n",
       "118 NoFractions_(-0.001, 1.0] 0\\\\Mode\\\\UserDefined$0...-1275435217422153600\n",
       "119 NoFractions_(-0.001, 1.0] 0\\\\Mode\\\\UserDefined$0...-1275435217422153600\n",
       "    DateOfBirth PlanNormFactor                             BolusThickness\n",
       "71  isNaN       PlanNormFactor_(0.009000000000000001, 1.0] isNaN         \n",
       "113 isNaN       PlanNormFactor_(0.009000000000000001, 1.0] isNaN         \n",
       "116 isNaN       PlanNormFactor_(0.009000000000000001, 1.0] isNaN         \n",
       "117 isNaN       PlanNormFactor_(0.009000000000000001, 1.0] isNaN         \n",
       "118 isNaN       PlanNormFactor_(0.009000000000000001, 1.0] isNaN         \n",
       "119 isNaN       PlanNormFactor_(0.009000000000000001, 1.0] isNaN         \n",
       "    Country ... TreatmentOrientation FirstName MultiFieldOptFlag\n",
       "71  isNaN   ... HFS                  isNaN     0                \n",
       "113 isNaN   ... HFS                  isNaN     1                \n",
       "116 isNaN   ... HFS                  isNaN     0                \n",
       "117 isNaN   ... HFS                  isNaN     0                \n",
       "118 isNaN   ... HFS                  isNaN     0                \n",
       "119 isNaN   ... HFS                  isNaN     0                \n",
       "    CalcModelOptionsLen                  EquipmentSer SimulationNeeded Site \n",
       "71  CalcModelOptionsLen_(-0.001, 7674.0] 1            isNaN            isNaN\n",
       "113 CalcModelOptionsLen_(-0.001, 7674.0] 52           isNaN            isNaN\n",
       "116 CalcModelOptionsLen_(-0.001, 7674.0] 52           isNaN            isNaN\n",
       "117 CalcModelOptionsLen_(-0.001, 7674.0] 52           isNaN            isNaN\n",
       "118 CalcModelOptionsLen_(-0.001, 7674.0] 52           isNaN            isNaN\n",
       "119 CalcModelOptionsLen_(-0.001, 7674.0] 52           isNaN            isNaN\n",
       "    Status_x      CityOrTownship BolusFrequency\n",
       "71  PlanApproval  isNaN          isNaN         \n",
       "113 PlanApproval  isNaN          isNaN         \n",
       "116 TreatApproval isNaN          isNaN         \n",
       "117 TreatApproval isNaN          isNaN         \n",
       "118 Unapproved    isNaN          isNaN         \n",
       "119 Unapproved    isNaN          isNaN         "
      ]
     },
     "metadata": {},
     "output_type": "display_data"
    }
   ],
   "source": [
    "dim(rtp[cols])\n",
    "head(rtp[cols])"
   ]
  },
  {
   "cell_type": "markdown",
   "id": "manufactured-integer",
   "metadata": {},
   "source": [
    "# Aprendizaje de estructura"
   ]
  },
  {
   "cell_type": "code",
   "execution_count": 9,
   "id": "08a1b474",
   "metadata": {},
   "outputs": [],
   "source": [
    "hcdag <- hc(rtp[cols])\n",
    "tabudag <- tabu(rtp[cols])"
   ]
  },
  {
   "cell_type": "code",
   "execution_count": 21,
   "id": "f21011b2",
   "metadata": {
    "scrolled": false
   },
   "outputs": [
    {
     "data": {
      "text/html": [
       "-272398.607047877"
      ],
      "text/latex": [
       "-272398.607047877"
      ],
      "text/markdown": [
       "-272398.607047877"
      ],
      "text/plain": [
       "[1] -272398.6"
      ]
     },
     "metadata": {},
     "output_type": "display_data"
    },
    {
     "data": {
      "text/html": [
       "-272398.607047877"
      ],
      "text/latex": [
       "-272398.607047877"
      ],
      "text/markdown": [
       "-272398.607047877"
      ],
      "text/plain": [
       "[1] -272398.6"
      ]
     },
     "metadata": {},
     "output_type": "display_data"
    },
    {
     "data": {
      "text/html": [
       "<table class=\"dataframe\">\n",
       "<caption>A bn.strength: 45 × 3</caption>\n",
       "<thead>\n",
       "\t<tr><th></th><th scope=col>from</th><th scope=col>to</th><th scope=col>strength</th></tr>\n",
       "\t<tr><th></th><th scope=col>&lt;chr&gt;</th><th scope=col>&lt;chr&gt;</th><th scope=col>&lt;dbl&gt;</th></tr>\n",
       "</thead>\n",
       "<tbody>\n",
       "\t<tr><th scope=row>1</th><td>CalcModelOptions   </td><td>CalcModelOptionsLen        </td><td>-10896.884027</td></tr>\n",
       "\t<tr><th scope=row>2</th><td>PlanNormMethod     </td><td>Intent                     </td><td>-10596.180823</td></tr>\n",
       "\t<tr><th scope=row>3</th><td>SkinFlashMargin    </td><td>MultiFieldOptFlag          </td><td> -9559.719403</td></tr>\n",
       "\t<tr><th scope=row>4</th><td>NumberOfFractions  </td><td>Site                       </td><td> -9352.137156</td></tr>\n",
       "\t<tr><th scope=row>5</th><td>Technique          </td><td>NumberOfFractions          </td><td> -5391.889411</td></tr>\n",
       "\t<tr><th scope=row>6</th><td>NumberOfFractions  </td><td>PhaseType                  </td><td> -8513.761654</td></tr>\n",
       "\t<tr><th scope=row>7</th><td>PhaseType          </td><td>SimulationNeeded           </td><td> -8491.227982</td></tr>\n",
       "\t<tr><th scope=row>8</th><td>SimulationNeeded   </td><td>Status_y                   </td><td> -8481.670018</td></tr>\n",
       "\t<tr><th scope=row>9</th><td>SkinFlashMargin    </td><td>CalcModelOptions           </td><td> -4818.895483</td></tr>\n",
       "\t<tr><th scope=row>10</th><td>SkinFlashMargin    </td><td>PlanNormMethod             </td><td> -7305.823094</td></tr>\n",
       "\t<tr><th scope=row>11</th><td>Intent             </td><td>PrimaryPTVSer              </td><td> -6372.563027</td></tr>\n",
       "\t<tr><th scope=row>12</th><td>PrimaryPTVSer      </td><td>Technique                  </td><td> -6430.685621</td></tr>\n",
       "\t<tr><th scope=row>13</th><td>Intent             </td><td>StartDelay                 </td><td> -5356.960580</td></tr>\n",
       "\t<tr><th scope=row>14</th><td>Intent             </td><td>Status_x                   </td><td> -5360.005052</td></tr>\n",
       "\t<tr><th scope=row>15</th><td>StartDelay         </td><td>NoFractions                </td><td> -4684.735604</td></tr>\n",
       "\t<tr><th scope=row>16</th><td>Sex                </td><td>FirstName                  </td><td> -4540.823952</td></tr>\n",
       "\t<tr><th scope=row>17</th><td>InterfaceStamp     </td><td>EquipmentSer               </td><td> -4024.965427</td></tr>\n",
       "\t<tr><th scope=row>18</th><td>PrescribedDose     </td><td>NoFractions                </td><td> -3330.696580</td></tr>\n",
       "\t<tr><th scope=row>19</th><td>TreatmentIntentType</td><td>PrescribedDose             </td><td> -3360.917989</td></tr>\n",
       "\t<tr><th scope=row>20</th><td>DateOfBirth        </td><td>Sex                        </td><td> -2983.634403</td></tr>\n",
       "\t<tr><th scope=row>21</th><td>EquipmentSer       </td><td>SkinFlashMargin            </td><td> -2015.527060</td></tr>\n",
       "\t<tr><th scope=row>22</th><td>PlanNormMethod     </td><td>PlanNormFactor             </td><td> -2773.778463</td></tr>\n",
       "\t<tr><th scope=row>23</th><td>Sex                </td><td>TreatmentIntentType        </td><td> -2065.673062</td></tr>\n",
       "\t<tr><th scope=row>24</th><td>PrimaryPTVSer      </td><td>CalcModelOptions           </td><td> -2344.070097</td></tr>\n",
       "\t<tr><th scope=row>25</th><td>NumberOfFractions  </td><td>Notes                      </td><td> -2117.329004</td></tr>\n",
       "\t<tr><th scope=row>26</th><td>Sex                </td><td>CityOrTownship             </td><td> -1982.316177</td></tr>\n",
       "\t<tr><th scope=row>27</th><td>Sex                </td><td>Country                    </td><td> -1289.129079</td></tr>\n",
       "\t<tr><th scope=row>28</th><td>SkinFlashMargin    </td><td>PrescribedDose             </td><td>  -963.405343</td></tr>\n",
       "\t<tr><th scope=row>29</th><td>SkinFlashMargin    </td><td>StartDelay                 </td><td>  -699.654579</td></tr>\n",
       "\t<tr><th scope=row>30</th><td>FractionPattern    </td><td>FractionPatternDigitsPerDay</td><td>  -257.558803</td></tr>\n",
       "\t<tr><th scope=row>31</th><td>Status_x           </td><td>DateOfBirth                </td><td>  -207.247439</td></tr>\n",
       "\t<tr><th scope=row>32</th><td>NoFractions        </td><td>NumberOfFractions          </td><td>  -205.575490</td></tr>\n",
       "\t<tr><th scope=row>33</th><td>StartDelay         </td><td>DicomSeqNumber             </td><td>  -113.940389</td></tr>\n",
       "\t<tr><th scope=row>34</th><td>TreatmentIntentType</td><td>ClinicalStatus             </td><td>  -167.720782</td></tr>\n",
       "\t<tr><th scope=row>35</th><td>InterfaceStamp     </td><td>PrimaryPTVSer              </td><td>  -106.600789</td></tr>\n",
       "\t<tr><th scope=row>36</th><td>MultiFieldOptFlag  </td><td>TreatmentIntentType        </td><td>   -91.958495</td></tr>\n",
       "\t<tr><th scope=row>37</th><td>MultiFieldOptFlag  </td><td>DicomSeqNumber             </td><td>   -59.290577</td></tr>\n",
       "\t<tr><th scope=row>38</th><td>InterfaceStamp     </td><td>PlanNormMethod             </td><td>   -37.000730</td></tr>\n",
       "\t<tr><th scope=row>39</th><td>SkinFlashMargin    </td><td>PrescribedPercentage       </td><td>   -36.003440</td></tr>\n",
       "\t<tr><th scope=row>40</th><td>StartDelay         </td><td>TreatmentOrder             </td><td>   -19.153101</td></tr>\n",
       "\t<tr><th scope=row>41</th><td>InterfaceStamp     </td><td>SkinFlashMargin            </td><td>   -14.340147</td></tr>\n",
       "\t<tr><th scope=row>42</th><td>SkinFlashMargin    </td><td>TreatmentOrientation       </td><td>   -13.944438</td></tr>\n",
       "\t<tr><th scope=row>43</th><td>SkinFlashMargin    </td><td>NoFractions                </td><td>   -12.341068</td></tr>\n",
       "\t<tr><th scope=row>44</th><td>SimulationNeeded   </td><td>BolusThickness             </td><td>   -10.374129</td></tr>\n",
       "\t<tr><th scope=row>45</th><td>Sex                </td><td>MultiFieldOptFlag          </td><td>    -4.928845</td></tr>\n",
       "</tbody>\n",
       "</table>\n"
      ],
      "text/latex": [
       "A bn.strength: 45 × 3\n",
       "\\begin{tabular}{r|lll}\n",
       "  & from & to & strength\\\\\n",
       "  & <chr> & <chr> & <dbl>\\\\\n",
       "\\hline\n",
       "\t1 & CalcModelOptions    & CalcModelOptionsLen         & -10896.884027\\\\\n",
       "\t2 & PlanNormMethod      & Intent                      & -10596.180823\\\\\n",
       "\t3 & SkinFlashMargin     & MultiFieldOptFlag           &  -9559.719403\\\\\n",
       "\t4 & NumberOfFractions   & Site                        &  -9352.137156\\\\\n",
       "\t5 & Technique           & NumberOfFractions           &  -5391.889411\\\\\n",
       "\t6 & NumberOfFractions   & PhaseType                   &  -8513.761654\\\\\n",
       "\t7 & PhaseType           & SimulationNeeded            &  -8491.227982\\\\\n",
       "\t8 & SimulationNeeded    & Status\\_y                    &  -8481.670018\\\\\n",
       "\t9 & SkinFlashMargin     & CalcModelOptions            &  -4818.895483\\\\\n",
       "\t10 & SkinFlashMargin     & PlanNormMethod              &  -7305.823094\\\\\n",
       "\t11 & Intent              & PrimaryPTVSer               &  -6372.563027\\\\\n",
       "\t12 & PrimaryPTVSer       & Technique                   &  -6430.685621\\\\\n",
       "\t13 & Intent              & StartDelay                  &  -5356.960580\\\\\n",
       "\t14 & Intent              & Status\\_x                    &  -5360.005052\\\\\n",
       "\t15 & StartDelay          & NoFractions                 &  -4684.735604\\\\\n",
       "\t16 & Sex                 & FirstName                   &  -4540.823952\\\\\n",
       "\t17 & InterfaceStamp      & EquipmentSer                &  -4024.965427\\\\\n",
       "\t18 & PrescribedDose      & NoFractions                 &  -3330.696580\\\\\n",
       "\t19 & TreatmentIntentType & PrescribedDose              &  -3360.917989\\\\\n",
       "\t20 & DateOfBirth         & Sex                         &  -2983.634403\\\\\n",
       "\t21 & EquipmentSer        & SkinFlashMargin             &  -2015.527060\\\\\n",
       "\t22 & PlanNormMethod      & PlanNormFactor              &  -2773.778463\\\\\n",
       "\t23 & Sex                 & TreatmentIntentType         &  -2065.673062\\\\\n",
       "\t24 & PrimaryPTVSer       & CalcModelOptions            &  -2344.070097\\\\\n",
       "\t25 & NumberOfFractions   & Notes                       &  -2117.329004\\\\\n",
       "\t26 & Sex                 & CityOrTownship              &  -1982.316177\\\\\n",
       "\t27 & Sex                 & Country                     &  -1289.129079\\\\\n",
       "\t28 & SkinFlashMargin     & PrescribedDose              &   -963.405343\\\\\n",
       "\t29 & SkinFlashMargin     & StartDelay                  &   -699.654579\\\\\n",
       "\t30 & FractionPattern     & FractionPatternDigitsPerDay &   -257.558803\\\\\n",
       "\t31 & Status\\_x            & DateOfBirth                 &   -207.247439\\\\\n",
       "\t32 & NoFractions         & NumberOfFractions           &   -205.575490\\\\\n",
       "\t33 & StartDelay          & DicomSeqNumber              &   -113.940389\\\\\n",
       "\t34 & TreatmentIntentType & ClinicalStatus              &   -167.720782\\\\\n",
       "\t35 & InterfaceStamp      & PrimaryPTVSer               &   -106.600789\\\\\n",
       "\t36 & MultiFieldOptFlag   & TreatmentIntentType         &    -91.958495\\\\\n",
       "\t37 & MultiFieldOptFlag   & DicomSeqNumber              &    -59.290577\\\\\n",
       "\t38 & InterfaceStamp      & PlanNormMethod              &    -37.000730\\\\\n",
       "\t39 & SkinFlashMargin     & PrescribedPercentage        &    -36.003440\\\\\n",
       "\t40 & StartDelay          & TreatmentOrder              &    -19.153101\\\\\n",
       "\t41 & InterfaceStamp      & SkinFlashMargin             &    -14.340147\\\\\n",
       "\t42 & SkinFlashMargin     & TreatmentOrientation        &    -13.944438\\\\\n",
       "\t43 & SkinFlashMargin     & NoFractions                 &    -12.341068\\\\\n",
       "\t44 & SimulationNeeded    & BolusThickness              &    -10.374129\\\\\n",
       "\t45 & Sex                 & MultiFieldOptFlag           &     -4.928845\\\\\n",
       "\\end{tabular}\n"
      ],
      "text/markdown": [
       "\n",
       "A bn.strength: 45 × 3\n",
       "\n",
       "| <!--/--> | from &lt;chr&gt; | to &lt;chr&gt; | strength &lt;dbl&gt; |\n",
       "|---|---|---|---|\n",
       "| 1 | CalcModelOptions    | CalcModelOptionsLen         | -10896.884027 |\n",
       "| 2 | PlanNormMethod      | Intent                      | -10596.180823 |\n",
       "| 3 | SkinFlashMargin     | MultiFieldOptFlag           |  -9559.719403 |\n",
       "| 4 | NumberOfFractions   | Site                        |  -9352.137156 |\n",
       "| 5 | Technique           | NumberOfFractions           |  -5391.889411 |\n",
       "| 6 | NumberOfFractions   | PhaseType                   |  -8513.761654 |\n",
       "| 7 | PhaseType           | SimulationNeeded            |  -8491.227982 |\n",
       "| 8 | SimulationNeeded    | Status_y                    |  -8481.670018 |\n",
       "| 9 | SkinFlashMargin     | CalcModelOptions            |  -4818.895483 |\n",
       "| 10 | SkinFlashMargin     | PlanNormMethod              |  -7305.823094 |\n",
       "| 11 | Intent              | PrimaryPTVSer               |  -6372.563027 |\n",
       "| 12 | PrimaryPTVSer       | Technique                   |  -6430.685621 |\n",
       "| 13 | Intent              | StartDelay                  |  -5356.960580 |\n",
       "| 14 | Intent              | Status_x                    |  -5360.005052 |\n",
       "| 15 | StartDelay          | NoFractions                 |  -4684.735604 |\n",
       "| 16 | Sex                 | FirstName                   |  -4540.823952 |\n",
       "| 17 | InterfaceStamp      | EquipmentSer                |  -4024.965427 |\n",
       "| 18 | PrescribedDose      | NoFractions                 |  -3330.696580 |\n",
       "| 19 | TreatmentIntentType | PrescribedDose              |  -3360.917989 |\n",
       "| 20 | DateOfBirth         | Sex                         |  -2983.634403 |\n",
       "| 21 | EquipmentSer        | SkinFlashMargin             |  -2015.527060 |\n",
       "| 22 | PlanNormMethod      | PlanNormFactor              |  -2773.778463 |\n",
       "| 23 | Sex                 | TreatmentIntentType         |  -2065.673062 |\n",
       "| 24 | PrimaryPTVSer       | CalcModelOptions            |  -2344.070097 |\n",
       "| 25 | NumberOfFractions   | Notes                       |  -2117.329004 |\n",
       "| 26 | Sex                 | CityOrTownship              |  -1982.316177 |\n",
       "| 27 | Sex                 | Country                     |  -1289.129079 |\n",
       "| 28 | SkinFlashMargin     | PrescribedDose              |   -963.405343 |\n",
       "| 29 | SkinFlashMargin     | StartDelay                  |   -699.654579 |\n",
       "| 30 | FractionPattern     | FractionPatternDigitsPerDay |   -257.558803 |\n",
       "| 31 | Status_x            | DateOfBirth                 |   -207.247439 |\n",
       "| 32 | NoFractions         | NumberOfFractions           |   -205.575490 |\n",
       "| 33 | StartDelay          | DicomSeqNumber              |   -113.940389 |\n",
       "| 34 | TreatmentIntentType | ClinicalStatus              |   -167.720782 |\n",
       "| 35 | InterfaceStamp      | PrimaryPTVSer               |   -106.600789 |\n",
       "| 36 | MultiFieldOptFlag   | TreatmentIntentType         |    -91.958495 |\n",
       "| 37 | MultiFieldOptFlag   | DicomSeqNumber              |    -59.290577 |\n",
       "| 38 | InterfaceStamp      | PlanNormMethod              |    -37.000730 |\n",
       "| 39 | SkinFlashMargin     | PrescribedPercentage        |    -36.003440 |\n",
       "| 40 | StartDelay          | TreatmentOrder              |    -19.153101 |\n",
       "| 41 | InterfaceStamp      | SkinFlashMargin             |    -14.340147 |\n",
       "| 42 | SkinFlashMargin     | TreatmentOrientation        |    -13.944438 |\n",
       "| 43 | SkinFlashMargin     | NoFractions                 |    -12.341068 |\n",
       "| 44 | SimulationNeeded    | BolusThickness              |    -10.374129 |\n",
       "| 45 | Sex                 | MultiFieldOptFlag           |     -4.928845 |\n",
       "\n"
      ],
      "text/plain": [
       "   from                to                          strength     \n",
       "1  CalcModelOptions    CalcModelOptionsLen         -10896.884027\n",
       "2  PlanNormMethod      Intent                      -10596.180823\n",
       "3  SkinFlashMargin     MultiFieldOptFlag            -9559.719403\n",
       "4  NumberOfFractions   Site                         -9352.137156\n",
       "5  Technique           NumberOfFractions            -5391.889411\n",
       "6  NumberOfFractions   PhaseType                    -8513.761654\n",
       "7  PhaseType           SimulationNeeded             -8491.227982\n",
       "8  SimulationNeeded    Status_y                     -8481.670018\n",
       "9  SkinFlashMargin     CalcModelOptions             -4818.895483\n",
       "10 SkinFlashMargin     PlanNormMethod               -7305.823094\n",
       "11 Intent              PrimaryPTVSer                -6372.563027\n",
       "12 PrimaryPTVSer       Technique                    -6430.685621\n",
       "13 Intent              StartDelay                   -5356.960580\n",
       "14 Intent              Status_x                     -5360.005052\n",
       "15 StartDelay          NoFractions                  -4684.735604\n",
       "16 Sex                 FirstName                    -4540.823952\n",
       "17 InterfaceStamp      EquipmentSer                 -4024.965427\n",
       "18 PrescribedDose      NoFractions                  -3330.696580\n",
       "19 TreatmentIntentType PrescribedDose               -3360.917989\n",
       "20 DateOfBirth         Sex                          -2983.634403\n",
       "21 EquipmentSer        SkinFlashMargin              -2015.527060\n",
       "22 PlanNormMethod      PlanNormFactor               -2773.778463\n",
       "23 Sex                 TreatmentIntentType          -2065.673062\n",
       "24 PrimaryPTVSer       CalcModelOptions             -2344.070097\n",
       "25 NumberOfFractions   Notes                        -2117.329004\n",
       "26 Sex                 CityOrTownship               -1982.316177\n",
       "27 Sex                 Country                      -1289.129079\n",
       "28 SkinFlashMargin     PrescribedDose                -963.405343\n",
       "29 SkinFlashMargin     StartDelay                    -699.654579\n",
       "30 FractionPattern     FractionPatternDigitsPerDay   -257.558803\n",
       "31 Status_x            DateOfBirth                   -207.247439\n",
       "32 NoFractions         NumberOfFractions             -205.575490\n",
       "33 StartDelay          DicomSeqNumber                -113.940389\n",
       "34 TreatmentIntentType ClinicalStatus                -167.720782\n",
       "35 InterfaceStamp      PrimaryPTVSer                 -106.600789\n",
       "36 MultiFieldOptFlag   TreatmentIntentType            -91.958495\n",
       "37 MultiFieldOptFlag   DicomSeqNumber                 -59.290577\n",
       "38 InterfaceStamp      PlanNormMethod                 -37.000730\n",
       "39 SkinFlashMargin     PrescribedPercentage           -36.003440\n",
       "40 StartDelay          TreatmentOrder                 -19.153101\n",
       "41 InterfaceStamp      SkinFlashMargin                -14.340147\n",
       "42 SkinFlashMargin     TreatmentOrientation           -13.944438\n",
       "43 SkinFlashMargin     NoFractions                    -12.341068\n",
       "44 SimulationNeeded    BolusThickness                 -10.374129\n",
       "45 Sex                 MultiFieldOptFlag               -4.928845"
      ]
     },
     "metadata": {},
     "output_type": "display_data"
    }
   ],
   "source": [
    "bnlearn::score(hcdag, data = rtp[cols], type = \"bic\")\n",
    "bnlearn::score(tabudag, data = rtp[cols], type = \"bic\")\n",
    "\n",
    "arc.strength(hcdag, data = rtp[cols], criterion = \"bic\") # x2, aic...\n",
    "\n",
    "# print(hcdag)\n",
    "# plot(hcdag)\n",
    "# print(tabudag)"
   ]
  },
  {
   "cell_type": "code",
   "execution_count": 14,
   "id": "a24145fb",
   "metadata": {},
   "outputs": [
    {
     "data": {
      "image/png": "[encoded data removed]",
      "text/plain": [
       "plot without title"
      ]
     },
     "metadata": {
      "image/png": {
       "height": 420,
       "width": 420
      }
     },
     "output_type": "display_data"
    }
   ],
   "source": [
    "# graphviz.plot(hcdag)\n",
    "# graphviz.plot(tabudag)\n",
    "\n",
    "g <- Rgraphviz::layoutGraph(bnlearn::as.graphNEL(hcdag))\n",
    "graph::nodeRenderInfo(g) <- list(fontsize=80)\n",
    "Rgraphviz::renderGraph(g)"
   ]
  },
  {
   "cell_type": "code",
   "execution_count": 15,
   "id": "stable-douglas",
   "metadata": {},
   "outputs": [
    {
     "data": {
      "text/html": [
       "<table class=\"dataframe\">\n",
       "<caption>A matrix: 8 × 3 of type chr</caption>\n",
       "<thead>\n",
       "\t<tr><th scope=col>X</th><th scope=col>Z</th><th scope=col>Y</th></tr>\n",
       "</thead>\n",
       "<tbody>\n",
       "\t<tr><td>StartDelay     </td><td>NoFractions      </td><td>PrescribedDose     </td></tr>\n",
       "\t<tr><td>SkinFlashMargin</td><td>StartDelay       </td><td>Intent             </td></tr>\n",
       "\t<tr><td>SkinFlashMargin</td><td>CalcModelOptions </td><td>PrimaryPTVSer      </td></tr>\n",
       "\t<tr><td>Technique      </td><td>NumberOfFractions</td><td>NoFractions        </td></tr>\n",
       "\t<tr><td>SkinFlashMargin</td><td>PrescribedDose   </td><td>TreatmentIntentType</td></tr>\n",
       "\t<tr><td>StartDelay     </td><td>DicomSeqNumber   </td><td>MultiFieldOptFlag  </td></tr>\n",
       "\t<tr><td>InterfaceStamp </td><td>PrimaryPTVSer    </td><td>Intent             </td></tr>\n",
       "\t<tr><td>SkinFlashMargin</td><td>MultiFieldOptFlag</td><td>Sex                </td></tr>\n",
       "</tbody>\n",
       "</table>\n"
      ],
      "text/latex": [
       "A matrix: 8 × 3 of type chr\n",
       "\\begin{tabular}{lll}\n",
       " X & Z & Y\\\\\n",
       "\\hline\n",
       "\t StartDelay      & NoFractions       & PrescribedDose     \\\\\n",
       "\t SkinFlashMargin & StartDelay        & Intent             \\\\\n",
       "\t SkinFlashMargin & CalcModelOptions  & PrimaryPTVSer      \\\\\n",
       "\t Technique       & NumberOfFractions & NoFractions        \\\\\n",
       "\t SkinFlashMargin & PrescribedDose    & TreatmentIntentType\\\\\n",
       "\t StartDelay      & DicomSeqNumber    & MultiFieldOptFlag  \\\\\n",
       "\t InterfaceStamp  & PrimaryPTVSer     & Intent             \\\\\n",
       "\t SkinFlashMargin & MultiFieldOptFlag & Sex                \\\\\n",
       "\\end{tabular}\n"
      ],
      "text/markdown": [
       "\n",
       "A matrix: 8 × 3 of type chr\n",
       "\n",
       "| X | Z | Y |\n",
       "|---|---|---|\n",
       "| StartDelay      | NoFractions       | PrescribedDose      |\n",
       "| SkinFlashMargin | StartDelay        | Intent              |\n",
       "| SkinFlashMargin | CalcModelOptions  | PrimaryPTVSer       |\n",
       "| Technique       | NumberOfFractions | NoFractions         |\n",
       "| SkinFlashMargin | PrescribedDose    | TreatmentIntentType |\n",
       "| StartDelay      | DicomSeqNumber    | MultiFieldOptFlag   |\n",
       "| InterfaceStamp  | PrimaryPTVSer     | Intent              |\n",
       "| SkinFlashMargin | MultiFieldOptFlag | Sex                 |\n",
       "\n"
      ],
      "text/plain": [
       "     X               Z                 Y                  \n",
       "[1,] StartDelay      NoFractions       PrescribedDose     \n",
       "[2,] SkinFlashMargin StartDelay        Intent             \n",
       "[3,] SkinFlashMargin CalcModelOptions  PrimaryPTVSer      \n",
       "[4,] Technique       NumberOfFractions NoFractions        \n",
       "[5,] SkinFlashMargin PrescribedDose    TreatmentIntentType\n",
       "[6,] StartDelay      DicomSeqNumber    MultiFieldOptFlag  \n",
       "[7,] InterfaceStamp  PrimaryPTVSer     Intent             \n",
       "[8,] SkinFlashMargin MultiFieldOptFlag Sex                "
      ]
     },
     "metadata": {},
     "output_type": "display_data"
    }
   ],
   "source": [
    "vstructs(hcdag)"
   ]
  },
  {
   "cell_type": "markdown",
   "id": "spoken-prairie",
   "metadata": {},
   "source": [
    "# Aprendizaje de parámetros"
   ]
  },
  {
   "cell_type": "code",
   "execution_count": 16,
   "id": "subject-leather",
   "metadata": {
    "scrolled": false
   },
   "outputs": [
    {
     "data": {
      "text/html": [
       "2652"
      ],
      "text/latex": [
       "2652"
      ],
      "text/markdown": [
       "2652"
      ],
      "text/plain": [
       "[1] 2652"
      ]
     },
     "metadata": {},
     "output_type": "display_data"
    },
    {
     "data": {
      "text/plain": [
       "\n",
       "  Parameters of node CalcModelOptionsLen (multinomial distribution)\n",
       "\n",
       "Conditional probability table:\n",
       " \n",
       "                                      CalcModelOptions\n",
       "CalcModelOptionsLen                    <CalculationDefiniti...-2019603246064683604\n",
       "  CalcModelOptionsLen_(-0.001, 7674.0]                                1.721496e-05\n",
       "  CalcModelOptionsLen_(7674.0, 7828.0]                                1.721496e-05\n",
       "  CalcModelOptionsLen_(7828.0, 8976.0]                                9.999656e-01\n",
       "                                      CalcModelOptions\n",
       "CalcModelOptionsLen                    <CalculationDefiniti...-2464357012518888322\n",
       "  CalcModelOptionsLen_(-0.001, 7674.0]                                2.936858e-04\n",
       "  CalcModelOptionsLen_(7674.0, 7828.0]                                9.994126e-01\n",
       "  CalcModelOptionsLen_(7828.0, 8976.0]                                2.936858e-04\n",
       "                                      CalcModelOptions\n",
       "CalcModelOptionsLen                    <CalculationDefiniti...-2534698699138086532\n",
       "  CalcModelOptionsLen_(-0.001, 7674.0]                                1.086838e-04\n",
       "  CalcModelOptionsLen_(7674.0, 7828.0]                                9.997826e-01\n",
       "  CalcModelOptionsLen_(7828.0, 8976.0]                                1.086838e-04\n",
       "                                      CalcModelOptions\n",
       "CalcModelOptionsLen                    <CalculationDefiniti...-29878505506528225\n",
       "  CalcModelOptionsLen_(-0.001, 7674.0]                              9.994800e-01\n",
       "  CalcModelOptionsLen_(7674.0, 7828.0]                              2.600104e-04\n",
       "  CalcModelOptionsLen_(7828.0, 8976.0]                              2.600104e-04\n",
       "                                      CalcModelOptions\n",
       "CalcModelOptionsLen                    <CalculationDefiniti...-4539187319104109223\n",
       "  CalcModelOptionsLen_(-0.001, 7674.0]                                9.998364e-01\n",
       "  CalcModelOptionsLen_(7674.0, 7828.0]                                8.179959e-05\n",
       "  CalcModelOptionsLen_(7828.0, 8976.0]                                8.179959e-05\n",
       "                                      CalcModelOptions\n",
       "CalcModelOptionsLen                    <CalculationDefiniti...-4831925838438548935\n",
       "  CalcModelOptionsLen_(-0.001, 7674.0]                                9.992793e-01\n",
       "  CalcModelOptionsLen_(7674.0, 7828.0]                                3.603604e-04\n",
       "  CalcModelOptionsLen_(7828.0, 8976.0]                                3.603604e-04\n",
       "                                      CalcModelOptions\n",
       "CalcModelOptionsLen                    <CalculationDefiniti...-4903453681028939948\n",
       "  CalcModelOptionsLen_(-0.001, 7674.0]                                2.782415e-04\n",
       "  CalcModelOptionsLen_(7674.0, 7828.0]                                9.994435e-01\n",
       "  CalcModelOptionsLen_(7828.0, 8976.0]                                2.782415e-04\n",
       "                                      CalcModelOptions\n",
       "CalcModelOptionsLen                    <CalculationDefiniti...-7322739871784970284\n",
       "  CalcModelOptionsLen_(-0.001, 7674.0]                                9.998176e-01\n",
       "  CalcModelOptionsLen_(7674.0, 7828.0]                                9.119927e-05\n",
       "  CalcModelOptionsLen_(7828.0, 8976.0]                                9.119927e-05\n",
       "                                      CalcModelOptions\n",
       "CalcModelOptionsLen                    <CalculationDefiniti...1005149914359626531\n",
       "  CalcModelOptionsLen_(-0.001, 7674.0]                               6.175127e-05\n",
       "  CalcModelOptionsLen_(7674.0, 7828.0]                               6.175127e-05\n",
       "  CalcModelOptionsLen_(7828.0, 8976.0]                               9.998765e-01\n",
       "                                      CalcModelOptions\n",
       "CalcModelOptionsLen                    <CalculationDefiniti...3504877452478565528\n",
       "  CalcModelOptionsLen_(-0.001, 7674.0]                               9.995043e-01\n",
       "  CalcModelOptionsLen_(7674.0, 7828.0]                               2.478315e-04\n",
       "  CalcModelOptionsLen_(7828.0, 8976.0]                               2.478315e-04\n",
       "                                      CalcModelOptions\n",
       "CalcModelOptionsLen                    <CalculationDefiniti...3945007091749151244\n",
       "  CalcModelOptionsLen_(-0.001, 7674.0]                               1.423528e-05\n",
       "  CalcModelOptionsLen_(7674.0, 7828.0]                               9.999715e-01\n",
       "  CalcModelOptionsLen_(7828.0, 8976.0]                               1.423528e-05\n",
       "                                      CalcModelOptions\n",
       "CalcModelOptionsLen                    <CalculationDefiniti...4008147401746585991\n",
       "  CalcModelOptionsLen_(-0.001, 7674.0]                               3.523608e-04\n",
       "  CalcModelOptionsLen_(7674.0, 7828.0]                               3.523608e-04\n",
       "  CalcModelOptionsLen_(7828.0, 8976.0]                               9.992953e-01\n",
       "                                      CalcModelOptions\n",
       "CalcModelOptionsLen                    <CalculationDefiniti...4124891860827203820\n",
       "  CalcModelOptionsLen_(-0.001, 7674.0]                               9.999311e-01\n",
       "  CalcModelOptionsLen_(7674.0, 7828.0]                               3.442815e-05\n",
       "  CalcModelOptionsLen_(7828.0, 8976.0]                               3.442815e-05\n",
       "                                      CalcModelOptions\n",
       "CalcModelOptionsLen                    <CalculationDefiniti...4138326878720346555\n",
       "  CalcModelOptionsLen_(-0.001, 7674.0]                               9.999075e-01\n",
       "  CalcModelOptionsLen_(7674.0, 7828.0]                               4.627059e-05\n",
       "  CalcModelOptionsLen_(7828.0, 8976.0]                               4.627059e-05\n",
       "                                      CalcModelOptions\n",
       "CalcModelOptionsLen                    <CalculationDefiniti...4964581494203168550\n",
       "  CalcModelOptionsLen_(-0.001, 7674.0]                               9.994965e-01\n",
       "  CalcModelOptionsLen_(7674.0, 7828.0]                               2.517623e-04\n",
       "  CalcModelOptionsLen_(7828.0, 8976.0]                               2.517623e-04\n",
       "                                      CalcModelOptions\n",
       "CalcModelOptionsLen                    <CalculationDefiniti...5184118453345255575\n",
       "  CalcModelOptionsLen_(-0.001, 7674.0]                               9.999838e-01\n",
       "  CalcModelOptionsLen_(7674.0, 7828.0]                               8.123147e-06\n",
       "  CalcModelOptionsLen_(7828.0, 8976.0]                               8.123147e-06\n",
       "                                      CalcModelOptions\n",
       "CalcModelOptionsLen                    <CalculationDefiniti...5192726593362068899\n",
       "  CalcModelOptionsLen_(-0.001, 7674.0]                               1.651637e-05\n",
       "  CalcModelOptionsLen_(7674.0, 7828.0]                               9.999670e-01\n",
       "  CalcModelOptionsLen_(7828.0, 8976.0]                               1.651637e-05\n",
       "                                      CalcModelOptions\n",
       "CalcModelOptionsLen                    <CalculationDefiniti...5906025349763992010\n",
       "  CalcModelOptionsLen_(-0.001, 7674.0]                               3.690990e-05\n",
       "  CalcModelOptionsLen_(7674.0, 7828.0]                               3.690990e-05\n",
       "  CalcModelOptionsLen_(7828.0, 8976.0]                               9.999262e-01\n",
       "                                      CalcModelOptions\n",
       "CalcModelOptionsLen                    <CalculationDefiniti...6360822242240785208\n",
       "  CalcModelOptionsLen_(-0.001, 7674.0]                               2.033760e-04\n",
       "  CalcModelOptionsLen_(7674.0, 7828.0]                               2.033760e-04\n",
       "  CalcModelOptionsLen_(7828.0, 8976.0]                               9.995932e-01\n",
       "                                      CalcModelOptions\n",
       "CalcModelOptionsLen                    elResto_113_0.0446        isNaN\n",
       "  CalcModelOptionsLen_(-0.001, 7674.0]       5.134571e-01 9.999948e-01\n",
       "  CalcModelOptionsLen_(7674.0, 7828.0]       2.599105e-01 2.600834e-06\n",
       "  CalcModelOptionsLen_(7828.0, 8976.0]       2.266325e-01 2.600834e-06"
      ]
     },
     "metadata": {},
     "output_type": "display_data"
    }
   ],
   "source": [
    "bn.bayes <- bn.fit(hcdag, data = rtp[cols], method = \"bayes\")\n",
    "nparams(bn.bayes)\n",
    "# bn.bayes$PrescribedPercentage\n",
    "# bn.bayes$NoFractions\n",
    "bn.bayes$CalcModelOptionsLen"
   ]
  },
  {
   "cell_type": "code",
   "execution_count": null,
   "id": "intensive-spirit",
   "metadata": {},
   "outputs": [],
   "source": []
  }
 ],
 "metadata": {
  "kernelspec": {
   "display_name": "R",
   "language": "R",
   "name": "ir"
  },
  "language_info": {
   "codemirror_mode": "r",
   "file_extension": ".r",
   "mimetype": "text/x-r-source",
   "name": "R",
   "pygments_lexer": "r",
   "version": "4.1.0"
  }
 },
 "nbformat": 4,
 "nbformat_minor": 5
}
