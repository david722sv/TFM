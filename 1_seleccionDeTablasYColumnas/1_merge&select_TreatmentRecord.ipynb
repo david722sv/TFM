{
 "cells": [
  {
   "cell_type": "code",
   "execution_count": null,
   "id": "b1c5caed",
   "metadata": {},
   "outputs": [],
   "source": [
    "import pandas as pd\n",
    "import matplotlib.pyplot as plt\n",
    "import numpy as np\n",
    "import utils as ut\n",
    "\n",
    "show = 0\n",
    "tr = ut.leer_csv(\"data/ARIA/5.CourseOfTreatment/_TreatmentRecord.csv\", show).drop(columns=[\"CharacterSet\",\"TreatmentRecordUID\",\n",
    "                                                                                          \"PlanUID\",\"FileName\",\"SeriesSer\"])"
   ]
  },
  {
   "cell_type": "code",
   "execution_count": null,
   "id": "62547838",
   "metadata": {},
   "outputs": [],
   "source": [
    "tr.TreatmentRecordDateTime = pd.to_datetime(tr.TreatmentRecordDateTime)"
   ]
  },
  {
   "cell_type": "code",
   "execution_count": null,
   "id": "423e8052",
   "metadata": {},
   "outputs": [],
   "source": [
    "tr.to_csv(\"data/ARIA_merged&selected/TreatmentRecord.csv\", index=False)"
   ]
  }
 ],
 "metadata": {
  "kernelspec": {
   "display_name": "Python 3",
   "language": "python",
   "name": "python3"
  },
  "language_info": {
   "codemirror_mode": {
    "name": "ipython",
    "version": 3
   },
   "file_extension": ".py",
   "mimetype": "text/x-python",
   "name": "python",
   "nbconvert_exporter": "python",
   "pygments_lexer": "ipython3",
   "version": "3.9.4"
  }
 },
 "nbformat": 4,
 "nbformat_minor": 5
}
