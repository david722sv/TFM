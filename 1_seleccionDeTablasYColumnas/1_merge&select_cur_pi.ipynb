{
 "cells": [
  {
   "cell_type": "code",
   "execution_count": 12,
   "id": "eb0d4e40",
   "metadata": {},
   "outputs": [
    {
     "name": "stdout",
     "output_type": "stream",
     "text": [
      "Archivo: data/ARIA/5.CourseOfTreatment/_Course.csv\n",
      "Se dejaron 10 columnas.\n",
      "Se eliminaron 4 columnas:\n",
      "\n",
      "\n",
      "Archivo: data/ARIA/5.CourseOfTreatment/_PhysicianIntent.csv\n",
      "Se dejaron 6 columnas.\n",
      "Se eliminaron 5 columnas:\n",
      "\n",
      "\n"
     ]
    }
   ],
   "source": [
    "import pandas as pd\n",
    "import matplotlib.pyplot as plt\n",
    "import numpy as np\n",
    "import utils as ut\n",
    "\n",
    "show = 1\n",
    "cur = ut.leer_csv(\"data/ARIA/5.CourseOfTreatment/_Course.csv\", show).drop(columns=[\"ClinicalProtocolDir\",\"Comment\",\n",
    "                 \"CompletedByUserName\",\"TransactionId\",\"CourseId\",\"CompletedDateTime\"])\n",
    "\n",
    "pi = ut.leer_csv(\"data/ARIA/5.CourseOfTreatment/_PhysicianIntent.csv\", show).drop(columns=[\"CreationUserName\",\"CreationDate\",\n",
    "                                                                                          \"PhysicianIntentUID\"])"
   ]
  },
  {
   "cell_type": "code",
   "execution_count": 13,
   "id": "7c566d41",
   "metadata": {
    "scrolled": false
   },
   "outputs": [
    {
     "name": "stdout",
     "output_type": "stream",
     "text": [
      "6430 registros\n",
      "4 variables\n",
      "\n",
      "\n",
      "_______________________________________________________________\n",
      "Variable: CourseSer\n",
      "0.00 % nans\n",
      "6430 valores únicos (/m = 100.00 %)\n",
      "\n",
      "Distribución:\n"
     ]
    },
    {
     "data": {
      "image/png": "[encoded data removed]",
      "text/plain": [
       "<Figure size 432x288 with 1 Axes>"
      ]
     },
     "metadata": {
      "needs_background": "light"
     },
     "output_type": "display_data"
    },
    {
     "name": "stdout",
     "output_type": "stream",
     "text": [
      "\n",
      "\n",
      "_______________________________________________________________\n",
      "Variable: StartDateTime\n",
      "3.00 % nans\n",
      "6236 valores únicos (/m = 96.98 %)\n",
      "\n",
      "Distribución:\n",
      "8/29/2017 10:47:27 AM    0.000311\n",
      "7/27/2020 8:40:09 PM     0.000156\n",
      "6/20/2019 4:02:53 PM     0.000156\n",
      "4/23/2019 2:34:39 PM     0.000156\n",
      "8/7/2018 4:06:29 PM      0.000156\n",
      "Name: StartDateTime, dtype: float64\n",
      "\n",
      "El resto (6231): 0.9690513219284606\n",
      "\n",
      "\n",
      "_______________________________________________________________\n",
      "Variable: PatientSer\n",
      "0.00 % nans\n",
      "5413 valores únicos (/m = 84.18 %)\n",
      "\n",
      "Distribución:\n"
     ]
    },
    {
     "data": {
      "image/png": "[encoded data removed]",
      "text/plain": [
       "<Figure size 432x288 with 1 Axes>"
      ]
     },
     "metadata": {
      "needs_background": "light"
     },
     "output_type": "display_data"
    },
    {
     "name": "stdout",
     "output_type": "stream",
     "text": [
      "\n",
      "\n",
      "_______________________________________________________________\n",
      "Variable: ClinicalStatus\n",
      "0.00 % nans\n",
      "2 valores únicos (/m = 0.03 %)\n",
      "\n",
      "Distribución:\n",
      "ACTIVE       0.923328\n",
      "COMPLETED    0.076672\n",
      "Name: ClinicalStatus, dtype: float64\n",
      "\n",
      "\n",
      "_______________________________________________________________\n"
     ]
    }
   ],
   "source": [
    "ut.info_tabla(cur)"
   ]
  },
  {
   "cell_type": "code",
   "execution_count": 16,
   "id": "f4707f89",
   "metadata": {},
   "outputs": [
    {
     "data": {
      "text/html": [
       "<div>\n",
       "<style scoped>\n",
       "    .dataframe tbody tr th:only-of-type {\n",
       "        vertical-align: middle;\n",
       "    }\n",
       "\n",
       "    .dataframe tbody tr th {\n",
       "        vertical-align: top;\n",
       "    }\n",
       "\n",
       "    .dataframe thead th {\n",
       "        text-align: right;\n",
       "    }\n",
       "</style>\n",
       "<table border=\"1\" class=\"dataframe\">\n",
       "  <thead>\n",
       "    <tr style=\"text-align: right;\">\n",
       "      <th></th>\n",
       "      <th>CourseSer</th>\n",
       "      <th>StartDateTime</th>\n",
       "      <th>PatientSer</th>\n",
       "      <th>ClinicalStatus</th>\n",
       "      <th>TreatmentIntentType</th>\n",
       "    </tr>\n",
       "  </thead>\n",
       "  <tbody>\n",
       "    <tr>\n",
       "      <th>0</th>\n",
       "      <td>11</td>\n",
       "      <td>1/14/2016 9:47:24 AM</td>\n",
       "      <td>4</td>\n",
       "      <td>ACTIVE</td>\n",
       "      <td>NaN</td>\n",
       "    </tr>\n",
       "    <tr>\n",
       "      <th>1</th>\n",
       "      <td>32</td>\n",
       "      <td>NaN</td>\n",
       "      <td>9</td>\n",
       "      <td>ACTIVE</td>\n",
       "      <td>NaN</td>\n",
       "    </tr>\n",
       "    <tr>\n",
       "      <th>2</th>\n",
       "      <td>36</td>\n",
       "      <td>1/15/2016 10:03:30 AM</td>\n",
       "      <td>7</td>\n",
       "      <td>ACTIVE</td>\n",
       "      <td>NaN</td>\n",
       "    </tr>\n",
       "    <tr>\n",
       "      <th>3</th>\n",
       "      <td>37</td>\n",
       "      <td>1/15/2016 10:13:15 AM</td>\n",
       "      <td>8</td>\n",
       "      <td>ACTIVE</td>\n",
       "      <td>NaN</td>\n",
       "    </tr>\n",
       "    <tr>\n",
       "      <th>4</th>\n",
       "      <td>51</td>\n",
       "      <td>NaN</td>\n",
       "      <td>11</td>\n",
       "      <td>ACTIVE</td>\n",
       "      <td>NaN</td>\n",
       "    </tr>\n",
       "    <tr>\n",
       "      <th>...</th>\n",
       "      <td>...</td>\n",
       "      <td>...</td>\n",
       "      <td>...</td>\n",
       "      <td>...</td>\n",
       "      <td>...</td>\n",
       "    </tr>\n",
       "    <tr>\n",
       "      <th>6425</th>\n",
       "      <td>10416</td>\n",
       "      <td>8/7/2020 12:00:00 AM</td>\n",
       "      <td>7026</td>\n",
       "      <td>ACTIVE</td>\n",
       "      <td>NaN</td>\n",
       "    </tr>\n",
       "    <tr>\n",
       "      <th>6426</th>\n",
       "      <td>10421</td>\n",
       "      <td>8/7/2020 4:28:37 PM</td>\n",
       "      <td>7028</td>\n",
       "      <td>ACTIVE</td>\n",
       "      <td>NaN</td>\n",
       "    </tr>\n",
       "    <tr>\n",
       "      <th>6427</th>\n",
       "      <td>10431</td>\n",
       "      <td>8/10/2020 9:40:32 AM</td>\n",
       "      <td>7026</td>\n",
       "      <td>ACTIVE</td>\n",
       "      <td>NaN</td>\n",
       "    </tr>\n",
       "    <tr>\n",
       "      <th>6428</th>\n",
       "      <td>10441</td>\n",
       "      <td>9/9/2020 8:42:13 AM</td>\n",
       "      <td>19</td>\n",
       "      <td>ACTIVE</td>\n",
       "      <td>NaN</td>\n",
       "    </tr>\n",
       "    <tr>\n",
       "      <th>6429</th>\n",
       "      <td>10451</td>\n",
       "      <td>9/10/2020 12:00:00 AM</td>\n",
       "      <td>7029</td>\n",
       "      <td>ACTIVE</td>\n",
       "      <td>NaN</td>\n",
       "    </tr>\n",
       "  </tbody>\n",
       "</table>\n",
       "<p>6430 rows × 5 columns</p>\n",
       "</div>"
      ],
      "text/plain": [
       "      CourseSer          StartDateTime  PatientSer ClinicalStatus  \\\n",
       "0            11   1/14/2016 9:47:24 AM           4         ACTIVE   \n",
       "1            32                    NaN           9         ACTIVE   \n",
       "2            36  1/15/2016 10:03:30 AM           7         ACTIVE   \n",
       "3            37  1/15/2016 10:13:15 AM           8         ACTIVE   \n",
       "4            51                    NaN          11         ACTIVE   \n",
       "...         ...                    ...         ...            ...   \n",
       "6425      10416   8/7/2020 12:00:00 AM        7026         ACTIVE   \n",
       "6426      10421    8/7/2020 4:28:37 PM        7028         ACTIVE   \n",
       "6427      10431   8/10/2020 9:40:32 AM        7026         ACTIVE   \n",
       "6428      10441    9/9/2020 8:42:13 AM          19         ACTIVE   \n",
       "6429      10451  9/10/2020 12:00:00 AM        7029         ACTIVE   \n",
       "\n",
       "     TreatmentIntentType  \n",
       "0                    NaN  \n",
       "1                    NaN  \n",
       "2                    NaN  \n",
       "3                    NaN  \n",
       "4                    NaN  \n",
       "...                  ...  \n",
       "6425                 NaN  \n",
       "6426                 NaN  \n",
       "6427                 NaN  \n",
       "6428                 NaN  \n",
       "6429                 NaN  \n",
       "\n",
       "[6430 rows x 5 columns]"
      ]
     },
     "execution_count": 16,
     "metadata": {},
     "output_type": "execute_result"
    }
   ],
   "source": [
    "cur_pi = cur.merge(pi, on=\"CourseSer\", how=\"outer\").drop(columns=[\"PhysicianIntentSer\"])\n",
    "cur_pi"
   ]
  },
  {
   "cell_type": "code",
   "execution_count": 17,
   "id": "aac88e58",
   "metadata": {},
   "outputs": [],
   "source": [
    "cur_pi.to_csv(\"data/ARIA_cleaned/Course_pi.csv\", index=False)"
   ]
  },
  {
   "cell_type": "code",
   "execution_count": null,
   "id": "6c587e80",
   "metadata": {},
   "outputs": [],
   "source": []
  }
 ],
 "metadata": {
  "kernelspec": {
   "display_name": "Python 3",
   "language": "python",
   "name": "python3"
  },
  "language_info": {
   "codemirror_mode": {
    "name": "ipython",
    "version": 3
   },
   "file_extension": ".py",
   "mimetype": "text/x-python",
   "name": "python",
   "nbconvert_exporter": "python",
   "pygments_lexer": "ipython3",
   "version": "3.7.10"
  }
 },
 "nbformat": 4,
 "nbformat_minor": 5
}
