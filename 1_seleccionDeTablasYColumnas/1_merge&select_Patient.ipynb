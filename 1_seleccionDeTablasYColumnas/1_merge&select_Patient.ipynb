{
 "cells": [
  {
   "cell_type": "code",
   "execution_count": 15,
   "id": "dbe249cc",
   "metadata": {},
   "outputs": [],
   "source": [
    "import pandas as pd\n",
    "import matplotlib.pyplot as plt\n",
    "import numpy as np\n",
    "import utils as ut\n",
    "\n",
    "showInfo = 0\n",
    "p = ut.leer_csv(\"data/ARIA/4.PatientDemographics/_Patient.csv\", showInfo).drop(columns = [\"SSN\",\"WorkPhone\",\"HomePhone\",\n",
    "                      \"Citizenship\",\"MobilePhone\",\"CreationDate\",\"Language\",\"PatientId2\",\"MobilePhoneProviderSer\",\"PatientId\",\n",
    "                       \"FileDataSiteID\",\"PatientUID\"])\n",
    "\n",
    "pa = ut.leer_csv(\"data/ARIA/4.PatientDemographics/_PatientAddress.csv\", showInfo).drop(columns = [\"PrimaryFlag\"])\n",
    "\n",
    "a  = ut.leer_csv(\"data/ARIA/4.PatientDemographics/_Address.csv\", showInfo).drop(columns = [\"County\",\"AddressLine1\",\n",
    "                     \"AddressLine2\",\"PhoneNumber1\",\"PhoneNumber2\",\"EMailAddress\",\"OriginationDate\",\n",
    "                      \"TerminationDate\",\"PostalCode\",\"AddressType\",\"StateOrProvince\"])\n",
    "\n",
    "# pp = ut.leer_csv(\"data/ARIA/4.PatientDemographics/_PatientParticular.csv\", showInfo).drop(columns = [\"MaritalStatus\",\n",
    "#          \"RetireDate\",\"DeathDate\",\"PassportNumber\",\"UserDefAttrib01\",\"UniversalPatientId\",\"RetireReason\",\"RetireNote\"])"
   ]
  },
  {
   "cell_type": "code",
   "execution_count": 19,
   "id": "730a94ef",
   "metadata": {
    "scrolled": false
   },
   "outputs": [],
   "source": [
    "# ut.info_tabla(a)"
   ]
  },
  {
   "cell_type": "code",
   "execution_count": null,
   "id": "366b814f",
   "metadata": {},
   "outputs": [],
   "source": []
  },
  {
   "cell_type": "code",
   "execution_count": null,
   "id": "4c0b7a16",
   "metadata": {},
   "outputs": [],
   "source": []
  },
  {
   "cell_type": "code",
   "execution_count": 20,
   "id": "cfa273cf",
   "metadata": {},
   "outputs": [
    {
     "data": {
      "text/html": [
       "<div>\n",
       "<style scoped>\n",
       "    .dataframe tbody tr th:only-of-type {\n",
       "        vertical-align: middle;\n",
       "    }\n",
       "\n",
       "    .dataframe tbody tr th {\n",
       "        vertical-align: top;\n",
       "    }\n",
       "\n",
       "    .dataframe thead th {\n",
       "        text-align: right;\n",
       "    }\n",
       "</style>\n",
       "<table border=\"1\" class=\"dataframe\">\n",
       "  <thead>\n",
       "    <tr style=\"text-align: right;\">\n",
       "      <th></th>\n",
       "      <th>Sex</th>\n",
       "      <th>PatientSer</th>\n",
       "      <th>DateOfBirth</th>\n",
       "      <th>FirstName</th>\n",
       "      <th>Country</th>\n",
       "      <th>CityOrTownship</th>\n",
       "    </tr>\n",
       "  </thead>\n",
       "  <tbody>\n",
       "    <tr>\n",
       "      <th>0</th>\n",
       "      <td>Other</td>\n",
       "      <td>4</td>\n",
       "      <td>NaN</td>\n",
       "      <td>Truebeam</td>\n",
       "      <td>None</td>\n",
       "      <td>None</td>\n",
       "    </tr>\n",
       "    <tr>\n",
       "      <th>1</th>\n",
       "      <td>Unknown</td>\n",
       "      <td>7</td>\n",
       "      <td>4/29/2008 12:00:00 AM</td>\n",
       "      <td>NaN</td>\n",
       "      <td>None</td>\n",
       "      <td>None</td>\n",
       "    </tr>\n",
       "    <tr>\n",
       "      <th>2</th>\n",
       "      <td>Unknown</td>\n",
       "      <td>8</td>\n",
       "      <td>4/29/2008 12:00:00 AM</td>\n",
       "      <td>NaN</td>\n",
       "      <td>None</td>\n",
       "      <td>None</td>\n",
       "    </tr>\n",
       "    <tr>\n",
       "      <th>3</th>\n",
       "      <td>Unknown</td>\n",
       "      <td>9</td>\n",
       "      <td>5/19/2008 12:00:00 AM</td>\n",
       "      <td>NaN</td>\n",
       "      <td>None</td>\n",
       "      <td>None</td>\n",
       "    </tr>\n",
       "    <tr>\n",
       "      <th>4</th>\n",
       "      <td>Unknown</td>\n",
       "      <td>11</td>\n",
       "      <td>4/29/2008 12:00:00 AM</td>\n",
       "      <td>NaN</td>\n",
       "      <td>None</td>\n",
       "      <td>None</td>\n",
       "    </tr>\n",
       "  </tbody>\n",
       "</table>\n",
       "</div>"
      ],
      "text/plain": [
       "                Sex  PatientSer            DateOfBirth FirstName Country  \\\n",
       "0  Other                      4                    NaN  Truebeam    None   \n",
       "1  Unknown                    7  4/29/2008 12:00:00 AM       NaN    None   \n",
       "2  Unknown                    8  4/29/2008 12:00:00 AM       NaN    None   \n",
       "3  Unknown                    9  5/19/2008 12:00:00 AM       NaN    None   \n",
       "4  Unknown                   11  4/29/2008 12:00:00 AM       NaN    None   \n",
       "\n",
       "  CityOrTownship  \n",
       "0           None  \n",
       "1           None  \n",
       "2           None  \n",
       "3           None  \n",
       "4           None  "
      ]
     },
     "execution_count": 20,
     "metadata": {},
     "output_type": "execute_result"
    }
   ],
   "source": [
    "join1 = pa.merge(a, on=\"AddressSer\", how=\"left\").groupby(\"PatientSer\", as_index=False).first()\n",
    "join2 = p.merge(join1, on=\"PatientSer\", how='left').drop(columns=\"AddressSer\")\n",
    "# join3 = join2.merge(pp, on=\"PatientSer\", how=\"left\")\n",
    "join2.head()"
   ]
  },
  {
   "cell_type": "code",
   "execution_count": 22,
   "id": "d6ee0952",
   "metadata": {},
   "outputs": [
    {
     "data": {
      "text/html": [
       "<div>\n",
       "<style scoped>\n",
       "    .dataframe tbody tr th:only-of-type {\n",
       "        vertical-align: middle;\n",
       "    }\n",
       "\n",
       "    .dataframe tbody tr th {\n",
       "        vertical-align: top;\n",
       "    }\n",
       "\n",
       "    .dataframe thead th {\n",
       "        text-align: right;\n",
       "    }\n",
       "</style>\n",
       "<table border=\"1\" class=\"dataframe\">\n",
       "  <thead>\n",
       "    <tr style=\"text-align: right;\">\n",
       "      <th></th>\n",
       "      <th>Sex</th>\n",
       "      <th>PatientSer</th>\n",
       "      <th>DateOfBirth</th>\n",
       "      <th>FirstName</th>\n",
       "      <th>Country</th>\n",
       "      <th>CityOrTownship</th>\n",
       "    </tr>\n",
       "  </thead>\n",
       "  <tbody>\n",
       "    <tr>\n",
       "      <th>0</th>\n",
       "      <td>Other</td>\n",
       "      <td>4</td>\n",
       "      <td>NaN</td>\n",
       "      <td>Truebeam</td>\n",
       "      <td>None</td>\n",
       "      <td>None</td>\n",
       "    </tr>\n",
       "    <tr>\n",
       "      <th>1</th>\n",
       "      <td>Unknown</td>\n",
       "      <td>7</td>\n",
       "      <td>2008.0</td>\n",
       "      <td>NaN</td>\n",
       "      <td>None</td>\n",
       "      <td>None</td>\n",
       "    </tr>\n",
       "    <tr>\n",
       "      <th>2</th>\n",
       "      <td>Unknown</td>\n",
       "      <td>8</td>\n",
       "      <td>2008.0</td>\n",
       "      <td>NaN</td>\n",
       "      <td>None</td>\n",
       "      <td>None</td>\n",
       "    </tr>\n",
       "    <tr>\n",
       "      <th>3</th>\n",
       "      <td>Unknown</td>\n",
       "      <td>9</td>\n",
       "      <td>2008.0</td>\n",
       "      <td>NaN</td>\n",
       "      <td>None</td>\n",
       "      <td>None</td>\n",
       "    </tr>\n",
       "    <tr>\n",
       "      <th>4</th>\n",
       "      <td>Unknown</td>\n",
       "      <td>11</td>\n",
       "      <td>2008.0</td>\n",
       "      <td>NaN</td>\n",
       "      <td>None</td>\n",
       "      <td>None</td>\n",
       "    </tr>\n",
       "  </tbody>\n",
       "</table>\n",
       "</div>"
      ],
      "text/plain": [
       "                Sex  PatientSer  DateOfBirth FirstName Country CityOrTownship\n",
       "0  Other                      4          NaN  Truebeam    None           None\n",
       "1  Unknown                    7       2008.0       NaN    None           None\n",
       "2  Unknown                    8       2008.0       NaN    None           None\n",
       "3  Unknown                    9       2008.0       NaN    None           None\n",
       "4  Unknown                   11       2008.0       NaN    None           None"
      ]
     },
     "execution_count": 22,
     "metadata": {},
     "output_type": "execute_result"
    }
   ],
   "source": [
    "join2[\"DateOfBirth\"] = pd.DatetimeIndex( pd.to_datetime(join2[\"DateOfBirth\"])).year\n",
    "join2.head()"
   ]
  },
  {
   "cell_type": "markdown",
   "id": "25133cce",
   "metadata": {},
   "source": [
    "# Separar pacientes reales y \"de prueba\""
   ]
  },
  {
   "cell_type": "code",
   "execution_count": 23,
   "id": "67af8786",
   "metadata": {},
   "outputs": [],
   "source": [
    "l2 = list(pd.read_csv(\"data/nombres_hombre.csv\", skiprows=6, delimiter=\";\").Nombre.values)\n",
    "l3 = list(pd.read_csv(\"data/nombres_mujer.csv\" , skiprows=6, delimiter=\";\").Nombre.values)\n",
    "\n",
    "import unidecode\n",
    "l4 = []\n",
    "for i in l2+l3:\n",
    "    if isinstance(i, str): l4.append(unidecode.unidecode(i))"
   ]
  },
  {
   "cell_type": "code",
   "execution_count": 25,
   "id": "7fdd73e6",
   "metadata": {},
   "outputs": [],
   "source": [
    "nombres = join2.FirstName.str.normalize('NFKD').str.encode('ascii', errors='ignore').str.decode('utf-8') \\\n",
    "            .str.upper().str.split().str[0]"
   ]
  },
  {
   "cell_type": "code",
   "execution_count": 26,
   "id": "0a8cb3f1",
   "metadata": {},
   "outputs": [],
   "source": [
    "patient_real = join2[nombres.isin(l4)]\n",
    "patient_test = join2[~nombres.isin(l4)]"
   ]
  },
  {
   "cell_type": "code",
   "execution_count": null,
   "id": "10a89e8e",
   "metadata": {},
   "outputs": [],
   "source": [
    "# patient_real\n",
    "print(join2.shape)\n",
    "\n",
    "print(patient_real.shape)\n",
    "print(patient_test.shape)\n",
    "# patient_real.head()"
   ]
  },
  {
   "cell_type": "code",
   "execution_count": 9,
   "id": "741bc74c",
   "metadata": {
    "scrolled": false
   },
   "outputs": [],
   "source": [
    "# patient_real[patient_real.DateOfBirth.isna()][0:60]\n",
    "# patient_real[patient_real.PatientId2.isna()][0:60]\n",
    "# patient_real.isna().sum()"
   ]
  },
  {
   "cell_type": "markdown",
   "id": "11992aae",
   "metadata": {},
   "source": [
    "# Guardar tablas"
   ]
  },
  {
   "cell_type": "code",
   "execution_count": 28,
   "id": "2b9ffcbf",
   "metadata": {},
   "outputs": [],
   "source": [
    "patient_real.to_csv(\"data/ARIA_merged&selected/Patient_real.csv\", index=False)\n",
    "patient_test.to_csv(\"data/ARIA_merged&selected/Patient_test.csv\", index=False)"
   ]
  },
  {
   "cell_type": "code",
   "execution_count": null,
   "id": "3a659629",
   "metadata": {},
   "outputs": [],
   "source": []
  }
 ],
 "metadata": {
  "kernelspec": {
   "display_name": "Python 3",
   "language": "python",
   "name": "python3"
  },
  "language_info": {
   "codemirror_mode": {
    "name": "ipython",
    "version": 3
   },
   "file_extension": ".py",
   "mimetype": "text/x-python",
   "name": "python",
   "nbconvert_exporter": "python",
   "pygments_lexer": "ipython3",
   "version": "3.7.10"
  }
 },
 "nbformat": 4,
 "nbformat_minor": 5
}
