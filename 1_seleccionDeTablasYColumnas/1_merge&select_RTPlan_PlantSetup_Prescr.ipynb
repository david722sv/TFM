{
 "cells": [
  {
   "cell_type": "raw",
   "id": "07213e1e",
   "metadata": {},
   "source": [
    "RTPlan\n",
    "PlanSetup\n",
    "Prescription"
   ]
  },
  {
   "cell_type": "code",
   "execution_count": 1,
   "id": "1eccaa2a",
   "metadata": {},
   "outputs": [
    {
     "name": "stdout",
     "output_type": "stream",
     "text": [
      "Archivo: data/ARIA/5.CourseOfTreatment/_PlanSetup.csv\n",
      "Se dejaron 29 columnas.\n",
      "Se eliminaron 17 columnas:\n",
      "\n",
      "\n",
      "Archivo: data/ARIA/5.CourseOfTreatment/_RTPlan.csv\n",
      "Se dejaron 16 columnas.\n",
      "Se eliminaron 8 columnas:\n",
      "\n",
      "\n",
      "Archivo: data/ARIA/5.CourseOfTreatment/_Prescription.csv\n",
      "Se dejaron 16 columnas.\n",
      "Se eliminaron 5 columnas:\n",
      "\n",
      "\n",
      "Archivo: data/ARIA/5.CourseOfTreatment/TreatmentRecord.csv\n",
      "Se dejaron 13 columnas.\n",
      "Se eliminaron 7 columnas:\n",
      "\n",
      "\n"
     ]
    }
   ],
   "source": [
    "import pandas as pd\n",
    "import matplotlib.pyplot as plt\n",
    "import numpy as np\n",
    "import utils as ut\n",
    "\n",
    "path = \"data/ARIA/\"\n",
    "\n",
    "show = 1\n",
    "ps = ut.leer_csv(path+\"5.CourseOfTreatment/_PlanSetup.csv\", show).drop(columns=[\"StatusUserName\",\"StructureSetSer\",\n",
    "                                                                                \"ViewingPlane\",\"ViewingPlaneLRCorner\",\n",
    "                                                                               \"PlanSetupName\",\"TransactionId\",\"CopyOfSer\",\n",
    "                                                                               \"Comment\",\"CreationUserName\",\"PlanSetupId\",\n",
    "                                                                               \"StatusDate\",\"CreationDate\",\n",
    "                                                                                \"ViewingPlaneULCorner\",\"ProtocolPhaseId\"])\n",
    "\n",
    "rtp = ut.leer_csv(path+\"5.CourseOfTreatment/_RTPlan.csv\", show).drop(columns=[\"PlanUID\",\"CreationUserName\",\"PlanIntegrityHash\",\n",
    "                                                                             \"PlanHashVersion\",\"CreationDate\"])\n",
    "\n",
    "pres = ut.leer_csv(\"data/ARIA/5.CourseOfTreatment/_Prescription.csv\", show).drop(columns=[\"TreatmentPhaseSer\",\"CreationDate\",\n",
    "                                                                                          \"PrescriptionName\",\"CreationUserName\",\n",
    "                                                                                          \"PrescriptionTemplateSer\",\n",
    "                                                                                         \"PredecessorPrescriptionSer\"])\n",
    "\n",
    "tr = ut.leer_csv(\"data/ARIA/5.CourseOfTreatment/TreatmentRecord.csv\", show)\n",
    "# presAnat = ut.leer_csv(\"data/ARIA/5.CourseOfTreatment/z_PrescriptionAnatomy.csv\", show)"
   ]
  },
  {
   "cell_type": "code",
   "execution_count": 3,
   "id": "08105611",
   "metadata": {
    "scrolled": true
   },
   "outputs": [
    {
     "name": "stdout",
     "output_type": "stream",
     "text": [
      "8657 registros\n",
      "10 variables\n",
      "\n",
      "\n",
      "_______________________________________________________________\n",
      "Variable: BolusFrequency\n",
      "99.77 % nans\n",
      "1 valores únicos (/m = 0.01 %)\n",
      "\n",
      "Distribución:\n",
      "EVERY TREATMENT    0.00231\n",
      "Name: BolusFrequency, dtype: float64\n",
      "\n",
      "\n",
      "_______________________________________________________________\n",
      "Variable: SimulationNeeded\n",
      "0.00 % nans\n",
      "2 valores únicos (/m = 0.02 %)\n",
      "\n",
      "Distribución:\n"
     ]
    },
    {
     "data": {
      "image/png": "[encoded data removed]",
      "text/plain": [
       "<Figure size 432x288 with 1 Axes>"
      ]
     },
     "metadata": {
      "needs_background": "light"
     },
     "output_type": "display_data"
    },
    {
     "name": "stdout",
     "output_type": "stream",
     "text": [
      "\n",
      "\n",
      "_______________________________________________________________\n",
      "Variable: Technique\n",
      "0.01 % nans\n",
      "21 valores únicos (/m = 0.24 %)\n",
      "\n",
      "Distribución:\n",
      "Conformal              0.570983\n",
      "IMRT                   0.207578\n",
      "HIGH DOSE TREATMENT    0.057295\n",
      "ARC THERAPY            0.046552\n",
      "Arc                    0.033845\n",
      "Name: Technique, dtype: float64\n",
      "\n",
      "El resto (16): 0.08363174309807092\n",
      "\n",
      "\n",
      "_______________________________________________________________\n",
      "Variable: Site\n",
      "0.00 % nans\n",
      "144 valores únicos (/m = 1.66 %)\n",
      "\n",
      "Distribución:\n",
      "Breast, Left     0.112857\n",
      "Brain            0.091487\n",
      "Prostate         0.088021\n",
      "Breast, Right    0.074044\n",
      "Pelvis           0.073698\n",
      "Name: Site, dtype: float64\n",
      "\n",
      "El resto (139): 0.5598937276192677\n",
      "\n",
      "\n",
      "_______________________________________________________________\n",
      "Variable: NumberOfFractions\n",
      "0.00 % nans\n",
      "38 valores únicos (/m = 0.44 %)\n",
      "\n",
      "Distribución:\n"
     ]
    },
    {
     "data": {
      "image/png": "[encoded data removed]",
      "text/plain": [
       "<Figure size 432x288 with 1 Axes>"
      ]
     },
     "metadata": {
      "needs_background": "light"
     },
     "output_type": "display_data"
    },
    {
     "name": "stdout",
     "output_type": "stream",
     "text": [
      "\n",
      "\n",
      "_______________________________________________________________\n",
      "Variable: Status\n",
      "0.00 % nans\n",
      "5 valores únicos (/m = 0.06 %)\n",
      "\n",
      "Distribución:\n",
      "Approved    0.853413\n",
      "Retired     0.131108\n",
      "ErrorOut    0.012938\n",
      "Draft       0.001964\n",
      "Reviewed    0.000578\n",
      "Name: Status, dtype: float64\n",
      "\n",
      "\n",
      "_______________________________________________________________\n",
      "Variable: Notes\n",
      "72.39 % nans\n",
      "1415 valores únicos (/m = 16.35 %)\n",
      "\n",
      "Distribución:\n",
      "V100>95%\\r\\nV150 15-20% (<20%)\\r\\nV200 <5%                                                                              0.008548\n",
      "Tener en cuenta para límites en organos de riesgo que la dosis total será de 60Gy con dos partes (46Gy + boost 14Gy)    0.006007\n",
      "preferente                                                                                                              0.006007\n",
      "Una fracción a la semana                                                                                                0.005545\n",
      "2-3 sem                                                                                                                 0.003927\n",
      "Name: Notes, dtype: float64\n",
      "\n",
      "El resto (1410): 0.24604366408686607\n",
      "\n",
      "\n",
      "_______________________________________________________________\n",
      "Variable: PrescriptionSer\n",
      "0.00 % nans\n",
      "8657 valores únicos (/m = 100.00 %)\n",
      "\n",
      "Distribución:\n"
     ]
    },
    {
     "data": {
      "image/png": "[encoded data removed]",
      "text/plain": [
       "<Figure size 432x288 with 1 Axes>"
      ]
     },
     "metadata": {
      "needs_background": "light"
     },
     "output_type": "display_data"
    },
    {
     "name": "stdout",
     "output_type": "stream",
     "text": [
      "\n",
      "\n",
      "_______________________________________________________________\n",
      "Variable: BolusThickness\n",
      "99.03 % nans\n",
      "3 valores únicos (/m = 0.03 %)\n",
      "\n",
      "Distribución:\n",
      "1 CM      0.005083\n",
      "0.5 CM    0.004505\n",
      "1.5 CM    0.000116\n",
      "Name: BolusThickness, dtype: float64\n",
      "\n",
      "\n",
      "_______________________________________________________________\n",
      "Variable: PhaseType\n",
      "0.05 % nans\n",
      "2 valores únicos (/m = 0.02 %)\n",
      "\n",
      "Distribución:\n",
      "PRIMARY    0.884024\n",
      "BOOST      0.115513\n",
      "Name: PhaseType, dtype: float64\n",
      "\n",
      "\n",
      "_______________________________________________________________\n"
     ]
    }
   ],
   "source": [
    "ut.info_tabla(pres)"
   ]
  },
  {
   "cell_type": "code",
   "execution_count": null,
   "id": "a2501860",
   "metadata": {},
   "outputs": [],
   "source": []
  },
  {
   "cell_type": "code",
   "execution_count": null,
   "id": "c80128ef",
   "metadata": {},
   "outputs": [],
   "source": []
  },
  {
   "cell_type": "code",
   "execution_count": 17,
   "id": "76e125fe",
   "metadata": {},
   "outputs": [],
   "source": [
    "rtp_ps = rtp.merge(ps, on=\"PlanSetupSer\", how='outer').merge(pres, on=\"PrescriptionSer\", how=\"left\")"
   ]
  },
  {
   "cell_type": "code",
   "execution_count": 18,
   "id": "d4313ce4",
   "metadata": {},
   "outputs": [],
   "source": [
    "rtp_ps.to_csv(\"data/ARIA_merged&selected/RTPlan_PS_Pres2.csv\", index=False)"
   ]
  },
  {
   "cell_type": "code",
   "execution_count": null,
   "id": "176cb236",
   "metadata": {},
   "outputs": [],
   "source": []
  }
 ],
 "metadata": {
  "kernelspec": {
   "display_name": "Python 3",
   "language": "python",
   "name": "python3"
  },
  "language_info": {
   "codemirror_mode": {
    "name": "ipython",
    "version": 3
   },
   "file_extension": ".py",
   "mimetype": "text/x-python",
   "name": "python",
   "nbconvert_exporter": "python",
   "pygments_lexer": "ipython3",
   "version": "3.9.4"
  }
 },
 "nbformat": 4,
 "nbformat_minor": 5
}
