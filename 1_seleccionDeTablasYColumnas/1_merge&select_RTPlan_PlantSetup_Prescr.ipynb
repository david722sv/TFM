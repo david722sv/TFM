{
 "cells": [
  {
   "cell_type": "raw",
   "id": "07213e1e",
   "metadata": {},
   "source": [
    "RTPlan\n",
    "PlanSetup\n",
    "Prescription"
   ]
  },
  {
   "cell_type": "code",
   "execution_count": 16,
   "id": "1eccaa2a",
   "metadata": {},
   "outputs": [
    {
     "name": "stdout",
     "output_type": "stream",
     "text": [
      "Archivo: data/ARIA/5.CourseOfTreatment/_PlanSetup.csv\n",
      "Se dejaron 29 columnas.\n",
      "Se eliminaron 17 columnas:\n",
      "\n",
      "\n",
      "Archivo: data/ARIA/5.CourseOfTreatment/_RTPlan.csv\n",
      "Se dejaron 16 columnas.\n",
      "Se eliminaron 8 columnas:\n",
      "\n",
      "\n",
      "Archivo: data/ARIA/5.CourseOfTreatment/_Prescription.csv\n",
      "Se dejaron 16 columnas.\n",
      "Se eliminaron 5 columnas:\n",
      "\n",
      "\n",
      "Archivo: data/ARIA/5.CourseOfTreatment/TreatmentRecord.csv\n",
      "Se dejaron 13 columnas.\n",
      "Se eliminaron 7 columnas:\n",
      "\n",
      "\n"
     ]
    }
   ],
   "source": [
    "import pandas as pd\n",
    "import matplotlib.pyplot as plt\n",
    "import numpy as np\n",
    "import utils as ut\n",
    "\n",
    "path = \"data/ARIA/\"\n",
    "\n",
    "show = 1\n",
    "ps = ut.leer_csv(path+\"5.CourseOfTreatment/_PlanSetup.csv\", show).drop(columns=[\"StatusUserName\",\"StructureSetSer\",\n",
    "                                                                                \"ViewingPlane\",\"ViewingPlaneLRCorner\",\n",
    "                                                                               \"PlanSetupName\",\"TransactionId\",\"CopyOfSer\",\n",
    "                                                                               \"Comment\",\"CreationUserName\",\"PlanSetupId\",\n",
    "                                                                               \"StatusDate\",\"CreationDate\",\n",
    "                                                                                \"ViewingPlaneULCorner\",\"ProtocolPhaseId\"])\n",
    "\n",
    "rtp = ut.leer_csv(path+\"5.CourseOfTreatment/_RTPlan.csv\", show).drop(columns=[\"PlanUID\",\"CreationUserName\",\"PlanIntegrityHash\",\n",
    "                                                                             \"PlanHashVersion\",\"CreationDate\"])\n",
    "\n",
    "pres = ut.leer_csv(\"data/ARIA/5.CourseOfTreatment/_Prescription.csv\", show).drop(columns=[\"TreatmentPhaseSer\",\"CreationDate\",\n",
    "                                                                                          \"PrescriptionName\",\"CreationUserName\",\n",
    "                                                                                          \"PrescriptionTemplateSer\",\n",
    "                                                                                         \"PredecessorPrescriptionSer\"])\n",
    "\n",
    "tr = ut.leer_csv(\"data/ARIA/5.CourseOfTreatment/TreatmentRecord.csv\", show)\n",
    "# presAnat = ut.leer_csv(\"data/ARIA/5.CourseOfTreatment/z_PrescriptionAnatomy.csv\", show)"
   ]
  },
  {
   "cell_type": "code",
   "execution_count": null,
   "id": "08105611",
   "metadata": {},
   "outputs": [],
   "source": []
  },
  {
   "cell_type": "code",
   "execution_count": null,
   "id": "a2501860",
   "metadata": {},
   "outputs": [],
   "source": []
  },
  {
   "cell_type": "code",
   "execution_count": null,
   "id": "c80128ef",
   "metadata": {},
   "outputs": [],
   "source": []
  },
  {
   "cell_type": "code",
   "execution_count": 17,
   "id": "76e125fe",
   "metadata": {},
   "outputs": [],
   "source": [
    "rtp_ps = rtp.merge(ps, on=\"PlanSetupSer\", how='outer').merge(pres, on=\"PrescriptionSer\", how=\"left\")"
   ]
  },
  {
   "cell_type": "code",
   "execution_count": 18,
   "id": "d4313ce4",
   "metadata": {},
   "outputs": [],
   "source": [
    "rtp_ps.to_csv(\"data/ARIA_cleaned/RTPlan_PS_Pres2.csv\", index=False)"
   ]
  },
  {
   "cell_type": "code",
   "execution_count": null,
   "id": "176cb236",
   "metadata": {},
   "outputs": [],
   "source": []
  }
 ],
 "metadata": {
  "kernelspec": {
   "display_name": "Python 3",
   "language": "python",
   "name": "python3"
  },
  "language_info": {
   "codemirror_mode": {
    "name": "ipython",
    "version": 3
   },
   "file_extension": ".py",
   "mimetype": "text/x-python",
   "name": "python",
   "nbconvert_exporter": "python",
   "pygments_lexer": "ipython3",
   "version": "3.7.10"
  }
 },
 "nbformat": 4,
 "nbformat_minor": 5
}
