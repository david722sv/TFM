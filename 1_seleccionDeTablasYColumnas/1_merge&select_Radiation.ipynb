{
 "cells": [
  {
   "cell_type": "code",
   "execution_count": 2,
   "id": "7e06332d",
   "metadata": {},
   "outputs": [
    {
     "name": "stdout",
     "output_type": "stream",
     "text": [
      "Archivo: data/ARIA/5.CourseOfTreatment/_ExternalField.csv\n",
      "Se dejaron 30 columnas.\n",
      "Se eliminaron 12 columnas:\n",
      "\n",
      "\n"
     ]
    },
    {
     "name": "stderr",
     "output_type": "stream",
     "text": [
      "D:\\miniconda3\\envs\\tfm2\\lib\\site-packages\\IPython\\core\\interactiveshell.py:3361: DtypeWarning: Columns (4,5) have mixed types.Specify dtype option on import or set low_memory=False.\n",
      "  if (await self.run_code(code, result,  async_=asy)):\n"
     ]
    },
    {
     "name": "stdout",
     "output_type": "stream",
     "text": [
      "Archivo: data/ARIA/5.CourseOfTreatment/_ExternalFieldCommon.csv\n",
      "Se dejaron 26 columnas.\n",
      "Se eliminaron 12 columnas:\n",
      "\n",
      "\n",
      "Archivo: data/ARIA/5.CourseOfTreatment/_Radiation.csv\n",
      "Se dejaron 15 columnas.\n",
      "Se eliminaron 5 columnas:\n",
      "\n",
      "\n"
     ]
    }
   ],
   "source": [
    "import pandas as pd\n",
    "import numpy as np\n",
    "import utils as ut\n",
    "import matplotlib.pyplot as plt\n",
    "\n",
    "path = \"data/ARIA/5.CourseOfTreatment/\"\n",
    "\n",
    "show = 1\n",
    "ef  = ut.leer_csv(path+\"_ExternalField.csv\", show).drop(columns=[\"EllipticalMarginFlag\",\n",
    "                                                                                     \"DRRTemplateFileName\",\"TrackingSer\",\n",
    "                                                                                    \"CalculationLog\",\"OptimizeCollRtnFlag\",\n",
    "                                                                                    \"WedgeWeightFactor\"])\n",
    "\n",
    "efc = ut.leer_csv(path+\"_ExternalFieldCommon.csv\", show).drop(columns=[\"SourceFieldEntryDistance\",\n",
    "                                                                                           \"IDUPosLat\",\"IDUPosLng\"])\n",
    "\n",
    "rad = ut.leer_csv(path+\"_Radiation.csv\", show).drop(columns=[\"RefImageSOPClassSer\",\"RefImageUID\",\n",
    "                                                                                 \"SetupNote\",\"RadiationId\",\"RadiationName\",\n",
    "                                                                                \"CreationUserName\",\"Comment\",\"RefImageSer\",\n",
    "                                                                                \"CreationDate\"])\n",
    "\n",
    "path = \"data/ARIA_merged&selected/\"\n",
    "\n",
    "show = 0\n",
    "rtp = ut.leer_csv(path + \"RTPlan_PS_Pres.csv\", show)\n",
    "tr = ut.leer_csv(path + \"TreatmentRecord.csv\", show)"
   ]
  },
  {
   "cell_type": "code",
   "execution_count": null,
   "id": "39b589eb",
   "metadata": {},
   "outputs": [],
   "source": []
  },
  {
   "cell_type": "code",
   "execution_count": 3,
   "id": "0950dea0",
   "metadata": {
    "scrolled": false
   },
   "outputs": [],
   "source": [
    "# ut.info_tabla(rad)"
   ]
  },
  {
   "cell_type": "code",
   "execution_count": 4,
   "id": "47d0a7b0",
   "metadata": {},
   "outputs": [
    {
     "data": {
      "text/plain": [
       "(77087, 51)"
      ]
     },
     "execution_count": 4,
     "metadata": {},
     "output_type": "execute_result"
    }
   ],
   "source": [
    "join = rad.merge(ef, on=\"RadiationSer\", how=\"inner\", suffixes = (\"_rad\", \"_ef\"))\\\n",
    ".merge(efc, on=\"RadiationSer\", how=\"inner\", suffixes = (\"_radef\", \"_efc\"))\n",
    "join.shape"
   ]
  },
  {
   "cell_type": "code",
   "execution_count": 5,
   "id": "347fee4c",
   "metadata": {},
   "outputs": [],
   "source": [
    "join.to_csv(\"data/ARIA_merged&selected/Radiation.csv\", index=False)"
   ]
  },
  {
   "cell_type": "markdown",
   "id": "77af03fc",
   "metadata": {},
   "source": [
    "# Radiation, valores agrupados por RTPlanSer (PlanSetupSer)"
   ]
  },
  {
   "cell_type": "code",
   "execution_count": 6,
   "id": "64b12699",
   "metadata": {
    "scrolled": true
   },
   "outputs": [
    {
     "data": {
      "text/plain": [
       "132673    27\n",
       "121371    23\n",
       "95297     21\n",
       "25391     20\n",
       "27806     20\n",
       "          ..\n",
       "6237       1\n",
       "4726       1\n",
       "5312       1\n",
       "117947     1\n",
       "143817     1\n",
       "Name: PlanSetupSer, Length: 14148, dtype: int64"
      ]
     },
     "execution_count": 6,
     "metadata": {},
     "output_type": "execute_result"
    }
   ],
   "source": [
    "# ut.resumen_tabla(join)\n",
    "# ut.info_tabla(join)\n",
    "join.PlanSetupSer.value_counts()\n",
    "\n",
    "# ut.info_tabla(join[join.PlanSetupSer==132187])\n",
    "# ut.info_tabla(join)"
   ]
  },
  {
   "cell_type": "code",
   "execution_count": 7,
   "id": "fda37899",
   "metadata": {},
   "outputs": [
    {
     "name": "stdout",
     "output_type": "stream",
     "text": [
      "50984 registros\n",
      "15 variables\n"
     ]
    },
    {
     "data": {
      "text/html": [
       "<div>\n",
       "<style scoped>\n",
       "    .dataframe tbody tr th:only-of-type {\n",
       "        vertical-align: middle;\n",
       "    }\n",
       "\n",
       "    .dataframe tbody tr th {\n",
       "        vertical-align: top;\n",
       "    }\n",
       "\n",
       "    .dataframe thead th {\n",
       "        text-align: right;\n",
       "    }\n",
       "</style>\n",
       "<table border=\"1\" class=\"dataframe\">\n",
       "  <thead>\n",
       "    <tr style=\"text-align: right;\">\n",
       "      <th></th>\n",
       "      <th>nans</th>\n",
       "      <th>nunicos</th>\n",
       "      <th>nunicos_r</th>\n",
       "      <th>dtype</th>\n",
       "    </tr>\n",
       "  </thead>\n",
       "  <tbody>\n",
       "    <tr>\n",
       "      <th>SetupFieldFlag</th>\n",
       "      <td>0.00</td>\n",
       "      <td>2</td>\n",
       "      <td>0.00</td>\n",
       "      <td>int64</td>\n",
       "    </tr>\n",
       "    <tr>\n",
       "      <th>GantryRtnDirection</th>\n",
       "      <td>0.00</td>\n",
       "      <td>3</td>\n",
       "      <td>0.01</td>\n",
       "      <td>object</td>\n",
       "    </tr>\n",
       "    <tr>\n",
       "      <th>ToleranceSer</th>\n",
       "      <td>0.01</td>\n",
       "      <td>3</td>\n",
       "      <td>0.01</td>\n",
       "      <td>float64</td>\n",
       "    </tr>\n",
       "    <tr>\n",
       "      <th>CollMode</th>\n",
       "      <td>0.00</td>\n",
       "      <td>4</td>\n",
       "      <td>0.01</td>\n",
       "      <td>object</td>\n",
       "    </tr>\n",
       "    <tr>\n",
       "      <th>TechniqueSer</th>\n",
       "      <td>0.00</td>\n",
       "      <td>11</td>\n",
       "      <td>0.02</td>\n",
       "      <td>int64</td>\n",
       "    </tr>\n",
       "    <tr>\n",
       "      <th>DoseRate</th>\n",
       "      <td>0.10</td>\n",
       "      <td>17</td>\n",
       "      <td>0.03</td>\n",
       "      <td>float64</td>\n",
       "    </tr>\n",
       "    <tr>\n",
       "      <th>EnergyModeSer</th>\n",
       "      <td>0.10</td>\n",
       "      <td>19</td>\n",
       "      <td>0.04</td>\n",
       "      <td>float64</td>\n",
       "    </tr>\n",
       "    <tr>\n",
       "      <th>PatientSupportAngle</th>\n",
       "      <td>0.00</td>\n",
       "      <td>116</td>\n",
       "      <td>0.23</td>\n",
       "      <td>float64</td>\n",
       "    </tr>\n",
       "    <tr>\n",
       "      <th>GantryRtn</th>\n",
       "      <td>0.00</td>\n",
       "      <td>1053</td>\n",
       "      <td>2.07</td>\n",
       "      <td>float64</td>\n",
       "    </tr>\n",
       "    <tr>\n",
       "      <th>CollRtn</th>\n",
       "      <td>0.00</td>\n",
       "      <td>1592</td>\n",
       "      <td>3.12</td>\n",
       "      <td>float64</td>\n",
       "    </tr>\n",
       "    <tr>\n",
       "      <th>CalculationLogLen</th>\n",
       "      <td>0.00</td>\n",
       "      <td>3755</td>\n",
       "      <td>7.37</td>\n",
       "      <td>int64</td>\n",
       "    </tr>\n",
       "    <tr>\n",
       "      <th>WeightFactor</th>\n",
       "      <td>0.00</td>\n",
       "      <td>4725</td>\n",
       "      <td>9.27</td>\n",
       "      <td>float64</td>\n",
       "    </tr>\n",
       "    <tr>\n",
       "      <th>PlanSetupSer</th>\n",
       "      <td>0.00</td>\n",
       "      <td>8282</td>\n",
       "      <td>16.24</td>\n",
       "      <td>int64</td>\n",
       "    </tr>\n",
       "    <tr>\n",
       "      <th>SSD</th>\n",
       "      <td>1.63</td>\n",
       "      <td>27986</td>\n",
       "      <td>54.89</td>\n",
       "      <td>float64</td>\n",
       "    </tr>\n",
       "    <tr>\n",
       "      <th>RadiationSer</th>\n",
       "      <td>0.00</td>\n",
       "      <td>50984</td>\n",
       "      <td>100.00</td>\n",
       "      <td>int64</td>\n",
       "    </tr>\n",
       "  </tbody>\n",
       "</table>\n",
       "</div>"
      ],
      "text/plain": [
       "                     nans  nunicos  nunicos_r    dtype\n",
       "SetupFieldFlag       0.00        2       0.00    int64\n",
       "GantryRtnDirection   0.00        3       0.01   object\n",
       "ToleranceSer         0.01        3       0.01  float64\n",
       "CollMode             0.00        4       0.01   object\n",
       "TechniqueSer         0.00       11       0.02    int64\n",
       "DoseRate             0.10       17       0.03  float64\n",
       "EnergyModeSer        0.10       19       0.04  float64\n",
       "PatientSupportAngle  0.00      116       0.23  float64\n",
       "GantryRtn            0.00     1053       2.07  float64\n",
       "CollRtn              0.00     1592       3.12  float64\n",
       "CalculationLogLen    0.00     3755       7.37    int64\n",
       "WeightFactor         0.00     4725       9.27  float64\n",
       "PlanSetupSer         0.00     8282      16.24    int64\n",
       "SSD                  1.63    27986      54.89  float64\n",
       "RadiationSer         0.00    50984     100.00    int64"
      ]
     },
     "execution_count": 7,
     "metadata": {},
     "output_type": "execute_result"
    }
   ],
   "source": [
    "join2 = join.drop(columns=[\"RadiationNumber\",\"RadiationOrder\",\"MotionCompSource\",\"MotionCompTechnique\",\"RefDose\",\"WedgeDose\",\n",
    "                          \"CollMarginBottom\",\"CollMarginTop\",\"CollMarginRight\",\"CollMarginLeft\",\"StopAngle\",\"FldNormMethod\",\n",
    "                          \"IDURtn\",\"ResourceSer\",\"CollY1\",\"CollY2\",\"CollX1\",\"CollX2\",\"CouchLat\",\"CouchVrt\",\"CouchLngDelta\",\n",
    "                           \"CouchLatDelta\",\"CouchVrtDelta\",\"DirectionPointDistance\",\"IsoCenterPositionX\",\n",
    "                           \"IsoCenterPositionY\",\"IsoCenterPositionZ\",\"MUCoeff\",\"IDUPosVrt\",\"TreatmentTime\",\"CouchLng\",\n",
    "                          \"SetupTechnique\",\"TechniqueLabel\",\"Meterset\",\"FldNormFactor\",\"GantryRtnExt\"])\n",
    "\n",
    "join3 = join2[join2.PlanSetupSer.isin(tr.merge(rtp, on=\"RTPlanSer\", how=\"left\").PlanSetupSer)]\n",
    "# ut.info_tabla(join2)\n",
    "ut.resumen_tabla(join3, 'nunicos')"
   ]
  },
  {
   "cell_type": "code",
   "execution_count": 8,
   "id": "4dfeb3d0",
   "metadata": {},
   "outputs": [
    {
     "data": {
      "text/html": [
       "<div>\n",
       "<style scoped>\n",
       "    .dataframe tbody tr th:only-of-type {\n",
       "        vertical-align: middle;\n",
       "    }\n",
       "\n",
       "    .dataframe tbody tr th {\n",
       "        vertical-align: top;\n",
       "    }\n",
       "\n",
       "    .dataframe thead th {\n",
       "        text-align: right;\n",
       "    }\n",
       "</style>\n",
       "<table border=\"1\" class=\"dataframe\">\n",
       "  <thead>\n",
       "    <tr style=\"text-align: right;\">\n",
       "      <th></th>\n",
       "      <th>EnergyModeSer</th>\n",
       "      <th>TechniqueSer</th>\n",
       "      <th>NumFields</th>\n",
       "    </tr>\n",
       "    <tr>\n",
       "      <th>PlanSetupSer</th>\n",
       "      <th></th>\n",
       "      <th></th>\n",
       "      <th></th>\n",
       "    </tr>\n",
       "  </thead>\n",
       "  <tbody>\n",
       "    <tr>\n",
       "      <th>71</th>\n",
       "      <td>71.0</td>\n",
       "      <td>31</td>\n",
       "      <td>2</td>\n",
       "    </tr>\n",
       "    <tr>\n",
       "      <th>113</th>\n",
       "      <td>71.0</td>\n",
       "      <td>31</td>\n",
       "      <td>1</td>\n",
       "    </tr>\n",
       "    <tr>\n",
       "      <th>116</th>\n",
       "      <td>71.0</td>\n",
       "      <td>31</td>\n",
       "      <td>5</td>\n",
       "    </tr>\n",
       "    <tr>\n",
       "      <th>117</th>\n",
       "      <td>71.0</td>\n",
       "      <td>31</td>\n",
       "      <td>2</td>\n",
       "    </tr>\n",
       "    <tr>\n",
       "      <th>118</th>\n",
       "      <td>71.0</td>\n",
       "      <td>32</td>\n",
       "      <td>4</td>\n",
       "    </tr>\n",
       "    <tr>\n",
       "      <th>...</th>\n",
       "      <td>...</td>\n",
       "      <td>...</td>\n",
       "      <td>...</td>\n",
       "    </tr>\n",
       "    <tr>\n",
       "      <th>143855</th>\n",
       "      <td>71.0</td>\n",
       "      <td>31</td>\n",
       "      <td>4</td>\n",
       "    </tr>\n",
       "    <tr>\n",
       "      <th>143856</th>\n",
       "      <td>72.0</td>\n",
       "      <td>31</td>\n",
       "      <td>4</td>\n",
       "    </tr>\n",
       "    <tr>\n",
       "      <th>143857</th>\n",
       "      <td>72.0</td>\n",
       "      <td>31</td>\n",
       "      <td>3</td>\n",
       "    </tr>\n",
       "    <tr>\n",
       "      <th>143859</th>\n",
       "      <td>71.0</td>\n",
       "      <td>31</td>\n",
       "      <td>1</td>\n",
       "    </tr>\n",
       "    <tr>\n",
       "      <th>143861</th>\n",
       "      <td>131.0</td>\n",
       "      <td>91</td>\n",
       "      <td>1</td>\n",
       "    </tr>\n",
       "  </tbody>\n",
       "</table>\n",
       "<p>14148 rows × 3 columns</p>\n",
       "</div>"
      ],
      "text/plain": [
       "              EnergyModeSer  TechniqueSer  NumFields\n",
       "PlanSetupSer                                        \n",
       "71                     71.0            31          2\n",
       "113                    71.0            31          1\n",
       "116                    71.0            31          5\n",
       "117                    71.0            31          2\n",
       "118                    71.0            32          4\n",
       "...                     ...           ...        ...\n",
       "143855                 71.0            31          4\n",
       "143856                 72.0            31          4\n",
       "143857                 72.0            31          3\n",
       "143859                 71.0            31          1\n",
       "143861                131.0            91          1\n",
       "\n",
       "[14148 rows x 3 columns]"
      ]
     },
     "execution_count": 8,
     "metadata": {},
     "output_type": "execute_result"
    }
   ],
   "source": [
    "rad_grp = join2.groupby(\"PlanSetupSer\").agg({'EnergyModeSer': \"first\", \"TechniqueSer\": \"first\", 'RadiationSer': 'count'})\n",
    "rad_grp = rad_grp.rename(columns={\"RadiationSer\": \"NumFields\"})\n",
    "rad_grp"
   ]
  },
  {
   "cell_type": "code",
   "execution_count": 9,
   "id": "ac72bbea",
   "metadata": {},
   "outputs": [],
   "source": [
    "rad_grp.to_csv(\"data/ARIA_merged&selected/Rad_grp.csv\", index=True)"
   ]
  },
  {
   "cell_type": "code",
   "execution_count": null,
   "id": "0f956c2c",
   "metadata": {},
   "outputs": [],
   "source": []
  }
 ],
 "metadata": {
  "kernelspec": {
   "display_name": "Python 3",
   "language": "python",
   "name": "python3"
  },
  "language_info": {
   "codemirror_mode": {
    "name": "ipython",
    "version": 3
   },
   "file_extension": ".py",
   "mimetype": "text/x-python",
   "name": "python",
   "nbconvert_exporter": "python",
   "pygments_lexer": "ipython3",
   "version": "3.9.5"
  }
 },
 "nbformat": 4,
 "nbformat_minor": 5
}
